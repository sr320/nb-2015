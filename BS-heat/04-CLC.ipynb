{
 "metadata": {
  "name": "",
  "signature": "sha256:d8b7a22c3bc10a2309792cdb49c352f59c48a670f1cea64034a49bd6708a091c"
 },
 "nbformat": 3,
 "nbformat_minor": 0,
 "worksheets": [
  {
   "cells": [
    {
     "cell_type": "markdown",
     "metadata": {},
     "source": [
      "<img src=\"http://eagle.fish.washington.edu/cnidarian/skitch/RNA-Seq_Analysis_1A438E8A.png\" alt=\"RNA-Seq_Analysis_1A438E8A.png\"/>"
     ]
    },
    {
     "cell_type": "code",
     "collapsed": false,
     "input": [],
     "language": "python",
     "metadata": {},
     "outputs": []
    }
   ],
   "metadata": {}
  }
 ]
}