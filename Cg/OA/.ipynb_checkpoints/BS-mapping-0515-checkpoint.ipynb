{
 "cells": [
  {
   "cell_type": "markdown",
   "metadata": {},
   "source": [
    "# Mapping OA experimental reads"
   ]
  },
  {
   "cell_type": "markdown",
   "metadata": {},
   "source": [
    "clean data"
   ]
  },
  {
   "cell_type": "markdown",
   "metadata": {},
   "source": [
    "via http://onsnetwork.org/kubu4/2015/05/22/bioinformatics-trimmomaticfastqc-on-c-gigas-larvae-oa-ngs-data-2/"
   ]
  },
  {
   "cell_type": "raw",
   "metadata": {},
   "source": [
    "http://eagle.fish.washington.edu/Arabidopsis/20150521_trimmed_2212_lane2_400ppm_GCCAAT.fastq.gz"
   ]
  },
  {
   "cell_type": "raw",
   "metadata": {},
   "source": [
    "http://eagle.fish.washington.edu/Arabidopsis/20150521_trimmed_2212_lane2_1000ppm_CTTGTA.fastq.gz"
   ]
  },
  {
   "cell_type": "code",
   "execution_count": 1,
   "metadata": {
    "collapsed": false
   },
   "outputs": [
    {
     "name": "stdout",
     "output_type": "stream",
     "text": [
      "/bin/sh: /Users/sr320/data-genomic/tentacle: Is a directory\r\n"
     ]
    }
   ],
   "source": [
    "!curl -O http://eagle.fish.washington.edu/Arabidopsis/20150521_trimmed_2212_lane2_400ppm_GCCAAT.fastq.gz > /Users/sr320/data-genomic/tentacle "
   ]
  },
  {
   "cell_type": "code",
   "execution_count": null,
   "metadata": {
    "collapsed": true
   },
   "outputs": [],
   "source": []
  }
 ],
 "metadata": {
  "kernelspec": {
   "display_name": "Python 2",
   "language": "python",
   "name": "python2"
  },
  "language_info": {
   "codemirror_mode": {
    "name": "ipython",
    "version": 2
   },
   "file_extension": ".py",
   "mimetype": "text/x-python",
   "name": "python",
   "nbconvert_exporter": "python",
   "pygments_lexer": "ipython2",
   "version": "2.7.9"
  }
 },
 "nbformat": 4,
 "nbformat_minor": 0
}
