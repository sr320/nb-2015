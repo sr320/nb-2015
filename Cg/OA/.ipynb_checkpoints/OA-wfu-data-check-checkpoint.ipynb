{
 "cells": [
  {
   "cell_type": "markdown",
   "metadata": {},
   "source": [
    "# Larvae Samples (BS-seq) OA and control samples"
   ]
  },
  {
   "cell_type": "code",
   "execution_count": 1,
   "metadata": {
    "collapsed": true
   },
   "outputs": [],
   "source": [
    "!/Applications/bioinfo/BSMAP/bsmap-2.74/bsmap \\\n",
    "-a /Volumes/web-1/nightingales/C_gigas/2212_lane2_NoIndex_L002_R1_001.fastq.gz \\\n",
    "-d /Volumes/web/trilobite/Crassostrea_gigas_ensembl_tracks/Crassostrea_gigas.GCA_000297895.1.24.fa \\\n",
    "-o /Users/sr320/data-genomic/tentacle/2212-lane2_OAsfu-en24-v01.sam \\\n",
    "-p 6 \\\n",
    "2> /Users/sr320/data-genomic/tentacle/stderr-2212_OAsfu-en24-vo1"
   ]
  },
  {
   "cell_type": "code",
   "execution_count": 2,
   "metadata": {
    "collapsed": false
   },
   "outputs": [
    {
     "name": "stdout",
     "output_type": "stream",
     "text": [
      "\r\n",
      "BSMAP v2.74\r\n",
      "Start at:  Fri Mar 20 09:02:39 2015\r\n",
      "\r\n",
      "Input reference file: /Volumes/web/trilobite/Crassostrea_gigas_ensembl_tracks/Crassostrea_gigas.GCA_000297895.1.24.fa \t(format: FASTA)\r\n",
      "Load in 4424 db seqs, total size 4192198 bp. 1 secs passed\r\n",
      "total_kmers: 43046721\r\n",
      "Create seed table. 2 secs passed\r\n",
      "max number of mismatches: read_length * 8% \tmax gap size: 0\r\n",
      "kmer cut-off ratio: 5e-07\r\n"
     ]
    }
   ],
   "source": [
    "!head /Users/sr320/data-genomic/tentacle/stderr-2212_OAsfu-en24-vo1"
   ]
  },
  {
   "cell_type": "code",
   "execution_count": 3,
   "metadata": {
    "collapsed": false
   },
   "outputs": [
    {
     "name": "stdout",
     "output_type": "stream",
     "text": [
      "Thread #2: \t15750000 reads finished. 192 secs passed\r\n",
      "Thread #4: \t15800000 reads finished. 193 secs passed\r\n",
      "Thread #5: \t15850000 reads finished. 193 secs passed\r\n",
      "Thread #0: \t15900000 reads finished. 194 secs passed\r\n",
      "Thread #3: \t15950000 reads finished. 194 secs passed\r\n",
      "Thread #1: \t16000000 reads finished. 194 secs passed\r\n",
      "Total number of aligned reads: 5615 (0.035%)\r\n",
      "Done.\r\n",
      "Finished at Fri Mar 20 09:05:53 2015\r\n",
      "Total time consumed:  194 secs\r\n"
     ]
    }
   ],
   "source": [
    "!tail /Users/sr320/data-genomic/tentacle/stderr-2212_OAsfu-en24-vo1"
   ]
  },
  {
   "cell_type": "code",
   "execution_count": 1,
   "metadata": {
    "collapsed": false
   },
   "outputs": [
    {
     "name": "stdout",
     "output_type": "stream",
     "text": [
      " 51570740 /Users/sr320/data-genomic/nightingales/C.gigas/2212_lane2_NoIndex_L002_R1_012.fastq\r\n"
     ]
    }
   ],
   "source": [
    "!wc -l /Users/sr320/data-genomic/nightingales/C.gigas/2212_lane2_NoIndex_L002_R1_012.fastq"
   ]
  },
  {
   "cell_type": "code",
   "execution_count": 3,
   "metadata": {
    "collapsed": false
   },
   "outputs": [
    {
     "name": "stdout",
     "output_type": "stream",
     "text": [
      "@HWI-ST0747:471:C6WGKACXX:2:2310:7859:99593 1:N:0:\r\n",
      "TCACCTACATAACCCACCACCACCACAAACACATTAAAGTACTAATACAACTCACCAAACTCACTCATAAATTACATCATCACCAACACATCCAGATCGGA\r\n",
      "+\r\n",
      "CCCFFFFFHHHDFHHIJJJJJJJJJJJJJJJJJJJJJJ<FHIJJJJJJ89BGIJJJJG@FGIHIIJJHHHHHHHFFFFFFEEEEEDDDDDDDDDDDDC?88\r\n",
      "@HWI-ST0747:471:C6WGKACXX:2:2310:7975:99597 1:N:0:\r\n",
      "TTCCCTCTAAAACACACTAACAAAATCAAGTAACTTATAGATCGGCTGGAGCGGAAAGATTTTCGACGTTCCCCACCGGCGGGTGCGACTCCTGGGGGGAG\r\n",
      "+\r\n",
      "1=:ADEFDHFFHHIJGIJJJIJJJJEEHIIEGHGHIGIGEHIJJIIIGHFG@AF'@EEE;CFFD<A;;>;;<@CD===9<9>B##################\r\n",
      "@HWI-ST0747:471:C6WGKACXX:2:2310:7765:99601 1:N:0:\r\n",
      "AGGAGGGGAAGGATCGCGGGGGGGTAGGCTGTTGTTGCTACTGCTGTGGGTATAGTGGCTGCTGTTGCCGTTGTTGTTGCTGCCGTTGTTGTTGCTGCTGC\r\n"
     ]
    }
   ],
   "source": [
    "!head /Users/sr320/data-genomic/nightingales/C.gigas/2212_lane2_NoIndex_L002_R1_012.fastq"
   ]
  },
  {
   "cell_type": "code",
   "execution_count": 4,
   "metadata": {
    "collapsed": false
   },
   "outputs": [
    {
     "name": "stdout",
     "output_type": "stream",
     "text": [
      "151823\r\n"
     ]
    }
   ],
   "source": [
    "!fgrep -c \"GCCAAT\" /Users/sr320/data-genomic/nightingales/C.gigas/2212_lane2_NoIndex_L002_R1_012.fastq"
   ]
  },
  {
   "cell_type": "code",
   "execution_count": null,
   "metadata": {
    "collapsed": true
   },
   "outputs": [],
   "source": [
    "!fgrep -c \"CTTGTA\" /Users/sr320/data-genomic/nightingales/C.gigas/2212_lane2_NoIndex_L002_R1_012.fastq"
   ]
  },
  {
   "cell_type": "code",
   "execution_count": null,
   "metadata": {
    "collapsed": true
   },
   "outputs": [],
   "source": []
  }
 ],
 "metadata": {
  "kernelspec": {
   "display_name": "Python 2",
   "language": "python",
   "name": "python2"
  },
  "language_info": {
   "codemirror_mode": {
    "name": "ipython",
    "version": 2
   },
   "file_extension": ".py",
   "mimetype": "text/x-python",
   "name": "python",
   "nbconvert_exporter": "python",
   "pygments_lexer": "ipython2",
   "version": "2.7.9"
  }
 },
 "nbformat": 4,
 "nbformat_minor": 0
}
