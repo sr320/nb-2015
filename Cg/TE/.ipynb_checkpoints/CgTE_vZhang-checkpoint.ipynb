{
 "metadata": {
  "name": "",
  "signature": "sha256:4f05d1a974559a0a9218f4ac7951812cc559753df63ce898b7d228d1a7c7d1ff"
 },
 "nbformat": 3,
 "nbformat_minor": 0,
 "worksheets": [
  {
   "cells": [
    {
     "cell_type": "code",
     "collapsed": false,
     "input": [
      "http://www.nature.com/nature/journal/v490/n7418/full/nature11413.html"
     ],
     "language": "python",
     "metadata": {},
     "outputs": []
    },
    {
     "cell_type": "markdown",
     "metadata": {},
     "source": [
      "\n",
      "k-mer-based analysis of the oyster genome showed that ~35% of 17-mers had at least two identical copies in the genome, suggesting an abundance of repetitive sequences (Supplementary Fig. 1). Similarly, homology searching and ab initio prediction found 202\u2009Mb (36% of the genome) in repetitive sequences (Supplementary Text C2 and Supplementary Table 8). Over 62% of the detected repeats could not be assigned to known categories, reflecting the paucity of genomic information from molluscs22. Large numbers of transposase (359) and reverse-transcriptase (779) gene fragments were detected; over 96% of these had detectable transcripts (Supplementary Fig. 8). Alignment of the wild sequence against the assembly identified 20,605 deletions (>100\u2009bp), over 80% of which overlapped with detected transposable elements, suggesting that transposable elements may have an active role in shaping genome variation. Using MITE-hunter23, we detected 157,007 copies of miniature inverted-repeat transposable elements (MITEs), accounting for a remarkable 8.82% of the genome (Supplementary Text C2.3 and Supplementary Table 9). Pair-wise comparisons show extremely low sequence divergence in some MITE families (Supplementary Fig. 9), indicating that they may still be active.\n"
     ]
    },
    {
     "cell_type": "markdown",
     "metadata": {},
     "source": [
      "<img src=\"http://eagle.fish.washington.edu/cnidarian/skitch/www_nature_com_nature_journal_v490_n7418_extref_nature11413-s1_pdf_1A3A007F.png\" alt=\"www_nature_com_nature_journal_v490_n7418_extref_nature11413-s1_pdf_1A3A007F.png\"/>"
     ]
    },
    {
     "cell_type": "markdown",
     "metadata": {},
     "source": [
      "<img src=\"http://eagle.fish.washington.edu/cnidarian/skitch/www_nature_com_nature_journal_v490_n7418_extref_nature11413-s1_pdf_1A3A009F.png\" alt=\"www_nature_com_nature_journal_v490_n7418_extref_nature11413-s1_pdf_1A3A009F.png\"/>"
     ]
    },
    {
     "cell_type": "markdown",
     "metadata": {},
     "source": [
      "<img src=\"http://eagle.fish.washington.edu/cnidarian/skitch/www_nature_com_nature_journal_v490_n7418_extref_nature11413-s1_pdf_1A3A00B7.png\" alt=\"www_nature_com_nature_journal_v490_n7418_extref_nature11413-s1_pdf_1A3A00B7.png\"/>"
     ]
    },
    {
     "cell_type": "markdown",
     "metadata": {},
     "source": [
      "<img src=\"http://eagle.fish.washington.edu/cnidarian/skitch/www_nature_com_nature_journal_v490_n7418_extref_nature11413-s1_pdf_1A3A00EE.png\" alt=\"www_nature_com_nature_journal_v490_n7418_extref_nature11413-s1_pdf_1A3A00EE.png\"/>"
     ]
    },
    {
     "cell_type": "markdown",
     "metadata": {},
     "source": [
      "<img src=\"http://eagle.fish.washington.edu/cnidarian/skitch/www_nature_com_nature_journal_v490_n7418_extref_nature11413-s1_pdf_1A3A011A.png\" alt=\"www_nature_com_nature_journal_v490_n7418_extref_nature11413-s1_pdf_1A3A011A.png\"/>"
     ]
    },
    {
     "cell_type": "markdown",
     "metadata": {},
     "source": [
      "<img src=\"http://eagle.fish.washington.edu/cnidarian/skitch/www_nature_com_nature_journal_v490_n7418_extref_nature11413-s1_pdf_1A3A0135.png\" alt=\"www_nature_com_nature_journal_v490_n7418_extref_nature11413-s1_pdf_1A3A0135.png\"/>"
     ]
    },
    {
     "cell_type": "markdown",
     "metadata": {},
     "source": [
      "<img src=\"http://eagle.fish.washington.edu/cnidarian/skitch/www_nature_com_nature_journal_v490_n7418_extref_nature11413-s1_pdf_1A3A014B.png\" alt=\"www_nature_com_nature_journal_v490_n7418_extref_nature11413-s1_pdf_1A3A014B.png\"/>"
     ]
    },
    {
     "cell_type": "markdown",
     "metadata": {},
     "source": [
      "<img src=\"http://eagle.fish.washington.edu/cnidarian/skitch/www_nature_com_nature_journal_v490_n7418_extref_nature11413-s1_pdf_1A3A01C2.png\" alt=\"www_nature_com_nature_journal_v490_n7418_extref_nature11413-s1_pdf_1A3A01C2.png\"/>"
     ]
    },
    {
     "cell_type": "markdown",
     "metadata": {},
     "source": [
      "<img src=\"http://eagle.fish.washington.edu/cnidarian/skitch/www_nature_com_nature_journal_v490_n7418_extref_nature11413-s1_pdf_1A3A01EA.png\" alt=\"www_nature_com_nature_journal_v490_n7418_extref_nature11413-s1_pdf_1A3A01EA.png\"/>"
     ]
    },
    {
     "cell_type": "code",
     "collapsed": false,
     "input": [],
     "language": "python",
     "metadata": {},
     "outputs": []
    }
   ],
   "metadata": {}
  }
 ]
}