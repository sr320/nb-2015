{
 "metadata": {
  "name": "",
  "signature": "sha256:0731b535f9a3af0c3036061114a405087843c70cccf02094ede416606e3fd70e"
 },
 "nbformat": 3,
 "nbformat_minor": 0,
 "worksheets": [
  {
   "cells": [
    {
     "cell_type": "heading",
     "level": 1,
     "metadata": {},
     "source": [
      "Making two additional tracks that separate Tandem repeats and blast products"
     ]
    },
    {
     "cell_type": "code",
     "collapsed": false,
     "input": [
      "ls ./data"
     ],
     "language": "python",
     "metadata": {},
     "outputs": [
      {
       "output_type": "stream",
       "stream": "stdout",
       "text": [
        "dev_dml.bed      lineage_dml.bed\r\n"
       ]
      }
     ],
     "prompt_number": 2
    },
    {
     "cell_type": "code",
     "collapsed": false,
     "input": [
      "cp /Volumes/web/trilobite/Crassostrea_gigas_v9_tracks/Cgigas_v9_TE.gff ./data/"
     ],
     "language": "python",
     "metadata": {},
     "outputs": [],
     "prompt_number": 3
    },
    {
     "cell_type": "code",
     "collapsed": false,
     "input": [
      "!tail ./data/Cgigas_v9_TE.gff"
     ],
     "language": "python",
     "metadata": {},
     "outputs": [
      {
       "output_type": "stream",
       "stream": "stdout",
       "text": [
        "scaffold1857\tWUBlastX\tLINE_L2\t407417\t407473\t20\t+\t.\t.\r\n",
        "scaffold719\tWUBlastX\tLINE_L1-Tx1\t169331\t169657\t23\t+\t.\t.\r\n",
        "scaffold120\tWUBlastX\tLINE_L1-Tx1\t318727\t318939\t36\t-\t.\t.\r\n",
        "scaffold575\tWUBlastX\tLINE_L1-Tx1\t139593\t139886\t64\t+\t.\t.\r\n",
        "scaffold3\tWUBlastX\tLINE_L1-Tx1\t324807\t324851\t26\t-\t.\t.\r\n",
        "scaffold38216\tWUBlastX\tLINE_DRE\t52242\t52382\t29\t+\t.\t.\r\n",
        "scaffold1213\tWUBlastX\tDNA_Transib\t669104\t669283\t58\t-\t.\t.\r\n",
        "scaffold117\tWUBlastX\tDNA_TcMar-Tc1\t355991\t356095\t53\t+\t.\t.\r\n",
        "scaffold1009\tWUBlastX\tDNA_TcMar-Tc2\t1790325\t1790603\t20\t+\t.\t.\r\n",
        "scaffold983\tWUBlastX\tDNA_TcMar-Tc1\t369636\t369770\t26\t-\t.\t."
       ]
      }
     ],
     "prompt_number": 8
    },
    {
     "cell_type": "code",
     "collapsed": false,
     "input": [],
     "language": "python",
     "metadata": {},
     "outputs": []
    },
    {
     "cell_type": "code",
     "collapsed": false,
     "input": [
      "!grep \"Tandem_Repeat\" ./data/Cgigas_v9_TE.gff  > ./analysis/Cgigas_v9_TE-TANDEMREPEAT.gff"
     ],
     "language": "python",
     "metadata": {},
     "outputs": [],
     "prompt_number": 7
    },
    {
     "cell_type": "code",
     "collapsed": false,
     "input": [
      "!grep \"WUBlastX\" ./data/Cgigas_v9_TE.gff  > ./analysis/Cgigas_v9_TE-WUBLASTX.gff"
     ],
     "language": "python",
     "metadata": {},
     "outputs": [],
     "prompt_number": 9
    },
    {
     "cell_type": "code",
     "collapsed": false,
     "input": [
      "cp ./analysis/Cgigas_v9_TE-* /Volumes/web/trilobite/Crassostrea_gigas_v9_tracks/"
     ],
     "language": "python",
     "metadata": {},
     "outputs": [],
     "prompt_number": 10
    },
    {
     "cell_type": "markdown",
     "metadata": {},
     "source": [
      "<img src=\"http://eagle.fish.washington.edu/cnidarian/skitch/Crassostrea_gigas_v9_tracks_1A7C193F.png\" alt=\"Crassostrea_gigas_v9_tracks_1A7C193F.png\"/>"
     ]
    },
    {
     "cell_type": "markdown",
     "metadata": {},
     "source": [
      "Will add both to text workfow to see if one or othe biasis"
     ]
    },
    {
     "cell_type": "code",
     "collapsed": false,
     "input": [],
     "language": "python",
     "metadata": {},
     "outputs": []
    }
   ],
   "metadata": {}
  }
 ]
}