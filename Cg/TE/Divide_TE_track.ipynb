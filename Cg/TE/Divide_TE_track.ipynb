{
 "metadata": {
  "name": "",
  "signature": "sha256:6099861a2c20407581f935446f8ef35f964f3a9ee3e69d216a8841fc76da7c6f"
 },
 "nbformat": 3,
 "nbformat_minor": 0,
 "worksheets": [
  {
   "cells": [
    {
     "cell_type": "heading",
     "level": 1,
     "metadata": {},
     "source": [
      "Making two additional tracks that separate Tandem repeats and blast products"
     ]
    },
    {
     "cell_type": "code",
     "collapsed": false,
     "input": [
      "ls ./data"
     ],
     "language": "python",
     "metadata": {},
     "outputs": [
      {
       "output_type": "stream",
       "stream": "stdout",
       "text": [
        "dev_dml.bed      lineage_dml.bed\r\n"
       ]
      }
     ],
     "prompt_number": 2
    },
    {
     "cell_type": "code",
     "collapsed": false,
     "input": [
      "cp /Volumes/web/trilobite/Crassostrea_gigas_v9_tracks/Cgigas_v9_TE.gff ./data/"
     ],
     "language": "python",
     "metadata": {},
     "outputs": [],
     "prompt_number": 3
    },
    {
     "cell_type": "code",
     "collapsed": false,
     "input": [
      "!tail ./data/Cgigas_v9_TE.gff"
     ],
     "language": "python",
     "metadata": {},
     "outputs": [
      {
       "output_type": "stream",
       "stream": "stdout",
       "text": [
        "scaffold1857\tWUBlastX\tLINE_L2\t407417\t407473\t20\t+\t.\t.\r\n",
        "scaffold719\tWUBlastX\tLINE_L1-Tx1\t169331\t169657\t23\t+\t.\t.\r\n",
        "scaffold120\tWUBlastX\tLINE_L1-Tx1\t318727\t318939\t36\t-\t.\t.\r\n",
        "scaffold575\tWUBlastX\tLINE_L1-Tx1\t139593\t139886\t64\t+\t.\t.\r\n",
        "scaffold3\tWUBlastX\tLINE_L1-Tx1\t324807\t324851\t26\t-\t.\t.\r\n",
        "scaffold38216\tWUBlastX\tLINE_DRE\t52242\t52382\t29\t+\t.\t.\r\n",
        "scaffold1213\tWUBlastX\tDNA_Transib\t669104\t669283\t58\t-\t.\t.\r\n",
        "scaffold117\tWUBlastX\tDNA_TcMar-Tc1\t355991\t356095\t53\t+\t.\t.\r\n",
        "scaffold1009\tWUBlastX\tDNA_TcMar-Tc2\t1790325\t1790603\t20\t+\t.\t.\r\n",
        "scaffold983\tWUBlastX\tDNA_TcMar-Tc1\t369636\t369770\t26\t-\t.\t."
       ]
      }
     ],
     "prompt_number": 8
    },
    {
     "cell_type": "code",
     "collapsed": false,
     "input": [],
     "language": "python",
     "metadata": {},
     "outputs": []
    },
    {
     "cell_type": "code",
     "collapsed": false,
     "input": [
      "!grep \"Tandem_Repeat\" ./data/Cgigas_v9_TE.gff  > ./analysis/Cgigas_v9_TE-TANDEMREPEAT.gff"
     ],
     "language": "python",
     "metadata": {},
     "outputs": [],
     "prompt_number": 7
    },
    {
     "cell_type": "code",
     "collapsed": false,
     "input": [
      "!grep \"WUBlastX\" ./data/Cgigas_v9_TE.gff  > ./analysis/Cgigas_v9_TE-WUBLASTX.gff"
     ],
     "language": "python",
     "metadata": {},
     "outputs": [],
     "prompt_number": 9
    },
    {
     "cell_type": "code",
     "collapsed": false,
     "input": [
      "cp ./analysis/Cgigas_v9_TE-* /Volumes/web/trilobite/Crassostrea_gigas_v9_tracks/"
     ],
     "language": "python",
     "metadata": {},
     "outputs": [],
     "prompt_number": 10
    },
    {
     "cell_type": "markdown",
     "metadata": {},
     "source": [
      "<img src=\"http://eagle.fish.washington.edu/cnidarian/skitch/Crassostrea_gigas_v9_tracks_1A7C193F.png\" alt=\"Crassostrea_gigas_v9_tracks_1A7C193F.png\"/>"
     ]
    },
    {
     "cell_type": "markdown",
     "metadata": {},
     "source": [
      "Will add both to text workfow to see if one or othe biasis"
     ]
    },
    {
     "cell_type": "heading",
     "level": 2,
     "metadata": {},
     "source": [
      "DOUBLE CHECK \n"
     ]
    },
    {
     "cell_type": "code",
     "collapsed": false,
     "input": [
      "cd data"
     ],
     "language": "python",
     "metadata": {},
     "outputs": [
      {
       "output_type": "stream",
       "stream": "stdout",
       "text": [
        "/Users/sr320/git-repos/nb-2015/Cg/TE/data\n"
       ]
      }
     ],
     "prompt_number": 2
    },
    {
     "cell_type": "code",
     "collapsed": false,
     "input": [
      "!curl -O http://eagle.fish.washington.edu/trilobite/Crassostrea_gigas_v9_tracks/Cgigas_v9_TEx.gff"
     ],
     "language": "python",
     "metadata": {},
     "outputs": [
      {
       "output_type": "stream",
       "stream": "stdout",
       "text": [
        "  % Total    % Received % Xferd  Average Speed   Time    Time     Time  Current\r\n",
        "                                 Dload  Upload   Total   Spent    Left  Speed\r\n",
        "\r",
        "  0     0    0     0    0     0      0      0 --:--:-- --:--:-- --:--:--     0"
       ]
      },
      {
       "output_type": "stream",
       "stream": "stdout",
       "text": [
        "\r",
        " 93 3129k   93 2919k    0     0  6001k      0 --:--:-- --:--:-- --:--:-- 5994k"
       ]
      },
      {
       "output_type": "stream",
       "stream": "stdout",
       "text": [
        "\r",
        "100 3129k  100 3129k    0     0  6103k      0 --:--:-- --:--:-- --:--:-- 6100k\r\n"
       ]
      }
     ],
     "prompt_number": 3
    },
    {
     "cell_type": "code",
     "collapsed": false,
     "input": [
      "ls\n"
     ],
     "language": "python",
     "metadata": {},
     "outputs": [
      {
       "output_type": "stream",
       "stream": "stdout",
       "text": [
        "\u001b[31mCgigas_v9_TE.gff\u001b[m\u001b[m*  Cgigas_v9_TEx.gff  dev_dml.bed        lineage_dml.bed\r\n"
       ]
      }
     ],
     "prompt_number": 4
    },
    {
     "cell_type": "code",
     "collapsed": false,
     "input": [
      "!head Cgigas_v9_TEx.gff"
     ],
     "language": "python",
     "metadata": {},
     "outputs": [
      {
       "output_type": "stream",
       "stream": "stdout",
       "text": [
        "scaffold1479\tWUBlastX\tLTR_Gypsy\t2608\t4209\t104\t+\t.\t.\r\n",
        "C33730\tWUBlastX\tLTR_Pao\t1960\t2589\t652\t-\t.\t.\r\n",
        "C33730\tWUBlastX\tLTR_Pao\t3358\t5868\t1471\t-\t.\t.\r\n",
        "C33730\tWUBlastX\tLTR_Pao\t6390\t7283\t627\t-\t.\t.\r\n",
        "C33730\tWUBlastX\tLTR_Pao\t7412\t7684\t35\t-\t.\t.\r\n",
        "scaffold1053\tWUBlastX\tLTR_Pao\t209281\t213366\t2970\t+\t.\t.\r\n",
        "scaffold1053\tWUBlastX\tLTR_Pao\t213366\t214466\t1161\t+\t.\t.\r\n",
        "scaffold1024\tWUBlastX\tLTR_Pao\t160588\t161058\t515\t+\t.\t.\r\n",
        "scaffold1154\tWUBlastX\tLTR_Pao\t208643\t211198\t1815\t+\t.\t.\r\n",
        "scaffold1328\tWUBlastX\tLTR_Pao\t311668\t316782\t3981\t-\t.\t.\r\n"
       ]
      }
     ],
     "prompt_number": 5
    },
    {
     "cell_type": "code",
     "collapsed": false,
     "input": [
      "!wc -l Cgigas_v9_TEx.gff"
     ],
     "language": "python",
     "metadata": {},
     "outputs": [
      {
       "output_type": "stream",
       "stream": "stdout",
       "text": [
        "   58468 Cgigas_v9_TEx.gff\r\n"
       ]
      }
     ],
     "prompt_number": 7
    },
    {
     "cell_type": "code",
     "collapsed": false,
     "input": [],
     "language": "python",
     "metadata": {},
     "outputs": []
    }
   ],
   "metadata": {}
  }
 ]
}