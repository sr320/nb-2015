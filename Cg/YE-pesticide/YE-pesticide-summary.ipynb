{
 "cells": [
  {
   "cell_type": "markdown",
   "metadata": {},
   "source": [
    "A reflect, wrap up of YE BS data"
   ]
  },
  {
   "cell_type": "markdown",
   "metadata": {},
   "source": [
    "Some of the most comprehensive analysis was done @ https://github.com/sr320/ipython_nb/blob/58e6fab2ed67feef83651966cdf667b9a308e61e/fish546/BSseq_YE_control.ipynb"
   ]
  },
  {
   "cell_type": "markdown",
   "metadata": {},
   "source": [
    "At the end we have a couple of tracks for DMRs and methylation tracks."
   ]
  },
  {
   "cell_type": "markdown",
   "metadata": {},
   "source": [
    "http://owl.fish.washington.edu/halfshell/2015-05-comgenbro/YE_mixHYPER.bed    \n",
    "http://owl.fish.washington.edu/halfshell/2015-05-comgenbro/YE_mixHYPO.bed    \n",
    "http://owl.fish.washington.edu/halfshell/2015-05-comgenbro/filt_YE_mix_22smCG3x.igv     \n",
    "http://owl.fish.washington.edu/halfshell/2015-05-comgenbro/filt_YE_control_22smCG3x.igv    "
   ]
  },
  {
   "cell_type": "markdown",
   "metadata": {},
   "source": [
    "Lets combine DMRs and see where they lie on the genome using intersectbed."
   ]
  },
  {
   "cell_type": "code",
   "execution_count": 3,
   "metadata": {
    "collapsed": false
   },
   "outputs": [
    {
     "name": "stdout",
     "output_type": "stream",
     "text": [
      "C27742 4663 4665 HYPER\n",
      "scaffold1021 12097 12099 HYPER\n",
      "scaffold1032 211526 211528 HYPER\n",
      "scaffold105 434416 434418 HYPER\n",
      "scaffold1086 656185 656187 HYPER\n",
      "scaffold1086 656188 656190 HYPER\n",
      "scaffold1087 9508 9510 HYPER\n",
      "scaffold109 358907 358909 HYPER\n",
      "scaffold1132 613494 613496 HYPER\n",
      "scaffold1142 97241 97243 HYPER\n",
      "     544 /Volumes/web/halfshell/2015-05-comgenbro/YE_mixHYPER.bed\n"
     ]
    }
   ],
   "source": [
    "!head /Volumes/web/halfshell/2015-05-comgenbro/YE_mixHYPER.bed\n",
    "!wc -l /Volumes/web/halfshell/2015-05-comgenbro/YE_mixHYPER.bed"
   ]
  },
  {
   "cell_type": "code",
   "execution_count": 4,
   "metadata": {
    "collapsed": false
   },
   "outputs": [
    {
     "name": "stdout",
     "output_type": "stream",
     "text": [
      "C26536 1511 1513 HYPO\n",
      "scaffold1179 1120799 1120801 HYPO\n",
      "scaffold1189 665949 665951 HYPO\n",
      "scaffold1532 1178565 1178567 HYPO\n",
      "scaffold1532 888871 888873 HYPO\n",
      "scaffold1656 129879 129881 HYPO\n",
      "scaffold1682 233873 233875 HYPO\n",
      "scaffold1733 67696 67698 HYPO\n",
      "scaffold1860 178219 178221 HYPO\n",
      "scaffold1891 93285 93287 HYPO\n",
      "     279 /Volumes/web/halfshell/2015-05-comgenbro/YE_mixHYPO.bed\n"
     ]
    }
   ],
   "source": [
    "!head /Volumes/web/halfshell/2015-05-comgenbro/YE_mixHYPO.bed\n",
    "!wc -l /Volumes/web/halfshell/2015-05-comgenbro/YE_mixHYPO.bed"
   ]
  },
  {
   "cell_type": "code",
   "execution_count": 8,
   "metadata": {
    "collapsed": false
   },
   "outputs": [],
   "source": [
    "!cat /Volumes/web/halfshell/2015-05-comgenbro/YE_mixHYPER.bed \\\n",
    "/Volumes/web/halfshell/2015-05-comgenbro/YE_mixHYPO.bed > ./analyses/YEmix_DMR.bed"
   ]
  },
  {
   "cell_type": "code",
   "execution_count": 10,
   "metadata": {
    "collapsed": false
   },
   "outputs": [
    {
     "name": "stdout",
     "output_type": "stream",
     "text": [
      "     823 ./analyses/YEmix_DMR.bed\r\n"
     ]
    }
   ],
   "source": [
    "!wc -l ./analyses/YEmix_DMR.bed"
   ]
  },
  {
   "cell_type": "code",
   "execution_count": 20,
   "metadata": {
    "collapsed": false
   },
   "outputs": [
    {
     "name": "stdout",
     "output_type": "stream",
     "text": [
      "scaffold42268\t89559\t89561\tHYPER\tscaffold42268\tWUBlastX\tDNA_IS4EU\t88880\t89707\t43\t-\t.\t.\n",
      "scaffold43844\t323090\t323092\tHYPER\tscaffold43844\tWUBlastX\tLTR_Gypsy\t322674\t323105\t68\t-\t.\t.\n",
      "scaffold1154\t309803\t309805\tHYPER\tscaffold1154\tWUBlastX\tDNA_P\t307901\t309988\t925\t-\t.\t.\n",
      "scaffold177\t386629\t386631\tHYPER\tscaffold177\tWUBlastX\tLTR_Pao\t386560\t389130\t1637\t+\t.\t.\n",
      "scaffold1868\t88426\t88428\tHYPER\tscaffold1868\tWUBlastX\tLTR_Gypsy-Cigr\t87804\t89918\t1336\t+\t.\t.\n",
      "scaffold1868\t88426\t88428\tHYPER\tscaffold1868\tWUBlastX\tLTR_Gypsy\t88173\t91562\t2352\t+\t.\t.\n",
      "scaffold754\t118567\t118569\tHYPER\tscaffold754\tWUBlastX\tLTR_Ngaro\t118564\t119619\t258\t+\t.\t.\n",
      "C33148\t10217\t10219\tHYPER\tC33148\tWUBlastX\tDNA_hAT\t10045\t10938\t68\t-\t.\t.\n",
      "scaffold1199\t36172\t36174\tHYPER\tscaffold1199\tWUBlastX\tDNA_Academ\t34647\t36356\t476\t-\t.\t.\n",
      "scaffold1350\t453167\t453169\tHYPER\tscaffold1350\tWUBlastX\tLTR_Pao\t452136\t456443\t2853\t+\t.\t.\n",
      "scaffold1350\t453167\t453169\tHYPER\tscaffold1350\tWUBlastX\tLTR_Pao\t451563\t455030\t2276\t+\t.\t.\n",
      "scaffold156\t26219\t26221\tHYPER\tscaffold156\tWUBlastX\tLTR_Gypsy-Cigr\t26220\t26534\t77\t+\t.\t.\n",
      "scaffold156\t26219\t26221\tHYPER\tscaffold156\tWUBlastX\tLTR_Gypsy\t26184\t26369\t76\t+\t.\t.\n",
      "scaffold156\t26219\t26221\tHYPER\tscaffold156\tWUBlastX\tLTR_Gypsy\t25965\t26348\t40\t+\t.\t.\n",
      "scaffold156\t27551\t27553\tHYPER\tscaffold156\tWUBlastX\tLTR_Gypsy\t27156\t27608\t102\t+\t.\t.\n",
      "scaffold156\t27551\t27553\tHYPER\tscaffold156\tWUBlastX\tLTR_Gypsy\t27168\t27803\t33\t+\t.\t.\n",
      "scaffold156\t27554\t27556\tHYPER\tscaffold156\tWUBlastX\tLTR_Gypsy\t27156\t27608\t102\t+\t.\t.\n",
      "scaffold156\t27554\t27556\tHYPER\tscaffold156\tWUBlastX\tLTR_Gypsy\t27168\t27803\t33\t+\t.\t.\n",
      "C30526\t2238\t2240\tHYPER\tC30526\tWUBlastX\tDNA_TcMar-Tc2\t1439\t2503\t822\t-\t.\t.\n",
      "scaffold419\t682419\t682421\tHYPER\tscaffold419\tWUBlastX\tLTR_Gypsy-Cigr\t681034\t684744\t2539\t-\t.\t.\n",
      "C30526\t2677\t2679\tHYPER\tC30526\tWUBlastX\tDNA_TcMar-Tc2\t2452\t2679\t91\t-\t.\t.\n",
      "C31466\t4061\t4063\tHYPER\tC31466\tWUBlastX\tRC_Helitron\t3993\t4391\t49\t-\t.\t.\n",
      "scaffold1016\t312875\t312877\tHYPER\tscaffold1016\tWUBlastX\tLTR_Gypsy\t312409\t313419\t272\t+\t.\t.\n",
      "scaffold1137\t2169\t2171\tHYPER\tscaffold1137\tWUBlastX\tLTR_Pao\t472\t4821\t882\t+\t.\t.\n",
      "scaffold1188\t81596\t81598\tHYPER\tscaffold1188\tWUBlastX\tLINE_R2-Hero\t78711\t81929\t2619\t-\t.\t.\n",
      "scaffold1232\t316236\t316238\tHYPER\tscaffold1232\tWUBlastX\tLTR_Pao\t316128\t316853\t457\t-\t.\t.\n",
      "scaffold1611\t139245\t139247\tHYPER\tscaffold1611\tWUBlastX\tLTR_Pao\t139000\t140454\t329\t+\t.\t.\n",
      "scaffold1611\t139245\t139247\tHYPER\tscaffold1611\tWUBlastX\tLTR_Pao\t139219\t144912\t4008\t+\t.\t.\n",
      "scaffold169\t629231\t629233\tHYPER\tscaffold169\tWUBlastX\tLTR_Gypsy\t629126\t629560\t146\t+\t.\t.\n",
      "scaffold172\t116983\t116985\tHYPER\tscaffold172\tWUBlastX\tLTR_DIRS\t116324\t117271\t138\t+\t.\t.\n",
      "scaffold177\t386634\t386636\tHYPER\tscaffold177\tWUBlastX\tLTR_Pao\t386560\t389130\t1637\t+\t.\t.\n",
      "scaffold1878\t31491\t31493\tHYPER\tscaffold1878\tWUBlastX\tLTR_Gypsy\t30708\t31502\t91\t+\t.\t.\n",
      "scaffold31\t319502\t319504\tHYPER\tscaffold31\tWUBlastX\tLTR_Pao\t317671\t319956\t831\t-\t.\t.\n",
      "scaffold365\t272098\t272100\tHYPER\tscaffold365\tWUBlastX\tRC_Helitron\t271999\t272205\t88\t+\t.\t.\n",
      "scaffold41210\t111462\t111464\tHYPER\tscaffold41210\tWUBlastX\tLTR_Gypsy\t110761\t112032\t552\t+\t.\t.\n",
      "scaffold41700\t19405\t19407\tHYPER\tscaffold41700\tWUBlastX\tDNA_MuDR\t19156\t19428\t52\t-\t.\t.\n",
      "scaffold41700\t19405\t19407\tHYPER\tscaffold41700\tWUBlastX\tDNA\t19386\t19766\t38\t-\t.\t.\n",
      "scaffold41700\t19416\t19418\tHYPER\tscaffold41700\tWUBlastX\tDNA_MuDR\t19156\t19428\t52\t-\t.\t.\n",
      "scaffold41700\t19416\t19418\tHYPER\tscaffold41700\tWUBlastX\tDNA\t19386\t19766\t38\t-\t.\t.\n",
      "scaffold41776\t42129\t42131\tHYPER\tscaffold41776\tWUBlastX\tLTR_Gypsy\t42029\t42160\t36\t-\t.\t.\n",
      "scaffold41776\t42129\t42131\tHYPER\tscaffold41776\tWUBlastX\tLTR_Gypsy\t42106\t44541\t1665\t-\t.\t.\n",
      "scaffold43894\t256506\t256508\tHYPER\tscaffold43894\tWUBlastX\tLTR_Pao\t254834\t257161\t1059\t+\t.\t.\n",
      "scaffold43894\t256506\t256508\tHYPER\tscaffold43894\tWUBlastX\tLTR_Pao\t255278\t257161\t1131\t+\t.\t.\n",
      "scaffold447\t321451\t321453\tHYPER\tscaffold447\tWUBlastX\tLTR_Gypsy\t318706\t321819\t2618\t+\t.\t.\n",
      "scaffold447\t321451\t321453\tHYPER\tscaffold447\tWUBlastX\tLTR_Gypsy\t318094\t321840\t2462\t+\t.\t.\n",
      "scaffold53\t948326\t948328\tHYPER\tscaffold53\tWUBlastX\tDNA_Sola\t948121\t948420\t162\t+\t.\t.\n",
      "scaffold90\t395255\t395257\tHYPER\tscaffold90\tWUBlastX\tLTR_Gypsy\t395099\t396442\t180\t-\t.\t.\n",
      "scaffold90\t395255\t395257\tHYPER\tscaffold90\tWUBlastX\tLTR_Gypsy\t394856\t396052\t834\t-\t.\t.\n",
      "scaffold1188\t80954\t80956\tHYPER\tscaffold1188\tWUBlastX\tLINE_R2-Hero\t78711\t81929\t2619\t-\t.\t.\n",
      "scaffold177\t388588\t388590\tHYPER\tscaffold177\tWUBlastX\tLTR_Pao\t386560\t389130\t1637\t+\t.\t.\n",
      "scaffold177\t388826\t388828\tHYPER\tscaffold177\tWUBlastX\tLTR_Pao\t386560\t389130\t1637\t+\t.\t.\n",
      "scaffold1588\t315057\t315059\tHYPER\tscaffold1588\tWUBlastX\tDNA_MuDR\t314452\t316803\t717\t+\t.\t.\n",
      "scaffold177\t388823\t388825\tHYPER\tscaffold177\tWUBlastX\tLTR_Pao\t386560\t389130\t1637\t+\t.\t.\n",
      "scaffold211\t867931\t867933\tHYPER\tscaffold211\tWUBlastX\tLTR_Pao\t865409\t870775\t3649\t+\t.\t.\n",
      "scaffold41776\t43566\t43568\tHYPER\tscaffold41776\tWUBlastX\tLTR_Gypsy\t42106\t44541\t1665\t-\t.\t.\n",
      "scaffold39620\t69954\t69956\tHYPER\tscaffold39620\tWUBlastX\tLTR_Pao\t68317\t70326\t1422\t-\t.\t.\n",
      "scaffold1423\t1067910\t1067912\tHYPER\tscaffold1423\tWUBlastX\tLTR_Pao\t1065701\t1070743\t3622\t+\t.\t.\n",
      "scaffold1423\t1067910\t1067912\tHYPER\tscaffold1423\tWUBlastX\tLTR_Pao\t1064831\t1069330\t1105\t+\t.\t.\n",
      "scaffold248\t483968\t483970\tHYPER\tscaffold248\tWUBlastX\tLTR_Pao\t483327\t484067\t49\t+\t.\t.\n",
      "scaffold248\t483968\t483970\tHYPER\tscaffold248\tWUBlastX\tLTR_Pao\t483654\t484151\t25\t+\t.\t.\n",
      "scaffold276\t27525\t27527\tHYPER\tscaffold276\tWUBlastX\tDNA_Kolobok-IS4\t27408\t28088\t388\t-\t.\t.\n",
      "scaffold40952\t56595\t56597\tHYPER\tscaffold40952\tWUBlastX\tDNA_Kolobok-Hyd\t56541\t56747\t26\t+\t.\t.\n",
      "scaffold413\t272454\t272456\tHYPER\tscaffold413\tWUBlastX\tLINE_L1\t272033\t272857\t98\t+\t.\t.\n",
      "scaffold413\t272454\t272456\tHYPER\tscaffold413\tWUBlastX\tLINE_CR1-L2\t272210\t272803\t138\t+\t.\t.\n",
      "scaffold1423\t1069031\t1069033\tHYPER\tscaffold1423\tWUBlastX\tLTR_Pao\t1065701\t1070743\t3622\t+\t.\t.\n",
      "scaffold1423\t1069031\t1069033\tHYPER\tscaffold1423\tWUBlastX\tLTR_Pao\t1064831\t1069330\t1105\t+\t.\t.\n",
      "scaffold1016\t225547\t225549\tHYPER\tscaffold1016\tWUBlastX\tLINE_RTE-X\t225084\t227135\t844\t+\t.\t.\n",
      "scaffold1030\t42925\t42927\tHYPER\tscaffold1030\tWUBlastX\tLTR_Gypsy\t41408\t43999\t1988\t+\t.\t.\n",
      "scaffold1035\t9285\t9287\tHYPER\tscaffold1035\tWUBlastX\tLINE_L1-Tx1\t9110\t9538\t56\t-\t.\t.\n",
      "scaffold192\t15305\t15307\tHYPER\tscaffold192\tWUBlastX\tLTR_Gypsy-Cigr\t14985\t15560\t188\t-\t.\t.\n",
      "scaffold203\t227988\t227990\tHYPER\tscaffold203\tWUBlastX\tLTR_Gypsy\t227290\t228966\t1167\t+\t.\t.\n",
      "scaffold203\t227988\t227990\tHYPER\tscaffold203\tWUBlastX\tLTR_Gypsy-Cigr\t226705\t228912\t1084\t+\t.\t.\n",
      "scaffold203\t227988\t227990\tHYPER\tscaffold203\tWUBlastX\tLTR_Gypsy\t227662\t230193\t983\t+\t.\t.\n",
      "scaffold211\t867912\t867914\tHYPER\tscaffold211\tWUBlastX\tLTR_Pao\t865409\t870775\t3649\t+\t.\t.\n",
      "scaffold31484\t9547\t9549\tHYPER\tscaffold31484\tWUBlastX\tRC_Helitron\t9352\t9591\t101\t-\t.\t.\n",
      "scaffold39966\t3180\t3182\tHYPER\tscaffold39966\tWUBlastX\tRC_Helitron\t3151\t3408\t81\t-\t.\t.\n",
      "scaffold42\t105581\t105583\tHYPER\tscaffold42\tWUBlastX\tLTR_Gypsy\t104804\t106291\t953\t+\t.\t.\n",
      "scaffold42408\t121167\t121169\tHYPER\tscaffold42408\tWUBlastX\tRC_Helitron\t118674\t121460\t1783\t-\t.\t.\n",
      "scaffold43\t121033\t121035\tHYPER\tscaffold43\tWUBlastX\tDNA_En-Spm\t120966\t122987\t748\t+\t.\t.\n",
      "scaffold43894\t257456\t257458\tHYPER\tscaffold43894\tWUBlastX\tLTR_Pao\t257113\t257853\t700\t+\t.\t.\n",
      "scaffold461\t464148\t464150\tHYPER\tscaffold461\tWUBlastX\tRC_Helitron\t463874\t466714\t1284\t-\t.\t.\n",
      "scaffold577\t117101\t117103\tHYPER\tscaffold577\tWUBlastX\tRC_Helitron\t116527\t117267\t294\t+\t.\t.\n",
      "scaffold1219\t619479\t619481\tHYPER\tscaffold1219\tWUBlastX\tLTR_DIRS\t619007\t619798\t158\t-\t.\t.\n",
      "scaffold1219\t619479\t619481\tHYPER\tscaffold1219\tWUBlastX\tLTR_DIRS\t619085\t619966\t148\t-\t.\t.\n",
      "scaffold1219\t619479\t619481\tHYPER\tscaffold1219\tWUBlastX\tLTR_DIRS\t619037\t619684\t179\t-\t.\t.\n",
      "scaffold1588\t315084\t315086\tHYPER\tscaffold1588\tWUBlastX\tDNA_MuDR\t314452\t316803\t717\t+\t.\t.\n",
      "scaffold1741\t19912\t19914\tHYPER\tscaffold1741\tWUBlastX\tRC_Helitron\t19594\t24891\t3183\t-\t.\t.\n",
      "scaffold4\t649549\t649551\tHYPER\tscaffold4\tWUBlastX\tLINE_L2\t649353\t650228\t100\t+\t.\t.\n",
      "scaffold61\t166699\t166701\tHYPER\tscaffold61\tWUBlastX\tDNA_Academ\t165774\t167135\t395\t-\t.\t.\n",
      "scaffold61\t166699\t166701\tHYPER\tscaffold61\tWUBlastX\tDNA_Academ\t165771\t166871\t554\t-\t.\t.\n",
      "scaffold211\t867957\t867959\tHYPER\tscaffold211\tWUBlastX\tLTR_Pao\t865409\t870775\t3649\t+\t.\t.\n",
      "C34218\t493\t495\tHYPER\tC34218\tWUBlastX\tRC_Helitron\t1\t1503\t761\t-\t.\t.\n",
      "scaffold86\t203515\t203517\tHYPER\tscaffold86\tWUBlastX\tLTR_Pao\t200986\t205353\t2885\t+\t.\t.\n",
      "scaffold39620\t69983\t69985\tHYPER\tscaffold39620\tWUBlastX\tLTR_Pao\t68317\t70326\t1422\t-\t.\t.\n",
      "scaffold419\t681882\t681884\tHYPER\tscaffold419\tWUBlastX\tLTR_Gypsy\t680767\t682356\t728\t-\t.\t.\n",
      "scaffold419\t681882\t681884\tHYPER\tscaffold419\tWUBlastX\tLTR_Gypsy-Cigr\t681034\t684744\t2539\t-\t.\t.\n",
      "scaffold156\t58408\t58410\tHYPER\tscaffold156\tWUBlastX\tLTR_Pao\t57913\t58596\t516\t-\t.\t.\n",
      "scaffold42790\t159300\t159302\tHYPER\tscaffold42790\tWUBlastX\tLTR_Gypsy\t159000\t159830\t242\t+\t.\t.\n",
      "scaffold42790\t159300\t159302\tHYPER\tscaffold42790\tWUBlastX\tLTR_Gypsy\t159000\t159452\t288\t+\t.\t.\n",
      "scaffold42790\t159300\t159302\tHYPER\tscaffold42790\tWUBlastX\tLTR_Gypsy\t159000\t159665\t258\t+\t.\t.\n",
      "scaffold86\t203021\t203023\tHYPER\tscaffold86\tWUBlastX\tLTR_Pao\t200986\t205353\t2885\t+\t.\t.\n",
      "scaffold86\t204443\t204445\tHYPER\tscaffold86\tWUBlastX\tLTR_Pao\t200986\t205353\t2885\t+\t.\t.\n",
      "scaffold1532\t1178565\t1178567\tHYPO\tscaffold1532\tWUBlastX\tLTR_Gypsy\t1176071\t1178779\t1090\t-\t.\t.\n",
      "scaffold1532\t1178565\t1178567\tHYPO\tscaffold1532\tWUBlastX\tLTR_Gypsy\t1176479\t1180231\t2298\t-\t.\t.\n",
      "scaffold43452\t148181\t148183\tHYPO\tscaffold43452\tWUBlastX\tDNA_hAT\t147634\t148887\t346\t+\t.\t.\n",
      "scaffold86\t1418446\t1418448\tHYPO\tscaffold86\tWUBlastX\tDNA_Sola\t1417896\t1419101\t818\t+\t.\t.\n",
      "scaffold86\t1418446\t1418448\tHYPO\tscaffold86\tWUBlastX\tDNA_Sola\t1417407\t1419107\t773\t+\t.\t.\n",
      "scaffold86\t1418446\t1418448\tHYPO\tscaffold86\tWUBlastX\tDNA_Sola\t1417068\t1419053\t549\t+\t.\t.\n",
      "scaffold1154\t209348\t209350\tHYPO\tscaffold1154\tWUBlastX\tLTR_Pao\t208643\t211198\t1815\t+\t.\t.\n",
      "scaffold1154\t209348\t209350\tHYPO\tscaffold1154\tWUBlastX\tLTR_Pao\t208007\t211198\t1814\t+\t.\t.\n",
      "scaffold1024\t805092\t805094\tHYPO\tscaffold1024\tWUBlastX\tDNA_Sola\t803845\t805458\t791\t+\t.\t.\n",
      "scaffold113\t43099\t43101\tHYPO\tscaffold113\tWUBlastX\tLINE_Penelope\t43018\t43356\t96\t-\t.\t.\n",
      "scaffold113\t43099\t43101\tHYPO\tscaffold113\tWUBlastX\tLINE_Penelope\t42853\t43305\t118\t-\t.\t.\n",
      "scaffold113\t43099\t43101\tHYPO\tscaffold113\tWUBlastX\tLINE_Penelope\t43015\t43305\t170\t-\t.\t.\n",
      "scaffold1511\t170320\t170322\tHYPO\tscaffold1511\tWUBlastX\tDNA_Crypton\t170227\t170976\t132\t+\t.\t.\n",
      "scaffold1511\t170320\t170322\tHYPO\tscaffold1511\tWUBlastX\tDNA_Crypton\t169876\t171111\t104\t+\t.\t.\n",
      "scaffold1631\t167550\t167552\tHYPO\tscaffold1631\tWUBlastX\tLTR_Pao\t167350\t168267\t610\t-\t.\t.\n",
      "scaffold1631\t167573\t167575\tHYPO\tscaffold1631\tWUBlastX\tLTR_Pao\t167350\t168267\t610\t-\t.\t.\n",
      "scaffold1738\t9674\t9676\tHYPO\tscaffold1738\tWUBlastX\tLTR_Gypsy\t8699\t10156\t341\t+\t.\t.\n",
      "scaffold1738\t9674\t9676\tHYPO\tscaffold1738\tWUBlastX\tLTR_Gypsy\t8150\t9805\t1071\t+\t.\t.\n",
      "scaffold1741\t23050\t23052\tHYPO\tscaffold1741\tWUBlastX\tRC_Helitron\t19594\t24891\t3183\t-\t.\t.\n",
      "scaffold1881\t137188\t137190\tHYPO\tscaffold1881\tWUBlastX\tLINE_RTE-X\t136987\t139644\t297\t+\t.\t.\n",
      "scaffold1881\t137188\t137190\tHYPO\tscaffold1881\tWUBlastX\tLINE_Proto2\t136399\t138828\t339\t+\t.\t.\n",
      "scaffold1881\t137188\t137190\tHYPO\tscaffold1881\tWUBlastX\tLINE_RTE-X\t136981\t139134\t426\t+\t.\t.\n",
      "scaffold209\t217338\t217340\tHYPO\tscaffold209\tWUBlastX\tLTR_Pao\t215952\t217406\t149\t-\t.\t.\n",
      "scaffold237\t469767\t469769\tHYPO\tscaffold237\tWUBlastX\tDNA_Harbinger\t469637\t469981\t134\t-\t.\t.\n",
      "scaffold237\t469767\t469769\tHYPO\tscaffold237\tWUBlastX\tDNA_Harbinger\t469700\t469978\t196\t-\t.\t.\n",
      "scaffold36898\t2539\t2541\tHYPO\tscaffold36898\tWUBlastX\tDNA_hAT-Tip100\t2533\t4779\t1041\t-\t.\t.\n",
      "scaffold36898\t2539\t2541\tHYPO\tscaffold36898\tWUBlastX\tDNA_hAT-Tip100\t2431\t2793\t95\t-\t.\t.\n",
      "scaffold38370\t47074\t47076\tHYPO\tscaffold38370\tWUBlastX\tLTR_DIRS\t46133\t47116\t326\t+\t.\t.\n",
      "scaffold39268\t51242\t51244\tHYPO\tscaffold39268\tWUBlastX\tDNA_En-Spm\t50564\t51769\t819\t-\t.\t.\n",
      "scaffold39268\t51242\t51244\tHYPO\tscaffold39268\tWUBlastX\tDNA_En-Spm\t51125\t52084\t24\t-\t.\t.\n",
      "scaffold39268\t51251\t51253\tHYPO\tscaffold39268\tWUBlastX\tDNA_En-Spm\t50564\t51769\t819\t-\t.\t.\n",
      "scaffold39268\t51251\t51253\tHYPO\tscaffold39268\tWUBlastX\tDNA_En-Spm\t51125\t52084\t24\t-\t.\t.\n",
      "scaffold415\t72477\t72479\tHYPO\tscaffold415\tWUBlastX\tLTR_Gypsy\t72232\t73743\t958\t-\t.\t.\n",
      "scaffold41776\t43029\t43031\tHYPO\tscaffold41776\tWUBlastX\tLTR_Gypsy\t42106\t44541\t1665\t-\t.\t.\n",
      "scaffold41776\t43451\t43453\tHYPO\tscaffold41776\tWUBlastX\tLTR_Gypsy\t42106\t44541\t1665\t-\t.\t.\n",
      "scaffold42490\t12180\t12182\tHYPO\tscaffold42490\tWUBlastX\tLTR_Gypsy\t11723\t12475\t229\t-\t.\t.\n",
      "scaffold42490\t12180\t12182\tHYPO\tscaffold42490\tWUBlastX\tLTR_Gypsy\t11513\t12475\t229\t-\t.\t.\n",
      "scaffold42490\t12180\t12182\tHYPO\tscaffold42490\tWUBlastX\tLTR_Gypsy\t11879\t12475\t294\t-\t.\t.\n",
      "scaffold448\t344644\t344646\tHYPO\tscaffold448\tWUBlastX\tDNA_Maverick\t344318\t345628\t165\t-\t.\t.\n",
      "scaffold501\t926694\t926696\tHYPO\tscaffold501\tWUBlastX\tLTR_Ngaro\t926606\t926926\t110\t-\t.\t.\n",
      "scaffold501\t926694\t926696\tHYPO\tscaffold501\tWUBlastX\tLTR_Ngaro\t926606\t926992\t100\t-\t.\t.\n",
      "scaffold564\t193667\t193669\tHYPO\tscaffold564\tWUBlastX\tLTR_Gypsy\t193378\t193827\t184\t+\t.\t.\n",
      "scaffold564\t193673\t193675\tHYPO\tscaffold564\tWUBlastX\tLTR_Gypsy\t193378\t193827\t184\t+\t.\t.\n",
      "scaffold70\t849830\t849832\tHYPO\tscaffold70\tWUBlastX\tLINE_RTE-X\t849635\t850954\t272\t-\t.\t.\n",
      "scaffold759\t96185\t96187\tHYPO\tscaffold759\tWUBlastX\tLTR_Gypsy\t95379\t96425\t95\t-\t.\t.\n",
      "scaffold773\t174828\t174830\tHYPO\tscaffold773\tWUBlastX\tLTR_Pao\t170964\t175034\t2946\t-\t.\t.\n",
      "scaffold773\t174828\t174830\tHYPO\tscaffold773\tWUBlastX\tLTR_Pao\t170964\t176408\t2249\t-\t.\t.\n",
      "scaffold790\t105235\t105237\tHYPO\tscaffold790\tWUBlastX\tLTR_Gypsy\t105220\t105315\t22\t+\t.\t.\n",
      "scaffold962\t559068\t559070\tHYPO\tscaffold962\tWUBlastX\tLTR_DIRS\t557259\t559391\t1258\t+\t.\t.\n",
      "scaffold1188\t81280\t81282\tHYPO\tscaffold1188\tWUBlastX\tLINE_R2-Hero\t78711\t81929\t2619\t-\t.\t.\n",
      "C30848\t1597\t1599\tHYPO\tC30848\tWUBlastX\tLTR_Gypsy\t1195\t2517\t987\t+\t.\t.\n",
      "C30848\t2053\t2055\tHYPO\tC30848\tWUBlastX\tLTR_Gypsy\t1195\t2517\t987\t+\t.\t.\n",
      "scaffold1052\t37466\t37468\tHYPO\tscaffold1052\tWUBlastX\tLTR_DIRS\t35731\t37764\t1220\t-\t.\t.\n",
      "scaffold1087\t14492\t14494\tHYPO\tscaffold1087\tWUBlastX\tLTR_Gypsy\t12928\t14586\t679\t+\t.\t.\n",
      "scaffold1087\t14492\t14494\tHYPO\tscaffold1087\tWUBlastX\tLTR_Gypsy\t13627\t14586\t747\t+\t.\t.\n",
      "scaffold1087\t14492\t14494\tHYPO\tscaffold1087\tWUBlastX\tLTR_Gypsy\t13249\t14553\t696\t+\t.\t.\n",
      "scaffold1087\t14492\t14494\tHYPO\tscaffold1087\tWUBlastX\tLTR_Gypsy\t13765\t14775\t352\t+\t.\t.\n",
      "scaffold1241\t145737\t145739\tHYPO\tscaffold1241\tWUBlastX\tLTR_Ngaro\t144993\t145940\t225\t+\t.\t.\n",
      "scaffold1251\t41252\t41254\tHYPO\tscaffold1251\tWUBlastX\tLTR_Pao\t38192\t42400\t2981\t+\t.\t.\n",
      "scaffold1423\t1039816\t1039818\tHYPO\tscaffold1423\tWUBlastX\tLTR_Gypsy\t1039788\t1040774\t268\t+\t.\t.\n",
      "scaffold1423\t1039816\t1039818\tHYPO\tscaffold1423\tWUBlastX\tLTR_Gypsy\t1039371\t1040774\t254\t+\t.\t.\n",
      "scaffold1663\t107975\t107977\tHYPO\tscaffold1663\tWUBlastX\tDNA_MuDR\t106829\t108034\t377\t-\t.\t.\n",
      "scaffold1670\t228809\t228811\tHYPO\tscaffold1670\tWUBlastX\tLTR_Gypsy-Cigr\t226567\t229578\t1632\t-\t.\t.\n",
      "scaffold172\t117054\t117056\tHYPO\tscaffold172\tWUBlastX\tLTR_DIRS\t116324\t117271\t138\t+\t.\t.\n",
      "scaffold1810\t36684\t36686\tHYPO\tscaffold1810\tWUBlastX\tLINE_Proto2\t35774\t36853\t93\t+\t.\t.\n",
      "scaffold1847\t23157\t23159\tHYPO\tscaffold1847\tWUBlastX\tLTR_Pao\t22272\t23237\t55\t+\t.\t.\n",
      "scaffold1847\t23157\t23159\tHYPO\tscaffold1847\tWUBlastX\tLTR_Pao\t22979\t27865\t2168\t+\t.\t.\n",
      "scaffold206\t80423\t80425\tHYPO\tscaffold206\tWUBlastX\tLTR_Gypsy\t80148\t80603\t129\t+\t.\t.\n",
      "scaffold206\t80423\t80425\tHYPO\tscaffold206\tWUBlastX\tLTR_Gypsy\t80238\t81962\t710\t+\t.\t.\n",
      "scaffold226\t137677\t137679\tHYPO\tscaffold226\tWUBlastX\tLTR_Pao\t137087\t137812\t73\t-\t.\t.\n",
      "scaffold226\t137677\t137679\tHYPO\tscaffold226\tWUBlastX\tLTR_Pao\t137099\t137698\t180\t-\t.\t.\n",
      "scaffold337\t1031370\t1031372\tHYPO\tscaffold337\tWUBlastX\tLINE_Penelope\t1031186\t1031842\t196\t-\t.\t.\n",
      "scaffold38364\t13631\t13633\tHYPO\tscaffold38364\tWUBlastX\tLTR_Gypsy\t13500\t14330\t42\t+\t.\t.\n",
      "scaffold38364\t13631\t13633\tHYPO\tscaffold38364\tWUBlastX\tLTR_Gypsy\t13620\t14162\t65\t+\t.\t.\n",
      "scaffold38364\t13631\t13633\tHYPO\tscaffold38364\tWUBlastX\tLTR_Gypsy\t13434\t13979\t43\t+\t.\t.\n",
      "scaffold38364\t13631\t13633\tHYPO\tscaffold38364\tWUBlastX\tLTR_Gypsy\t13569\t13922\t71\t+\t.\t.\n",
      "scaffold41776\t43597\t43599\tHYPO\tscaffold41776\tWUBlastX\tLTR_Gypsy\t42106\t44541\t1665\t-\t.\t.\n",
      "scaffold502\t192056\t192058\tHYPO\tscaffold502\tWUBlastX\tLTR_Pao\t190252\t196254\t2122\t+\t.\t.\n",
      "scaffold1423\t1068863\t1068865\tHYPO\tscaffold1423\tWUBlastX\tLTR_Pao\t1065701\t1070743\t3622\t+\t.\t.\n",
      "scaffold1423\t1068863\t1068865\tHYPO\tscaffold1423\tWUBlastX\tLTR_Pao\t1064831\t1069330\t1105\t+\t.\t.\n",
      "scaffold41776\t44089\t44091\tHYPO\tscaffold41776\tWUBlastX\tLTR_Gypsy\t42106\t44541\t1665\t-\t.\t.\n",
      "scaffold807\t180746\t180748\tHYPO\tscaffold807\tWUBlastX\tLINE_Rex-Babar\t179588\t180874\t33\t-\t.\t.\n",
      "scaffold1448\t193521\t193523\tHYPO\tscaffold1448\tWUBlastX\tLTR_Gypsy\t191636\t195115\t2993\t-\t.\t.\n"
     ]
    }
   ],
   "source": [
    "!intersectbed \\\n",
    "-wb \\\n",
    "-a ./analyses/YEmix_DMR-tab.bed \\\n",
    "-b /Volumes/web-1/trilobite/Crassostrea_gigas_v9_tracks/Cgigas_v9_TE-WUBLASTX.gff \n"
   ]
  },
  {
   "cell_type": "code",
   "execution_count": 41,
   "metadata": {
    "collapsed": false
   },
   "outputs": [
    {
     "name": "stdout",
     "output_type": "stream",
     "text": [
      "scaffold42268\t89559\t89561\tHYPER\tscaffold42268\tWUBlastX\tDNA_IS4EU\t88880\t89707\t43\t-\t.\t.\n",
      "scaffold43844\t323090\t323092\tHYPER\tscaffold43844\tWUBlastX\tLTR_Gypsy\t322674\t323105\t68\t-\t.\t.\n",
      "scaffold1154\t309803\t309805\tHYPER\tscaffold1154\tWUBlastX\tDNA_P\t307901\t309988\t925\t-\t.\t.\n",
      "scaffold177\t386629\t386631\tHYPER\tscaffold177\tWUBlastX\tLTR_Pao\t386560\t389130\t1637\t+\t.\t.\n",
      "scaffold1868\t88426\t88428\tHYPER\tscaffold1868\tWUBlastX\tLTR_Gypsy-Cigr\t87804\t89918\t1336\t+\t.\t.\n",
      "scaffold1868\t88426\t88428\tHYPER\tscaffold1868\tWUBlastX\tLTR_Gypsy\t88173\t91562\t2352\t+\t.\t.\n",
      "scaffold754\t118567\t118569\tHYPER\tscaffold754\tWUBlastX\tLTR_Ngaro\t118564\t119619\t258\t+\t.\t.\n",
      "C33148\t10217\t10219\tHYPER\tC33148\tWUBlastX\tDNA_hAT\t10045\t10938\t68\t-\t.\t.\n",
      "scaffold1199\t36172\t36174\tHYPER\tscaffold1199\tWUBlastX\tDNA_Academ\t34647\t36356\t476\t-\t.\t.\n",
      "scaffold1350\t453167\t453169\tHYPER\tscaffold1350\tWUBlastX\tLTR_Pao\t452136\t456443\t2853\t+\t.\t.\n",
      "scaffold1350\t453167\t453169\tHYPER\tscaffold1350\tWUBlastX\tLTR_Pao\t451563\t455030\t2276\t+\t.\t.\n",
      "scaffold156\t26219\t26221\tHYPER\tscaffold156\tWUBlastX\tLTR_Gypsy-Cigr\t26220\t26534\t77\t+\t.\t.\n",
      "scaffold156\t26219\t26221\tHYPER\tscaffold156\tWUBlastX\tLTR_Gypsy\t26184\t26369\t76\t+\t.\t.\n",
      "scaffold156\t26219\t26221\tHYPER\tscaffold156\tWUBlastX\tLTR_Gypsy\t25965\t26348\t40\t+\t.\t.\n",
      "scaffold156\t27551\t27553\tHYPER\tscaffold156\tWUBlastX\tLTR_Gypsy\t27156\t27608\t102\t+\t.\t.\n",
      "scaffold156\t27551\t27553\tHYPER\tscaffold156\tWUBlastX\tLTR_Gypsy\t27168\t27803\t33\t+\t.\t.\n",
      "scaffold156\t27554\t27556\tHYPER\tscaffold156\tWUBlastX\tLTR_Gypsy\t27156\t27608\t102\t+\t.\t.\n",
      "scaffold156\t27554\t27556\tHYPER\tscaffold156\tWUBlastX\tLTR_Gypsy\t27168\t27803\t33\t+\t.\t.\n",
      "C30526\t2238\t2240\tHYPER\tC30526\tWUBlastX\tDNA_TcMar-Tc2\t1439\t2503\t822\t-\t.\t.\n",
      "scaffold419\t682419\t682421\tHYPER\tscaffold419\tWUBlastX\tLTR_Gypsy-Cigr\t681034\t684744\t2539\t-\t.\t.\n",
      "C30526\t2677\t2679\tHYPER\tC30526\tWUBlastX\tDNA_TcMar-Tc2\t2452\t2679\t91\t-\t.\t.\n",
      "C31466\t4061\t4063\tHYPER\tC31466\tWUBlastX\tRC_Helitron\t3993\t4391\t49\t-\t.\t.\n",
      "scaffold1016\t312875\t312877\tHYPER\tscaffold1016\tWUBlastX\tLTR_Gypsy\t312409\t313419\t272\t+\t.\t.\n",
      "scaffold1137\t2169\t2171\tHYPER\tscaffold1137\tWUBlastX\tLTR_Pao\t472\t4821\t882\t+\t.\t.\n",
      "scaffold1188\t81596\t81598\tHYPER\tscaffold1188\tWUBlastX\tLINE_R2-Hero\t78711\t81929\t2619\t-\t.\t.\n",
      "scaffold1232\t316236\t316238\tHYPER\tscaffold1232\tWUBlastX\tLTR_Pao\t316128\t316853\t457\t-\t.\t.\n",
      "scaffold1611\t139245\t139247\tHYPER\tscaffold1611\tWUBlastX\tLTR_Pao\t139000\t140454\t329\t+\t.\t.\n",
      "scaffold1611\t139245\t139247\tHYPER\tscaffold1611\tWUBlastX\tLTR_Pao\t139219\t144912\t4008\t+\t.\t.\n",
      "scaffold169\t629231\t629233\tHYPER\tscaffold169\tWUBlastX\tLTR_Gypsy\t629126\t629560\t146\t+\t.\t.\n",
      "scaffold172\t116983\t116985\tHYPER\tscaffold172\tWUBlastX\tLTR_DIRS\t116324\t117271\t138\t+\t.\t.\n",
      "scaffold177\t386634\t386636\tHYPER\tscaffold177\tWUBlastX\tLTR_Pao\t386560\t389130\t1637\t+\t.\t.\n",
      "scaffold1878\t31491\t31493\tHYPER\tscaffold1878\tWUBlastX\tLTR_Gypsy\t30708\t31502\t91\t+\t.\t.\n",
      "scaffold31\t319502\t319504\tHYPER\tscaffold31\tWUBlastX\tLTR_Pao\t317671\t319956\t831\t-\t.\t.\n",
      "scaffold365\t272098\t272100\tHYPER\tscaffold365\tWUBlastX\tRC_Helitron\t271999\t272205\t88\t+\t.\t.\n",
      "scaffold41210\t111462\t111464\tHYPER\tscaffold41210\tWUBlastX\tLTR_Gypsy\t110761\t112032\t552\t+\t.\t.\n",
      "scaffold41700\t19405\t19407\tHYPER\tscaffold41700\tWUBlastX\tDNA_MuDR\t19156\t19428\t52\t-\t.\t.\n",
      "scaffold41700\t19405\t19407\tHYPER\tscaffold41700\tWUBlastX\tDNA\t19386\t19766\t38\t-\t.\t.\n",
      "scaffold41700\t19416\t19418\tHYPER\tscaffold41700\tWUBlastX\tDNA_MuDR\t19156\t19428\t52\t-\t.\t.\n",
      "scaffold41700\t19416\t19418\tHYPER\tscaffold41700\tWUBlastX\tDNA\t19386\t19766\t38\t-\t.\t.\n",
      "scaffold41776\t42129\t42131\tHYPER\tscaffold41776\tWUBlastX\tLTR_Gypsy\t42029\t42160\t36\t-\t.\t.\n",
      "scaffold41776\t42129\t42131\tHYPER\tscaffold41776\tWUBlastX\tLTR_Gypsy\t42106\t44541\t1665\t-\t.\t.\n",
      "scaffold43894\t256506\t256508\tHYPER\tscaffold43894\tWUBlastX\tLTR_Pao\t254834\t257161\t1059\t+\t.\t.\n",
      "scaffold43894\t256506\t256508\tHYPER\tscaffold43894\tWUBlastX\tLTR_Pao\t255278\t257161\t1131\t+\t.\t.\n",
      "scaffold447\t321451\t321453\tHYPER\tscaffold447\tWUBlastX\tLTR_Gypsy\t318706\t321819\t2618\t+\t.\t.\n",
      "scaffold447\t321451\t321453\tHYPER\tscaffold447\tWUBlastX\tLTR_Gypsy\t318094\t321840\t2462\t+\t.\t.\n",
      "scaffold53\t948326\t948328\tHYPER\tscaffold53\tWUBlastX\tDNA_Sola\t948121\t948420\t162\t+\t.\t.\n",
      "scaffold90\t395255\t395257\tHYPER\tscaffold90\tWUBlastX\tLTR_Gypsy\t395099\t396442\t180\t-\t.\t.\n",
      "scaffold90\t395255\t395257\tHYPER\tscaffold90\tWUBlastX\tLTR_Gypsy\t394856\t396052\t834\t-\t.\t.\n",
      "scaffold1188\t80954\t80956\tHYPER\tscaffold1188\tWUBlastX\tLINE_R2-Hero\t78711\t81929\t2619\t-\t.\t.\n",
      "scaffold177\t388588\t388590\tHYPER\tscaffold177\tWUBlastX\tLTR_Pao\t386560\t389130\t1637\t+\t.\t.\n",
      "scaffold177\t388826\t388828\tHYPER\tscaffold177\tWUBlastX\tLTR_Pao\t386560\t389130\t1637\t+\t.\t.\n",
      "scaffold1588\t315057\t315059\tHYPER\tscaffold1588\tWUBlastX\tDNA_MuDR\t314452\t316803\t717\t+\t.\t.\n",
      "scaffold177\t388823\t388825\tHYPER\tscaffold177\tWUBlastX\tLTR_Pao\t386560\t389130\t1637\t+\t.\t.\n",
      "scaffold211\t867931\t867933\tHYPER\tscaffold211\tWUBlastX\tLTR_Pao\t865409\t870775\t3649\t+\t.\t.\n",
      "scaffold41776\t43566\t43568\tHYPER\tscaffold41776\tWUBlastX\tLTR_Gypsy\t42106\t44541\t1665\t-\t.\t.\n",
      "scaffold39620\t69954\t69956\tHYPER\tscaffold39620\tWUBlastX\tLTR_Pao\t68317\t70326\t1422\t-\t.\t.\n",
      "scaffold1423\t1067910\t1067912\tHYPER\tscaffold1423\tWUBlastX\tLTR_Pao\t1065701\t1070743\t3622\t+\t.\t.\n",
      "scaffold1423\t1067910\t1067912\tHYPER\tscaffold1423\tWUBlastX\tLTR_Pao\t1064831\t1069330\t1105\t+\t.\t.\n",
      "scaffold248\t483968\t483970\tHYPER\tscaffold248\tWUBlastX\tLTR_Pao\t483327\t484067\t49\t+\t.\t.\n",
      "scaffold248\t483968\t483970\tHYPER\tscaffold248\tWUBlastX\tLTR_Pao\t483654\t484151\t25\t+\t.\t.\n",
      "scaffold276\t27525\t27527\tHYPER\tscaffold276\tWUBlastX\tDNA_Kolobok-IS4\t27408\t28088\t388\t-\t.\t.\n",
      "scaffold40952\t56595\t56597\tHYPER\tscaffold40952\tWUBlastX\tDNA_Kolobok-Hyd\t56541\t56747\t26\t+\t.\t.\n",
      "scaffold413\t272454\t272456\tHYPER\tscaffold413\tWUBlastX\tLINE_L1\t272033\t272857\t98\t+\t.\t.\n",
      "scaffold413\t272454\t272456\tHYPER\tscaffold413\tWUBlastX\tLINE_CR1-L2\t272210\t272803\t138\t+\t.\t.\n",
      "scaffold1423\t1069031\t1069033\tHYPER\tscaffold1423\tWUBlastX\tLTR_Pao\t1065701\t1070743\t3622\t+\t.\t.\n",
      "scaffold1423\t1069031\t1069033\tHYPER\tscaffold1423\tWUBlastX\tLTR_Pao\t1064831\t1069330\t1105\t+\t.\t.\n",
      "scaffold1016\t225547\t225549\tHYPER\tscaffold1016\tWUBlastX\tLINE_RTE-X\t225084\t227135\t844\t+\t.\t.\n",
      "scaffold1030\t42925\t42927\tHYPER\tscaffold1030\tWUBlastX\tLTR_Gypsy\t41408\t43999\t1988\t+\t.\t.\n",
      "scaffold1035\t9285\t9287\tHYPER\tscaffold1035\tWUBlastX\tLINE_L1-Tx1\t9110\t9538\t56\t-\t.\t.\n",
      "scaffold192\t15305\t15307\tHYPER\tscaffold192\tWUBlastX\tLTR_Gypsy-Cigr\t14985\t15560\t188\t-\t.\t.\n",
      "scaffold203\t227988\t227990\tHYPER\tscaffold203\tWUBlastX\tLTR_Gypsy\t227290\t228966\t1167\t+\t.\t.\n",
      "scaffold203\t227988\t227990\tHYPER\tscaffold203\tWUBlastX\tLTR_Gypsy-Cigr\t226705\t228912\t1084\t+\t.\t.\n",
      "scaffold203\t227988\t227990\tHYPER\tscaffold203\tWUBlastX\tLTR_Gypsy\t227662\t230193\t983\t+\t.\t.\n",
      "scaffold211\t867912\t867914\tHYPER\tscaffold211\tWUBlastX\tLTR_Pao\t865409\t870775\t3649\t+\t.\t.\n",
      "scaffold31484\t9547\t9549\tHYPER\tscaffold31484\tWUBlastX\tRC_Helitron\t9352\t9591\t101\t-\t.\t.\n",
      "scaffold39966\t3180\t3182\tHYPER\tscaffold39966\tWUBlastX\tRC_Helitron\t3151\t3408\t81\t-\t.\t.\n",
      "scaffold42\t105581\t105583\tHYPER\tscaffold42\tWUBlastX\tLTR_Gypsy\t104804\t106291\t953\t+\t.\t.\n",
      "scaffold42408\t121167\t121169\tHYPER\tscaffold42408\tWUBlastX\tRC_Helitron\t118674\t121460\t1783\t-\t.\t.\n",
      "scaffold43\t121033\t121035\tHYPER\tscaffold43\tWUBlastX\tDNA_En-Spm\t120966\t122987\t748\t+\t.\t.\n",
      "scaffold43894\t257456\t257458\tHYPER\tscaffold43894\tWUBlastX\tLTR_Pao\t257113\t257853\t700\t+\t.\t.\n",
      "scaffold461\t464148\t464150\tHYPER\tscaffold461\tWUBlastX\tRC_Helitron\t463874\t466714\t1284\t-\t.\t.\n",
      "scaffold577\t117101\t117103\tHYPER\tscaffold577\tWUBlastX\tRC_Helitron\t116527\t117267\t294\t+\t.\t.\n",
      "scaffold1219\t619479\t619481\tHYPER\tscaffold1219\tWUBlastX\tLTR_DIRS\t619007\t619798\t158\t-\t.\t.\n",
      "scaffold1219\t619479\t619481\tHYPER\tscaffold1219\tWUBlastX\tLTR_DIRS\t619085\t619966\t148\t-\t.\t.\n",
      "scaffold1219\t619479\t619481\tHYPER\tscaffold1219\tWUBlastX\tLTR_DIRS\t619037\t619684\t179\t-\t.\t.\n",
      "scaffold1588\t315084\t315086\tHYPER\tscaffold1588\tWUBlastX\tDNA_MuDR\t314452\t316803\t717\t+\t.\t.\n",
      "scaffold1741\t19912\t19914\tHYPER\tscaffold1741\tWUBlastX\tRC_Helitron\t19594\t24891\t3183\t-\t.\t.\n",
      "scaffold4\t649549\t649551\tHYPER\tscaffold4\tWUBlastX\tLINE_L2\t649353\t650228\t100\t+\t.\t.\n",
      "scaffold61\t166699\t166701\tHYPER\tscaffold61\tWUBlastX\tDNA_Academ\t165774\t167135\t395\t-\t.\t.\n",
      "scaffold61\t166699\t166701\tHYPER\tscaffold61\tWUBlastX\tDNA_Academ\t165771\t166871\t554\t-\t.\t.\n",
      "scaffold211\t867957\t867959\tHYPER\tscaffold211\tWUBlastX\tLTR_Pao\t865409\t870775\t3649\t+\t.\t.\n",
      "C34218\t493\t495\tHYPER\tC34218\tWUBlastX\tRC_Helitron\t1\t1503\t761\t-\t.\t.\n",
      "scaffold86\t203515\t203517\tHYPER\tscaffold86\tWUBlastX\tLTR_Pao\t200986\t205353\t2885\t+\t.\t.\n",
      "scaffold39620\t69983\t69985\tHYPER\tscaffold39620\tWUBlastX\tLTR_Pao\t68317\t70326\t1422\t-\t.\t.\n",
      "scaffold419\t681882\t681884\tHYPER\tscaffold419\tWUBlastX\tLTR_Gypsy\t680767\t682356\t728\t-\t.\t.\n",
      "scaffold419\t681882\t681884\tHYPER\tscaffold419\tWUBlastX\tLTR_Gypsy-Cigr\t681034\t684744\t2539\t-\t.\t.\n",
      "scaffold156\t58408\t58410\tHYPER\tscaffold156\tWUBlastX\tLTR_Pao\t57913\t58596\t516\t-\t.\t.\n",
      "scaffold42790\t159300\t159302\tHYPER\tscaffold42790\tWUBlastX\tLTR_Gypsy\t159000\t159830\t242\t+\t.\t.\n",
      "scaffold42790\t159300\t159302\tHYPER\tscaffold42790\tWUBlastX\tLTR_Gypsy\t159000\t159452\t288\t+\t.\t.\n",
      "scaffold42790\t159300\t159302\tHYPER\tscaffold42790\tWUBlastX\tLTR_Gypsy\t159000\t159665\t258\t+\t.\t.\n",
      "scaffold86\t203021\t203023\tHYPER\tscaffold86\tWUBlastX\tLTR_Pao\t200986\t205353\t2885\t+\t.\t.\n",
      "scaffold86\t204443\t204445\tHYPER\tscaffold86\tWUBlastX\tLTR_Pao\t200986\t205353\t2885\t+\t.\t.\n",
      "scaffold1532\t1178565\t1178567\tHYPO\tscaffold1532\tWUBlastX\tLTR_Gypsy\t1176071\t1178779\t1090\t-\t.\t.\n",
      "scaffold1532\t1178565\t1178567\tHYPO\tscaffold1532\tWUBlastX\tLTR_Gypsy\t1176479\t1180231\t2298\t-\t.\t.\n",
      "scaffold43452\t148181\t148183\tHYPO\tscaffold43452\tWUBlastX\tDNA_hAT\t147634\t148887\t346\t+\t.\t.\n",
      "scaffold86\t1418446\t1418448\tHYPO\tscaffold86\tWUBlastX\tDNA_Sola\t1417896\t1419101\t818\t+\t.\t.\n",
      "scaffold86\t1418446\t1418448\tHYPO\tscaffold86\tWUBlastX\tDNA_Sola\t1417407\t1419107\t773\t+\t.\t.\n",
      "scaffold86\t1418446\t1418448\tHYPO\tscaffold86\tWUBlastX\tDNA_Sola\t1417068\t1419053\t549\t+\t.\t.\n",
      "scaffold1154\t209348\t209350\tHYPO\tscaffold1154\tWUBlastX\tLTR_Pao\t208643\t211198\t1815\t+\t.\t.\n",
      "scaffold1154\t209348\t209350\tHYPO\tscaffold1154\tWUBlastX\tLTR_Pao\t208007\t211198\t1814\t+\t.\t.\n",
      "scaffold1024\t805092\t805094\tHYPO\tscaffold1024\tWUBlastX\tDNA_Sola\t803845\t805458\t791\t+\t.\t.\n",
      "scaffold113\t43099\t43101\tHYPO\tscaffold113\tWUBlastX\tLINE_Penelope\t43018\t43356\t96\t-\t.\t.\n",
      "scaffold113\t43099\t43101\tHYPO\tscaffold113\tWUBlastX\tLINE_Penelope\t42853\t43305\t118\t-\t.\t.\n",
      "scaffold113\t43099\t43101\tHYPO\tscaffold113\tWUBlastX\tLINE_Penelope\t43015\t43305\t170\t-\t.\t.\n",
      "scaffold1511\t170320\t170322\tHYPO\tscaffold1511\tWUBlastX\tDNA_Crypton\t170227\t170976\t132\t+\t.\t.\n",
      "scaffold1511\t170320\t170322\tHYPO\tscaffold1511\tWUBlastX\tDNA_Crypton\t169876\t171111\t104\t+\t.\t.\n",
      "scaffold1631\t167550\t167552\tHYPO\tscaffold1631\tWUBlastX\tLTR_Pao\t167350\t168267\t610\t-\t.\t.\n",
      "scaffold1631\t167573\t167575\tHYPO\tscaffold1631\tWUBlastX\tLTR_Pao\t167350\t168267\t610\t-\t.\t.\n",
      "scaffold1738\t9674\t9676\tHYPO\tscaffold1738\tWUBlastX\tLTR_Gypsy\t8699\t10156\t341\t+\t.\t.\n",
      "scaffold1738\t9674\t9676\tHYPO\tscaffold1738\tWUBlastX\tLTR_Gypsy\t8150\t9805\t1071\t+\t.\t.\n",
      "scaffold1741\t23050\t23052\tHYPO\tscaffold1741\tWUBlastX\tRC_Helitron\t19594\t24891\t3183\t-\t.\t.\n",
      "scaffold1881\t137188\t137190\tHYPO\tscaffold1881\tWUBlastX\tLINE_RTE-X\t136987\t139644\t297\t+\t.\t.\n",
      "scaffold1881\t137188\t137190\tHYPO\tscaffold1881\tWUBlastX\tLINE_Proto2\t136399\t138828\t339\t+\t.\t.\n",
      "scaffold1881\t137188\t137190\tHYPO\tscaffold1881\tWUBlastX\tLINE_RTE-X\t136981\t139134\t426\t+\t.\t.\n",
      "scaffold209\t217338\t217340\tHYPO\tscaffold209\tWUBlastX\tLTR_Pao\t215952\t217406\t149\t-\t.\t.\n",
      "scaffold237\t469767\t469769\tHYPO\tscaffold237\tWUBlastX\tDNA_Harbinger\t469637\t469981\t134\t-\t.\t.\n",
      "scaffold237\t469767\t469769\tHYPO\tscaffold237\tWUBlastX\tDNA_Harbinger\t469700\t469978\t196\t-\t.\t.\n",
      "scaffold36898\t2539\t2541\tHYPO\tscaffold36898\tWUBlastX\tDNA_hAT-Tip100\t2533\t4779\t1041\t-\t.\t.\n",
      "scaffold36898\t2539\t2541\tHYPO\tscaffold36898\tWUBlastX\tDNA_hAT-Tip100\t2431\t2793\t95\t-\t.\t.\n",
      "scaffold38370\t47074\t47076\tHYPO\tscaffold38370\tWUBlastX\tLTR_DIRS\t46133\t47116\t326\t+\t.\t.\n",
      "scaffold39268\t51242\t51244\tHYPO\tscaffold39268\tWUBlastX\tDNA_En-Spm\t50564\t51769\t819\t-\t.\t.\n",
      "scaffold39268\t51242\t51244\tHYPO\tscaffold39268\tWUBlastX\tDNA_En-Spm\t51125\t52084\t24\t-\t.\t.\n",
      "scaffold39268\t51251\t51253\tHYPO\tscaffold39268\tWUBlastX\tDNA_En-Spm\t50564\t51769\t819\t-\t.\t.\n",
      "scaffold39268\t51251\t51253\tHYPO\tscaffold39268\tWUBlastX\tDNA_En-Spm\t51125\t52084\t24\t-\t.\t.\n",
      "scaffold415\t72477\t72479\tHYPO\tscaffold415\tWUBlastX\tLTR_Gypsy\t72232\t73743\t958\t-\t.\t.\n",
      "scaffold41776\t43029\t43031\tHYPO\tscaffold41776\tWUBlastX\tLTR_Gypsy\t42106\t44541\t1665\t-\t.\t.\n",
      "scaffold41776\t43451\t43453\tHYPO\tscaffold41776\tWUBlastX\tLTR_Gypsy\t42106\t44541\t1665\t-\t.\t.\n",
      "scaffold42490\t12180\t12182\tHYPO\tscaffold42490\tWUBlastX\tLTR_Gypsy\t11723\t12475\t229\t-\t.\t.\n",
      "scaffold42490\t12180\t12182\tHYPO\tscaffold42490\tWUBlastX\tLTR_Gypsy\t11513\t12475\t229\t-\t.\t.\n",
      "scaffold42490\t12180\t12182\tHYPO\tscaffold42490\tWUBlastX\tLTR_Gypsy\t11879\t12475\t294\t-\t.\t.\n",
      "scaffold448\t344644\t344646\tHYPO\tscaffold448\tWUBlastX\tDNA_Maverick\t344318\t345628\t165\t-\t.\t.\n",
      "scaffold501\t926694\t926696\tHYPO\tscaffold501\tWUBlastX\tLTR_Ngaro\t926606\t926926\t110\t-\t.\t.\n",
      "scaffold501\t926694\t926696\tHYPO\tscaffold501\tWUBlastX\tLTR_Ngaro\t926606\t926992\t100\t-\t.\t.\n",
      "scaffold564\t193667\t193669\tHYPO\tscaffold564\tWUBlastX\tLTR_Gypsy\t193378\t193827\t184\t+\t.\t.\n",
      "scaffold564\t193673\t193675\tHYPO\tscaffold564\tWUBlastX\tLTR_Gypsy\t193378\t193827\t184\t+\t.\t.\n",
      "scaffold70\t849830\t849832\tHYPO\tscaffold70\tWUBlastX\tLINE_RTE-X\t849635\t850954\t272\t-\t.\t.\n",
      "scaffold759\t96185\t96187\tHYPO\tscaffold759\tWUBlastX\tLTR_Gypsy\t95379\t96425\t95\t-\t.\t.\n",
      "scaffold773\t174828\t174830\tHYPO\tscaffold773\tWUBlastX\tLTR_Pao\t170964\t175034\t2946\t-\t.\t.\n",
      "scaffold773\t174828\t174830\tHYPO\tscaffold773\tWUBlastX\tLTR_Pao\t170964\t176408\t2249\t-\t.\t.\n",
      "scaffold790\t105235\t105237\tHYPO\tscaffold790\tWUBlastX\tLTR_Gypsy\t105220\t105315\t22\t+\t.\t.\n",
      "scaffold962\t559068\t559070\tHYPO\tscaffold962\tWUBlastX\tLTR_DIRS\t557259\t559391\t1258\t+\t.\t.\n",
      "scaffold1188\t81280\t81282\tHYPO\tscaffold1188\tWUBlastX\tLINE_R2-Hero\t78711\t81929\t2619\t-\t.\t.\n",
      "C30848\t1597\t1599\tHYPO\tC30848\tWUBlastX\tLTR_Gypsy\t1195\t2517\t987\t+\t.\t.\n",
      "C30848\t2053\t2055\tHYPO\tC30848\tWUBlastX\tLTR_Gypsy\t1195\t2517\t987\t+\t.\t.\n",
      "scaffold1052\t37466\t37468\tHYPO\tscaffold1052\tWUBlastX\tLTR_DIRS\t35731\t37764\t1220\t-\t.\t.\n",
      "scaffold1087\t14492\t14494\tHYPO\tscaffold1087\tWUBlastX\tLTR_Gypsy\t12928\t14586\t679\t+\t.\t.\n",
      "scaffold1087\t14492\t14494\tHYPO\tscaffold1087\tWUBlastX\tLTR_Gypsy\t13627\t14586\t747\t+\t.\t.\n",
      "scaffold1087\t14492\t14494\tHYPO\tscaffold1087\tWUBlastX\tLTR_Gypsy\t13249\t14553\t696\t+\t.\t.\n",
      "scaffold1087\t14492\t14494\tHYPO\tscaffold1087\tWUBlastX\tLTR_Gypsy\t13765\t14775\t352\t+\t.\t.\n",
      "scaffold1241\t145737\t145739\tHYPO\tscaffold1241\tWUBlastX\tLTR_Ngaro\t144993\t145940\t225\t+\t.\t.\n",
      "scaffold1251\t41252\t41254\tHYPO\tscaffold1251\tWUBlastX\tLTR_Pao\t38192\t42400\t2981\t+\t.\t.\n",
      "scaffold1423\t1039816\t1039818\tHYPO\tscaffold1423\tWUBlastX\tLTR_Gypsy\t1039788\t1040774\t268\t+\t.\t.\n",
      "scaffold1423\t1039816\t1039818\tHYPO\tscaffold1423\tWUBlastX\tLTR_Gypsy\t1039371\t1040774\t254\t+\t.\t.\n",
      "scaffold1663\t107975\t107977\tHYPO\tscaffold1663\tWUBlastX\tDNA_MuDR\t106829\t108034\t377\t-\t.\t.\n",
      "scaffold1670\t228809\t228811\tHYPO\tscaffold1670\tWUBlastX\tLTR_Gypsy-Cigr\t226567\t229578\t1632\t-\t.\t.\n",
      "scaffold172\t117054\t117056\tHYPO\tscaffold172\tWUBlastX\tLTR_DIRS\t116324\t117271\t138\t+\t.\t.\n",
      "scaffold1810\t36684\t36686\tHYPO\tscaffold1810\tWUBlastX\tLINE_Proto2\t35774\t36853\t93\t+\t.\t.\n",
      "scaffold1847\t23157\t23159\tHYPO\tscaffold1847\tWUBlastX\tLTR_Pao\t22272\t23237\t55\t+\t.\t.\n",
      "scaffold1847\t23157\t23159\tHYPO\tscaffold1847\tWUBlastX\tLTR_Pao\t22979\t27865\t2168\t+\t.\t.\n",
      "scaffold206\t80423\t80425\tHYPO\tscaffold206\tWUBlastX\tLTR_Gypsy\t80148\t80603\t129\t+\t.\t.\n",
      "scaffold206\t80423\t80425\tHYPO\tscaffold206\tWUBlastX\tLTR_Gypsy\t80238\t81962\t710\t+\t.\t.\n",
      "scaffold226\t137677\t137679\tHYPO\tscaffold226\tWUBlastX\tLTR_Pao\t137087\t137812\t73\t-\t.\t.\n",
      "scaffold226\t137677\t137679\tHYPO\tscaffold226\tWUBlastX\tLTR_Pao\t137099\t137698\t180\t-\t.\t.\n",
      "scaffold337\t1031370\t1031372\tHYPO\tscaffold337\tWUBlastX\tLINE_Penelope\t1031186\t1031842\t196\t-\t.\t.\n",
      "scaffold38364\t13631\t13633\tHYPO\tscaffold38364\tWUBlastX\tLTR_Gypsy\t13500\t14330\t42\t+\t.\t.\n",
      "scaffold38364\t13631\t13633\tHYPO\tscaffold38364\tWUBlastX\tLTR_Gypsy\t13620\t14162\t65\t+\t.\t.\n",
      "scaffold38364\t13631\t13633\tHYPO\tscaffold38364\tWUBlastX\tLTR_Gypsy\t13434\t13979\t43\t+\t.\t.\n",
      "scaffold38364\t13631\t13633\tHYPO\tscaffold38364\tWUBlastX\tLTR_Gypsy\t13569\t13922\t71\t+\t.\t.\n",
      "scaffold41776\t43597\t43599\tHYPO\tscaffold41776\tWUBlastX\tLTR_Gypsy\t42106\t44541\t1665\t-\t.\t.\n",
      "scaffold502\t192056\t192058\tHYPO\tscaffold502\tWUBlastX\tLTR_Pao\t190252\t196254\t2122\t+\t.\t.\n",
      "scaffold1423\t1068863\t1068865\tHYPO\tscaffold1423\tWUBlastX\tLTR_Pao\t1065701\t1070743\t3622\t+\t.\t.\n",
      "scaffold1423\t1068863\t1068865\tHYPO\tscaffold1423\tWUBlastX\tLTR_Pao\t1064831\t1069330\t1105\t+\t.\t.\n",
      "scaffold41776\t44089\t44091\tHYPO\tscaffold41776\tWUBlastX\tLTR_Gypsy\t42106\t44541\t1665\t-\t.\t.\n",
      "scaffold807\t180746\t180748\tHYPO\tscaffold807\tWUBlastX\tLINE_Rex-Babar\t179588\t180874\t33\t-\t.\t.\n",
      "scaffold1448\t193521\t193523\tHYPO\tscaffold1448\tWUBlastX\tLTR_Gypsy\t191636\t195115\t2993\t-\t.\t.\n"
     ]
    }
   ],
   "source": [
    "!intersectbed \\\n",
    "-wb \\\n",
    "-a ./analyses/YEmix_DMR-tab.bed \\\n",
    "-b /Volumes/web-1/trilobite/Crassostrea_gigas_v9_tracks/Cgigas_v9_TE-WUBLASTX.gff"
   ]
  },
  {
   "cell_type": "code",
   "execution_count": 40,
   "metadata": {
    "collapsed": false
   },
   "outputs": [
    {
     "name": "stdout",
     "output_type": "stream",
     "text": [
      "     131\r\n"
     ]
    }
   ],
   "source": [
    "!intersectbed \\\n",
    "-u \\\n",
    "-a ./analyses/YEmix_DMR-tab.bed \\\n",
    "-b /Volumes/web-1/trilobite/Crassostrea_gigas_v9_tracks/Cgigas_v9_TE-WUBLASTX.gff | wc -l"
   ]
  },
  {
   "cell_type": "code",
   "execution_count": null,
   "metadata": {
    "collapsed": true
   },
   "outputs": [],
   "source": [
    "/Volumes/web-1/trilobite/Crassostrea_gigas_v9_tracks/Cgigas_v9_COMP_gene_prom_TE.bed"
   ]
  },
  {
   "cell_type": "code",
   "execution_count": 23,
   "metadata": {
    "collapsed": false
   },
   "outputs": [
    {
     "name": "stdout",
     "output_type": "stream",
     "text": [
      "     338\r\n"
     ]
    }
   ],
   "source": [
    "!intersectbed \\\n",
    "-wb \\\n",
    "-a ./analyses/YEmix_DMR-tab.bed \\\n",
    "-b /Volumes/web-1/trilobite/Crassostrea_gigas_v9_tracks/Cgigas_v9_COMP_gene_prom_TE.bed | wc -l"
   ]
  },
  {
   "cell_type": "code",
   "execution_count": null,
   "metadata": {
    "collapsed": true
   },
   "outputs": [],
   "source": [
    "/Volumes/web-1/trilobite/Crassostrea_gigas_v9_tracks/Cgigas_v9_gene.gff"
   ]
  },
  {
   "cell_type": "code",
   "execution_count": 39,
   "metadata": {
    "collapsed": false
   },
   "outputs": [
    {
     "name": "stdout",
     "output_type": "stream",
     "text": [
      "     356\r\n"
     ]
    }
   ],
   "source": [
    "!intersectbed \\\n",
    "-wb \\\n",
    "-a ./analyses/YEmix_DMR-tab.bed \\\n",
    "-b /Volumes/web-1/trilobite/Crassostrea_gigas_v9_tracks/Cgigas_v9_gene.gff | wc -l"
   ]
  },
  {
   "cell_type": "code",
   "execution_count": 31,
   "metadata": {
    "collapsed": true
   },
   "outputs": [],
   "source": [
    "!intersectbed \\\n",
    "-wb \\\n",
    "-a ./analyses/YEmix_DMR-tab.bed \\\n",
    "-b /Volumes/web-1/trilobite/Crassostrea_gigas_v9_tracks/Cgigas_v9_gene.gff > ./analyses/YEmixDMR-gene.txt"
   ]
  },
  {
   "cell_type": "code",
   "execution_count": 32,
   "metadata": {
    "collapsed": false
   },
   "outputs": [
    {
     "name": "stdout",
     "output_type": "stream",
     "text": [
      "scaffold1087\t9508\t9510\tHYPER\tscaffold1087\tGLEAN\tmRNA\t1458\t16224\t0.544547\t+\t.\t\tCGI_10001183\t\r\n",
      "scaffold109\t358907\t358909\tHYPER\tscaffold109\tGLEAN\tmRNA\t303639\t363474\t0.446526\t-\t.\t\tCGI_10022113\t\r\n",
      "scaffold1132\t613494\t613496\tHYPER\tscaffold1132\tGLEAN\tmRNA\t597236\t637139\t1\t-\t.\t\tCGI_10023325\t\r\n",
      "scaffold1142\t97241\t97243\tHYPER\tscaffold1142\tGLEAN\tmRNA\t94253\t99896\t1\t-\t.\t\tCGI_10008530\t\r\n",
      "scaffold12\t463944\t463946\tHYPER\tscaffold12\tGLEAN\tmRNA\t459176\t498976\t0.706488\t-\t.\t\tCGI_10018051\t\r\n",
      "scaffold1245\t14319\t14321\tHYPER\tscaffold1245\tGLEAN\tmRNA\t8846\t27165\t0.999947\t-\t.\t\tCGI_10009218\t\r\n",
      "scaffold1266\t27177\t27179\tHYPER\tscaffold1266\tGLEAN\tmRNA\t23079\t33478\t1\t-\t.\t\tCGI_10004344\t\r\n",
      "scaffold149\t287108\t287110\tHYPER\tscaffold149\tGLEAN\tmRNA\t286385\t302078\t0.935125\t+\t.\t\tCGI_10025297\t\r\n",
      "scaffold1493\t40710\t40712\tHYPER\tscaffold1493\tGLEAN\tmRNA\t34742\t42344\t0.999351\t+\t.\t\tCGI_10006738\t\r\n",
      "scaffold1536\t83062\t83064\tHYPER\tscaffold1536\tGLEAN\tmRNA\t69658\t89028\t0.779284\t+\t.\t\tCGI_10004415\t\r\n"
     ]
    }
   ],
   "source": [
    "!head ./analyses/YEmixDMR-gene-twconv.txt"
   ]
  },
  {
   "cell_type": "code",
   "execution_count": null,
   "metadata": {
    "collapsed": true
   },
   "outputs": [],
   "source": []
  },
  {
   "cell_type": "markdown",
   "metadata": {},
   "source": [
    "```\n",
    "SELECT * FROM [sr320@washington.edu].[YEmixDMR-gene]ye\n",
    "  left join\n",
    "  [sr320@washington.edu].[qDOD Cgigas Gene Descriptions (Swiss-prot)]sp\n",
    "  on\n",
    " \n",
    "  ye.Column14=​sp.CGI_ID​\n",
    "```    "
   ]
  },
  {
   "cell_type": "code",
   "execution_count": 34,
   "metadata": {
    "collapsed": false
   },
   "outputs": [
    {
     "name": "stdout",
     "output_type": "stream",
     "text": [
      "C30046,1086,1088,HYPER,C30046,GLEAN,mRNA,202,6592,0.480335,+,.,,CGI_10000591,,CGI_10000591,Q71LX4,4E-69,Talin-2\r",
      "\r\n",
      "C30046,4212,4214,HYPER,C30046,GLEAN,mRNA,202,6592,0.480335,+,.,,CGI_10000591,,CGI_10000591,Q71LX4,4E-69,Talin-2\r",
      "\r\n",
      "C30046,512,514,HYPER,C30046,GLEAN,mRNA,202,6592,0.480335,+,.,,CGI_10000591,,CGI_10000591,Q71LX4,4E-69,Talin-2\r",
      "\r\n",
      "C30046,4769,4771,HYPER,C30046,GLEAN,mRNA,202,6592,0.480335,+,.,,CGI_10000591,,CGI_10000591,Q71LX4,4E-69,Talin-2\r",
      "\r\n",
      "C30046,521,523,HYPER,C30046,GLEAN,mRNA,202,6592,0.480335,+,.,,CGI_10000591,,CGI_10000591,Q71LX4,4E-69,Talin-2\r",
      "\r\n",
      "C30046,5384,5386,HYPER,C30046,GLEAN,mRNA,202,6592,0.480335,+,.,,CGI_10000591,,CGI_10000591,Q71LX4,4E-69,Talin-2\r",
      "\r\n",
      "C30046,1001,1003,HYPER,C30046,GLEAN,mRNA,202,6592,0.480335,+,.,,CGI_10000591,,CGI_10000591,Q71LX4,4E-69,Talin-2\r",
      "\r\n",
      "scaffold37128,9398,9400,HYPER,scaffold37128,GLEAN,mRNA,3059,12731,1,+,.,,CGI_10002289,,CGI_10002289,Q9Y490,6E-69,Talin-1\r",
      "\r\n",
      "scaffold1177,80700,80702,HYPER,scaffold1177,GLEAN,mRNA,74651,83816,0.937811,+,.,,CGI_10003914,,CGI_10003914,Q71LX4,4E-162,Talin-2\r",
      "\r\n",
      "scaffold1177,83665,83667,HYPER,scaffold1177,GLEAN,mRNA,74651,83816,0.937811,+,.,,CGI_10003914,,CGI_10003914,Q71LX4,4E-162,Talin-2\r",
      "\r\n",
      "scaffold1177,83610,83612,HYPER,scaffold1177,GLEAN,mRNA,74651,83816,0.937811,+,.,,CGI_10003914,,CGI_10003914,Q71LX4,4E-162,Talin-2\r",
      "\r\n",
      "scaffold1177,80685,80687,HYPER,scaffold1177,GLEAN,mRNA,74651,83816,0.937811,+,.,,CGI_10003914,,CGI_10003914,Q71LX4,4E-162,Talin-2\r",
      "\r\n",
      "scaffold1177,83640,83642,HYPER,scaffold1177,GLEAN,mRNA,74651,83816,0.937811,+,.,,CGI_10003914,,CGI_10003914,Q71LX4,4E-162,Talin-2\r",
      "\r\n",
      "scaffold1815,219325,219327,HYPER,scaffold1815,GLEAN,mRNA,219267,233312,0.948466,+,.,,CGI_10010270,,CGI_10010270,P54939,2E-28,Talin-1\r",
      "\r\n",
      "scaffold1815,219327,219329,HYPER,scaffold1815,GLEAN,mRNA,219267,233312,0.948466,+,.,,CGI_10010270,,CGI_10010270,P54939,2E-28,Talin-1\r",
      "\r\n",
      "scaffold1815,221962,221964,HYPO,scaffold1815,GLEAN,mRNA,219267,233312,0.948466,+,.,,CGI_10010270,,CGI_10010270,P54939,2E-28,Talin-1\r",
      "\r\n",
      "scaffold1815,222641,222643,HYPO,scaffold1815,GLEAN,mRNA,219267,233312,0.948466,+,.,,CGI_10010270,,CGI_10010270,P54939,2E-28,Talin-1\r",
      "\r\n",
      "scaffold43708,795,797,HYPO,scaffold43708,GLEAN,mRNA,225,22019,0.959931,-,.,,CGI_10011964,,CGI_10011964,Q9Y490,0,Talin-1\r",
      "\r\n",
      "scaffold43708,2985,2987,HYPER,scaffold43708,GLEAN,mRNA,225,22019,0.959931,-,.,,CGI_10011964,,CGI_10011964,Q9Y490,0,Talin-1\r",
      "\r\n",
      "scaffold43708,771,773,HYPER,scaffold43708,GLEAN,mRNA,225,22019,0.959931,-,.,,CGI_10011964,,CGI_10011964,Q9Y490,0,Talin-1\r",
      "\r\n",
      "scaffold1698,504264,504266,HYPER,scaffold1698,GLEAN,mRNA,503808,514720,0.638313,+,.,,CGI_10019389,,CGI_10019389,Q9Y490,4E-82,Talin-1\r",
      "\r\n",
      "scaffold1698,504283,504285,HYPER,scaffold1698,GLEAN,mRNA,503808,514720,0.638313,+,.,,CGI_10019389,,CGI_10019389,Q9Y490,4E-82,Talin-1\r",
      "\r\n",
      "scaffold1698,504236,504238,HYPER,scaffold1698,GLEAN,mRNA,503808,514720,0.638313,+,.,,CGI_10019389,,CGI_10019389,Q9Y490,4E-82,Talin-1\r",
      "\r\n",
      "scaffold501,576832,576834,HYPER,scaffold501,GLEAN,mRNA,575399,580307,0.882009,-,.,,CGI_10027527,,CGI_10027527,P54939,2E-18,Talin-1\r",
      "\r\n",
      "scaffold501,578286,578288,HYPER,scaffold501,GLEAN,mRNA,575399,580307,0.882009,-,.,,CGI_10027527,,CGI_10027527,P54939,2E-18,Talin-1\r",
      "\r\n",
      "scaffold501,576820,576822,HYPER,scaffold501,GLEAN,mRNA,575399,580307,0.882009,-,.,,CGI_10027527,,CGI_10027527,P54939,2E-18,Talin-1\r",
      "\r\n",
      "scaffold501,576840,576842,HYPER,scaffold501,GLEAN,mRNA,575399,580307,0.882009,-,.,,CGI_10027527,,CGI_10027527,P54939,2E-18,Talin-1\r",
      "\r\n"
     ]
    }
   ],
   "source": [
    "!grep \"Talin\" /Users/sr320/git-repos/nb-2015/Cg/YE-pesticide/analyses/YEmixDMR-gene.csv"
   ]
  },
  {
   "cell_type": "code",
   "execution_count": 38,
   "metadata": {
    "collapsed": false
   },
   "outputs": [
    {
     "name": "stdout",
     "output_type": "stream",
     "text": [
      "6-phosphofructokinase\r\n",
      "A disintegrin and metalloproteinase with thrombospondin motifs 9\r\n",
      "Acetyl-CoA carboxylase\r\n",
      "Actin-1/3\r\n",
      "Activator of 90 kDa heat shock protein ATPase homolog 1\r\n",
      "ADAM 17-like protease\r\n",
      "Adenylate cyclase type 3\r\n",
      "ADP-sugar pyrophosphatase\r\n",
      "Alkaline ceramidase 3\r\n",
      "Alpha-aminoadipic semialdehyde synthase, mitochondrial\r\n"
     ]
    }
   ],
   "source": [
    "!head ./analyses/YEmix-genelist.txt"
   ]
  },
  {
   "cell_type": "code",
   "execution_count": 27,
   "metadata": {
    "collapsed": false
   },
   "outputs": [
    {
     "name": "stdout",
     "output_type": "stream",
     "text": [
      "     356\r\n"
     ]
    }
   ],
   "source": [
    "!intersectbed \\\n",
    "-wb \\\n",
    "-a ./analyses/YEmix_DMR-tab.bed \\\n",
    "-b /Volumes/web-1/trilobite/Crassostrea_gigas_v9_tracks/Cgigas_v9_gene.gff | wc -l"
   ]
  },
  {
   "cell_type": "code",
   "execution_count": null,
   "metadata": {
    "collapsed": true
   },
   "outputs": [],
   "source": [
    "/Volumes/web-1/trilobite/Crassostrea_gigas_v9_tracks/Cgigas_v9_TE-TANDEMREPEAT.gff"
   ]
  },
  {
   "cell_type": "code",
   "execution_count": 30,
   "metadata": {
    "collapsed": false
   },
   "outputs": [
    {
     "name": "stdout",
     "output_type": "stream",
     "text": [
      "      29\r\n"
     ]
    }
   ],
   "source": [
    "!intersectbed \\\n",
    "-wb \\\n",
    "-a ./analyses/YEmix_DMR-tab.bed \\\n",
    "-b /Volumes/web-1/trilobite/Crassostrea_gigas_v9_tracks/Cgigas_v9_TE-TANDEMREPEAT.gff | wc -l"
   ]
  },
  {
   "cell_type": "code",
   "execution_count": null,
   "metadata": {
    "collapsed": true
   },
   "outputs": [],
   "source": [
    "/Volumes/web-1/trilobite/Crassostrea_gigas_ensembl_tracks/Crassostrea_gigas.GCA_000297895.1.25.gff3"
   ]
  },
  {
   "cell_type": "code",
   "execution_count": 37,
   "metadata": {
    "collapsed": false
   },
   "outputs": [],
   "source": [
    "!intersectbed \\\n",
    "-wb \\\n",
    "-a ./analyses/YEmix_DMR-tab.bed \\\n",
    "-b /Volumes/web-1/trilobite/Crassostrea_gigas_ensembl_tracks/Crassostrea_gigas.GCA_000297895.1.25.gff3 \\\n",
    "> ./analyses/YEmixDMR-Cg-Ensembl-gff.txt"
   ]
  },
  {
   "cell_type": "code",
   "execution_count": 43,
   "metadata": {
    "collapsed": false
   },
   "outputs": [
    {
     "name": "stdout",
     "output_type": "stream",
     "text": [
      "      33\r\n"
     ]
    }
   ],
   "source": [
    "!intersectbed \\\n",
    "-wb \\\n",
    "-a ./analyses/YEmix_DMR-tab.bed \\\n",
    "-b /Volumes/web-1/trilobite/Crassostrea_gigas_v9_tracks/Cgigas_v9_1k5p_gene_promoter.gff | wc -l"
   ]
  },
  {
   "cell_type": "code",
   "execution_count": 44,
   "metadata": {
    "collapsed": false
   },
   "outputs": [
    {
     "ename": "SyntaxError",
     "evalue": "invalid syntax (<ipython-input-44-de4a20362b92>, line 1)",
     "output_type": "error",
     "traceback": [
      "\u001b[0;36m  File \u001b[0;32m\"<ipython-input-44-de4a20362b92>\"\u001b[0;36m, line \u001b[0;32m1\u001b[0m\n\u001b[0;31m    Check CG\u001b[0m\n\u001b[0m           ^\u001b[0m\n\u001b[0;31mSyntaxError\u001b[0m\u001b[0;31m:\u001b[0m invalid syntax\n"
     ]
    }
   ],
   "source": [
    "Check CG"
   ]
  },
  {
   "cell_type": "code",
   "execution_count": null,
   "metadata": {
    "collapsed": true
   },
   "outputs": [],
   "source": [
    "/Volumes/web-1/trilobite/Crassostrea_gigas_v9_tracks/Cgigas_v9_CG.gff"
   ]
  },
  {
   "cell_type": "code",
   "execution_count": 52,
   "metadata": {
    "collapsed": false
   },
   "outputs": [
    {
     "name": "stdout",
     "output_type": "stream",
     "text": [
      " 5121236\r\n"
     ]
    }
   ],
   "source": [
    "!intersectbed \\\n",
    "-wb \\\n",
    "-a /Volumes/web-1/trilobite/Crassostrea_gigas_v9_tracks/Cgigas_v9_CG.gff \\\n",
    "-b /Volumes/web-1/trilobite/Crassostrea_gigas_v9_tracks/Cgigas_v9_COMP_gene_prom_TE.bed | wc -l"
   ]
  },
  {
   "cell_type": "code",
   "execution_count": 47,
   "metadata": {
    "collapsed": false
   },
   "outputs": [
    {
     "name": "stdout",
     "output_type": "stream",
     "text": [
      " 4046625\r\n"
     ]
    }
   ],
   "source": [
    "!intersectbed \\\n",
    "-wb \\\n",
    "-a /Volumes/web-1/trilobite/Crassostrea_gigas_v9_tracks/Cgigas_v9_CG.gff \\\n",
    "-b /Volumes/web-1/trilobite/Crassostrea_gigas_v9_tracks/Cgigas_v9_gene.gff | wc -l"
   ]
  },
  {
   "cell_type": "code",
   "execution_count": 51,
   "metadata": {
    "collapsed": false
   },
   "outputs": [
    {
     "name": "stdout",
     "output_type": "stream",
     "text": [
      "  597379\r\n"
     ]
    }
   ],
   "source": [
    "!intersectbed \\\n",
    "-wb \\\n",
    "-a /Volumes/web-1/trilobite/Crassostrea_gigas_v9_tracks/Cgigas_v9_CG.gff \\\n",
    "-b /Volumes/web-1/trilobite/Crassostrea_gigas_v9_tracks/Cgigas_v9_TE-WUBLASTX.gff | wc -l"
   ]
  },
  {
   "cell_type": "code",
   "execution_count": null,
   "metadata": {
    "collapsed": true
   },
   "outputs": [],
   "source": []
  }
 ],
 "metadata": {
  "kernelspec": {
   "display_name": "Python 2",
   "language": "python",
   "name": "python2"
  },
  "language_info": {
   "codemirror_mode": {
    "name": "ipython",
    "version": 2
   },
   "file_extension": ".py",
   "mimetype": "text/x-python",
   "name": "python",
   "nbconvert_exporter": "python",
   "pygments_lexer": "ipython2",
   "version": "2.7.10"
  }
 },
 "nbformat": 4,
 "nbformat_minor": 0
}
