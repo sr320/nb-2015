{
 "cells": [
  {
   "cell_type": "code",
   "execution_count": 2,
   "metadata": {
    "collapsed": false
   },
   "outputs": [
    {
     "name": "stdout",
     "output_type": "stream",
     "text": [
      ">scaffold360\r\n"
     ]
    }
   ],
   "source": [
    "!head -1 /Volumes/web/cnidarian/oyster.v9.fa "
   ]
  },
  {
   "cell_type": "code",
   "execution_count": 3,
   "metadata": {
    "collapsed": false
   },
   "outputs": [
    {
     "name": "stdout",
     "output_type": "stream",
     "text": [
      "11969\r\n"
     ]
    }
   ],
   "source": [
    "!fgrep -c \">\" /Volumes/web/cnidarian/oyster.v9.fa \n"
   ]
  },
  {
   "cell_type": "code",
   "execution_count": 35,
   "metadata": {
    "collapsed": false
   },
   "outputs": [
    {
     "name": "stdout",
     "output_type": "stream",
     "text": [
      "\r\n",
      "0:99999 \t10616\r\n",
      "100000:199999 \t504\r\n",
      "200000:299999 \t294\r\n",
      "300000:399999 \t152\r\n",
      "400000:499999 \t127\r\n",
      "500000:599999 \t73\r\n",
      "600000:699999 \t63\r\n",
      "700000:799999 \t35\r\n",
      "800000:899999 \t30\r\n",
      "900000:999999 \t15\r\n",
      "1000000:1099999 \t17\r\n",
      "1100000:1199999 \t14\r\n",
      "1200000:1299999 \t8\r\n",
      "1300000:1399999 \t6\r\n",
      "1400000:1499999 \t2\r\n",
      "1500000:1599999 \t2\r\n",
      "1600000:1699999 \t4\r\n",
      "1700000:1799999 \t4\r\n",
      "1800000:1899999 \t2\r\n",
      "1900000:1999999 \t1\r\n",
      "\r\n",
      "Total length of sequence:\t558601156 bp\r\n",
      "Total number of sequences:\t11969\r\n",
      "N25 stats:\t\t\t25% of total sequence length is contained in the 136 sequences >= 713302 bp\r\n",
      "N50 stats:\t\t\t50% of total sequence length is contained in the 401 sequences >= 401319 bp\r\n",
      "N75 stats:\t\t\t75% of total sequence length is contained in the 925 sequences >= 176907 bp\r\n",
      "Total GC count:\t\t\t164873219 bp\r\n",
      "GC %:\t\t\t\t29.52 %\r\n",
      "\r\n"
     ]
    }
   ],
   "source": [
    "!perl /Users/sr320/git-repos/nb-2015/util/script-box/count_fasta.pl \\\n",
    "-i 100000 \\\n",
    "/Users/sr320/data-genomic/GigaDB-Cgigas/oyster.v9.fa"
   ]
  },
  {
   "cell_type": "markdown",
   "metadata": {},
   "source": [
    "# Ensembl\n"
   ]
  },
  {
   "cell_type": "code",
   "execution_count": 6,
   "metadata": {
    "collapsed": false
   },
   "outputs": [
    {
     "name": "stdout",
     "output_type": "stream",
     "text": [
      "/Users/sr320/data-genomic/Ensembl-Cgigas\n"
     ]
    }
   ],
   "source": [
    "cd /Users/sr320/data-genomic/Ensembl-Cgigas"
   ]
  },
  {
   "cell_type": "code",
   "execution_count": 7,
   "metadata": {
    "collapsed": false
   },
   "outputs": [
    {
     "name": "stdout",
     "output_type": "stream",
     "text": [
      "  % Total    % Received % Xferd  Average Speed   Time    Time     Time  Current\n",
      "                                 Dload  Upload   Total   Spent    Left  Speed\n",
      "100  144M  100  144M    0     0  3497k      0  0:00:42  0:00:42 --:--:-- 4108k\n"
     ]
    }
   ],
   "source": [
    "!curl -O ftp://ftp.ensemblgenomes.org/pub/release-26/metazoa/fasta/crassostrea_gigas/dna/Crassostrea_gigas.GCA_000297895.1.26.dna.genome.fa.gz"
   ]
  },
  {
   "cell_type": "code",
   "execution_count": 8,
   "metadata": {
    "collapsed": false
   },
   "outputs": [
    {
     "name": "stdout",
     "output_type": "stream",
     "text": [
      "  % Total    % Received % Xferd  Average Speed   Time    Time     Time  Current\n",
      "                                 Dload  Upload   Total   Spent    Left  Speed\n",
      "100 11.6M  100 11.6M    0     0  1425k      0  0:00:08  0:00:08 --:--:-- 2428k\n"
     ]
    }
   ],
   "source": [
    "!curl -O ftp://ftp.ensemblgenomes.org/pub/release-26/metazoa/fasta/crassostrea_gigas/cdna/Crassostrea_gigas.GCA_000297895.1.26.cdna.all.fa.gz"
   ]
  },
  {
   "cell_type": "code",
   "execution_count": 9,
   "metadata": {
    "collapsed": false
   },
   "outputs": [
    {
     "name": "stdout",
     "output_type": "stream",
     "text": [
      "  % Total    % Received % Xferd  Average Speed   Time    Time     Time  Current\n",
      "                                 Dload  Upload   Total   Spent    Left  Speed\n",
      "100 11.5M  100 11.5M    0     0  1622k      0  0:00:07  0:00:07 --:--:-- 2613k\n"
     ]
    }
   ],
   "source": [
    "!curl -O ftp://ftp.ensemblgenomes.org/pub/release-26/metazoa/fasta/crassostrea_gigas/cds/Crassostrea_gigas.GCA_000297895.1.26.cds.all.fa.gz"
   ]
  },
  {
   "cell_type": "code",
   "execution_count": 10,
   "metadata": {
    "collapsed": false
   },
   "outputs": [
    {
     "name": "stdout",
     "output_type": "stream",
     "text": [
      "  % Total    % Received % Xferd  Average Speed   Time    Time     Time  Current\n",
      "                                 Dload  Upload   Total   Spent    Left  Speed\n",
      "100 7893k  100 7893k    0     0  1150k      0  0:00:06  0:00:06 --:--:-- 1817k\n"
     ]
    }
   ],
   "source": [
    "!curl -O ftp://ftp.ensemblgenomes.org/pub/release-26/metazoa/fasta/crassostrea_gigas/pep/Crassostrea_gigas.GCA_000297895.1.26.pep.all.fa.gz"
   ]
  },
  {
   "cell_type": "code",
   "execution_count": 11,
   "metadata": {
    "collapsed": false
   },
   "outputs": [
    {
     "name": "stdout",
     "output_type": "stream",
     "text": [
      "  % Total    % Received % Xferd  Average Speed   Time    Time     Time  Current\n",
      "                                 Dload  Upload   Total   Spent    Left  Speed\n",
      "100  265k  100  265k    0     0  67965      0  0:00:04  0:00:04 --:--:-- 67968\n"
     ]
    }
   ],
   "source": [
    "!curl -O ftp://ftp.ensemblgenomes.org/pub/release-26/metazoa/tsv/crassostrea_gigas/Crassostrea_gigas.GCA_000297895.1.26.ena.tsv.gz"
   ]
  },
  {
   "cell_type": "code",
   "execution_count": 12,
   "metadata": {
    "collapsed": false
   },
   "outputs": [
    {
     "name": "stdout",
     "output_type": "stream",
     "text": [
      "  % Total    % Received % Xferd  Average Speed   Time    Time     Time  Current\n",
      "                                 Dload  Upload   Total   Spent    Left  Speed\n",
      "100  263k  100  263k    0     0  63113      0  0:00:04  0:00:04 --:--:-- 63127\n"
     ]
    }
   ],
   "source": [
    "!curl -O ftp://ftp.ensemblgenomes.org/pub/release-26/metazoa/tsv/crassostrea_gigas/Crassostrea_gigas.GCA_000297895.1.26.uniprot.tsv.gz"
   ]
  },
  {
   "cell_type": "code",
   "execution_count": 13,
   "metadata": {
    "collapsed": false
   },
   "outputs": [
    {
     "name": "stdout",
     "output_type": "stream",
     "text": [
      "  % Total    % Received % Xferd  Average Speed   Time    Time     Time  Current\n",
      "                                 Dload  Upload   Total   Spent    Left  Speed\n",
      "100 4829k  100 4829k    0     0   826k      0  0:00:05  0:00:05 --:--:-- 1022k\n"
     ]
    }
   ],
   "source": [
    "!curl -O ftp://ftp.ensemblgenomes.org/pub/release-26/metazoa/gtf/crassostrea_gigas/Crassostrea_gigas.GCA_000297895.1.26.gtf.gz"
   ]
  },
  {
   "cell_type": "code",
   "execution_count": 14,
   "metadata": {
    "collapsed": false
   },
   "outputs": [
    {
     "name": "stdout",
     "output_type": "stream",
     "text": [
      "Crassostrea_gigas.GCA_000297895.1.26.cdna.all.fa\r\n",
      "Crassostrea_gigas.GCA_000297895.1.26.cdna.all.fa.gz\r\n",
      "Crassostrea_gigas.GCA_000297895.1.26.cds.all.fa\r\n",
      "Crassostrea_gigas.GCA_000297895.1.26.cds.all.fa.gz\r\n",
      "Crassostrea_gigas.GCA_000297895.1.26.dna.genome.fa\r\n",
      "Crassostrea_gigas.GCA_000297895.1.26.dna.genome.fa.gz\r\n",
      "Crassostrea_gigas.GCA_000297895.1.26.ena.tsv\r\n",
      "Crassostrea_gigas.GCA_000297895.1.26.ena.tsv.gz\r\n",
      "Crassostrea_gigas.GCA_000297895.1.26.gtf\r\n",
      "Crassostrea_gigas.GCA_000297895.1.26.gtf.gz\r\n",
      "Crassostrea_gigas.GCA_000297895.1.26.pep.all.fa\r\n",
      "Crassostrea_gigas.GCA_000297895.1.26.pep.all.fa.gz\r\n",
      "Crassostrea_gigas.GCA_000297895.1.26.uniprot.tsv\r\n",
      "Crassostrea_gigas.GCA_000297895.1.26.uniprot.tsv.gz\r\n"
     ]
    }
   ],
   "source": [
    "!ls "
   ]
  },
  {
   "cell_type": "code",
   "execution_count": 17,
   "metadata": {
    "collapsed": false
   },
   "outputs": [
    {
     "name": "stdout",
     "output_type": "stream",
     "text": [
      "   26742 Crassostrea_gigas.GCA_000297895.1.26.uniprot.tsv\r\n"
     ]
    }
   ],
   "source": [
    "!wc -l Crassostrea_gigas.GCA_000297895.1.26.uniprot.tsv"
   ]
  },
  {
   "cell_type": "code",
   "execution_count": 19,
   "metadata": {
    "collapsed": false
   },
   "outputs": [
    {
     "name": "stdout",
     "output_type": "stream",
     "text": [
      ">EKC21896 cdna:novel supercontig:GCA_000297895.1:scaffold39040:587:10567:-1 gene:CGI_10003144 transcript:EKC21896 description:\"C-type lectin domain family 10 member A \"\r\n",
      "ATGGAACACCGGGTGATGACACAGTCGTGTGATGGCGACTGGGTCCGGTATGGGGACAGC\r\n",
      "TGTTACCGATATTATACGTCACAGATGGCATGGATCTACGCCTTCAAGACGTGCCAGTCA\r\n",
      "GACAATGGATTCCTTACAGACATTGAAAACGCAGACGAGCAAGCCTTTCTGCAAAATTTA\r\n",
      "ACGAGCAGGGCAAAATTTTGGATAAGCGCGTCAGATTCTGTGGGAGACTGGTTTAAATGG\r\n",
      "ATGTGGTATGGCGGTATTCACCCTTGGGGATATACCAACTGGGACACCGCGTTTTATCTT\r\n",
      "ACCGAAGATCCTGTTTTGACATTGGCAGTGGAGGCTTCTAGCAATGAAACGAGACTCATC\r\n",
      "TGTGCTTTTATTTTCAACATTTCGGATGTCGATTTCTCTGTGGAATGGTATCTGAATGAT\r\n",
      "AAAATGAAGTGTGTTGTTACTCCGTGCATGCCAGGAAACTGCAGTATGAGAGGTTCTTCA\r\n",
      "CGAGAAAGCAACGTTATATCTGCAAAGATTCAGGTATGGTAA\r\n"
     ]
    }
   ],
   "source": [
    "!head  Crassostrea_gigas.GCA_000297895.1.26.cdna.all.fa"
   ]
  },
  {
   "cell_type": "code",
   "execution_count": 22,
   "metadata": {
    "collapsed": false
   },
   "outputs": [
    {
     "name": "stdout",
     "output_type": "stream",
     "text": [
      ">EKC21896 cds:novel supercontig:GCA_000297895.1:scaffold39040:587:10567:-1 gene:CGI_10003144 transcript:EKC21896 description:\"C-type lectin domain family 10 member A \"\r\n",
      "ATGGAACACCGGGTGATGACACAGTCGTGTGATGGCGACTGGGTCCGGTATGGGGACAGC\r\n",
      "TGTTACCGATATTATACGTCACAGATGGCATGGATCTACGCCTTCAAGACGTGCCAGTCA\r\n",
      "GACAATGGATTCCTTACAGACATTGAAAACGCAGACGAGCAAGCCTTTCTGCAAAATTTA\r\n",
      "ACGAGCAGGGCAAAATTTTGGATAAGCGCGTCAGATTCTGTGGGAGACTGGTTTAAATGG\r\n",
      "ATGTGGTATGGCGGTATTCACCCTTGGGGATATACCAACTGGGACACCGCGTTTTATCTT\r\n",
      "ACCGAAGATCCTGTTTTGACATTGGCAGTGGAGGCTTCTAGCAATGAAACGAGACTCATC\r\n",
      "TGTGCTTTTATTTTCAACATTTCGGATGTCGATTTCTCTGTGGAATGGTATCTGAATGAT\r\n",
      "AAAATGAAGTGTGTTGTTACTCCGTGCATGCCAGGAAACTGCAGTATGAGAGGTTCTTCA\r\n",
      "CGAGAAAGCAACGTTATATCTGCAAAGATTCAGGTATGGTAA\r\n"
     ]
    }
   ],
   "source": [
    "!head Crassostrea_gigas.GCA_000297895.1.26.cds.all.fa"
   ]
  },
  {
   "cell_type": "code",
   "execution_count": 24,
   "metadata": {
    "collapsed": false
   },
   "outputs": [
    {
     "name": "stdout",
     "output_type": "stream",
     "text": [
      "26086\r\n"
     ]
    }
   ],
   "source": [
    "!fgrep -c \">E\" Crassostrea_gigas.GCA_000297895.1.26.cds.all.fa"
   ]
  },
  {
   "cell_type": "code",
   "execution_count": 25,
   "metadata": {
    "collapsed": false
   },
   "outputs": [
    {
     "name": "stdout",
     "output_type": "stream",
     "text": [
      "27093\r\n"
     ]
    }
   ],
   "source": [
    "!fgrep -c \">E\" Crassostrea_gigas.GCA_000297895.1.26.cdna.all.fa"
   ]
  },
  {
   "cell_type": "code",
   "execution_count": 26,
   "metadata": {
    "collapsed": false
   },
   "outputs": [
    {
     "name": "stdout",
     "output_type": "stream",
     "text": [
      "26089\n",
      "27108\n"
     ]
    }
   ],
   "source": [
    "!fgrep -c \">\" Crassostrea_gigas.GCA_000297895.1.26.cds.all.fa\n",
    "!fgrep -c \">\" Crassostrea_gigas.GCA_000297895.1.26.cdna.all.fa"
   ]
  },
  {
   "cell_type": "code",
   "execution_count": 32,
   "metadata": {
    "collapsed": false
   },
   "outputs": [
    {
     "name": "stdout",
     "output_type": "stream",
     "text": [
      "\r\n",
      "0:9999 \t25992\r\n",
      "10000:19999 \t88\r\n",
      "20000:29999 \t2\r\n",
      "30000:39999 \t5\r\n",
      "40000:49999 \t2\r\n",
      "\r\n",
      "Total length of sequence:\t35087820 bp\r\n",
      "Total number of sequences:\t26089\r\n",
      "N25 stats:\t\t\t25% of total sequence length is contained in the 1575 sequences >= 3411 bp\r\n",
      "N50 stats:\t\t\t50% of total sequence length is contained in the 5138 sequences >= 1887 bp\r\n",
      "N75 stats:\t\t\t75% of total sequence length is contained in the 11153 sequences >= 1116 bp\r\n",
      "Total GC count:\t\t\t15945316 bp\r\n",
      "GC %:\t\t\t\t45.44 %\r\n",
      "\r\n"
     ]
    }
   ],
   "source": [
    "!perl /Users/sr320/git-repos/nb-2015/util/script-box/count_fasta.pl \\\n",
    "-i 10000 \\\n",
    "Crassostrea_gigas.GCA_000297895.1.26.cds.all.fa"
   ]
  },
  {
   "cell_type": "code",
   "execution_count": 33,
   "metadata": {
    "collapsed": false
   },
   "outputs": [
    {
     "name": "stdout",
     "output_type": "stream",
     "text": [
      "\r\n",
      "0:9999 \t27011\r\n",
      "10000:19999 \t88\r\n",
      "20000:29999 \t2\r\n",
      "30000:39999 \t5\r\n",
      "40000:49999 \t2\r\n",
      "\r\n",
      "Total length of sequence:\t35181307 bp\r\n",
      "Total number of sequences:\t27108\r\n",
      "N25 stats:\t\t\t25% of total sequence length is contained in the 1582 sequences >= 3402 bp\r\n",
      "N50 stats:\t\t\t50% of total sequence length is contained in the 5161 sequences >= 1881 bp\r\n",
      "N75 stats:\t\t\t75% of total sequence length is contained in the 11211 sequences >= 1113 bp\r\n",
      "Total GC count:\t\t\t15995996 bp\r\n",
      "GC %:\t\t\t\t45.47 %\r\n",
      "\r\n"
     ]
    }
   ],
   "source": [
    "!perl /Users/sr320/git-repos/nb-2015/util/script-box/count_fasta.pl \\\n",
    "-i 10000 \\\n",
    "Crassostrea_gigas.GCA_000297895.1.26.cdna.all.fa"
   ]
  },
  {
   "cell_type": "code",
   "execution_count": null,
   "metadata": {
    "collapsed": true
   },
   "outputs": [],
   "source": []
  }
 ],
 "metadata": {
  "kernelspec": {
   "display_name": "Python 2",
   "language": "python",
   "name": "python2"
  },
  "language_info": {
   "codemirror_mode": {
    "name": "ipython",
    "version": 2
   },
   "file_extension": ".py",
   "mimetype": "text/x-python",
   "name": "python",
   "nbconvert_exporter": "python",
   "pygments_lexer": "ipython2",
   "version": "2.7.9"
  }
 },
 "nbformat": 4,
 "nbformat_minor": 0
}
