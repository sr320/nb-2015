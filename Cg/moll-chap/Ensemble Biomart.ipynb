{
 "cells": [
  {
   "cell_type": "markdown",
   "metadata": {},
   "source": [
    "<img src=\"http://eagle.fish.washington.edu/cnidarian/skitch/BioMart_-_MartView_1AF28BC1.png\" alt=\"BioMart_-_MartView_1AF28BC1.png\" width=90%/>"
   ]
  },
  {
   "cell_type": "code",
   "execution_count": 1,
   "metadata": {
    "collapsed": false
   },
   "outputs": [
    {
     "name": "stdout",
     "output_type": "stream",
     "text": [
      "Gene stable ID\tTranscript stable ID\tLottia gigantea gene stable ID\tOrthology confidence [0 low, 1 high]\tLottia gigantea protein stable ID\r\n",
      "CGI_10003145\tEKC21897\tLotgiG233795\t1\tLotgiP233795\r\n",
      "CGI_10003144\tEKC21896\t\t\t\r\n",
      "CGI_10022974\tEKC38305\t\t\t\r\n",
      "CGI_10022997\tEKC38327\tLotgiG139483\t1\tLotgiP139483\r\n",
      "CGI_10022993\tEKC38323\t\t\t\r\n",
      "CGI_10022982\tEKC38312\tLotgiG143816\t1\tLotgiP143816\r\n",
      "CGI_10022995\tEKC38325\tLotgiG144585\t1\tLotgiP144585\r\n",
      "CGI_10023003\tEKC38333\tLotgiG197335\t0\tLotgiP197335\r\n",
      "CGI_10023003\tEKC38333\tLotgiG100635\t0\tLotgiP100635\r\n"
     ]
    }
   ],
   "source": [
    "!head /Users/sr320/data-genomic/Ensembl-Cgigas/Lott-orthologs.txt"
   ]
  },
  {
   "cell_type": "markdown",
   "metadata": {},
   "source": [
    "<img src=\"http://eagle.fish.washington.edu/cnidarian/skitch/BioMart_-_MartView_1AF28D1E.png\" alt=\"BioMart_-_MartView_1AF28D1E.png\" width=80%/>"
   ]
  },
  {
   "cell_type": "code",
   "execution_count": 2,
   "metadata": {
    "collapsed": false
   },
   "outputs": [
    {
     "name": "stdout",
     "output_type": "stream",
     "text": [
      "Gene stable ID\tTranscript stable ID\tInterPro description\tInterPro short description\tGO term name\tSuperFamily ID\tUniProtKB/SwissProt ID\tKEGG enzyme ID\tProtein stable ID\tGene biotype\tTranscript count\tTranscript name\r\n",
      "CGI_10003145\tEKC21897\tWD40-repeat-containing domain\tWD40_repeat_dom\tprotein binding\tSSF50978\t\t\tEKC21897\tprotein_coding\t1\t\r\n",
      "CGI_10003145\tEKC21897\tWD40/YVTN repeat-like-containing domain\tWD40/YVTN_repeat-like_dom\tprotein binding\tSSF50978\t\t\tEKC21897\tprotein_coding\t1\t\r\n",
      "CGI_10003145\tEKC21897\tWD40 repeat\tWD40_repeat\tprotein binding\tSSF50978\t\t\tEKC21897\tprotein_coding\t1\t\r\n",
      "CGI_10003145\tEKC21897\t\tIPR001680\tprotein binding\tSSF50978\t\t\tEKC21897\tprotein_coding\t1\t\r\n",
      "CGI_10003145\tEKC21897\t\tIPR015943\tprotein binding\tSSF50978\t\t\tEKC21897\tprotein_coding\t1\t\r\n",
      "CGI_10003145\tEKC21897\t\tIPR017986\tprotein binding\tSSF50978\t\t\tEKC21897\tprotein_coding\t1\t\r\n",
      "CGI_10003144\tEKC21896\tC-type lectin fold\tC-type_lectin_fold\tcarbohydrate binding\tSSF56436\t\t\tEKC21896\tprotein_coding\t1\t\r\n",
      "CGI_10003144\tEKC21896\tC-type lectin-like\tC-type_lectin-like\tcarbohydrate binding\tSSF56436\t\t\tEKC21896\tprotein_coding\t1\t\r\n",
      "CGI_10003144\tEKC21896\tC-type lectin\tC-type_lectin\tcarbohydrate binding\tSSF56436\t\t\tEKC21896\tprotein_coding\t1\t\r\n"
     ]
    }
   ],
   "source": [
    "!head /Users/sr320/data-genomic/Ensembl-Cgigas/Features-Interpro.txt"
   ]
  },
  {
   "cell_type": "code",
   "execution_count": null,
   "metadata": {
    "collapsed": true
   },
   "outputs": [],
   "source": []
  }
 ],
 "metadata": {
  "kernelspec": {
   "display_name": "Python 2",
   "language": "python",
   "name": "python2"
  },
  "language_info": {
   "codemirror_mode": {
    "name": "ipython",
    "version": 2
   },
   "file_extension": ".py",
   "mimetype": "text/x-python",
   "name": "python",
   "nbconvert_exporter": "python",
   "pygments_lexer": "ipython2",
   "version": "2.7.9"
  }
 },
 "nbformat": 4,
 "nbformat_minor": 0
}
