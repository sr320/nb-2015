{
 "cells": [
  {
   "cell_type": "code",
   "execution_count": 3,
   "metadata": {
    "collapsed": false,
    "scrolled": false
   },
   "outputs": [
    {
     "name": "stdout",
     "output_type": "stream",
     "text": [
      "##High-throughput Sequncing Projects\r\n",
      "###LSU Oil Spill MBD BS-Seq\r\n",
      "####Illumina 100SE\r\n",
      "2112_lane1_NoIndex_L001_R1_001.fastq.gz\r\n",
      "2112_lane1_NoIndex_L001_R1_002.fastq.gz\r\n",
      "2112_lane1_NoIndex_L001_R1_003.fastq.gz\r\n",
      "2112_lane1_NoIndex_L001_R1_004.fastq.gz\r\n",
      "2112_lane1_NoIndex_L001_R1_005.fastq.gz\r\n",
      "2112_lane1_NoIndex_L001_R1_006.fastq.gz\r\n",
      "2112_lane1_NoIndex_L001_R1_007.fastq.gz\r\n",
      "2112_lane1_NoIndex_L001_R1_008.fastq.gz\r\n",
      "2112_lane1_NoIndex_L001_R1_009.fastq.gz\r\n",
      "2112_lane1_NoIndex_L001_R1_010.fastq.gz\r\n",
      "2112_lane1_NoIndex_L001_R1_011.fastq.gz\r\n",
      "2112_lane1_NoIndex_L001_R1_012.fastq.gz\r\n",
      "2112_lane1_NoIndex_L001_R1_013.fastq.gz\r\n",
      "2112_lane1_NoIndex_L001_R1_014.fastq.gz\r\n",
      "2112_lane1_NoIndex_L001_R1_015.fastq.gz\r\n",
      "---\r\n"
     ]
    }
   ],
   "source": [
    "!cat /Users/sr320/data-genomic/nightingales/C_virginica/readme.md"
   ]
  },
  {
   "cell_type": "code",
   "execution_count": 12,
   "metadata": {
    "collapsed": false
   },
   "outputs": [
    {
     "name": "stdout",
     "output_type": "stream",
     "text": [
      "Started analysis of 2112_lane1_NoIndex_L001_R1_001.fastq.gz\n",
      "Approx 5% complete for 2112_lane1_NoIndex_L001_R1_001.fastq.gz\n",
      "Approx 10% complete for 2112_lane1_NoIndex_L001_R1_001.fastq.gz\n",
      "Approx 15% complete for 2112_lane1_NoIndex_L001_R1_001.fastq.gz\n",
      "Approx 20% complete for 2112_lane1_NoIndex_L001_R1_001.fastq.gz\n",
      "Approx 25% complete for 2112_lane1_NoIndex_L001_R1_001.fastq.gz\n",
      "Approx 30% complete for 2112_lane1_NoIndex_L001_R1_001.fastq.gz\n",
      "Approx 35% complete for 2112_lane1_NoIndex_L001_R1_001.fastq.gz\n",
      "Approx 40% complete for 2112_lane1_NoIndex_L001_R1_001.fastq.gz\n",
      "Approx 45% complete for 2112_lane1_NoIndex_L001_R1_001.fastq.gz\n",
      "Approx 50% complete for 2112_lane1_NoIndex_L001_R1_001.fastq.gz\n",
      "Approx 55% complete for 2112_lane1_NoIndex_L001_R1_001.fastq.gz\n",
      "Approx 60% complete for 2112_lane1_NoIndex_L001_R1_001.fastq.gz\n",
      "Approx 65% complete for 2112_lane1_NoIndex_L001_R1_001.fastq.gz\n",
      "Approx 70% complete for 2112_lane1_NoIndex_L001_R1_001.fastq.gz\n",
      "Approx 75% complete for 2112_lane1_NoIndex_L001_R1_001.fastq.gz\n",
      "Approx 80% complete for 2112_lane1_NoIndex_L001_R1_001.fastq.gz\n",
      "Approx 85% complete for 2112_lane1_NoIndex_L001_R1_001.fastq.gz\n",
      "Approx 90% complete for 2112_lane1_NoIndex_L001_R1_001.fastq.gz\n",
      "Approx 95% complete for 2112_lane1_NoIndex_L001_R1_001.fastq.gz\n",
      "Approx 100% complete for 2112_lane1_NoIndex_L001_R1_001.fastq.gz\n",
      "Analysis complete for 2112_lane1_NoIndex_L001_R1_001.fastq.gz\n"
     ]
    }
   ],
   "source": [
    "!/Applications/bioinfo/FastQC/fastqc \\\n",
    "-t 6 \\\n",
    "--outdir=/Users/sr320/data-genomic/tentacle \\\n",
    "/Volumes/web/nightingales/C_virginica/2112_lane1_NoIndex_L001_R1_001.fastq.gz "
   ]
  },
  {
   "cell_type": "code",
   "execution_count": 13,
   "metadata": {
    "collapsed": false
   },
   "outputs": [
    {
     "name": "stdout",
     "output_type": "stream",
     "text": [
      "Started analysis of 2112_Cv_LSU.fastq\n",
      "Approx 5% complete for 2112_Cv_LSU.fastq\n",
      "Approx 10% complete for 2112_Cv_LSU.fastq\n",
      "Approx 15% complete for 2112_Cv_LSU.fastq\n",
      "Approx 20% complete for 2112_Cv_LSU.fastq\n",
      "Approx 25% complete for 2112_Cv_LSU.fastq\n",
      "Approx 30% complete for 2112_Cv_LSU.fastq\n",
      "Approx 35% complete for 2112_Cv_LSU.fastq\n",
      "Approx 40% complete for 2112_Cv_LSU.fastq\n",
      "Approx 45% complete for 2112_Cv_LSU.fastq\n",
      "Approx 50% complete for 2112_Cv_LSU.fastq\n",
      "Approx 55% complete for 2112_Cv_LSU.fastq\n",
      "Approx 60% complete for 2112_Cv_LSU.fastq\n",
      "Approx 65% complete for 2112_Cv_LSU.fastq\n",
      "Approx 70% complete for 2112_Cv_LSU.fastq\n",
      "Approx 75% complete for 2112_Cv_LSU.fastq\n",
      "Approx 80% complete for 2112_Cv_LSU.fastq\n",
      "Approx 85% complete for 2112_Cv_LSU.fastq\n",
      "Approx 90% complete for 2112_Cv_LSU.fastq\n",
      "Approx 95% complete for 2112_Cv_LSU.fastq\n",
      "Analysis complete for 2112_Cv_LSU.fastq\n"
     ]
    }
   ],
   "source": [
    "!/Applications/bioinfo/FastQC/fastqc \\\n",
    "-t 6 \\\n",
    "--outdir=/Users/sr320/data-genomic/tentacle \\\n",
    "/Users/sr320/data-genomic/tentacle/2112_Cv_LSU.fastq"
   ]
  },
  {
   "cell_type": "markdown",
   "metadata": {
    "collapsed": true
   },
   "source": [
    "<img src=\"http://eagle.fish.washington.edu/cnidarian/skitch/2112_Cv_LSU_fastq_FastQC_Report_1AAA4C5F.png\" alt=\"2112_Cv_LSU_fastq_FastQC_Report_1AAA4C5F.png\"/>"
   ]
  },
  {
   "cell_type": "markdown",
   "metadata": {},
   "source": [
    "<img src=\"http://eagle.fish.washington.edu/cnidarian/skitch/2112_Cv_LSU_fastq_FastQC_Report_1AAA4C8F.png\" alt=\"2112_Cv_LSU_fastq_FastQC_Report_1AAA4C8F.png\"/>"
   ]
  },
  {
   "cell_type": "markdown",
   "metadata": {},
   "source": [
    "```\n",
    "Overrepresented sequences\n",
    "Sequence\tCount\tPercentage\tPossible Source\n",
    "GATCGGAAGAGCACACGTCTGAACTCCAGTCACCAGATCATCTCGTATGC\t6525011\t2.9015276105789205\tTruSeq Adapter, Index 7 (100% over 50bp)\n",
    "GATCGGAAGAGCACACGTCTGAACTCCAGTCACTGACCAATCTCGTATGC\t5223031\t2.3225659937446284\tTruSeq Adapter, Index 4 (100% over 50bp)\n",
    "GATCGGAAGAGCACACGTCTGAACTCCAGTCACACAGTGATCTCGTATGC\t4107272\t1.8264127236195775\tTruSeq Adapter, Index 5 (100% over 50bp)\n",
    "GATCGGAAGAGCACACGTCTGAACTCCAGTCACATCACGATCTCGTATGC\t3623723\t1.6113892126143354\tTruSeq Adapter, Index 1 (100% over 50bp)\n",
    "GATCGGAAGAGCACACGTCTGAACTCCAGTCACTTAGGCATCTCGTATGC\t3250016\t1.4452100017644816\tTruSeq Adapter, Index 3 (100% over 50bp)\n",
    "GATCGGAAGAGCACACGTCTGAACTCCAGTCACGCCAATATCTCGTATGC\t2853349\t1.2688209883658055\tTruSeq Adapter, Index 6 (100% over 50bp)\n",
    "CGGAAGAGCACACGTCTGAACTCCAGTCACCAGATCATCTCGTATGCCGT\t338314\t0.15044072907239497\tTruSeq Adapter, Index 7 (100% over 50bp)\n",
    "CGGAAGAGCACACGTCTGAACTCCAGTCACTGACCAATCTCGTATGCCGT\t266687\t0.11858979147812328\tTruSeq Adapter, Index 4 (100% over 50bp)\n",
    "CGGAAGAGCACACGTCTGAACTCCAGTCACACAGTGATCTCGTATGCCGT\t239294\t0.10640873219154301\tTruSeq Adapter, Index 5 (100% over 50bp)\n",
    "GACCGGAAGAGCACACGTCTGAACTCCAGTCACATCACGATCTCGTATGC\t237072\t0.10542065809470143\tTruSeq Adapter, Index 1 (98% over 50bp)\n",
    "```"
   ]
  },
  {
   "cell_type": "markdown",
   "metadata": {
    "collapsed": true
   },
   "source": [
    "# Got rid of Truseq in CLC"
   ]
  },
  {
   "cell_type": "markdown",
   "metadata": {},
   "source": [
    "<img src=\"http://eagle.fish.washington.edu/cnidarian/skitch/greenbird_1AADD9D0.png\" alt=\"greenbird_1AADD9D0.png\"/>"
   ]
  },
  {
   "cell_type": "markdown",
   "metadata": {},
   "source": [
    "<img src=\"http://eagle.fish.washington.edu/cnidarian/skitch/greenbird_1AADDA02.png\" alt=\"greenbird_1AADDA02.png\"/>"
   ]
  },
  {
   "cell_type": "markdown",
   "metadata": {},
   "source": [
    "Will try to fastq to determine what it is...."
   ]
  },
  {
   "cell_type": "code",
   "execution_count": null,
   "metadata": {
    "collapsed": true
   },
   "outputs": [],
   "source": [
    "!/Applications/bioinfo/FastQC/fastqc \\\n",
    "-t 6 \\\n",
    "--outdir=/Users/sr320/data-genomic/tentacle \\\n",
    "/Volumes/web/cnidarian/2112_Cv_LSU_truseq-rm.fastq"
   ]
  },
  {
   "cell_type": "code",
   "execution_count": null,
   "metadata": {
    "collapsed": true
   },
   "outputs": [],
   "source": [
    "!/Applications/bioinfo/FastQC/fastqc \\\n",
    "\n"
   ]
  },
  {
   "cell_type": "code",
   "execution_count": null,
   "metadata": {
    "collapsed": true
   },
   "outputs": [],
   "source": []
  }
 ],
 "metadata": {
  "kernelspec": {
   "display_name": "Python 2",
   "language": "python",
   "name": "python2"
  },
  "language_info": {
   "codemirror_mode": {
    "name": "ipython",
    "version": 2
   },
   "file_extension": ".py",
   "mimetype": "text/x-python",
   "name": "python",
   "nbconvert_exporter": "python",
   "pygments_lexer": "ipython2",
   "version": "2.7.9"
  }
 },
 "nbformat": 4,
 "nbformat_minor": 0
}
