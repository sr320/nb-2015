{
 "metadata": {
  "name": "",
  "signature": "sha256:de67552418b1ff6017d793ddbb1806fa6450e15dbe1470e959f0a5455a942f52"
 },
 "nbformat": 3,
 "nbformat_minor": 0,
 "worksheets": [
  {
   "cells": [
    {
     "cell_type": "code",
     "collapsed": false,
     "input": [
      "!ls /Users/sr320/data-genomic/nightingales/C_virginica/"
     ],
     "language": "python",
     "metadata": {},
     "outputs": [
      {
       "output_type": "stream",
       "stream": "stdout",
       "text": [
        "\u001b[31m2112_lane1_NoIndex_L001_R1_001.fastq.gz\u001b[m\u001b[m \u001b[31m2112_lane1_NoIndex_L001_R1_010.fastq.gz\u001b[m\u001b[m\r\n",
        "\u001b[31m2112_lane1_NoIndex_L001_R1_002.fastq.gz\u001b[m\u001b[m \u001b[31m2112_lane1_NoIndex_L001_R1_011.fastq.gz\u001b[m\u001b[m\r\n",
        "\u001b[31m2112_lane1_NoIndex_L001_R1_003.fastq.gz\u001b[m\u001b[m \u001b[31m2112_lane1_NoIndex_L001_R1_012.fastq.gz\u001b[m\u001b[m\r\n",
        "\u001b[31m2112_lane1_NoIndex_L001_R1_004.fastq.gz\u001b[m\u001b[m \u001b[31m2112_lane1_NoIndex_L001_R1_013.fastq.gz\u001b[m\u001b[m\r\n",
        "\u001b[31m2112_lane1_NoIndex_L001_R1_005.fastq.gz\u001b[m\u001b[m \u001b[31m2112_lane1_NoIndex_L001_R1_014.fastq.gz\u001b[m\u001b[m\r\n",
        "\u001b[31m2112_lane1_NoIndex_L001_R1_006.fastq.gz\u001b[m\u001b[m \u001b[31m2112_lane1_NoIndex_L001_R1_015.fastq.gz\u001b[m\u001b[m\r\n",
        "\u001b[31m2112_lane1_NoIndex_L001_R1_007.fastq.gz\u001b[m\u001b[m \u001b[31mchecksums.md5\u001b[m\u001b[m\r\n",
        "\u001b[31m2112_lane1_NoIndex_L001_R1_008.fastq.gz\u001b[m\u001b[m \u001b[31mreadme.md\u001b[m\u001b[m\r\n",
        "\u001b[31m2112_lane1_NoIndex_L001_R1_009.fastq.gz\u001b[m\u001b[m\r\n"
       ]
      }
     ],
     "prompt_number": 1
    },
    {
     "cell_type": "code",
     "collapsed": false,
     "input": [
      "!gunzip /Users/sr320/data-genomic/nightingales/C_virginica/*.gz "
     ],
     "language": "python",
     "metadata": {},
     "outputs": [],
     "prompt_number": 8
    },
    {
     "cell_type": "code",
     "collapsed": false,
     "input": [
      "!ls /Users/sr320/data-genomic/nightingales/C_virginica"
     ],
     "language": "python",
     "metadata": {},
     "outputs": [
      {
       "output_type": "stream",
       "stream": "stdout",
       "text": [
        "\u001b[31m2112_lane1_NoIndex_L001_R1_001.fastq\u001b[m\u001b[m \u001b[31m2112_lane1_NoIndex_L001_R1_010.fastq\u001b[m\u001b[m\r\n",
        "\u001b[31m2112_lane1_NoIndex_L001_R1_002.fastq\u001b[m\u001b[m \u001b[31m2112_lane1_NoIndex_L001_R1_011.fastq\u001b[m\u001b[m\r\n",
        "\u001b[31m2112_lane1_NoIndex_L001_R1_003.fastq\u001b[m\u001b[m \u001b[31m2112_lane1_NoIndex_L001_R1_012.fastq\u001b[m\u001b[m\r\n",
        "\u001b[31m2112_lane1_NoIndex_L001_R1_004.fastq\u001b[m\u001b[m \u001b[31m2112_lane1_NoIndex_L001_R1_013.fastq\u001b[m\u001b[m\r\n",
        "\u001b[31m2112_lane1_NoIndex_L001_R1_005.fastq\u001b[m\u001b[m \u001b[31m2112_lane1_NoIndex_L001_R1_014.fastq\u001b[m\u001b[m\r\n",
        "\u001b[31m2112_lane1_NoIndex_L001_R1_006.fastq\u001b[m\u001b[m \u001b[31m2112_lane1_NoIndex_L001_R1_015.fastq\u001b[m\u001b[m\r\n",
        "\u001b[31m2112_lane1_NoIndex_L001_R1_007.fastq\u001b[m\u001b[m \u001b[31mchecksums.md5\u001b[m\u001b[m\r\n",
        "\u001b[31m2112_lane1_NoIndex_L001_R1_008.fastq\u001b[m\u001b[m \u001b[31mreadme.md\u001b[m\u001b[m\r\n",
        "\u001b[31m2112_lane1_NoIndex_L001_R1_009.fastq\u001b[m\u001b[m\r\n"
       ]
      }
     ],
     "prompt_number": 10
    },
    {
     "cell_type": "code",
     "collapsed": false,
     "input": [
      "!cat /Users/sr320/data-genomic/nightingales/C_virginica/*.fastq > 2112_Cv_LSU.fastq"
     ],
     "language": "python",
     "metadata": {},
     "outputs": []
    },
    {
     "cell_type": "code",
     "collapsed": false,
     "input": [
      "pwd"
     ],
     "language": "python",
     "metadata": {},
     "outputs": []
    },
    {
     "cell_type": "code",
     "collapsed": false,
     "input": [
      "!perl"
     ],
     "language": "python",
     "metadata": {},
     "outputs": []
    },
    {
     "cell_type": "code",
     "collapsed": false,
     "input": [],
     "language": "python",
     "metadata": {},
     "outputs": []
    },
    {
     "cell_type": "heading",
     "level": 1,
     "metadata": {},
     "source": [
      "Iplant"
     ]
    },
    {
     "cell_type": "heading",
     "level": 1,
     "metadata": {},
     "source": [
      "Galaxy"
     ]
    },
    {
     "cell_type": "markdown",
     "metadata": {},
     "source": [
      "<img src=\"http://eagle.fish.washington.edu/cnidarian/skitch/Galaxy_1A8BC049.png\" alt=\"Galaxy_1A8BC049.png\"/>"
     ]
    },
    {
     "cell_type": "code",
     "collapsed": false,
     "input": [],
     "language": "python",
     "metadata": {},
     "outputs": []
    }
   ],
   "metadata": {}
  }
 ]
}