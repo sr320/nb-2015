{
 "cells": [
  {
   "cell_type": "code",
   "execution_count": 2,
   "metadata": {
    "collapsed": false
   },
   "outputs": [
    {
     "name": "stdout",
     "output_type": "stream",
     "text": [
      ">comp1474_c0_seq1\r\n",
      "TTTTTGATGTTGTAGTTTTTTCTCTGTGTGAATAATAGCATCTATTTTGTGATATGAAAT\r\n",
      "AGATGCCTTTATTCCACGAGAAAAATAAAATGTTGTAAATAATGTCGGGTTAGGATCGGG\r\n",
      "TTCGGGTCCCTTTAAAATCATTAGGATCGGGTTCGTCCTTTTATCTTTACTGTGGTTGAA\r\n",
      "CGGAAGGCGCAAAAAGTTTGAAACAACTTGGTAAATATACTTGTTCTAGCATGCATCCAA\r\n",
      "AAAAATTACTTGTGCAAATTATTCATTTCTTCAATTTCTGTCGATATTTTGTAAAATCAA\r\n",
      "ATATTTTCTGTGATTAATTTTATCGAGATGGGATGGATTTGAAACTTTGTAATTTATCTG\r\n",
      "TCAGTTGTTACCTCATGGCGGTCATTGGATTAAATCTTTTATACTGTAATCAACATTTTA\r\n",
      "TTAATCCTTGTTTCTAAAACTTCTTATCTTATTTATTTTGATATTTCTGAGCGAAATGCC\r\n",
      "ACCGAAAAGAAAAACCAAAATGCAGAGCGCGGGAGTCGGAACACGATCCAAAAGAGTGAA\r\n"
     ]
    }
   ],
   "source": [
    "!head  ./data/cvir.v1.fa"
   ]
  },
  {
   "cell_type": "code",
   "execution_count": null,
   "metadata": {
    "collapsed": false
   },
   "outputs": [
    {
     "name": "stdout",
     "output_type": "stream",
     "text": [
      "\n",
      "BSMAP v2.74\n",
      "Start at:  Wed Mar  4 14:25:20 2015\n",
      "\n",
      "Input reference file: /Users/sr320/data-genomic/tentacle/Crassostrea_gigas.GCA_000297895.1.22.dna_sm.genome.fa \t(format: FASTA)\n",
      "Load in 7658 db seqs, total size 557717710 bp. 13 secs passed\n",
      "total_kmers: 43046721\n",
      "Create seed table. 63 secs passed\n",
      "max number of mismatches: read_length * 20% \tmax gap size: 3\n",
      "kmer cut-off ratio: 5e-07\n",
      "max multi-hits: 100\tmax Ns: 5\tseed size: 16\tindex interval: 4\n",
      "quality cutoff: 0\tbase quality char: '!'\n",
      "min fragment size:28\tmax fragemt size:500\n",
      "start from read #1\tend at read #4294967295\n",
      "additional alignment: T in reads => C in reference\n",
      "mapping strand: ++,-+\n",
      "Single-end alignment(2 threads)\n",
      "Input read file: /Users/sr320/data-genomic/tentacle/2112_Cv_LSU.fastq \t(format: FASTQ)\n",
      "Output file: /Users/sr320/data-genomic/tentacle/2112_Cv_LSU_bsmapout-cvir.sam\t (format: SAM)\n",
      "Thread #1: \t50000 reads finished. 156 secs passed\n",
      "Thread #0: \t100000 reads finished. 157 secs passed\n",
      "Thread #1: \t150000 reads finished. 252 secs passed\n",
      "Thread #0: \t200000 reads finished. 252 secs passed\n",
      "Thread #1: \t250000 reads finished. 347 secs passed\n",
      "Thread #0: \t300000 reads finished. 349 secs passed\n",
      "Thread #1: \t350000 reads finished. 441 secs passed\n",
      "Thread #0: \t400000 reads finished. 442 secs passed\n",
      "Thread #1: \t450000 reads finished. 534 secs passed\n",
      "Thread #0: \t500000 reads finished. 535 secs passed\n",
      "Thread #1: \t550000 reads finished. 626 secs passed\n",
      "Thread #0: \t600000 reads finished. 627 secs passed\n",
      "Thread #1: \t650000 reads finished. 719 secs passed\n",
      "Thread #0: \t700000 reads finished. 721 secs passed\n",
      "Thread #1: \t750000 reads finished. 815 secs passed\n",
      "Thread #0: \t800000 reads finished. 815 secs passed\n",
      "Thread #0: \t900000 reads finished. 906 secs passed\n",
      "Thread #1: \t850000 reads finished. 907 secs passed\n",
      "Thread #0: \t950000 reads finished. 999 secs passed\n",
      "Thread #1: \t1000000 reads finished. 999 secs passed\n",
      "Thread #0: \t1050000 reads finished. 1089 secs passed\n",
      "Thread #1: \t1100000 reads finished. 1089 secs passed\n",
      "Thread #0: \t1150000 reads finished. 1181 secs passed\n",
      "Thread #1: \t1200000 reads finished. 1182 secs passed\n",
      "Thread #0: \t1250000 reads finished. 1273 secs passed\n",
      "Thread #1: \t1300000 reads finished. 1275 secs passed\n",
      "Thread #0: \t1350000 reads finished. 1355 secs passed\n",
      "Thread #1: \t1400000 reads finished. 1357 secs passed\n",
      "Thread #0: \t1450000 reads finished. 1437 secs passed\n",
      "Thread #1: \t1500000 reads finished. 1440 secs passed\n",
      "Thread #0: \t1550000 reads finished. 2248 secs passed\n",
      "Thread #1: \t1600000 reads finished. 2252 secs passed\n"
     ]
    }
   ],
   "source": [
    "!/Applications/bioinfo/BSMAP/bsmap-2.74/bsmap \\\n",
    "-a /Volumes/web/nightingales/C_virginica/2112_lane1_NoIndex_L001_R1_002.fastq.gz \\\n",
    "-d ./data/cvir.v1.fa \\\n",
    "-o /Users/sr320/data-genomic/tentacle/2112_Cv_LSU_bsmapout-cvir-2.sam \\\n",
    "-v .2 \\\n",
    "-g 3 \\\n",
    "-p 8 \\\n",
    "2> /Users/sr320/data-genomic/tentacle/std-err-2112_Cv_LSU_bsmapout-cvir-2"
   ]
  },
  {
   "cell_type": "code",
   "execution_count": null,
   "metadata": {
    "collapsed": true
   },
   "outputs": [],
   "source": []
  }
 ],
 "metadata": {
  "kernelspec": {
   "display_name": "Python 2",
   "language": "python",
   "name": "python2"
  },
  "language_info": {
   "codemirror_mode": {
    "name": "ipython",
    "version": 2
   },
   "file_extension": ".py",
   "mimetype": "text/x-python",
   "name": "python",
   "nbconvert_exporter": "python",
   "pygments_lexer": "ipython2",
   "version": "2.7.9"
  }
 },
 "nbformat": 4,
 "nbformat_minor": 0
}
