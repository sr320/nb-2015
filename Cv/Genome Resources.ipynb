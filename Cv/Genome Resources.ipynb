{
 "metadata": {
  "name": "",
  "signature": "sha256:88f517d16b2991a8e02e2dde89401619bf20c800bbe5417335efc91bf7d45e0b"
 },
 "nbformat": 3,
 "nbformat_minor": 0,
 "worksheets": [
  {
   "cells": [
    {
     "cell_type": "heading",
     "level": 1,
     "metadata": {},
     "source": [
      "Crassostrea virginca transcriptome"
     ]
    },
    {
     "cell_type": "markdown",
     "metadata": {},
     "source": [
      "<img src=\"http://eagle.fish.washington.edu/cnidarian/skitch/SRP032997_-_SRA_-_NCBI_1A8BC90A.png\" alt=\"SRP032997_-_SRA_-_NCBI_1A8BC90A.png\"/>"
     ]
    },
    {
     "cell_type": "markdown",
     "metadata": {},
     "source": [
      "<img src=\"http://eagle.fish.washington.edu/cnidarian/skitch/Wild_juvenile_eastern_oysters_from_low_salinity_-_SRA_-_NCBI_1A8BCA4D.png\" alt=\"Wild_juvenile_eastern_oysters_from_low_salinity_-_SRA_-_NCBI_1A8BCA4D.png\"/>"
     ]
    },
    {
     "cell_type": "code",
     "collapsed": false,
     "input": [
      "!wc /Users/sr320/data-genomic/NCBI/SRA/SRR1029668.sra"
     ],
     "language": "python",
     "metadata": {},
     "outputs": [
      {
       "output_type": "stream",
       "stream": "stdout",
       "text": [
        " 2919966 24607837 885060084 /Users/sr320/data-genomic/NCBI/SRA/SRR1029668.sra\r\n"
       ]
      }
     ],
     "prompt_number": 9
    },
    {
     "cell_type": "code",
     "collapsed": false,
     "input": [
      "!/Applications/bioinfo/sratoolkit.2.4.4-mac64/bin/fastq-dump.2.4.4 \\\n",
      "/Users/sr320/data-genomic/NCBI/SRA/SRR1029668.sra "
     ],
     "language": "python",
     "metadata": {},
     "outputs": [
      {
       "output_type": "stream",
       "stream": "stdout",
       "text": [
        "Read 578687 spots for /Users/sr320/data-genomic/NCBI/SRA/SRR1029668.sra\r\n",
        "Written 578687 spots for /Users/sr320/data-genomic/NCBI/SRA/SRR1029668.sra\r\n"
       ]
      }
     ],
     "prompt_number": 17
    },
    {
     "cell_type": "code",
     "collapsed": false,
     "input": [
      "!/Applications/bioinfo/sratoolkit.2.4.4-mac64/bin/sff-dump.2.4.4 \\\n",
      "-O /Users/sr320/data-genomic/NCBI/SRA \\\n",
      "/Users/sr320/data-genomic/NCBI/SRA/SRR1029668.sra "
     ],
     "language": "python",
     "metadata": {},
     "outputs": [
      {
       "output_type": "stream",
       "stream": "stdout",
       "text": [
        "Read 578687 spots for /Users/sr320/data-genomic/NCBI/SRA/SRR1029668.sra\r\n",
        "Written 578687 spots for /Users/sr320/data-genomic/NCBI/SRA/SRR1029668.sra\r\n"
       ]
      }
     ],
     "prompt_number": 24
    },
    {
     "cell_type": "code",
     "collapsed": false,
     "input": [],
     "language": "python",
     "metadata": {},
     "outputs": []
    },
    {
     "cell_type": "markdown",
     "metadata": {},
     "source": [
      "<img src=\"http://eagle.fish.washington.edu/cnidarian/skitch/Wild_juvenile_eastern_oysters__Crassostrea_virginica__from_high_sali____-_SRA_-_NCBI_1A8BCA89.png\" alt=\"Wild_juvenile_eastern_oysters__Crassostrea_virginica__from_high_sali____-_SRA_-_NCBI_1A8BCA89.png\"/>"
     ]
    },
    {
     "cell_type": "code",
     "collapsed": false,
     "input": [
      "!/Applications/bioinfo/sratoolkit.2.4.4-mac64/bin/fastq-dump.2.4.4 \\\n",
      "/Users/sr320/data-genomic/NCBI/SRA/SRR1029667.sra"
     ],
     "language": "python",
     "metadata": {},
     "outputs": [
      {
       "output_type": "stream",
       "stream": "stdout",
       "text": [
        "Read 802264 spots for /Users/sr320/data-genomic/NCBI/SRA/SRR1029667.sra\r\n",
        "Written 802264 spots for /Users/sr320/data-genomic/NCBI/SRA/SRR1029667.sra\r\n"
       ]
      }
     ],
     "prompt_number": 19
    },
    {
     "cell_type": "code",
     "collapsed": false,
     "input": [
      "!/Applications/bioinfo/sratoolkit.2.4.4-mac64/bin/sff-dump.2.4.4 \\\n",
      "-O /Users/sr320/data-genomic/NCBI/SRA \\\n",
      "/Users/sr320/data-genomic/NCBI/SRA/SRR1029667.sra "
     ],
     "language": "python",
     "metadata": {},
     "outputs": [
      {
       "output_type": "stream",
       "stream": "stdout",
       "text": [
        "Read 802264 spots for /Users/sr320/data-genomic/NCBI/SRA/SRR1029667.sra\r\n",
        "Written 802264 spots for /Users/sr320/data-genomic/NCBI/SRA/SRR1029667.sra\r\n"
       ]
      }
     ],
     "prompt_number": 25
    },
    {
     "cell_type": "markdown",
     "metadata": {},
     "source": [
      "<img src=\"http://eagle.fish.washington.edu/cnidarian/skitch/Transcriptome_of_Crassostrea_virginica_-_SRA_-_NCBI_1A8BC994.png\" alt=\"Transcriptome_of_Crassostrea_virginica_-_SRA_-_NCBI_1A8BC994.png\"/>"
     ]
    },
    {
     "cell_type": "code",
     "collapsed": false,
     "input": [
      "!/Applications/bioinfo/sratoolkit.2.4.4-mac64/bin/fastq-dump.2.4.4 \\\n",
      "/Users/sr320/data-genomic/NCBI/SRA/SRR404226.sra"
     ],
     "language": "python",
     "metadata": {},
     "outputs": [
      {
       "output_type": "stream",
       "stream": "stdout",
       "text": [
        "Read 26428921 spots for /Users/sr320/data-genomic/NCBI/SRA/SRR404226.sra\r\n",
        "Written 26428921 spots for /Users/sr320/data-genomic/NCBI/SRA/SRR404226.sra\r\n"
       ]
      }
     ],
     "prompt_number": 20
    },
    {
     "cell_type": "markdown",
     "metadata": {},
     "source": [
      "<img src=\"http://eagle.fish.washington.edu/cnidarian/skitch/Transcriptome_of_American_oysters__Crassostrea_virginica__in_response____-_SRA_-_NCBI_and_Aspera_Connect_Installer_1A8BCA2D.png\" alt=\"Transcriptome_of_American_oysters__Crassostrea_virginica__in_response____-_SRA_-_NCBI_and_Aspera_Connect_Installer_1A8BCA2D.png\"/>"
     ]
    },
    {
     "cell_type": "code",
     "collapsed": false,
     "input": [
      "!/Applications/bioinfo/sratoolkit.2.4.4-mac64/bin/fastq-dump.2.4.4 \\\n",
      "/Users/sr320/data-genomic/NCBI/SRA/SRR1298701.sra\n"
     ],
     "language": "python",
     "metadata": {},
     "outputs": [
      {
       "output_type": "stream",
       "stream": "stdout",
       "text": [
        "Read 32215032 spots for /Users/sr320/data-genomic/NCBI/SRA/SRR1298701.sra\r\n",
        "Written 32215032 spots for /Users/sr320/data-genomic/NCBI/SRA/SRR1298701.sra\r\n"
       ]
      }
     ],
     "prompt_number": 21
    },
    {
     "cell_type": "heading",
     "level": 1,
     "metadata": {},
     "source": [
      "Assembled"
     ]
    },
    {
     "cell_type": "markdown",
     "metadata": {},
     "source": [
      "<img src=\"http://eagle.fish.washington.edu/cnidarian/skitch/RNA-Seq___The_Istrail_Laboratory_of_Brown_University_and_Text_S1_1A8BCBBD.png\" alt=\"RNA-Seq___The_Istrail_Laboratory_of_Brown_University_and_Text_S1_1A8BCBBD.png\"/>"
     ]
    },
    {
     "cell_type": "code",
     "collapsed": false,
     "input": [
      "!head ./data/cvir.v1.fa"
     ],
     "language": "python",
     "metadata": {},
     "outputs": [
      {
       "output_type": "stream",
       "stream": "stdout",
       "text": [
        ">comp1474_c0_seq1\r\n",
        "TTTTTGATGTTGTAGTTTTTTCTCTGTGTGAATAATAGCATCTATTTTGTGATATGAAAT\r\n",
        "AGATGCCTTTATTCCACGAGAAAAATAAAATGTTGTAAATAATGTCGGGTTAGGATCGGG\r\n",
        "TTCGGGTCCCTTTAAAATCATTAGGATCGGGTTCGTCCTTTTATCTTTACTGTGGTTGAA\r\n",
        "CGGAAGGCGCAAAAAGTTTGAAACAACTTGGTAAATATACTTGTTCTAGCATGCATCCAA\r\n",
        "AAAAATTACTTGTGCAAATTATTCATTTCTTCAATTTCTGTCGATATTTTGTAAAATCAA\r\n",
        "ATATTTTCTGTGATTAATTTTATCGAGATGGGATGGATTTGAAACTTTGTAATTTATCTG\r\n",
        "TCAGTTGTTACCTCATGGCGGTCATTGGATTAAATCTTTTATACTGTAATCAACATTTTA\r\n",
        "TTAATCCTTGTTTCTAAAACTTCTTATCTTATTTATTTTGATATTTCTGAGCGAAATGCC\r\n",
        "ACCGAAAAGAAAAACCAAAATGCAGAGCGCGGGAGTCGGAACACGATCCAAAAGAGTGAA\r\n"
       ]
      }
     ],
     "prompt_number": 2
    },
    {
     "cell_type": "code",
     "collapsed": false,
     "input": [
      "!fgrep -c \">\" ./data/cvir.v1.fa"
     ],
     "language": "python",
     "metadata": {},
     "outputs": [
      {
       "output_type": "stream",
       "stream": "stdout",
       "text": [
        "356237\r\n"
       ]
      }
     ],
     "prompt_number": 3
    },
    {
     "cell_type": "code",
     "collapsed": false,
     "input": [
      "!perl ./scripts/count_fasta.pl -i 1000 ./data/cvir.v1.fa"
     ],
     "language": "python",
     "metadata": {},
     "outputs": [
      {
       "output_type": "stream",
       "stream": "stdout",
       "text": [
        "\r\n",
        "0:999 \t333303\r\n",
        "1000:1999 \t17498\r\n",
        "2000:2999 \t3589\r\n",
        "3000:3999 \t1096\r\n",
        "4000:4999 \t423\r\n",
        "5000:5999 \t192\r\n",
        "6000:6999 \t85\r\n",
        "7000:7999 \t18\r\n",
        "8000:8999 \t13\r\n",
        "9000:9999 \t8\r\n",
        "10000:10999 \t5\r\n",
        "11000:11999 \t3\r\n",
        "12000:12999 \t0\r\n",
        "13000:13999 \t2\r\n",
        "14000:14999 \t0\r\n",
        "15000:15999 \t1\r\n",
        "16000:16999 \t1\r\n",
        "\r\n",
        "Total length of sequence:\t156920694 bp\r\n",
        "Total number of sequences:\t356237\r\n",
        "N25 stats:\t\t\t25% of total sequence length is contained in the 22262 sequences >= 1016 bp\r\n",
        "N50 stats:\t\t\t50% of total sequence length is contained in the 80528 sequences >= 487 bp\r\n",
        "N75 stats:\t\t\t75% of total sequence length is contained in the 189634 sequences >= 284 bp\r\n",
        "Total GC count:\t\t\t60126741 bp\r\n",
        "GC %:\t\t\t\t38.32 %\r\n",
        "\r\n"
       ]
      }
     ],
     "prompt_number": 7
    },
    {
     "cell_type": "heading",
     "level": 1,
     "metadata": {},
     "source": [
      "De Novo Assembly"
     ]
    },
    {
     "cell_type": "heading",
     "level": 2,
     "metadata": {},
     "source": [
      "CLC"
     ]
    },
    {
     "cell_type": "code",
     "collapsed": false,
     "input": [],
     "language": "python",
     "metadata": {},
     "outputs": []
    }
   ],
   "metadata": {}
  }
 ]
}