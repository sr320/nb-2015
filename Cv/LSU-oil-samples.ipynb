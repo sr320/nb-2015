{
 "metadata": {
  "name": "",
  "signature": "sha256:faefaf6308c26609a6d312c710fac23e60b84028a0c8aa1edabae45d7a008de6"
 },
 "nbformat": 3,
 "nbformat_minor": 0,
 "worksheets": [
  {
   "cells": [
    {
     "cell_type": "code",
     "collapsed": false,
     "input": [
      "!ls /Users/sr320/data-genomic/nightingales/C_virginica/"
     ],
     "language": "python",
     "metadata": {},
     "outputs": [
      {
       "output_type": "stream",
       "stream": "stdout",
       "text": [
        "\u001b[31m2112_lane1_NoIndex_L001_R1_001.fastq.gz\u001b[m\u001b[m \u001b[31m2112_lane1_NoIndex_L001_R1_010.fastq.gz\u001b[m\u001b[m\r\n",
        "\u001b[31m2112_lane1_NoIndex_L001_R1_002.fastq.gz\u001b[m\u001b[m \u001b[31m2112_lane1_NoIndex_L001_R1_011.fastq.gz\u001b[m\u001b[m\r\n",
        "\u001b[31m2112_lane1_NoIndex_L001_R1_003.fastq.gz\u001b[m\u001b[m \u001b[31m2112_lane1_NoIndex_L001_R1_012.fastq.gz\u001b[m\u001b[m\r\n",
        "\u001b[31m2112_lane1_NoIndex_L001_R1_004.fastq.gz\u001b[m\u001b[m \u001b[31m2112_lane1_NoIndex_L001_R1_013.fastq.gz\u001b[m\u001b[m\r\n",
        "\u001b[31m2112_lane1_NoIndex_L001_R1_005.fastq.gz\u001b[m\u001b[m \u001b[31m2112_lane1_NoIndex_L001_R1_014.fastq.gz\u001b[m\u001b[m\r\n",
        "\u001b[31m2112_lane1_NoIndex_L001_R1_006.fastq.gz\u001b[m\u001b[m \u001b[31m2112_lane1_NoIndex_L001_R1_015.fastq.gz\u001b[m\u001b[m\r\n",
        "\u001b[31m2112_lane1_NoIndex_L001_R1_007.fastq.gz\u001b[m\u001b[m \u001b[31mchecksums.md5\u001b[m\u001b[m\r\n",
        "\u001b[31m2112_lane1_NoIndex_L001_R1_008.fastq.gz\u001b[m\u001b[m \u001b[31mreadme.md\u001b[m\u001b[m\r\n",
        "\u001b[31m2112_lane1_NoIndex_L001_R1_009.fastq.gz\u001b[m\u001b[m\r\n"
       ]
      }
     ],
     "prompt_number": 1
    },
    {
     "cell_type": "code",
     "collapsed": false,
     "input": [
      "!gunzip /Users/sr320/data-genomic/nightingales/C_virginica/*.gz "
     ],
     "language": "python",
     "metadata": {},
     "outputs": [],
     "prompt_number": 8
    },
    {
     "cell_type": "code",
     "collapsed": false,
     "input": [],
     "language": "python",
     "metadata": {},
     "outputs": []
    }
   ],
   "metadata": {}
  }
 ]
}