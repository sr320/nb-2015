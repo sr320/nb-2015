{
 "metadata": {
  "name": "",
  "signature": "sha256:3a007b1a73388daa0667eeaee4c0bf7f5b092114ab342311e1bd76b2977096c1"
 },
 "nbformat": 3,
 "nbformat_minor": 0,
 "worksheets": [
  {
   "cells": [
    {
     "cell_type": "code",
     "collapsed": false,
     "input": [
      "!ls /Users/sr320/data-genomic/nightingales/C_virginica/"
     ],
     "language": "python",
     "metadata": {},
     "outputs": [
      {
       "output_type": "stream",
       "stream": "stdout",
       "text": [
        "\u001b[31m2112_lane1_NoIndex_L001_R1_001.fastq.gz\u001b[m\u001b[m \u001b[31m2112_lane1_NoIndex_L001_R1_010.fastq.gz\u001b[m\u001b[m\r\n",
        "\u001b[31m2112_lane1_NoIndex_L001_R1_002.fastq.gz\u001b[m\u001b[m \u001b[31m2112_lane1_NoIndex_L001_R1_011.fastq.gz\u001b[m\u001b[m\r\n",
        "\u001b[31m2112_lane1_NoIndex_L001_R1_003.fastq.gz\u001b[m\u001b[m \u001b[31m2112_lane1_NoIndex_L001_R1_012.fastq.gz\u001b[m\u001b[m\r\n",
        "\u001b[31m2112_lane1_NoIndex_L001_R1_004.fastq.gz\u001b[m\u001b[m \u001b[31m2112_lane1_NoIndex_L001_R1_013.fastq.gz\u001b[m\u001b[m\r\n",
        "\u001b[31m2112_lane1_NoIndex_L001_R1_005.fastq.gz\u001b[m\u001b[m \u001b[31m2112_lane1_NoIndex_L001_R1_014.fastq.gz\u001b[m\u001b[m\r\n",
        "\u001b[31m2112_lane1_NoIndex_L001_R1_006.fastq.gz\u001b[m\u001b[m \u001b[31m2112_lane1_NoIndex_L001_R1_015.fastq.gz\u001b[m\u001b[m\r\n",
        "\u001b[31m2112_lane1_NoIndex_L001_R1_007.fastq.gz\u001b[m\u001b[m \u001b[31mchecksums.md5\u001b[m\u001b[m\r\n",
        "\u001b[31m2112_lane1_NoIndex_L001_R1_008.fastq.gz\u001b[m\u001b[m \u001b[31mreadme.md\u001b[m\u001b[m\r\n",
        "\u001b[31m2112_lane1_NoIndex_L001_R1_009.fastq.gz\u001b[m\u001b[m\r\n"
       ]
      }
     ],
     "prompt_number": 1
    },
    {
     "cell_type": "code",
     "collapsed": false,
     "input": [
      "!gunzip /Users/sr320/data-genomic/nightingales/C_virginica/*.gz "
     ],
     "language": "python",
     "metadata": {},
     "outputs": [],
     "prompt_number": 8
    },
    {
     "cell_type": "code",
     "collapsed": false,
     "input": [
      "!ls /Users/sr320/data-genomic/nightingales/C_virginica"
     ],
     "language": "python",
     "metadata": {},
     "outputs": [
      {
       "output_type": "stream",
       "stream": "stdout",
       "text": [
        "\u001b[31m2112_lane1_NoIndex_L001_R1_001.fastq\u001b[m\u001b[m \u001b[31m2112_lane1_NoIndex_L001_R1_010.fastq\u001b[m\u001b[m\r\n",
        "\u001b[31m2112_lane1_NoIndex_L001_R1_002.fastq\u001b[m\u001b[m \u001b[31m2112_lane1_NoIndex_L001_R1_011.fastq\u001b[m\u001b[m\r\n",
        "\u001b[31m2112_lane1_NoIndex_L001_R1_003.fastq\u001b[m\u001b[m \u001b[31m2112_lane1_NoIndex_L001_R1_012.fastq\u001b[m\u001b[m\r\n",
        "\u001b[31m2112_lane1_NoIndex_L001_R1_004.fastq\u001b[m\u001b[m \u001b[31m2112_lane1_NoIndex_L001_R1_013.fastq\u001b[m\u001b[m\r\n",
        "\u001b[31m2112_lane1_NoIndex_L001_R1_005.fastq\u001b[m\u001b[m \u001b[31m2112_lane1_NoIndex_L001_R1_014.fastq\u001b[m\u001b[m\r\n",
        "\u001b[31m2112_lane1_NoIndex_L001_R1_006.fastq\u001b[m\u001b[m \u001b[31m2112_lane1_NoIndex_L001_R1_015.fastq\u001b[m\u001b[m\r\n",
        "\u001b[31m2112_lane1_NoIndex_L001_R1_007.fastq\u001b[m\u001b[m \u001b[31mchecksums.md5\u001b[m\u001b[m\r\n",
        "\u001b[31m2112_lane1_NoIndex_L001_R1_008.fastq\u001b[m\u001b[m \u001b[31mreadme.md\u001b[m\u001b[m\r\n",
        "\u001b[31m2112_lane1_NoIndex_L001_R1_009.fastq\u001b[m\u001b[m\r\n"
       ]
      }
     ],
     "prompt_number": 10
    },
    {
     "cell_type": "code",
     "collapsed": false,
     "input": [
      "!cat /Users/sr320/data-genomic/nightingales/C_virginica/*.fastq > 2112_Cv_LSU.fastq"
     ],
     "language": "python",
     "metadata": {},
     "outputs": [],
     "prompt_number": 11
    },
    {
     "cell_type": "code",
     "collapsed": false,
     "input": [
      "pwd"
     ],
     "language": "python",
     "metadata": {},
     "outputs": [
      {
       "metadata": {},
       "output_type": "pyout",
       "prompt_number": 12,
       "text": [
        "u'/Users/sr320/git-repos/nb-2015/Cv'"
       ]
      }
     ],
     "prompt_number": 12
    },
    {
     "cell_type": "code",
     "collapsed": false,
     "input": [
      "!perl ./scripts/fastx_barcode_splitter.pl -h"
     ],
     "language": "python",
     "metadata": {},
     "outputs": [
      {
       "output_type": "stream",
       "stream": "stdout",
       "text": [
        "Barcode Splitter, by Assaf Gordon (gordon@cshl.edu), 11sep2008\r\n",
        "\r\n",
        "This program reads FASTA/FASTQ file and splits it into several smaller files,\r\n",
        "Based on barcode matching.\r\n",
        "FASTA/FASTQ data is read from STDIN (format is auto-detected.)\r\n",
        "Output files will be writen to disk.\r\n",
        "Summary will be printed to STDOUT.\r\n",
        "\r\n",
        "usage: ./scripts/fastx_barcode_splitter.pl --bcfile FILE --prefix PREFIX [--suffix SUFFIX] [--bol|--eol] \r\n",
        "         [--mismatches N] [--exact] [--partial N] [--help] [--quiet] [--debug]\r\n",
        "\r\n",
        "Arguments:\r\n",
        "\r\n",
        "--bcfile FILE\t- Barcodes file name. (see explanation below.)\r\n",
        "--prefix PREFIX\t- File prefix. will be added to the output files. Can be used\r\n",
        "\t\t  to specify output directories.\r\n",
        "--suffix SUFFIX\t- File suffix (optional). Can be used to specify file\r\n",
        "\t\t  extensions.\r\n",
        "--bol\t\t- Try to match barcodes at the BEGINNING of sequences.\r\n",
        "\t\t  (What biologists would call the 5' end, and programmers\r\n",
        "\t\t  would call index 0.)\r\n",
        "--eol\t\t- Try to match barcodes at the END of sequences.\r\n",
        "\t\t  (What biologists would call the 3' end, and programmers\r\n",
        "\t\t  would call the end of the string.)\r\n",
        "\t\t  NOTE: one of --bol, --eol must be specified, but not both.\r\n",
        "--mismatches N\t- Max. number of mismatches allowed. default is 1.\r\n",
        "--exact\t\t- Same as '--mismatches 0'. If both --exact and --mismatches \r\n",
        "\t\t  are specified, '--exact' takes precedence.\r\n",
        "--partial N\t- Allow partial overlap of barcodes. (see explanation below.)\r\n",
        "\t\t  (Default is not partial matching)\r\n",
        "--quiet\t\t- Don't print counts and summary at the end of the run.\r\n",
        "\t\t  (Default is to print.)\r\n",
        "--debug\t\t- Print lots of useless debug information to STDERR.\r\n",
        "--help\t\t- This helpful help screen.\r\n",
        "\r\n",
        "Example (Assuming 's_2_100.txt' is a FASTQ file, 'mybarcodes.txt' is \r\n",
        "the barcodes file):\r\n",
        "\r\n",
        "   $ cat s_2_100.txt | ./scripts/fastx_barcode_splitter.pl --bcfile mybarcodes.txt --bol --mismatches 2 \\\r\n",
        "   \t--prefix /tmp/bla_ --suffix \".txt\"\r\n",
        "\r\n",
        "Barcode file format\r\n",
        "-------------------\r\n",
        "Barcode files are simple text files. Each line should contain an identifier \r\n",
        "(descriptive name for the barcode), and the barcode itself (A/C/G/T), \r\n",
        "separated by a TAB character. Example:\r\n",
        "\r\n",
        "    #This line is a comment (starts with a 'number' sign)\r\n",
        "    BC1 GATCT\r\n",
        "    BC2 ATCGT\r\n",
        "    BC3 GTGAT\r\n",
        "    BC4 TGTCT\r\n",
        "\r\n",
        "For each barcode, a new FASTQ file will be created (with the barcode's \r\n",
        "identifier as part of the file name). Sequences matching the barcode \r\n",
        "will be stored in the appropriate file.\r\n",
        "\r\n",
        "Running the above example (assuming \"mybarcodes.txt\" contains the above \r\n",
        "barcodes), will create the following files:\r\n",
        "\t/tmp/bla_BC1.txt\r\n",
        "\t/tmp/bla_BC2.txt\r\n",
        "\t/tmp/bla_BC3.txt\r\n",
        "\t/tmp/bla_BC4.txt\r\n",
        "\t/tmp/bla_unmatched.txt\r\n",
        "The 'unmatched' file will contain all sequences that didn't match any barcode.\r\n",
        "\r\n",
        "Barcode matching\r\n",
        "----------------\r\n",
        "\r\n",
        "** Without partial matching:\r\n",
        "\r\n",
        "Count mismatches between the FASTA/Q sequences and the barcodes.\r\n",
        "The barcode which matched with the lowest mismatches count (providing the\r\n",
        "count is small or equal to '--mismatches N') 'gets' the sequences.\r\n",
        "\r\n",
        "Example (using the above barcodes):\r\n",
        "Input Sequence:\r\n",
        "    GATTTACTATGTAAAGATAGAAGGAATAAGGTGAAG\r\n",
        "\r\n",
        "Matching with '--bol --mismatches 1':\r\n",
        "   GATTTACTATGTAAAGATAGAAGGAATAAGGTGAAG\r\n",
        "   GATCT (1 mismatch, BC1)\r\n",
        "   ATCGT (4 mismatches, BC2)\r\n",
        "   GTGAT (3 mismatches, BC3)\r\n",
        "   TGTCT (3 mismatches, BC4)\r\n",
        "\r\n",
        "This sequence will be classified as 'BC1' (it has the lowest mismatch count).\r\n",
        "If '--exact' or '--mismatches 0' were specified, this sequence would be \r\n",
        "classified as 'unmatched' (because, although BC1 had the lowest mismatch count,\r\n",
        "it is above the maximum allowed mismatches).\r\n",
        "\r\n",
        "Matching with '--eol' (end of line) does the same, but from the other side\r\n",
        "of the sequence.\r\n",
        "\r\n",
        "** With partial matching (very similar to indels):\r\n",
        "\r\n",
        "Same as above, with the following addition: barcodes are also checked for\r\n",
        "partial overlap (number of allowed non-overlapping bases is '--partial N').\r\n",
        "\r\n",
        "Example:\r\n",
        "Input sequence is ATTTACTATGTAAAGATAGAAGGAATAAGGTGAAG\r\n",
        "(Same as above, but note the missing 'G' at the beginning.)\r\n",
        "\r\n",
        "Matching (without partial overlapping) against BC1 yields 4 mismatches:\r\n",
        "   ATTTACTATGTAAAGATAGAAGGAATAAGGTGAAG\r\n",
        "   GATCT (4 mismatches)\r\n",
        "\r\n",
        "Partial overlapping would also try the following match:\r\n",
        "   -ATTTACTATGTAAAGATAGAAGGAATAAGGTGAAG\r\n",
        "   GATCT (1 mismatch)\r\n",
        "\r\n",
        "Note: scoring counts a missing base as a mismatch, so the final\r\n",
        "mismatch count is 2 (1 'real' mismatch, 1 'missing base' mismatch).\r\n",
        "If running with '--mismatches 2' (meaning allowing upto 2 mismatches) - this \r\n",
        "seqeunce will be classified as BC1.\r\n",
        "\r\n"
       ]
      }
     ],
     "prompt_number": 13
    },
    {
     "cell_type": "code",
     "collapsed": false,
     "input": [
      "!perl ./scripts/fastx_barcode_splitter.pl \\\n",
      "--bcfile ./data/barcodes_LSU.txt \\\n",
      "--prefix /Users/sr320/data-genomic/tentacle/ \\\n",
      "--bol \\\n",
      "/Users/sr320/data-genomic/tentacle/2112_Cv_LSU.fastq\n"
     ],
     "language": "python",
     "metadata": {},
     "outputs": []
    },
    {
     "cell_type": "heading",
     "level": 1,
     "metadata": {},
     "source": [
      "Iplant"
     ]
    },
    {
     "cell_type": "heading",
     "level": 1,
     "metadata": {},
     "source": [
      "Galaxy"
     ]
    },
    {
     "cell_type": "markdown",
     "metadata": {},
     "source": [
      "<img src=\"http://eagle.fish.washington.edu/cnidarian/skitch/Galaxy_1A8BC049.png\" alt=\"Galaxy_1A8BC049.png\"/>"
     ]
    },
    {
     "cell_type": "code",
     "collapsed": false,
     "input": [],
     "language": "python",
     "metadata": {},
     "outputs": []
    }
   ],
   "metadata": {}
  }
 ]
}