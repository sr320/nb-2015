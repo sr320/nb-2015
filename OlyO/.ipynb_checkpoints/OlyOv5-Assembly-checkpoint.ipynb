{
 "cells": [
  {
   "cell_type": "code",
   "execution_count": null,
   "metadata": {
    "collapsed": true
   },
   "outputs": [],
   "source": [
    "/Trinity \\\n",
    "    --seqType fq \\\n",
    "    --max_memory 44G \\\n",
    "    --left all.R1.fastq \\\n",
    "    --right all.R2.fastq \\\n",
    "    --CPU 16 \\\n",
    "    --normalize_reads\n",
    "    \n",
    "    \n",
    "Trinity.pl \\\n",
    "--seqType fq \\\n",
    "--JM 40G \\\n",
    "--left /Volumes/web-1/cnidarian/OlyOv6_combined_R1_val_1.fq \\\n",
    "--right /Volumes/web-1/cnidarian/OlyOv6_combined_R2_val_2.fq \\\n",
    "--CPU 16 \\\n",
    "--normalize_reads"
   ]
  }
 ],
 "metadata": {
  "kernelspec": {
   "display_name": "Local Python",
   "language": "python",
   "name": "local"
  },
  "language_info": {
   "codemirror_mode": {
    "name": "ipython",
    "version": 2
   },
   "file_extension": ".py",
   "mimetype": "text/x-python",
   "name": "python",
   "nbconvert_exporter": "python",
   "pygments_lexer": "ipython2",
   "version": "2.7.10"
  }
 },
 "nbformat": 4,
 "nbformat_minor": 0
}
