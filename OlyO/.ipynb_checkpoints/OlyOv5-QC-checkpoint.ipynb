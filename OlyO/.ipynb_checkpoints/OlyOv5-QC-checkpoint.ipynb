{
 "cells": [
  {
   "cell_type": "markdown",
   "metadata": {},
   "source": [
    "# Assembly O_lurida version 5"
   ]
  },
  {
   "cell_type": "code",
   "execution_count": 4,
   "metadata": {
    "collapsed": false
   },
   "outputs": [
    {
     "name": "stdout",
     "output_type": "stream",
     "text": [
      "/Users/sr320/data-genomic/tentacle\n"
     ]
    }
   ],
   "source": [
    "cd /Users/sr320/data-genomic/tentacle"
   ]
  },
  {
   "cell_type": "code",
   "execution_count": 5,
   "metadata": {
    "collapsed": true
   },
   "outputs": [],
   "source": [
    "mkdir OlyOv5"
   ]
  },
  {
   "cell_type": "code",
   "execution_count": 5,
   "metadata": {
    "collapsed": false
   },
   "outputs": [
    {
     "name": "stdout",
     "output_type": "stream",
     "text": [
      "/Users/sr320/data-genomic/tentacle/OlyOv5\n"
     ]
    }
   ],
   "source": [
    "cd OlyOv5/"
   ]
  },
  {
   "cell_type": "code",
   "execution_count": null,
   "metadata": {
    "collapsed": true
   },
   "outputs": [],
   "source": [
    "!cp /Volumes/web-1/nightingales/O_lurida/filter* /"
   ]
  },
  {
   "cell_type": "code",
   "execution_count": 6,
   "metadata": {
    "collapsed": false
   },
   "outputs": [
    {
     "name": "stdout",
     "output_type": "stream",
     "text": [
      "\u001b[31mfiltered_1000_GTGAAA_L004_R1.fastq.gz\u001b[m\u001b[m            \u001b[31mfiltered_108A_Female_Mix_GGCTAC_L007_R1.fastq.gz\u001b[m\u001b[m\r\n",
      "\u001b[31mfiltered_106A_Female_Mix_GATCAG_L004_R1.fastq.gz\u001b[m\u001b[m \u001b[31mfiltered_108A_Male_Mix_AGTCAA_L004_R1.fastq.gz\u001b[m\u001b[m\r\n",
      "\u001b[31mfiltered_106A_Female_Mix_GATCAG_L004_R2.fastq.gz\u001b[m\u001b[m \u001b[31mfiltered_108A_Male_Mix_AGTCAA_L004_R2.fastq.gz\u001b[m\u001b[m\r\n",
      "\u001b[31mfiltered_106A_Female_Mix_GATCAG_L007_R1.fastq.gz\u001b[m\u001b[m \u001b[31mfiltered_108A_Male_Mix_AGTCAA_L007_R1.fastq.gz\u001b[m\u001b[m\r\n",
      "\u001b[31mfiltered_106A_Male_Mix_TAGCTT_L004_R1.fastq.gz\u001b[m\u001b[m   \u001b[31mfiltered_1600_GTGGCC_L004_R1.fastq.gz\u001b[m\u001b[m\r\n",
      "\u001b[31mfiltered_106A_Male_Mix_TAGCTT_L004_R2.fastq.gz\u001b[m\u001b[m   \u001b[31mfiltered_2000_NoIndex_L007_R1.fastq.gz\u001b[m\u001b[m\r\n",
      "\u001b[31mfiltered_106A_Male_Mix_TAGCTT_L007_R1.fastq.gz\u001b[m\u001b[m   \u001b[31mfiltered_2200_GTTTCG_L004_R1.fastq.gz\u001b[m\u001b[m\r\n",
      "\u001b[31mfiltered_108A_Female_Mix_GGCTAC_L004_R1.fastq.gz\u001b[m\u001b[m \u001b[31mfiltered_400_GTCCGC_L004_R1.fastq.gz\u001b[m\u001b[m\r\n",
      "\u001b[31mfiltered_108A_Female_Mix_GGCTAC_L004_R2.fastq.gz\u001b[m\u001b[m \u001b[31mfiltered_400_NoIndex_L006_R1.fastq.gz\u001b[m\u001b[m\r\n"
     ]
    }
   ],
   "source": [
    "!ls"
   ]
  },
  {
   "cell_type": "code",
   "execution_count": 7,
   "metadata": {
    "collapsed": false
   },
   "outputs": [],
   "source": [
    "%%bash\n",
    "for i in fi*; do md5 $i >> PostTransferMD5hashes.md5; done"
   ]
  },
  {
   "cell_type": "code",
   "execution_count": 14,
   "metadata": {
    "collapsed": false
   },
   "outputs": [
    {
     "name": "stdout",
     "output_type": "stream",
     "text": [
      "MD5 (filtered_1000_GTGAAA_L004_R1.fastq.gz) = 7217b5fa4354c20280fb5e3cbf1a9b3b\r\n",
      "MD5 (filtered_106A_Female_Mix_GATCAG_L004_R1.fastq.gz) = 51866975b9eefe7b857b6438b999d3d0\r\n",
      "MD5 (filtered_106A_Female_Mix_GATCAG_L004_R2.fastq.gz) = 7c60c85613b5f95c884fd5dbfe060306\r\n",
      "MD5 (filtered_106A_Female_Mix_GATCAG_L007_R1.fastq.gz) = 390c9e51ba52176dbe23e1d2947c6339\r\n",
      "MD5 (filtered_106A_Male_Mix_TAGCTT_L004_R1.fastq.gz) = d7255d5ca68f87baddc1b20304bb5654\r\n",
      "MD5 (filtered_106A_Male_Mix_TAGCTT_L004_R2.fastq.gz) = 6311f82de95722b9ac76b67ba46d90c1\r\n",
      "MD5 (filtered_106A_Male_Mix_TAGCTT_L007_R1.fastq.gz) = a4c46ad4eb42638c3306f0bced352322\r\n",
      "MD5 (filtered_108A_Female_Mix_GGCTAC_L004_R1.fastq.gz) = 0782efb8381e6b914ce89158615f18c7\r\n",
      "MD5 (filtered_108A_Female_Mix_GGCTAC_L004_R2.fastq.gz) = 5e1c8cce7314d2e4ea01230e8c5b4421\r\n",
      "MD5 (filtered_108A_Female_Mix_GGCTAC_L007_R1.fastq.gz) = 37c11f15afff32bc57478c48cb3a4772\r\n",
      "MD5 (filtered_108A_Male_Mix_AGTCAA_L004_R1.fastq.gz) = 9ddbc72c8152f86464ff7e66812ce7cc\r\n",
      "MD5 (filtered_108A_Male_Mix_AGTCAA_L004_R2.fastq.gz) = 2f9aaf2d2bbee41908be9fcba0fa21d8\r\n",
      "MD5 (filtered_108A_Male_Mix_AGTCAA_L007_R1.fastq.gz) = 940a0aca7ee0a7a167aded11c3658495\r\n",
      "MD5 (filtered_1600_GTGGCC_L004_R1.fastq.gz) = a54bed5a92d616cc9db35bfd64406346\r\n",
      "MD5 (filtered_2000_NoIndex_L007_R1.fastq.gz) = f934bd35a035fef8664b5e056b937f2e\r\n",
      "MD5 (filtered_2200_GTTTCG_L004_R1.fastq.gz) = 3df87eae8d7a1672f8f7c7f91ad11ce3\r\n",
      "MD5 (filtered_400_GTCCGC_L004_R1.fastq.gz) = b462a8b5f55781ffcce105735a5c87c3\r\n",
      "MD5 (filtered_400_NoIndex_L006_R1.fastq.gz) = 9686e4a27a308b9a5d595ca3170c1fac\r\n"
     ]
    }
   ],
   "source": [
    "!cat PostTransferMD5hashes.md5"
   ]
  },
  {
   "cell_type": "code",
   "execution_count": 12,
   "metadata": {
    "collapsed": false
   },
   "outputs": [
    {
     "name": "stdout",
     "output_type": "stream",
     "text": [
      "MD5 (filtered_1000_GTGAAA_L004_R1.fastq.gz) = 7217b5fa4354c20280fb5e3cbf1a9b3b\r\n",
      "MD5 (filtered_106A_Female_Mix_GATCAG_L004_R1.fastq.gz) = 51866975b9eefe7b857b6438b999d3d0\r\n",
      "MD5 (filtered_106A_Female_Mix_GATCAG_L004_R2.fastq.gz) = 7c60c85613b5f95c884fd5dbfe060306\r\n",
      "MD5 (filtered_106A_Female_Mix_GATCAG_L007_R1.fastq.gz) = 390c9e51ba52176dbe23e1d2947c6339\r\n",
      "MD5 (filtered_106A_Male_Mix_TAGCTT_L004_R1.fastq.gz) = d7255d5ca68f87baddc1b20304bb5654\r\n",
      "MD5 (filtered_106A_Male_Mix_TAGCTT_L004_R2.fastq.gz) = 6311f82de95722b9ac76b67ba46d90c1\r\n",
      "MD5 (filtered_106A_Male_Mix_TAGCTT_L007_R1.fastq.gz) = a4c46ad4eb42638c3306f0bced352322\r\n",
      "MD5 (filtered_108A_Female_Mix_GGCTAC_L004_R1.fastq.gz) = 0782efb8381e6b914ce89158615f18c7\r\n",
      "MD5 (filtered_108A_Female_Mix_GGCTAC_L004_R2.fastq.gz) = 5e1c8cce7314d2e4ea01230e8c5b4421\r\n",
      "MD5 (filtered_108A_Female_Mix_GGCTAC_L007_R1.fastq.gz) = 37c11f15afff32bc57478c48cb3a4772\r\n",
      "MD5 (filtered_108A_Male_Mix_AGTCAA_L004_R1.fastq.gz) = 9ddbc72c8152f86464ff7e66812ce7cc\r\n",
      "MD5 (filtered_108A_Male_Mix_AGTCAA_L004_R2.fastq.gz) = 2f9aaf2d2bbee41908be9fcba0fa21d8\r\n",
      "MD5 (filtered_108A_Male_Mix_AGTCAA_L007_R1.fastq.gz) = 940a0aca7ee0a7a167aded11c3658495\r\n",
      "MD5 (filtered_1600_GTGGCC_L004_R1.fastq.gz) = a54bed5a92d616cc9db35bfd64406346\r\n",
      "MD5 (filtered_2000_NoIndex_L007_R1.fastq.gz) = f934bd35a035fef8664b5e056b937f2e\r\n",
      "MD5 (filtered_2200_GTTTCG_L004_R1.fastq.gz) = 3df87eae8d7a1672f8f7c7f91ad11ce3\r\n",
      "MD5 (filtered_400_GTCCGC_L004_R1.fastq.gz) = b462a8b5f55781ffcce105735a5c87c3\r\n",
      "MD5 (filtered_400_NoIndex_L006_R1.fastq.gz) = 9686e4a27a308b9a5d595ca3170c1fac\r\n",
      "MD5 (m130619_081336_42134_c100525122550000001823081109281326_s1_p0.bas.h5.gz) = 4842624da6520268f6113687d685f6d7\r\n"
     ]
    }
   ],
   "source": [
    "!cat /Volumes/web/nightingales/O_lurida/checksums.md5"
   ]
  },
  {
   "cell_type": "code",
   "execution_count": 13,
   "metadata": {
    "collapsed": false
   },
   "outputs": [
    {
     "name": "stdout",
     "output_type": "stream",
     "text": [
      "19d18\r\n",
      "< MD5 (m130619_081336_42134_c100525122550000001823081109281326_s1_p0.bas.h5.gz) = 4842624da6520268f6113687d685f6d7\r\n"
     ]
    }
   ],
   "source": [
    "!diff /Volumes/web/nightingales/O_lurida/checksums.md5 PostTransferMD5hashes.md5\n",
    "\n"
   ]
  },
  {
   "cell_type": "markdown",
   "metadata": {},
   "source": [
    "Moved files into paired-end and single end dir"
   ]
  },
  {
   "cell_type": "code",
   "execution_count": 15,
   "metadata": {
    "collapsed": true
   },
   "outputs": [],
   "source": [
    "mkdir PE"
   ]
  },
  {
   "cell_type": "code",
   "execution_count": 16,
   "metadata": {
    "collapsed": true
   },
   "outputs": [],
   "source": [
    "mkdir SE"
   ]
  },
  {
   "cell_type": "code",
   "execution_count": 19,
   "metadata": {
    "collapsed": false
   },
   "outputs": [
    {
     "name": "stdout",
     "output_type": "stream",
     "text": [
      "\u001b[31mfiltered_106A_Female_Mix_GATCAG_L004_R1.fastq.gz\u001b[m\u001b[m \u001b[31mfiltered_108A_Female_Mix_GGCTAC_L004_R1.fastq.gz\u001b[m\u001b[m\r\n",
      "\u001b[31mfiltered_106A_Female_Mix_GATCAG_L004_R2.fastq.gz\u001b[m\u001b[m \u001b[31mfiltered_108A_Female_Mix_GGCTAC_L004_R2.fastq.gz\u001b[m\u001b[m\r\n",
      "\u001b[31mfiltered_106A_Male_Mix_TAGCTT_L004_R1.fastq.gz\u001b[m\u001b[m   \u001b[31mfiltered_108A_Male_Mix_AGTCAA_L004_R1.fastq.gz\u001b[m\u001b[m\r\n",
      "\u001b[31mfiltered_106A_Male_Mix_TAGCTT_L004_R2.fastq.gz\u001b[m\u001b[m   \u001b[31mfiltered_108A_Male_Mix_AGTCAA_L004_R2.fastq.gz\u001b[m\u001b[m\r\n"
     ]
    }
   ],
   "source": [
    "!ls PE/"
   ]
  },
  {
   "cell_type": "code",
   "execution_count": 20,
   "metadata": {
    "collapsed": false
   },
   "outputs": [
    {
     "name": "stdout",
     "output_type": "stream",
     "text": [
      "\u001b[31mfiltered_1000_GTGAAA_L004_R1.fastq.gz\u001b[m\u001b[m            \u001b[31mfiltered_1600_GTGGCC_L004_R1.fastq.gz\u001b[m\u001b[m\r\n",
      "\u001b[31mfiltered_106A_Female_Mix_GATCAG_L007_R1.fastq.gz\u001b[m\u001b[m \u001b[31mfiltered_2000_NoIndex_L007_R1.fastq.gz\u001b[m\u001b[m\r\n",
      "\u001b[31mfiltered_106A_Male_Mix_TAGCTT_L007_R1.fastq.gz\u001b[m\u001b[m   \u001b[31mfiltered_2200_GTTTCG_L004_R1.fastq.gz\u001b[m\u001b[m\r\n",
      "\u001b[31mfiltered_108A_Female_Mix_GGCTAC_L007_R1.fastq.gz\u001b[m\u001b[m \u001b[31mfiltered_400_GTCCGC_L004_R1.fastq.gz\u001b[m\u001b[m\r\n",
      "\u001b[31mfiltered_108A_Male_Mix_AGTCAA_L007_R1.fastq.gz\u001b[m\u001b[m   \u001b[31mfiltered_400_NoIndex_L006_R1.fastq.gz\u001b[m\u001b[m\r\n"
     ]
    }
   ],
   "source": [
    "!ls SE/"
   ]
  },
  {
   "cell_type": "code",
   "execution_count": 21,
   "metadata": {
    "collapsed": true
   },
   "outputs": [],
   "source": [
    "!cat \\\n",
    "PE/filtered_106A_Female_Mix_GATCAG_L004_R1.fastq \\\n",
    "PE/filtered_108A_Female_Mix_GGCTAC_L004_R1.fastq \\\n",
    "PE/filtered_106A_Male_Mix_TAGCTT_L004_R1.fastq \\\n",
    "PE/filtered_108A_Male_Mix_AGTCAA_L004_R1.fastq >> R1.fastq\n",
    "!cat \\\n",
    "PE/filtered_106A_Female_Mix_GATCAG_L004_R2.fastq \\\n",
    "PE/filtered_108A_Female_Mix_GGCTAC_L004_R2.fastq \\\n",
    "PE/filtered_106A_Male_Mix_TAGCTT_L004_R2.fastq \\\n",
    "PE/filtered_108A_Male_Mix_AGTCAA_L004_R2.fastq >> R2.fastq\n",
    "!cat \\\n",
    "SE/*.fastq >> tmp.R1.fastq\n",
    "!cat tmp.R1.fastq >> R1.fastq\n"
   ]
  },
  {
   "cell_type": "code",
   "execution_count": 22,
   "metadata": {
    "collapsed": false
   },
   "outputs": [
    {
     "name": "stdout",
     "output_type": "stream",
     "text": [
      "@HWI-ST700693:263:C0K6DACXX:4:1101:1464:1969\r\n",
      "NTTCATGAAGGGGTCAACCAGAATGATCTCGTAAAACTTGTAAGATGAATCCTGTGCCACCCAGTAAGAGCTTAGC\r\n",
      "+\r\n",
      "#4=DDDDDHFFHHGGABHIICBGH<E@FHIIGEGIIIIIIIDGGIIGEIIIIIIIIIIGIGGI9=D@CECEEF@CC\r\n",
      "@HWI-ST700693:263:C0K6DACXX:4:1101:1506:1985\r\n",
      "NCCTGATTGAAAACAAAATGTCTTTGTTTTTTCTACTTTGTATGGATCAATCAATCTTATTTGTTCCTGTAGAGAT\r\n",
      "+\r\n",
      "#1=DDFFFHHHHHJJJJJIGFHHJIIIIJJJJIIJIJJJJIJJFEGJIIIIHIGIJJEHIJJJGAGHJJIIIHGD;\r\n",
      "@HWI-ST700693:263:C0K6DACXX:4:1101:1882:1979\r\n",
      "NGGGACTCTAACGAGAACCTTCCGTCATCTGGCTCTGGACATAACCATGGTTAACAAGAACACTGTCATGGTGGAG\r\n"
     ]
    }
   ],
   "source": [
    "!head R1.fastq"
   ]
  },
  {
   "cell_type": "code",
   "execution_count": null,
   "metadata": {
    "collapsed": false,
    "scrolled": true
   },
   "outputs": [
    {
     "name": "stdout",
     "output_type": "stream",
     "text": [
      "No quality encoding type selected. Assuming that the data provided uses Sanger encoded Phred scores (default)\n",
      "\n",
      "Path to Cutadapt set as: '/Users/sr320/.local/bin/cutadapt' (user defined)\n",
      "1.8.1\n",
      "Cutadapt seems to be working fine (tested command '/Users/sr320/.local/bin/cutadapt --version')\n",
      "\n",
      "\n",
      "AUTO-DETECTING ADAPTER TYPE\n",
      "===========================\n",
      "Attempting to auto-detect adapter type from the first 1 million sequences of the first file (>> R1.fastq <<)\n",
      "\n",
      "Found perfect matches for the following adapter sequences:\n",
      "Adapter type\tCount\tSequence\tSequences analysed\tPercentage\n",
      "Illumina\t5712\tAGATCGGAAGAGC\t1000000\t0.57\n",
      "Nextera\t3\tCTGTCTCTTATA\t1000000\t0.00\n",
      "smallRNA\t1\tATGGAATTCTCG\t1000000\t0.00\n",
      "Using Illumina adapter for trimming (count: 5712). Second best hit was Nextera (count: 3)\n",
      "\n",
      "Writing report to 'R1.fastq_trimming_report.txt'\n",
      "\n",
      "SUMMARISING RUN PARAMETERS\n",
      "==========================\n",
      "Input filename: R1.fastq\n",
      "Trimming mode: paired-end\n",
      "Trim Galore version: 0.4.0\n",
      "Cutadapt version: 1.8.1\n",
      "Quality Phred score cutoff: 20\n",
      "Quality encoding type selected: ASCII+33\n",
      "Adapter sequence: 'AGATCGGAAGAGC' (Illumina TruSeq, Sanger iPCR; auto-detected)\n",
      "Maximum trimming error rate: 0.1 (default)\n",
      "Minimum required adapter overlap (stringency): 1 bp\n",
      "Minimum required sequence length for both reads before a sequence pair gets removed: 20 bp\n",
      "Length cut-off for read 1: 35 bp (default)\n",
      "Length cut-off for read 2: 35 bb (default)\n",
      "\n",
      "Writing final adapter and quality trimmed output to R1_trimmed.fq\n",
      "\n",
      "\n",
      "  >>> Now performing quality (cutoff 20) and adapter trimming in a single pass for the adapter sequence: 'AGATCGGAAGAGC' from file R1.fastq <<< \n",
      "10000000 sequences processed\n",
      "20000000 sequences processed\n",
      "30000000 sequences processed\n",
      "40000000 sequences processed\n",
      "50000000 sequences processed\n",
      "60000000 sequences processed\n",
      "70000000 sequences processed\n",
      "80000000 sequences processed\n",
      "90000000 sequences processed\n",
      "100000000 sequences processed\n",
      "110000000 sequences processed\n",
      "120000000 sequences processed\n",
      "130000000 sequences processed\n",
      "140000000 sequences processed\n",
      "150000000 sequences processed\n",
      "160000000 sequences processed\n",
      "170000000 sequences processed\n",
      "180000000 sequences processed\n",
      "190000000 sequences processed\n",
      "200000000 sequences processed\n",
      "210000000 sequences processed\n",
      "220000000 sequences processed\n",
      "230000000 sequences processed\n",
      "240000000 sequences processed\n",
      "250000000 sequences processed\n",
      "260000000 sequences processed\n",
      "270000000 sequences processed\n",
      "280000000 sequences processed\n",
      "290000000 sequences processed\n",
      "300000000 sequences processed\n",
      "310000000 sequences processed\n",
      "320000000 sequences processed\n",
      "330000000 sequences processed\n",
      "340000000 sequences processed\n",
      "350000000 sequences processed\n",
      "360000000 sequences processed\n",
      "370000000 sequences processed\n",
      "380000000 sequences processed\n",
      "390000000 sequences processed\n",
      "400000000 sequences processed\n",
      "410000000 sequences processed\n",
      "420000000 sequences processed\n",
      "430000000 sequences processed\n",
      "440000000 sequences processed\n",
      "450000000 sequences processed\n",
      "460000000 sequences processed\n",
      "470000000 sequences processed\n",
      "480000000 sequences processed\n",
      "490000000 sequences processed\n",
      "500000000 sequences processed\n",
      "510000000 sequences processed\n",
      "520000000 sequences processed\n",
      "530000000 sequences processed\n",
      "540000000 sequences processed\n",
      "550000000 sequences processed\n",
      "560000000 sequences processed\n",
      "570000000 sequences processed\n",
      "580000000 sequences processed\n",
      "590000000 sequences processed\n",
      "600000000 sequences processed\n",
      "610000000 sequences processed\n",
      "620000000 sequences processed\n",
      "630000000 sequences processed\n",
      "640000000 sequences processed\n",
      "650000000 sequences processed\n",
      "660000000 sequences processed\n",
      "670000000 sequences processed\n",
      "680000000 sequences processed\n",
      "690000000 sequences processed\n",
      "700000000 sequences processed\n",
      "710000000 sequences processed\n",
      "720000000 sequences processed\n",
      "730000000 sequences processed\n",
      "740000000 sequences processed\n",
      "750000000 sequences processed\n",
      "760000000 sequences processed\n",
      "770000000 sequences processed\n",
      "780000000 sequences processed\n",
      "790000000 sequences processed\n",
      "800000000 sequences processed\n",
      "810000000 sequences processed\n",
      "820000000 sequences processed\n",
      "830000000 sequences processed\n",
      "840000000 sequences processed\n",
      "850000000 sequences processed\n",
      "860000000 sequences processed\n",
      "870000000 sequences processed\n",
      "880000000 sequences processed\n",
      "890000000 sequences processed\n",
      "900000000 sequences processed\n",
      "910000000 sequences processed\n",
      "920000000 sequences processed\n",
      "930000000 sequences processed\n",
      "This is cutadapt 1.8.1 with Python 2.7.10\n",
      "Command line parameters: -f fastq -e 0.1 -q 20 -O 1 -a AGATCGGAAGAGC R1.fastq\n",
      "Trimming 1 adapter with at most 10.0% errors in single-end mode ...\n",
      "Finished in 9037.77 s (10 us/read; 6.22 M reads/minute).\n",
      "\n",
      "=== Summary ===\n",
      "\n",
      "Total reads processed:             937,202,899\n",
      "Reads with adapters:               356,174,188 (38.0%)\n",
      "Reads written (passing filters):   937,202,899 (100.0%)\n",
      "\n",
      "Total basepairs processed: 41,779,239,564 bp\n",
      "Quality-trimmed:             502,915,432 bp (1.2%)\n",
      "Total written (filtered):  39,929,247,810 bp (95.6%)\n",
      "\n",
      "=== Adapter 1 ===\n",
      "\n",
      "Sequence: AGATCGGAAGAGC; Type: regular 3'; Length: 13; Trimmed: 356174188 times.\n",
      "\n",
      "No. of allowed errors:\n",
      "0-9 bp: 0; 10-13 bp: 1\n",
      "\n",
      "Bases preceding removed adapters:\n",
      "  A: 34.5%\n",
      "  C: 23.1%\n",
      "  G: 16.2%\n",
      "  T: 19.9%\n",
      "  none/other: 6.3%\n",
      "\n",
      "Overview of removed sequences\n",
      "length\tcount\texpect\tmax.err\terror counts\n",
      "1\t249507875\t234300724.8\t0\t249507875\n",
      "2\t58883142\t58575181.2\t0\t58883142\n",
      "3\t19933903\t14643795.3\t0\t19933903\n",
      "4\t3778621\t3660948.8\t0\t3778621\n",
      "5\t743808\t915237.2\t0\t743808\n",
      "6\t131344\t228809.3\t0\t131344\n",
      "7\t48311\t57202.3\t0\t48311\n",
      "8\t30192\t14300.6\t0\t30192\n",
      "9\t40008\t3575.1\t0\t24061 15947\n",
      "10\t55041\t893.8\t1\t20668 34373\n",
      "11\t29846\t223.4\t1\t19306 10540\n",
      "12\t24334\t55.9\t1\t21249 3085\n",
      "13\t20384\t14.0\t1\t19179 1205\n",
      "14\t21444\t14.0\t1\t20299 1145\n",
      "15\t26283\t14.0\t1\t25097 1186\n",
      "16\t22743\t14.0\t1\t21176 1567\n",
      "17\t25032\t14.0\t1\t23211 1821\n",
      "18\t21713\t14.0\t1\t19592 2121\n",
      "19\t22269\t14.0\t1\t20676 1593\n",
      "20\t23144\t14.0\t1\t21160 1984\n",
      "21\t21224\t14.0\t1\t18722 2502\n",
      "22\t19033\t14.0\t1\t16162 2871\n",
      "23\t19364\t14.0\t1\t14880 4484\n",
      "24\t29779\t14.0\t1\t23219 6560\n",
      "25\t24577\t14.0\t1\t15978 8599\n",
      "26\t28556\t14.0\t1\t17050 11506\n",
      "27\t44849\t14.0\t1\t21356 23493\n",
      "28\t37623\t14.0\t1\t17962 19661\n",
      "29\t44052\t14.0\t1\t20142 23910\n",
      "30\t35155\t14.0\t1\t19537 15618\n",
      "31\t38982\t14.0\t1\t17713 21269\n",
      "32\t48313\t14.0\t1\t17604 30709\n",
      "33\t121837\t14.0\t1\t35492 86345\n",
      "34\t233078\t14.0\t1\t56258 176820\n",
      "35\t707048\t14.0\t1\t297133 409915\n",
      "36\t18199291\t14.0\t1\t4774264 13425027\n",
      "37\t24248\t14.0\t1\t5779 18469\n",
      "38\t29759\t14.0\t1\t7077 22682\n",
      "39\t38372\t14.0\t1\t7309 31063\n",
      "40\t49968\t14.0\t1\t10540 39428\n",
      "41\t34797\t14.0\t1\t13808 20989\n",
      "42\t38698\t14.0\t1\t9281 29417\n",
      "43\t27563\t14.0\t1\t13132 14431\n",
      "44\t38729\t14.0\t1\t6563 32166\n",
      "45\t42853\t14.0\t1\t12030 30823\n",
      "46\t30309\t14.0\t1\t10213 20096\n",
      "47\t27693\t14.0\t1\t7937 19756\n",
      "48\t30221\t14.0\t1\t7209 23012\n",
      "49\t29430\t14.0\t1\t7957 21473\n",
      "50\t28966\t14.0\t1\t7287 21679\n",
      "51\t69734\t14.0\t1\t7286 62448\n",
      "52\t92152\t14.0\t1\t17407 74745\n",
      "53\t41276\t14.0\t1\t19721 21555\n",
      "54\t36134\t14.0\t1\t7428 28706\n",
      "55\t31643\t14.0\t1\t9177 22466\n",
      "56\t48430\t14.0\t1\t7663 40767\n",
      "57\t48431\t14.0\t1\t10921 37510\n",
      "58\t78974\t14.0\t1\t10519 68455\n",
      "59\t52248\t14.0\t1\t17284 34964\n",
      "60\t55257\t14.0\t1\t9701 45556\n",
      "61\t76855\t14.0\t1\t12860 63995\n",
      "62\t175186\t14.0\t1\t17609 157577\n",
      "63\t197887\t14.0\t1\t39008 158879\n",
      "64\t122848\t14.0\t1\t38522 84326\n",
      "65\t85413\t14.0\t1\t22646 62767\n",
      "66\t116361\t14.0\t1\t19925 96436\n",
      "67\t163900\t14.0\t1\t25021 138879\n",
      "68\t271961\t14.0\t1\t37785 234176\n",
      "69\t365011\t14.0\t1\t58318 306693\n",
      "70\t241610\t14.0\t1\t76299 165311\n",
      "71\t145508\t14.0\t1\t38669 106839\n",
      "72\t74901\t14.0\t1\t27598 47303\n",
      "73\t19037\t14.0\t1\t7591 11446\n",
      "74\t13889\t14.0\t1\t4672 9217\n",
      "75\t5707\t14.0\t1\t1628 4079\n",
      "76\t30031\t14.0\t1\t10128 19903\n",
      "\n",
      "\n",
      "RUN STATISTICS FOR INPUT FILE: R1.fastq\n",
      "=============================================\n",
      "937202899 sequences processed in total\n",
      "The length threshold of paired-end sequences gets evaluated later on (in the validation step)\n",
      "\n",
      "Writing report to 'R2.fastq_trimming_report.txt'\n",
      "\n",
      "SUMMARISING RUN PARAMETERS\n",
      "==========================\n",
      "Input filename: R2.fastq\n",
      "Trimming mode: paired-end\n",
      "Trim Galore version: 0.4.0\n",
      "Cutadapt version: 1.8.1\n",
      "Quality Phred score cutoff: 20\n",
      "Quality encoding type selected: ASCII+33\n",
      "Adapter sequence: 'AGATCGGAAGAGC' (Illumina TruSeq, Sanger iPCR; auto-detected)\n",
      "Maximum trimming error rate: 0.1 (default)\n",
      "Minimum required adapter overlap (stringency): 1 bp\n",
      "Minimum required sequence length for both reads before a sequence pair gets removed: 20 bp\n",
      "Length cut-off for read 1: 35 bp (default)\n",
      "Length cut-off for read 2: 35 bb (default)\n",
      "\n",
      "Writing final adapter and quality trimmed output to R2_trimmed.fq\n",
      "\n",
      "\n",
      "  >>> Now performing quality (cutoff 20) and adapter trimming in a single pass for the adapter sequence: 'AGATCGGAAGAGC' from file R2.fastq <<< \n",
      "10000000 sequences processed\n",
      "20000000 sequences processed\n",
      "30000000 sequences processed\n",
      "40000000 sequences processed\n",
      "50000000 sequences processed\n",
      "60000000 sequences processed\n",
      "70000000 sequences processed\n",
      "80000000 sequences processed\n",
      "90000000 sequences processed\n",
      "100000000 sequences processed\n",
      "110000000 sequences processed\n",
      "120000000 sequences processed\n",
      "130000000 sequences processed\n",
      "140000000 sequences processed\n",
      "150000000 sequences processed\n",
      "160000000 sequences processed\n",
      "170000000 sequences processed\n",
      "180000000 sequences processed\n",
      "190000000 sequences processed\n",
      "200000000 sequences processed\n",
      "This is cutadapt 1.8.1 with Python 2.7.10\n",
      "Command line parameters: -f fastq -e 0.1 -q 20 -O 1 -a AGATCGGAAGAGC R2.fastq\n",
      "Trimming 1 adapter with at most 10.0% errors in single-end mode ...\n",
      "Finished in 2084.13 s (10 us/read; 5.79 M reads/minute).\n",
      "\n",
      "=== Summary ===\n",
      "\n",
      "Total reads processed:             200,998,380\n",
      "Reads with adapters:                72,221,243 (35.9%)\n",
      "Reads written (passing filters):   200,998,380 (100.0%)\n",
      "\n",
      "Total basepairs processed: 15,275,876,880 bp\n",
      "Quality-trimmed:             582,620,358 bp (3.8%)\n",
      "Total written (filtered):  14,547,993,528 bp (95.2%)\n",
      "\n",
      "=== Adapter 1 ===\n",
      "\n",
      "Sequence: AGATCGGAAGAGC; Type: regular 3'; Length: 13; Trimmed: 72221243 times.\n",
      "\n",
      "No. of allowed errors:\n",
      "0-9 bp: 0; 10-13 bp: 1\n",
      "\n",
      "Bases preceding removed adapters:\n",
      "  A: 34.2%\n",
      "  C: 26.2%\n",
      "  G: 17.6%\n",
      "  T: 21.1%\n",
      "  none/other: 0.9%\n",
      "\n",
      "Overview of removed sequences\n",
      "length\tcount\texpect\tmax.err\terror counts\n",
      "1\t53392369\t50249595.0\t0\t53392369\n",
      "2\t12692989\t12562398.8\t0\t12692989\n",
      "3\t3996044\t3140599.7\t0\t3996044\n",
      "4\t898465\t785149.9\t0\t898465\n",
      "5\t199957\t196287.5\t0\t199957\n",
      "6\t41733\t49071.9\t0\t41733\n",
      "7\t21420\t12268.0\t0\t21420\n",
      "8\t16937\t3067.0\t0\t16937\n",
      "9\t21594\t766.7\t0\t15418 6176\n",
      "10\t21338\t191.7\t1\t12772 8566\n",
      "11\t16835\t47.9\t1\t11422 5413\n",
      "12\t12411\t12.0\t1\t11193 1218\n",
      "13\t12316\t3.0\t1\t9998 2318\n",
      "14\t13123\t3.0\t1\t12314 809\n",
      "15\t7466\t3.0\t1\t6846 620\n",
      "16\t8648\t3.0\t1\t7523 1125\n",
      "17\t9515\t3.0\t1\t9033 482\n",
      "18\t5625\t3.0\t1\t5083 542\n",
      "19\t6811\t3.0\t1\t6422 389\n",
      "20\t5214\t3.0\t1\t4965 249\n",
      "21\t4196\t3.0\t1\t3988 208\n",
      "22\t5056\t3.0\t1\t4787 269\n",
      "23\t8323\t3.0\t1\t5755 2568\n",
      "24\t7914\t3.0\t1\t7268 646\n",
      "25\t6468\t3.0\t1\t5960 508\n",
      "26\t10420\t3.0\t1\t5889 4531\n",
      "27\t7100\t3.0\t1\t6000 1100\n",
      "28\t7244\t3.0\t1\t6611 633\n",
      "29\t5672\t3.0\t1\t4854 818\n",
      "30\t12359\t3.0\t1\t11824 535\n",
      "31\t2079\t3.0\t1\t1623 456\n",
      "32\t3282\t3.0\t1\t3072 210\n",
      "33\t2203\t3.0\t1\t2014 189\n",
      "34\t2939\t3.0\t1\t2686 253\n",
      "35\t3399\t3.0\t1\t3149 250\n",
      "36\t3761\t3.0\t1\t3478 283\n",
      "37\t3774\t3.0\t1\t3480 294\n",
      "38\t3903\t3.0\t1\t3569 334\n",
      "39\t4639\t3.0\t1\t4278 361\n",
      "40\t5311\t3.0\t1\t4954 357\n",
      "41\t6074\t3.0\t1\t5422 652\n",
      "42\t11033\t3.0\t1\t10481 552\n",
      "43\t3527\t3.0\t1\t3210 317\n",
      "44\t5255\t3.0\t1\t4529 726\n",
      "45\t7410\t3.0\t1\t6983 427\n",
      "46\t2498\t3.0\t1\t2316 182\n",
      "47\t3537\t3.0\t1\t3265 272\n",
      "48\t2722\t3.0\t1\t2518 204\n",
      "49\t3561\t3.0\t1\t3277 284\n",
      "50\t7011\t3.0\t1\t6634 377\n",
      "51\t5356\t3.0\t1\t5029 327\n",
      "52\t2795\t3.0\t1\t2571 224\n",
      "53\t2345\t3.0\t1\t2117 228\n",
      "54\t4249\t3.0\t1\t4023 226\n",
      "55\t5601\t3.0\t1\t5243 358\n",
      "56\t4440\t3.0\t1\t3896 544\n",
      "57\t5862\t3.0\t1\t5432 430\n",
      "58\t12815\t3.0\t1\t12283 532\n",
      "59\t9503\t3.0\t1\t9079 424\n",
      "60\t11281\t3.0\t1\t10794 487\n",
      "61\t16326\t3.0\t1\t15494 832\n",
      "62\t30462\t3.0\t1\t28919 1543\n",
      "63\t80723\t3.0\t1\t77509 3214\n",
      "64\t147721\t3.0\t1\t137737 9984\n",
      "65\t225595\t3.0\t1\t207184 18411\n",
      "66\t68475\t3.0\t1\t62667 5808\n",
      "67\t10044\t3.0\t1\t8962 1082\n",
      "68\t3200\t3.0\t1\t2861 339\n",
      "69\t1568\t3.0\t1\t1362 206\n",
      "70\t912\t3.0\t1\t808 104\n",
      "71\t836\t3.0\t1\t580 256\n",
      "72\t571\t3.0\t1\t458 113\n",
      "73\t787\t3.0\t1\t415 372\n",
      "74\t613\t3.0\t1\t495 118\n",
      "75\t1057\t3.0\t1\t938 119\n",
      "76\t4626\t3.0\t1\t4181 445\n",
      "\n",
      "\n",
      "RUN STATISTICS FOR INPUT FILE: R2.fastq\n",
      "=============================================\n",
      "200998380 sequences processed in total\n",
      "The length threshold of paired-end sequences gets evaluated later on (in the validation step)\n",
      "\n",
      "Validate paired-end files R1_trimmed.fq and R2_trimmed.fq\n",
      "file_1: R1_trimmed.fq, file_2: R2_trimmed.fq\n",
      "\n",
      "\n",
      ">>>>> Now validing the length of the 2 paired-end infiles: R1_trimmed.fq and R2_trimmed.fq <<<<<\n",
      "Writing validated paired-end read 1 reads to R1_val_1.fq\n",
      "Writing validated paired-end read 2 reads to R2_val_2.fq\n",
      "\n",
      "Writing unpaired read 1 reads to R1_unpaired_1.fq\n",
      "Writing unpaired read 2 reads to R2_unpaired_2.fq\n",
      "\n",
      "Total number of sequences analysed: 200998380\n",
      "\n",
      "Number of sequence pairs removed because at least one read was shorter than the length cutoff (20 bp): 5045367 (2.51%)\n",
      "\n",
      "Deleting both intermediate output files R1_trimmed.fq and R2_trimmed.fq\n",
      "\n",
      "====================================================================================================\n",
      "\n"
     ]
    }
   ],
   "source": [
    "!/Applications/bioinfo/trim_galore_zip/trim_galore \\\n",
    "--paired \\\n",
    "--retain_unpaired \\\n",
    "--path_to_cutadapt /Users/sr320/.local/bin/cutadapt \\\n",
    "R1.fastq \\\n",
    "R2.fastq"
   ]
  },
  {
   "cell_type": "code",
   "execution_count": null,
   "metadata": {
    "collapsed": false
   },
   "outputs": [],
   "source": [
    "!/Applications/bioinfo/FastQC/fastqc \\\n",
    "R1_val_1.fastq \\\n",
    "-o /Users/sr320/data-genomic/tentacle/"
   ]
  },
  {
   "cell_type": "code",
   "execution_count": null,
   "metadata": {
    "collapsed": true
   },
   "outputs": [],
   "source": [
    "!/Applications/bioinfo/FastQC/fastqc \\\n",
    "R2_val_2.fastq \\\n",
    "-o /Users/sr320/data-genomic/tentacle/"
   ]
  },
  {
   "cell_type": "code",
   "execution_count": null,
   "metadata": {
    "collapsed": true
   },
   "outputs": [],
   "source": [
    "!/Applications/bioinfo/FastQC/fastqc \\\n",
    "R1_unpaired_1.fq \\\n",
    "-o /Users/sr320/data-genomic/tentacle/"
   ]
  },
  {
   "cell_type": "code",
   "execution_count": null,
   "metadata": {
    "collapsed": true
   },
   "outputs": [],
   "source": [
    "!/Applications/bioinfo/FastQC/fastqc \\\n",
    "R2_unpaired_2.fq \\\n",
    "-o /Users/sr320/data-genomic/tentacle/"
   ]
  },
  {
   "cell_type": "code",
   "execution_count": null,
   "metadata": {
    "collapsed": true
   },
   "outputs": [],
   "source": []
  }
 ],
 "metadata": {
  "kernelspec": {
   "display_name": "Python 2",
   "language": "python",
   "name": "python2"
  },
  "language_info": {
   "codemirror_mode": {
    "name": "ipython",
    "version": 2
   },
   "file_extension": ".py",
   "mimetype": "text/x-python",
   "name": "python",
   "nbconvert_exporter": "python",
   "pygments_lexer": "ipython2",
   "version": "2.7.10"
  }
 },
 "nbformat": 4,
 "nbformat_minor": 0
}
