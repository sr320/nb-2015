{
 "cells": [
  {
   "cell_type": "markdown",
   "metadata": {
    "button": false,
    "deletable": true,
    "new_sheet": false,
    "run_control": {
     "read_only": false
    }
   },
   "source": [
    "```\n",
    "!cat \\\n",
    "filtered_106A_Female_Mix_GATCAG_L004_R1.fastq \\\n",
    "filtered_108A_Female_Mix_GGCTAC_L004_R1.fastq \\\n",
    "filtered_106A_Male_Mix_TAGCTT_L004_R1.fastq \\\n",
    "filtered_108A_Male_Mix_AGTCAA_L004_R1.fastq >> /Users/sr320/data-genomic/tentacle/OlyOv6/OlyOv6_combined_R1.fastq\n",
    "!cat \\\n",
    "filtered_106A_Female_Mix_GATCAG_L004_R2.fastq \\\n",
    "filtered_108A_Female_Mix_GGCTAC_L004_R2.fastq \\\n",
    "filtered_106A_Male_Mix_TAGCTT_L004_R2.fastq \\\n",
    "filtered_108A_Male_Mix_AGTCAA_L004_R2.fastq >> /Users/sr320/data-genomic/tentacle/OlyOv6/OlyOv6_combined_R2.fastq\n",
    "```"
   ]
  },
  {
   "cell_type": "markdown",
   "metadata": {
    "button": false,
    "deletable": true,
    "new_sheet": false,
    "run_control": {
     "read_only": false
    }
   },
   "source": [
    "Trimming details @\n",
    "<https://github.com/sr320/course-btea/blob/master/day-1/01-OlympiaOyster-transcriptome.ipynb>"
   ]
  },
  {
   "cell_type": "markdown",
   "metadata": {
    "button": false,
    "deletable": true,
    "new_sheet": false,
    "run_control": {
     "read_only": false
    }
   },
   "source": [
    "# Assembly"
   ]
  },
  {
   "cell_type": "markdown",
   "metadata": {
    "button": false,
    "deletable": true,
    "new_sheet": false,
    "run_control": {
     "read_only": false
    }
   },
   "source": [
    "```\n",
    "#!/bin/sh\n",
    "\n",
    "KMER=2\n",
    "\n",
    "LD_LIBRARY_PATH=/share/bioinformatics/gcc/lib64:/share/bioinformatics/gcc/lib\n",
    "\n",
    "TRIN=/data/ggoetz/trinityrnaseq-2.0.6\n",
    "SAMTOOLS=/share/bioinformatics/samtools/bin\n",
    "BOWTIE=/share/bioinformatics/bowtie\n",
    "\n",
    "PATH=${SAMTOOLS}:${BOWTIE}:${PATH}\n",
    "\n",
    "${TRIN}/Trinity \\\n",
    "\t--seqType fq \\\n",
    "\t--max_memory 400G \\\n",
    "\t--left OlyOv6_combined_R1_val_1.fq \\\n",
    "\t--right OlyOv6_combined_R2_val_2.fq \\\n",
    "\t--CPU 8 \\\n",
    "\t--bflyCalculateCPU \\\n",
    "\t--bflyHeapSpaceMax 16G \\\n",
    "\t--bflyHeapSpaceInit 8G \\\n",
    "\t--normalize_reads \\\n",
    "\t--min_kmer_cov ${KMER} \\\n",
    "\t--output trinity_All.kmer${KMER} \\\n",
    "\t> trinity_output.All.kmer${KMER}.log\n",
    "```"
   ]
  },
  {
   "cell_type": "code",
   "execution_count": 1,
   "metadata": {
    "button": false,
    "collapsed": false,
    "deletable": true,
    "new_sheet": false,
    "run_control": {
     "read_only": false
    }
   },
   "outputs": [
    {
     "name": "stdout",
     "output_type": "stream",
     "text": [
      ">TR1|c0_g1_i1 len=320 path=[639:0-301 640:302-319] [-1, 639, 640, -2]\r\n",
      "GACGAAAAACAAACACATAATCAATCAATCAATCAATCAATCAAATAACAGAGATTCAAT\r\n",
      "CCATAGTAACAGTATACCTTACAGCGATATAACAGTCTGGTTATTCTATAAAATCTATAT\r\n",
      "CTACATGTATTATTAACACACATTACTTATTATATAATGTTCTGGTTGCTTGAATTATGG\r\n",
      "AAGTATAAAAACAATGTATAACCGGGACCATTATTTATACAGAGAAAAACTAGCAAAGTG\r\n",
      "TTTGGTTTTAAAACTCGAATTGACTGACATTGACAGTGGCATATTTATAATTTTGTAGGA\r\n",
      "TGTTAATCAACACATAACAT\r\n",
      ">TR1|c0_g2_i1 len=323 path=[637:0-301 638:302-322] [-1, 637, 638, -2]\r\n",
      "GACGAAAAACAAACACATAATCAATCAATCAATCAATCAATCAAATAACAGAGATTCAAT\r\n",
      "CCATAGTAACAGTATACCTTACAGCGATATAACAGTCTGGTTATTCTATAAAATCTATAT\r\n"
     ]
    }
   ],
   "source": [
    "!head /Users/sr320/data-genomic/tentacle/trinity.kmer2.fa"
   ]
  },
  {
   "cell_type": "code",
   "execution_count": 4,
   "metadata": {
    "collapsed": false,
    "run_control": {}
   },
   "outputs": [
    {
     "name": "stdout",
     "output_type": "stream",
     "text": [
      ">TR1|c0_g1_i1 len=320 path=[639:0-301 640:302-319] [-1, 639, 640, -2]\r\n",
      ">TR1|c0_g2_i1 len=323 path=[637:0-301 638:302-322] [-1, 637, 638, -2]\r\n",
      ">TR2|c0_g1_i1 len=359 path=[834:0-181 838:182-235 837:236-358] [-1, 834, 838, 837, -2]\r\n",
      ">TR3|c0_g1_i1 len=256 path=[234:0-255] [-1, 234, -2]\r\n",
      ">TR4|c0_g1_i1 len=330 path=[706:0-106 707:107-130 709:131-223 705:224-329] [-1, 706, 707, 709, 705, -2]\r\n",
      ">TR5|c0_g1_i1 len=226 path=[407:0-225] [-1, 407, -2]\r\n",
      ">TR6|c0_g1_i1 len=400 path=[804:0-194 805:195-218 806:219-399] [-1, 804, 805, 806, -2]\r\n",
      ">TR7|c0_g1_i1 len=311 path=[577:0-310] [-1, 577, -2]\r\n",
      ">TR8|c0_g1_i1 len=378 path=[760:0-264 761:265-288 762:289-377] [-1, 760, 761, 762, -2]\r\n",
      ">TR9|c0_g1_i1 len=256 path=[755:0-51 765:52-64 763:65-75 761:76-122 759:123-179 742:180-203 743:204-255] [-1, 755, 765, 763, 761, 759, 742, 743, -2]\r\n",
      ">TR10|c0_g1_i1 len=240 path=[985:0-191 986:192-194 987:195-239] [-1, 985, 986, 987, -2]\r\n",
      ">TR10|c0_g2_i1 len=453 path=[982:0-146 983:147-170 988:171-280 977:281-283 978:284-452] [-1, 982, 983, 988, 977, 978, -2]\r\n",
      ">TR10|c0_g3_i1 len=364 path=[979:0-191 980:192-194 981:195-363] [-1, 979, 980, 981, -2]\r\n",
      ">TR10|c1_g1_i1 len=244 path=[222:0-243] [-1, 222, -2]\r\n",
      ">TR11|c0_g1_i1 len=253 path=[525:0-212 526:213-252] [-1, 525, 526, -2]\r\n",
      ">TR12|c0_g1_i1 len=265 path=[533:0-166 534:167-264] [-1, 533, 534, -2]\r\n",
      ">TR13|c0_g1_i1 len=240 path=[510:0-220 511:221-239] [-1, 510, 511, -2]\r\n",
      ">TR13|c0_g2_i1 len=268 path=[512:0-220 513:221-267] [-1, 512, 513, -2]\r\n",
      ">TR14|c0_g1_i1 len=257 path=[513:0-97 514:98-256] [-1, 513, 514, -2]\r\n",
      ">TR15|c0_g1_i1 len=245 path=[501:0-218 502:219-244] [-1, 501, 502, -2]\r\n",
      ">TR15|c0_g2_i1 len=247 path=[503:0-218 504:219-246] [-1, 503, 504, -2]\r\n",
      ">TR16|c0_g1_i1 len=254 path=[562:0-93 563:94-117 568:118-219 561:220-253] [-1, 562, 563, 568, 561, -2]\r\n",
      ">TR17|c0_g1_i1 len=338 path=[656:0-40 657:41-64 658:65-337] [-1, 656, 657, 658, -2]\r\n",
      ">TR18|c0_g1_i1 len=243 path=[537:0-148 546:149-196 544:197-242] [-1, 537, 546, 544, -2]\r\n",
      ">TR18|c0_g2_i1 len=243 path=[539:0-148 545:149-196 542:197-242] [-1, 539, 545, 542, -2]\r\n",
      ">TR19|c0_g1_i1 len=339 path=[1057:0-320 1058:321-338] [-1, 1057, 1058, -2]\r\n",
      ">TR19|c0_g2_i1 len=532 path=[1055:0-320 1056:321-531] [-1, 1055, 1056, -2]\r\n",
      ">TR20|c0_g1_i1 len=405 path=[779:0-168 780:169-404] [-1, 779, 780, -2]\r\n",
      ">TR20|c0_g2_i1 len=271 path=[777:0-34 778:35-270] [-1, 777, 778, -2]\r\n",
      ">TR21|c0_g1_i1 len=225 path=[405:0-224] [-1, 405, -2]\r\n",
      ">TR22|c0_g1_i1 len=227 path=[425:0-43 426:44-226] [-1, 425, 426, -2]\r\n",
      ">TR23|c0_g1_i1 len=249 path=[560:0-52 567:53-180 565:181-204 566:205-248] [-1, 560, 567, 565, 566, -2]\r\n",
      ">TR23|c0_g1_i2 len=248 path=[562:0-51 567:52-179 565:180-203 566:204-247] [-1, 562, 567, 565, 566, -2]\r\n",
      ">TR24|c0_g1_i1 len=285 path=[565:0-155 566:156-284] [-1, 565, 566, -2]\r\n",
      ">TR25|c0_g1_i1 len=374 path=[352:0-373] [-1, 352, -2]\r\n",
      ">TR26|c0_g1_i1 len=316 path=[563:0-301 564:302-303 565:304-305 566:306-307 567:308-309 568:310-311 569:312-313 570:314-315] [-1, 563, 564, 565, 566, 567, 568, 569, 570, -2]\r\n",
      ">TR27|c0_g1_i1 len=555 path=[1103:0-319 1104:320-554] [-1, 1103, 1104, -2]\r\n",
      ">TR27|c0_g2_i1 len=339 path=[1105:0-319 1106:320-338] [-1, 1105, 1106, -2]\r\n",
      ">TR28|c0_g1_i1 len=284 path=[523:0-283] [-1, 523, -2]\r\n",
      ">TR29|c0_g1_i1 len=258 path=[767:0-45 768:46-257] [-1, 767, 768, -2]\r\n",
      ">TR29|c0_g2_i1 len=383 path=[769:0-170 770:171-382] [-1, 769, 770, -2]\r\n",
      ">TR30|c0_g1_i1 len=294 path=[592:0-153 593:154-177 594:178-293] [-1, 592, 593, 594, -2]\r\n",
      ">TR31|c0_g1_i1 len=394 path=[783:0-176 789:177-214 782:215-393] [-1, 783, 789, 782, -2]\r\n",
      ">TR31|c0_g2_i1 len=394 path=[787:0-176 790:177-214 786:215-393] [-1, 787, 790, 786, -2]\r\n",
      ">TR32|c0_g1_i1 len=589 path=[1169:0-55 1170:56-588] [-1, 1169, 1170, -2]\r\n",
      ">TR32|c0_g2_i1 len=590 path=[1167:0-56 1168:57-589] [-1, 1167, 1168, -2]\r\n",
      ">TR33|c0_g1_i1 len=462 path=[879:0-461] [-1, 879, -2]\r\n",
      ">TR34|c0_g1_i1 len=260 path=[531:0-157 532:158-184 533:185-259] [-1, 531, 532, 533, -2]\r\n",
      ">TR34|c0_g2_i1 len=260 path=[529:0-157 536:158-184 535:185-259] [-1, 529, 536, 535, -2]\r\n",
      ">TR35|c0_g1_i1 len=293 path=[541:0-292] [-1, 541, -2]\r\n"
     ]
    }
   ],
   "source": [
    "!fgrep \">\" /Volumes/Monarch/quarter-shell/OlyO_v6_transcriptome.fa | head -50\n"
   ]
  },
  {
   "cell_type": "markdown",
   "metadata": {
    "button": false,
    "deletable": true,
    "new_sheet": false,
    "run_control": {
     "read_only": false
    }
   },
   "source": [
    "```\n",
    "################################\n",
    "## Counts of transcripts, etc.\n",
    "################################\n",
    "Total trinity 'genes':    81568\n",
    "Total trinity transcripts:    148557\n",
    "Percent GC: 39.50\n",
    "\n",
    "########################################\n",
    "Stats based on ALL transcript contigs:\n",
    "########################################\n",
    "\n",
    "    Contig N10: 5382\n",
    "    Contig N20: 3754\n",
    "    Contig N30: 2866\n",
    "    Contig N40: 2251\n",
    "    Contig N50: 1769\n",
    "\n",
    "    Median contig length: 527\n",
    "    Average contig: 1006.00\n",
    "    Total assembled bases: 149448583\n",
    "\n",
    "\n",
    "#####################################################\n",
    "## Stats based on ONLY LONGEST ISOFORM per 'GENE':\n",
    "#####################################################\n",
    "\n",
    "    Contig N10: 5242\n",
    "    Contig N20: 3620\n",
    "    Contig N30: 2695\n",
    "    Contig N40: 2062\n",
    "    Contig N50: 1577\n",
    "\n",
    "    Median contig length: 434\n",
    "    Average contig: 872.76\n",
    "    Total assembled bases: 71189166\n",
    "```        "
   ]
  },
  {
   "cell_type": "code",
   "execution_count": 2,
   "metadata": {
    "button": false,
    "collapsed": false,
    "deletable": true,
    "new_sheet": false,
    "run_control": {
     "read_only": false
    }
   },
   "outputs": [
    {
     "name": "stdout",
     "output_type": "stream",
     "text": [
      "148557\r\n"
     ]
    }
   ],
   "source": [
    "!fgrep -c \">\" /Users/sr320/data-genomic/tentacle/trinity.kmer2.fa"
   ]
  },
  {
   "cell_type": "code",
   "execution_count": 3,
   "metadata": {
    "button": false,
    "collapsed": true,
    "deletable": true,
    "new_sheet": false,
    "run_control": {
     "read_only": false
    }
   },
   "outputs": [],
   "source": [
    "!cp /Users/sr320/data-genomic/tentacle/trinity.kmer2.fa \\\n",
    "/Users/sr320/data-genomic/tentacle/OlyO_v6_transcriptome.fa"
   ]
  },
  {
   "cell_type": "markdown",
   "metadata": {
    "button": false,
    "deletable": true,
    "new_sheet": false,
    "run_control": {
     "read_only": false
    }
   },
   "source": [
    "## Running blastx"
   ]
  },
  {
   "cell_type": "markdown",
   "metadata": {
    "button": false,
    "deletable": true,
    "new_sheet": false,
    "run_control": {
     "read_only": false
    }
   },
   "source": [
    "```\n",
    "%%bash\n",
    "for f in query.part*\n",
    "do\n",
    "blastx \\\n",
    "-query $f \\\n",
    "-db /usr/local/bioinformatics/dbs/uniprot_sprot.fasta \\\n",
    "-evalue 1e-5 \\\n",
    "-max_target_seqs 1 \\\n",
    "-max_hsps 1 \\\n",
    "-outfmt 6 \\\n",
    "-num_threads 16 \\\n",
    "-out blastout_\"$f\"_sp \\\n",
    "2> error-blastout_\"$f\"_sp\n",
    "done\n",
    "```"
   ]
  },
  {
   "cell_type": "markdown",
   "metadata": {
    "button": false,
    "deletable": true,
    "new_sheet": false,
    "run_control": {
     "read_only": false
    }
   },
   "source": [
    "# Expression"
   ]
  },
  {
   "cell_type": "markdown",
   "metadata": {
    "button": false,
    "deletable": true,
    "new_sheet": false,
    "run_control": {
     "read_only": false
    }
   },
   "source": [
    "Ran RNA-seq on all four samples as  below to version 6."
   ]
  },
  {
   "cell_type": "markdown",
   "metadata": {
    "button": false,
    "collapsed": true,
    "deletable": true,
    "new_sheet": false,
    "run_control": {
     "read_only": false
    }
   },
   "source": [
    "<img src=\"http://eagle.fish.washington.edu/cnidarian/skitch/sr320’s_iMac_1C0748FB.png\" alt=\"sr320’s_iMac_1C0748FB.png\"/>"
   ]
  },
  {
   "cell_type": "markdown",
   "metadata": {
    "button": false,
    "deletable": true,
    "new_sheet": false,
    "run_control": {
     "read_only": false
    }
   },
   "source": [
    "Then \"setup experiment\""
   ]
  },
  {
   "cell_type": "code",
   "execution_count": 1,
   "metadata": {
    "button": false,
    "collapsed": false,
    "deletable": true,
    "new_sheet": false,
    "run_control": {
     "read_only": false
    }
   },
   "outputs": [
    {
     "name": "stdout",
     "output_type": "stream",
     "text": [
      "Feature ID,106A_Female_TotalReads,108A_Female_TotalReads,106A_Male_TotalReads,108A_Male_TotalReads\r",
      "\r\n",
      "TR100,13,2,2,11\r",
      "\r\n",
      "TR1000,1,4,4,1\r",
      "\r\n",
      "TR10000,19,7,8,23\r",
      "\r\n",
      "TR10001,19,31,31,28\r",
      "\r\n",
      "TR10002,69,115,224,211\r",
      "\r\n",
      "TR10003,90,78,96,31\r",
      "\r\n",
      "TR10004,4,4,17,16\r",
      "\r\n",
      "TR10005,15,2,50,72\r",
      "\r\n",
      "TR10006,1,9,2,6\r",
      "\r\n"
     ]
    }
   ],
   "source": [
    "!head data/Oly6_FvM-totalcounts.csv"
   ]
  },
  {
   "cell_type": "code",
   "execution_count": null,
   "metadata": {
    "button": false,
    "collapsed": true,
    "deletable": true,
    "new_sheet": false,
    "run_control": {
     "read_only": false
    }
   },
   "outputs": [],
   "source": [
    "# Might thave to rename contigs?"
   ]
  },
  {
   "cell_type": "markdown",
   "metadata": {
    "run_control": {}
   },
   "source": [
    "Current naming format `TR1|c0_g1_i1`"
   ]
  },
  {
   "cell_type": "markdown",
   "metadata": {
    "run_control": {}
   },
   "source": [
    "```\n",
    "The accession encodes the Trinity 'gene' and 'isoform' information. In the example above, the accession 'TRINITY_DN1000|c115_g5_i1' indicates Trinity read cluster 'TRINITY_DN1000|c115', gene 'g5', and isoform 'i1'. Because a given run of trinity involves many many clusters of reads, each of which are assembled separately, and because the 'gene' numberings are unique within a given processed read cluster, the 'gene' identifier should be considered an aggregate of the read cluster and corresponding gene identifier, which in this case would be 'TRINITY_DN1000|c115_g5'.\n",
    "\n",
    "So, in summary, the above example corresponds to 'gene id: TRINITY_DN1000|c115_g5' encoding 'isoform id: TRINITY_DN1000|c115_g5_i1'.\n",
    "```"
   ]
  },
  {
   "cell_type": "code",
   "execution_count": 5,
   "metadata": {
    "collapsed": false,
    "run_control": {}
   },
   "outputs": [
    {
     "name": "stdout",
     "output_type": "stream",
     "text": [
      ">TR1|c0_g1_i1 len=320 path=[639:0-301 640:302-319] [-1, 639, 640, -2]\r\n",
      ">TR1|c0_g2_i1 len=323 path=[637:0-301 638:302-322] [-1, 637, 638, -2]\r\n",
      ">TR2|c0_g1_i1 len=359 path=[834:0-181 838:182-235 837:236-358] [-1, 834, 838, 837, -2]\r\n",
      ">TR3|c0_g1_i1 len=256 path=[234:0-255] [-1, 234, -2]\r\n",
      ">TR4|c0_g1_i1 len=330 path=[706:0-106 707:107-130 709:131-223 705:224-329] [-1, 706, 707, 709, 705, -2]\r\n",
      ">TR5|c0_g1_i1 len=226 path=[407:0-225] [-1, 407, -2]\r\n",
      ">TR6|c0_g1_i1 len=400 path=[804:0-194 805:195-218 806:219-399] [-1, 804, 805, 806, -2]\r\n",
      ">TR7|c0_g1_i1 len=311 path=[577:0-310] [-1, 577, -2]\r\n",
      ">TR8|c0_g1_i1 len=378 path=[760:0-264 761:265-288 762:289-377] [-1, 760, 761, 762, -2]\r\n",
      ">TR9|c0_g1_i1 len=256 path=[755:0-51 765:52-64 763:65-75 761:76-122 759:123-179 742:180-203 743:204-255] [-1, 755, 765, 763, 761, 759, 742, 743, -2]\r\n",
      ">TR10|c0_g1_i1 len=240 path=[985:0-191 986:192-194 987:195-239] [-1, 985, 986, 987, -2]\r\n",
      ">TR10|c0_g2_i1 len=453 path=[982:0-146 983:147-170 988:171-280 977:281-283 978:284-452] [-1, 982, 983, 988, 977, 978, -2]\r\n",
      ">TR10|c0_g3_i1 len=364 path=[979:0-191 980:192-194 981:195-363] [-1, 979, 980, 981, -2]\r\n",
      ">TR10|c1_g1_i1 len=244 path=[222:0-243] [-1, 222, -2]\r\n",
      ">TR11|c0_g1_i1 len=253 path=[525:0-212 526:213-252] [-1, 525, 526, -2]\r\n",
      ">TR12|c0_g1_i1 len=265 path=[533:0-166 534:167-264] [-1, 533, 534, -2]\r\n",
      ">TR13|c0_g1_i1 len=240 path=[510:0-220 511:221-239] [-1, 510, 511, -2]\r\n",
      ">TR13|c0_g2_i1 len=268 path=[512:0-220 513:221-267] [-1, 512, 513, -2]\r\n",
      ">TR14|c0_g1_i1 len=257 path=[513:0-97 514:98-256] [-1, 513, 514, -2]\r\n",
      ">TR15|c0_g1_i1 len=245 path=[501:0-218 502:219-244] [-1, 501, 502, -2]\r\n",
      ">TR15|c0_g2_i1 len=247 path=[503:0-218 504:219-246] [-1, 503, 504, -2]\r\n",
      ">TR16|c0_g1_i1 len=254 path=[562:0-93 563:94-117 568:118-219 561:220-253] [-1, 562, 563, 568, 561, -2]\r\n",
      ">TR17|c0_g1_i1 len=338 path=[656:0-40 657:41-64 658:65-337] [-1, 656, 657, 658, -2]\r\n",
      ">TR18|c0_g1_i1 len=243 path=[537:0-148 546:149-196 544:197-242] [-1, 537, 546, 544, -2]\r\n",
      ">TR18|c0_g2_i1 len=243 path=[539:0-148 545:149-196 542:197-242] [-1, 539, 545, 542, -2]\r\n",
      ">TR19|c0_g1_i1 len=339 path=[1057:0-320 1058:321-338] [-1, 1057, 1058, -2]\r\n",
      ">TR19|c0_g2_i1 len=532 path=[1055:0-320 1056:321-531] [-1, 1055, 1056, -2]\r\n",
      ">TR20|c0_g1_i1 len=405 path=[779:0-168 780:169-404] [-1, 779, 780, -2]\r\n",
      ">TR20|c0_g2_i1 len=271 path=[777:0-34 778:35-270] [-1, 777, 778, -2]\r\n",
      ">TR21|c0_g1_i1 len=225 path=[405:0-224] [-1, 405, -2]\r\n",
      ">TR22|c0_g1_i1 len=227 path=[425:0-43 426:44-226] [-1, 425, 426, -2]\r\n",
      ">TR23|c0_g1_i1 len=249 path=[560:0-52 567:53-180 565:181-204 566:205-248] [-1, 560, 567, 565, 566, -2]\r\n",
      ">TR23|c0_g1_i2 len=248 path=[562:0-51 567:52-179 565:180-203 566:204-247] [-1, 562, 567, 565, 566, -2]\r\n",
      ">TR24|c0_g1_i1 len=285 path=[565:0-155 566:156-284] [-1, 565, 566, -2]\r\n",
      ">TR25|c0_g1_i1 len=374 path=[352:0-373] [-1, 352, -2]\r\n",
      ">TR26|c0_g1_i1 len=316 path=[563:0-301 564:302-303 565:304-305 566:306-307 567:308-309 568:310-311 569:312-313 570:314-315] [-1, 563, 564, 565, 566, 567, 568, 569, 570, -2]\r\n",
      ">TR27|c0_g1_i1 len=555 path=[1103:0-319 1104:320-554] [-1, 1103, 1104, -2]\r\n",
      ">TR27|c0_g2_i1 len=339 path=[1105:0-319 1106:320-338] [-1, 1105, 1106, -2]\r\n",
      ">TR28|c0_g1_i1 len=284 path=[523:0-283] [-1, 523, -2]\r\n",
      ">TR29|c0_g1_i1 len=258 path=[767:0-45 768:46-257] [-1, 767, 768, -2]\r\n",
      ">TR29|c0_g2_i1 len=383 path=[769:0-170 770:171-382] [-1, 769, 770, -2]\r\n",
      ">TR30|c0_g1_i1 len=294 path=[592:0-153 593:154-177 594:178-293] [-1, 592, 593, 594, -2]\r\n",
      ">TR31|c0_g1_i1 len=394 path=[783:0-176 789:177-214 782:215-393] [-1, 783, 789, 782, -2]\r\n",
      ">TR31|c0_g2_i1 len=394 path=[787:0-176 790:177-214 786:215-393] [-1, 787, 790, 786, -2]\r\n",
      ">TR32|c0_g1_i1 len=589 path=[1169:0-55 1170:56-588] [-1, 1169, 1170, -2]\r\n",
      ">TR32|c0_g2_i1 len=590 path=[1167:0-56 1168:57-589] [-1, 1167, 1168, -2]\r\n",
      ">TR33|c0_g1_i1 len=462 path=[879:0-461] [-1, 879, -2]\r\n",
      ">TR34|c0_g1_i1 len=260 path=[531:0-157 532:158-184 533:185-259] [-1, 531, 532, 533, -2]\r\n",
      ">TR34|c0_g2_i1 len=260 path=[529:0-157 536:158-184 535:185-259] [-1, 529, 536, 535, -2]\r\n",
      ">TR35|c0_g1_i1 len=293 path=[541:0-292] [-1, 541, -2]\r\n"
     ]
    }
   ],
   "source": [
    "!fgrep \">\" /Volumes/Monarch/quarter-shell/OlyO_v6_transcriptome.fa | head -50\n",
    "\n"
   ]
  },
  {
   "cell_type": "code",
   "execution_count": null,
   "metadata": {
    "collapsed": true,
    "run_control": {}
   },
   "outputs": [],
   "source": []
  }
 ],
 "metadata": {
  "kernelspec": {
   "display_name": "Python 3",
   "language": "python",
   "name": "python3"
  },
  "language_info": {
   "codemirror_mode": {
    "name": "ipython",
    "version": 3
   },
   "file_extension": ".py",
   "mimetype": "text/x-python",
   "name": "python",
   "nbconvert_exporter": "python",
   "pygments_lexer": "ipython3",
   "version": "3.5.0"
  }
 },
 "nbformat": 4,
 "nbformat_minor": 0
}
