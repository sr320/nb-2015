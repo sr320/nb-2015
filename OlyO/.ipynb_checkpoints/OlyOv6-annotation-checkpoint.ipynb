{
 "cells": [
  {
   "cell_type": "markdown",
   "metadata": {
    "button": false,
    "deletable": true,
    "new_sheet": false,
    "run_control": {
     "read_only": false
    }
   },
   "source": [
    "# Annotation"
   ]
  },
  {
   "cell_type": "markdown",
   "metadata": {
    "run_control": {}
   },
   "source": [
    "## Blast"
   ]
  },
  {
   "cell_type": "code",
   "execution_count": null,
   "metadata": {
    "collapsed": true,
    "run_control": {}
   },
   "outputs": [],
   "source": [
    "%%bash\n",
    "for f in query.part*\n",
    "do\n",
    "blastx \\\n",
    "-query $f \\\n",
    "-db /usr/local/bioinformatics/dbs/uniprot_sprot.fasta \\\n",
    "-evalue 1e-5 \\\n",
    "-max_target_seqs 1 \\\n",
    "-max_hsps 1 \\\n",
    "-outfmt 6 \\\n",
    "-num_threads 16 \\\n",
    "-out blastout_\"$f\"_sp \\\n",
    "2> error-blastout_\"$f\"_sp\n",
    "done"
   ]
  },
  {
   "cell_type": "code",
   "execution_count": 2,
   "metadata": {
    "collapsed": false,
    "run_control": {}
   },
   "outputs": [
    {
     "name": "stdout",
     "output_type": "stream",
     "text": [
      "TR3|c0_g1_i1\tsp|Q8TCU5|NMD3A_HUMAN\t40.48\t84\t50\t0\t5\t256\t586\t669\t7e-15\t73.6\r\n",
      "TR4|c0_g1_i1\tsp|P27473|IFI44_PANTR\t34.52\t84\t51\t2\t1\t252\t142\t221\t1e-08\t55.8\r\n",
      "TR6|c0_g1_i1\tsp|Q8N461|FXL16_HUMAN\t39.13\t92\t53\t1\t129\t395\t82\t173\t3e-14\t72.8\r\n",
      "TR8|c0_g1_i1\tsp|Q9UBX5|FBLN5_HUMAN\t40.65\t123\t66\t5\t3\t371\t123\t238\t4e-18\t83.2\r\n",
      "TR18|c0_g1_i1\tsp|Q5RJH3|CAD12_MOUSE\t33.33\t78\t46\t1\t236\t3\t247\t318\t2e-06\t48.5\r\n",
      "TR18|c0_g2_i1\tsp|O93319|CAD11_CHICK\t36.36\t77\t43\t1\t236\t6\t246\t316\t2e-06\t48.9\r\n",
      "TR27|c0_g1_i1\tsp|Q8TE56|ATS17_HUMAN\t38.10\t126\t64\t6\t526\t170\t418\t536\t5e-12\t68.2\r\n",
      "TR31|c0_g1_i1\tsp|Q6V0I7|FAT4_HUMAN\t39.84\t128\t73\t4\t6\t380\t3848\t3974\t4e-25\t  105\r\n",
      "TR31|c0_g2_i1\tsp|O94813|SLIT2_HUMAN\t34.11\t129\t81\t4\t6\t380\t984\t1112\t3e-12\t67.4\r\n",
      "TR44|c0_g1_i1\tsp|P02707|LECH_CHICK\t37.18\t78\t47\t2\t28\t258\t129\t205\t1e-10\t58.5\r\n"
     ]
    }
   ],
   "source": [
    "!head /Users/sr320/Dropbox/hummingbird-ipython-nbs/OlyO-v6/blastout_query.part-01.fasta_sp"
   ]
  },
  {
   "cell_type": "code",
   "execution_count": 4,
   "metadata": {
    "collapsed": false,
    "run_control": {}
   },
   "outputs": [],
   "source": [
    "!cat /Users/sr320/Dropbox/hummingbird-ipython-nbs/OlyO-v6/blastout_*fasta_sp \\\n",
    "> ./data/blastout_sp"
   ]
  },
  {
   "cell_type": "code",
   "execution_count": null,
   "metadata": {
    "collapsed": true,
    "run_control": {}
   },
   "outputs": [],
   "source": []
  }
 ],
 "metadata": {
  "kernelspec": {
   "display_name": "Python 3",
   "language": "python",
   "name": "python3"
  },
  "language_info": {
   "codemirror_mode": {
    "name": "ipython",
    "version": 3
   },
   "file_extension": ".py",
   "mimetype": "text/x-python",
   "name": "python",
   "nbconvert_exporter": "python",
   "pygments_lexer": "ipython3",
   "version": "3.5.0"
  }
 },
 "nbformat": 4,
 "nbformat_minor": 0
}
