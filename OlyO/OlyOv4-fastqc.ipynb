{
 "cells": [
  {
   "cell_type": "markdown",
   "metadata": {},
   "source": [
    "# Running fastqc on raw files sent to Giles for reassembly\n",
    "\n",
    "\n",
    "\n",
    "\n"
   ]
  },
  {
   "cell_type": "markdown",
   "metadata": {},
   "source": [
    "tldr\n",
    "18 files"
   ]
  },
  {
   "cell_type": "markdown",
   "metadata": {},
   "source": [
    "http://owl.fish.washington.edu/halfshell/bu-data-genomic/tentacle/filtered_1000_GTGAAA_L004_R1_fastqc.html\n",
    "http://owl.fish.washington.edu/halfshell/bu-data-genomic/tentacle/filtered_106A_Female_Mix_GATCAG_L004_R1_fastqc.html\n",
    "http://owl.fish.washington.edu/halfshell/bu-data-genomic/tentacle/filtered_106A_Female_Mix_GATCAG_L004_R2_fastqc.html\n",
    "http://owl.fish.washington.edu/halfshell/bu-data-genomic/tentacle/filtered_106A_Female_Mix_GATCAG_L007_R1_fastqc.html\n",
    "http://owl.fish.washington.edu/halfshell/bu-data-genomic/tentacle/filtered_106A_Male_Mix_TAGCTT_L004_R1_fastqc.html\n",
    "http://owl.fish.washington.edu/halfshell/bu-data-genomic/tentacle/filtered_106A_Male_Mix_TAGCTT_L004_R2_fastqc.html\n",
    "http://owl.fish.washington.edu/halfshell/bu-data-genomic/tentacle/filtered_106A_Male_Mix_TAGCTT_L007_R1_fastqc.html\n",
    "http://owl.fish.washington.edu/halfshell/bu-data-genomic/tentacle/filtered_108A_Female_Mix_GGCTAC_L004_R1_fastqc.html\n",
    "http://owl.fish.washington.edu/halfshell/bu-data-genomic/tentacle/filtered_108A_Female_Mix_GGCTAC_L004_R2_fastqc.html\n",
    "http://owl.fish.washington.edu/halfshell/bu-data-genomic/tentacle/filtered_108A_Female_Mix_GGCTAC_L007_R1_fastqc.html\n",
    "http://owl.fish.washington.edu/halfshell/bu-data-genomic/tentacle/filtered_108A_Male_Mix_AGTCAA_L004_R1_fastqc.html\n",
    "http://owl.fish.washington.edu/halfshell/bu-data-genomic/tentacle/filtered_108A_Male_Mix_AGTCAA_L004_R2_fastqc.html\n",
    "http://owl.fish.washington.edu/halfshell/bu-data-genomic/tentacle/filtered_108A_Male_Mix_AGTCAA_L007_R1_fastqc.html\n",
    "http://owl.fish.washington.edu/halfshell/bu-data-genomic/tentacle/filtered_1600_GTGGCC_L004_R1_fastqc.html\n",
    "http://owl.fish.washington.edu/halfshell/bu-data-genomic/tentacle/filtered_2000_NoIndex_L007_R1_fastqc.html\n",
    "http://owl.fish.washington.edu/halfshell/bu-data-genomic/tentacle/filtered_2200_GTTTCG_L004_R1_fastqc.html\n",
    "http://owl.fish.washington.edu/halfshell/bu-data-genomic/tentacle/filtered_400_GTCCGC_L004_R1_fastqc.html\n",
    "http://owl.fish.washington.edu/halfshell/bu-data-genomic/tentacle/filtered_400_NoIndex_L006_R1_fastqc.html"
   ]
  },
  {
   "cell_type": "code",
   "execution_count": 3,
   "metadata": {
    "collapsed": false
   },
   "outputs": [
    {
     "name": "stdout",
     "output_type": "stream",
     "text": [
      "Started analysis of filtered_106A_Female_Mix_GATCAG_L004_R1.fastq.gz\n",
      "Approx 5% complete for filtered_106A_Female_Mix_GATCAG_L004_R1.fastq.gz\n",
      "Approx 10% complete for filtered_106A_Female_Mix_GATCAG_L004_R1.fastq.gz\n",
      "Approx 15% complete for filtered_106A_Female_Mix_GATCAG_L004_R1.fastq.gz\n",
      "Approx 20% complete for filtered_106A_Female_Mix_GATCAG_L004_R1.fastq.gz\n",
      "Approx 25% complete for filtered_106A_Female_Mix_GATCAG_L004_R1.fastq.gz\n",
      "Approx 30% complete for filtered_106A_Female_Mix_GATCAG_L004_R1.fastq.gz\n",
      "Approx 35% complete for filtered_106A_Female_Mix_GATCAG_L004_R1.fastq.gz\n",
      "Approx 40% complete for filtered_106A_Female_Mix_GATCAG_L004_R1.fastq.gz\n",
      "Approx 45% complete for filtered_106A_Female_Mix_GATCAG_L004_R1.fastq.gz\n",
      "Approx 50% complete for filtered_106A_Female_Mix_GATCAG_L004_R1.fastq.gz\n",
      "Approx 55% complete for filtered_106A_Female_Mix_GATCAG_L004_R1.fastq.gz\n",
      "Approx 60% complete for filtered_106A_Female_Mix_GATCAG_L004_R1.fastq.gz\n",
      "Approx 65% complete for filtered_106A_Female_Mix_GATCAG_L004_R1.fastq.gz\n",
      "Approx 70% complete for filtered_106A_Female_Mix_GATCAG_L004_R1.fastq.gz\n",
      "Approx 75% complete for filtered_106A_Female_Mix_GATCAG_L004_R1.fastq.gz\n",
      "Approx 80% complete for filtered_106A_Female_Mix_GATCAG_L004_R1.fastq.gz\n",
      "Approx 85% complete for filtered_106A_Female_Mix_GATCAG_L004_R1.fastq.gz\n",
      "Approx 90% complete for filtered_106A_Female_Mix_GATCAG_L004_R1.fastq.gz\n",
      "Approx 95% complete for filtered_106A_Female_Mix_GATCAG_L004_R1.fastq.gz\n",
      "Analysis complete for filtered_106A_Female_Mix_GATCAG_L004_R1.fastq.gz\n"
     ]
    }
   ],
   "source": [
    "!/Applications/bioinfo/FastQC/fastqc \\\n",
    "/Volumes/web/nightingales/O_lurida/filtered_106A_Female_Mix_GATCAG_L004_R1.fastq.gz \\\n",
    "-o /Users/sr320/data-genomic/tentacle/"
   ]
  },
  {
   "cell_type": "code",
   "execution_count": 5,
   "metadata": {
    "collapsed": false
   },
   "outputs": [
    {
     "name": "stdout",
     "output_type": "stream",
     "text": [
      "Started analysis of filtered_106A_Female_Mix_GATCAG_L007_R1.fastq.gz\n",
      "Approx 5% complete for filtered_106A_Female_Mix_GATCAG_L007_R1.fastq.gz\n",
      "Approx 10% complete for filtered_106A_Female_Mix_GATCAG_L007_R1.fastq.gz\n",
      "Approx 15% complete for filtered_106A_Female_Mix_GATCAG_L007_R1.fastq.gz\n",
      "Approx 20% complete for filtered_106A_Female_Mix_GATCAG_L007_R1.fastq.gz\n",
      "Approx 25% complete for filtered_106A_Female_Mix_GATCAG_L007_R1.fastq.gz\n",
      "Approx 30% complete for filtered_106A_Female_Mix_GATCAG_L007_R1.fastq.gz\n",
      "Approx 35% complete for filtered_106A_Female_Mix_GATCAG_L007_R1.fastq.gz\n",
      "Approx 40% complete for filtered_106A_Female_Mix_GATCAG_L007_R1.fastq.gz\n",
      "Approx 45% complete for filtered_106A_Female_Mix_GATCAG_L007_R1.fastq.gz\n",
      "Approx 50% complete for filtered_106A_Female_Mix_GATCAG_L007_R1.fastq.gz\n",
      "Approx 55% complete for filtered_106A_Female_Mix_GATCAG_L007_R1.fastq.gz\n",
      "Approx 60% complete for filtered_106A_Female_Mix_GATCAG_L007_R1.fastq.gz\n",
      "Approx 65% complete for filtered_106A_Female_Mix_GATCAG_L007_R1.fastq.gz\n",
      "Approx 70% complete for filtered_106A_Female_Mix_GATCAG_L007_R1.fastq.gz\n",
      "Approx 75% complete for filtered_106A_Female_Mix_GATCAG_L007_R1.fastq.gz\n",
      "Approx 80% complete for filtered_106A_Female_Mix_GATCAG_L007_R1.fastq.gz\n",
      "Approx 85% complete for filtered_106A_Female_Mix_GATCAG_L007_R1.fastq.gz\n",
      "Approx 90% complete for filtered_106A_Female_Mix_GATCAG_L007_R1.fastq.gz\n",
      "Approx 95% complete for filtered_106A_Female_Mix_GATCAG_L007_R1.fastq.gz\n",
      "Analysis complete for filtered_106A_Female_Mix_GATCAG_L007_R1.fastq.gz\n"
     ]
    }
   ],
   "source": [
    "!/Applications/bioinfo/FastQC/fastqc \\\n",
    "/Volumes/web/nightingales/O_lurida/filtered_106A_Female_Mix_GATCAG_L007_R1.fastq.gz \\\n",
    "-o /Users/sr320/data-genomic/tentacle/"
   ]
  },
  {
   "cell_type": "code",
   "execution_count": 6,
   "metadata": {
    "collapsed": false
   },
   "outputs": [
    {
     "name": "stdout",
     "output_type": "stream",
     "text": [
      "Started analysis of filtered_106A_Male_Mix_TAGCTT_L004_R1.fastq.gz\n",
      "Approx 5% complete for filtered_106A_Male_Mix_TAGCTT_L004_R1.fastq.gz\n",
      "Approx 10% complete for filtered_106A_Male_Mix_TAGCTT_L004_R1.fastq.gz\n",
      "Approx 15% complete for filtered_106A_Male_Mix_TAGCTT_L004_R1.fastq.gz\n",
      "Approx 20% complete for filtered_106A_Male_Mix_TAGCTT_L004_R1.fastq.gz\n",
      "Approx 25% complete for filtered_106A_Male_Mix_TAGCTT_L004_R1.fastq.gz\n",
      "Approx 30% complete for filtered_106A_Male_Mix_TAGCTT_L004_R1.fastq.gz\n",
      "Approx 35% complete for filtered_106A_Male_Mix_TAGCTT_L004_R1.fastq.gz\n",
      "Approx 40% complete for filtered_106A_Male_Mix_TAGCTT_L004_R1.fastq.gz\n",
      "Approx 45% complete for filtered_106A_Male_Mix_TAGCTT_L004_R1.fastq.gz\n",
      "Approx 50% complete for filtered_106A_Male_Mix_TAGCTT_L004_R1.fastq.gz\n",
      "Approx 55% complete for filtered_106A_Male_Mix_TAGCTT_L004_R1.fastq.gz\n",
      "Approx 60% complete for filtered_106A_Male_Mix_TAGCTT_L004_R1.fastq.gz\n",
      "Approx 65% complete for filtered_106A_Male_Mix_TAGCTT_L004_R1.fastq.gz\n",
      "Approx 70% complete for filtered_106A_Male_Mix_TAGCTT_L004_R1.fastq.gz\n",
      "Approx 75% complete for filtered_106A_Male_Mix_TAGCTT_L004_R1.fastq.gz\n",
      "Approx 80% complete for filtered_106A_Male_Mix_TAGCTT_L004_R1.fastq.gz\n",
      "Approx 85% complete for filtered_106A_Male_Mix_TAGCTT_L004_R1.fastq.gz\n",
      "Approx 90% complete for filtered_106A_Male_Mix_TAGCTT_L004_R1.fastq.gz\n",
      "Approx 95% complete for filtered_106A_Male_Mix_TAGCTT_L004_R1.fastq.gz\n",
      "Analysis complete for filtered_106A_Male_Mix_TAGCTT_L004_R1.fastq.gz\n"
     ]
    }
   ],
   "source": [
    "!/Applications/bioinfo/FastQC/fastqc \\\n",
    "/Volumes/web/nightingales/O_lurida/filtered_106A_Male_Mix_TAGCTT_L004_R1.fastq.gz \\\n",
    "-o /Users/sr320/data-genomic/tentacle/"
   ]
  },
  {
   "cell_type": "code",
   "execution_count": 7,
   "metadata": {
    "collapsed": false
   },
   "outputs": [
    {
     "name": "stdout",
     "output_type": "stream",
     "text": [
      "Started analysis of filtered_106A_Male_Mix_TAGCTT_L004_R1.fastq.gz\n",
      "Approx 5% complete for filtered_106A_Male_Mix_TAGCTT_L004_R1.fastq.gz\n",
      "Approx 10% complete for filtered_106A_Male_Mix_TAGCTT_L004_R1.fastq.gz\n",
      "Approx 15% complete for filtered_106A_Male_Mix_TAGCTT_L004_R1.fastq.gz\n",
      "Approx 20% complete for filtered_106A_Male_Mix_TAGCTT_L004_R1.fastq.gz\n",
      "Approx 25% complete for filtered_106A_Male_Mix_TAGCTT_L004_R1.fastq.gz\n",
      "Approx 30% complete for filtered_106A_Male_Mix_TAGCTT_L004_R1.fastq.gz\n",
      "Approx 35% complete for filtered_106A_Male_Mix_TAGCTT_L004_R1.fastq.gz\n",
      "Approx 40% complete for filtered_106A_Male_Mix_TAGCTT_L004_R1.fastq.gz\n",
      "Approx 45% complete for filtered_106A_Male_Mix_TAGCTT_L004_R1.fastq.gz\n",
      "Approx 50% complete for filtered_106A_Male_Mix_TAGCTT_L004_R1.fastq.gz\n",
      "Approx 55% complete for filtered_106A_Male_Mix_TAGCTT_L004_R1.fastq.gz\n",
      "Approx 60% complete for filtered_106A_Male_Mix_TAGCTT_L004_R1.fastq.gz\n",
      "Approx 65% complete for filtered_106A_Male_Mix_TAGCTT_L004_R1.fastq.gz\n",
      "Approx 70% complete for filtered_106A_Male_Mix_TAGCTT_L004_R1.fastq.gz\n",
      "Approx 75% complete for filtered_106A_Male_Mix_TAGCTT_L004_R1.fastq.gz\n",
      "Approx 80% complete for filtered_106A_Male_Mix_TAGCTT_L004_R1.fastq.gz\n",
      "Approx 85% complete for filtered_106A_Male_Mix_TAGCTT_L004_R1.fastq.gz\n",
      "Approx 90% complete for filtered_106A_Male_Mix_TAGCTT_L004_R1.fastq.gz\n",
      "Approx 95% complete for filtered_106A_Male_Mix_TAGCTT_L004_R1.fastq.gz\n",
      "Analysis complete for filtered_106A_Male_Mix_TAGCTT_L004_R1.fastq.gz\n"
     ]
    }
   ],
   "source": [
    "!/Applications/bioinfo/FastQC/fastqc \\\n",
    "/Volumes/web/nightingales/O_lurida/filtered_106A_Male_Mix_TAGCTT_L004_R1.fastq.gz \\\n",
    "-o /Users/sr320/data-genomic/tentacle/"
   ]
  },
  {
   "cell_type": "code",
   "execution_count": 8,
   "metadata": {
    "collapsed": false
   },
   "outputs": [
    {
     "name": "stdout",
     "output_type": "stream",
     "text": [
      "Started analysis of filtered_106A_Male_Mix_TAGCTT_L004_R2.fastq.gz\n",
      "Approx 5% complete for filtered_106A_Male_Mix_TAGCTT_L004_R2.fastq.gz\n",
      "Approx 10% complete for filtered_106A_Male_Mix_TAGCTT_L004_R2.fastq.gz\n",
      "Approx 15% complete for filtered_106A_Male_Mix_TAGCTT_L004_R2.fastq.gz\n",
      "Approx 20% complete for filtered_106A_Male_Mix_TAGCTT_L004_R2.fastq.gz\n",
      "Approx 25% complete for filtered_106A_Male_Mix_TAGCTT_L004_R2.fastq.gz\n",
      "Approx 30% complete for filtered_106A_Male_Mix_TAGCTT_L004_R2.fastq.gz\n",
      "Approx 35% complete for filtered_106A_Male_Mix_TAGCTT_L004_R2.fastq.gz\n",
      "Approx 40% complete for filtered_106A_Male_Mix_TAGCTT_L004_R2.fastq.gz\n",
      "Approx 45% complete for filtered_106A_Male_Mix_TAGCTT_L004_R2.fastq.gz\n",
      "Approx 50% complete for filtered_106A_Male_Mix_TAGCTT_L004_R2.fastq.gz\n",
      "Approx 55% complete for filtered_106A_Male_Mix_TAGCTT_L004_R2.fastq.gz\n",
      "Approx 60% complete for filtered_106A_Male_Mix_TAGCTT_L004_R2.fastq.gz\n",
      "Approx 65% complete for filtered_106A_Male_Mix_TAGCTT_L004_R2.fastq.gz\n",
      "Approx 70% complete for filtered_106A_Male_Mix_TAGCTT_L004_R2.fastq.gz\n",
      "Approx 75% complete for filtered_106A_Male_Mix_TAGCTT_L004_R2.fastq.gz\n",
      "Approx 80% complete for filtered_106A_Male_Mix_TAGCTT_L004_R2.fastq.gz\n",
      "Approx 85% complete for filtered_106A_Male_Mix_TAGCTT_L004_R2.fastq.gz\n",
      "Approx 90% complete for filtered_106A_Male_Mix_TAGCTT_L004_R2.fastq.gz\n",
      "Approx 95% complete for filtered_106A_Male_Mix_TAGCTT_L004_R2.fastq.gz\n",
      "Analysis complete for filtered_106A_Male_Mix_TAGCTT_L004_R2.fastq.gz\n"
     ]
    }
   ],
   "source": [
    "!/Applications/bioinfo/FastQC/fastqc \\\n",
    "/Volumes/web/nightingales/O_lurida/filtered_106A_Male_Mix_TAGCTT_L004_R2.fastq.gz \\\n",
    "-o /Users/sr320/data-genomic/tentacle/"
   ]
  },
  {
   "cell_type": "code",
   "execution_count": 9,
   "metadata": {
    "collapsed": false
   },
   "outputs": [
    {
     "name": "stdout",
     "output_type": "stream",
     "text": [
      "Started analysis of filtered_106A_Male_Mix_TAGCTT_L007_R1.fastq.gz\n",
      "Approx 5% complete for filtered_106A_Male_Mix_TAGCTT_L007_R1.fastq.gz\n",
      "Approx 10% complete for filtered_106A_Male_Mix_TAGCTT_L007_R1.fastq.gz\n",
      "Approx 15% complete for filtered_106A_Male_Mix_TAGCTT_L007_R1.fastq.gz\n",
      "Approx 20% complete for filtered_106A_Male_Mix_TAGCTT_L007_R1.fastq.gz\n",
      "Approx 25% complete for filtered_106A_Male_Mix_TAGCTT_L007_R1.fastq.gz\n",
      "Approx 30% complete for filtered_106A_Male_Mix_TAGCTT_L007_R1.fastq.gz\n",
      "Approx 35% complete for filtered_106A_Male_Mix_TAGCTT_L007_R1.fastq.gz\n",
      "Approx 40% complete for filtered_106A_Male_Mix_TAGCTT_L007_R1.fastq.gz\n",
      "Approx 45% complete for filtered_106A_Male_Mix_TAGCTT_L007_R1.fastq.gz\n",
      "Approx 50% complete for filtered_106A_Male_Mix_TAGCTT_L007_R1.fastq.gz\n",
      "Approx 55% complete for filtered_106A_Male_Mix_TAGCTT_L007_R1.fastq.gz\n",
      "Approx 60% complete for filtered_106A_Male_Mix_TAGCTT_L007_R1.fastq.gz\n",
      "Approx 65% complete for filtered_106A_Male_Mix_TAGCTT_L007_R1.fastq.gz\n",
      "Approx 70% complete for filtered_106A_Male_Mix_TAGCTT_L007_R1.fastq.gz\n",
      "Approx 75% complete for filtered_106A_Male_Mix_TAGCTT_L007_R1.fastq.gz\n",
      "Approx 80% complete for filtered_106A_Male_Mix_TAGCTT_L007_R1.fastq.gz\n",
      "Approx 85% complete for filtered_106A_Male_Mix_TAGCTT_L007_R1.fastq.gz\n",
      "Approx 90% complete for filtered_106A_Male_Mix_TAGCTT_L007_R1.fastq.gz\n",
      "Approx 95% complete for filtered_106A_Male_Mix_TAGCTT_L007_R1.fastq.gz\n",
      "Analysis complete for filtered_106A_Male_Mix_TAGCTT_L007_R1.fastq.gz\n"
     ]
    }
   ],
   "source": [
    "!/Applications/bioinfo/FastQC/fastqc \\\n",
    "/Volumes/web/nightingales/O_lurida/filtered_106A_Male_Mix_TAGCTT_L007_R1.fastq.gz \\\n",
    "-o /Users/sr320/data-genomic/tentacle/"
   ]
  },
  {
   "cell_type": "code",
   "execution_count": 10,
   "metadata": {
    "collapsed": false
   },
   "outputs": [
    {
     "name": "stdout",
     "output_type": "stream",
     "text": [
      "Started analysis of filtered_108A_Female_Mix_GGCTAC_L004_R1.fastq.gz\n",
      "Approx 5% complete for filtered_108A_Female_Mix_GGCTAC_L004_R1.fastq.gz\n",
      "Approx 10% complete for filtered_108A_Female_Mix_GGCTAC_L004_R1.fastq.gz\n",
      "Approx 15% complete for filtered_108A_Female_Mix_GGCTAC_L004_R1.fastq.gz\n",
      "Approx 20% complete for filtered_108A_Female_Mix_GGCTAC_L004_R1.fastq.gz\n",
      "Approx 25% complete for filtered_108A_Female_Mix_GGCTAC_L004_R1.fastq.gz\n",
      "Approx 30% complete for filtered_108A_Female_Mix_GGCTAC_L004_R1.fastq.gz\n",
      "Approx 35% complete for filtered_108A_Female_Mix_GGCTAC_L004_R1.fastq.gz\n",
      "Approx 40% complete for filtered_108A_Female_Mix_GGCTAC_L004_R1.fastq.gz\n",
      "Approx 45% complete for filtered_108A_Female_Mix_GGCTAC_L004_R1.fastq.gz\n",
      "Approx 50% complete for filtered_108A_Female_Mix_GGCTAC_L004_R1.fastq.gz\n",
      "Approx 55% complete for filtered_108A_Female_Mix_GGCTAC_L004_R1.fastq.gz\n",
      "Approx 60% complete for filtered_108A_Female_Mix_GGCTAC_L004_R1.fastq.gz\n",
      "Approx 65% complete for filtered_108A_Female_Mix_GGCTAC_L004_R1.fastq.gz\n",
      "Approx 70% complete for filtered_108A_Female_Mix_GGCTAC_L004_R1.fastq.gz\n",
      "Approx 75% complete for filtered_108A_Female_Mix_GGCTAC_L004_R1.fastq.gz\n",
      "Approx 80% complete for filtered_108A_Female_Mix_GGCTAC_L004_R1.fastq.gz\n",
      "Approx 85% complete for filtered_108A_Female_Mix_GGCTAC_L004_R1.fastq.gz\n",
      "Approx 90% complete for filtered_108A_Female_Mix_GGCTAC_L004_R1.fastq.gz\n",
      "Approx 95% complete for filtered_108A_Female_Mix_GGCTAC_L004_R1.fastq.gz\n",
      "Analysis complete for filtered_108A_Female_Mix_GGCTAC_L004_R1.fastq.gz\n"
     ]
    }
   ],
   "source": [
    "!/Applications/bioinfo/FastQC/fastqc \\\n",
    "/Volumes/web/nightingales/O_lurida/filtered_108A_Female_Mix_GGCTAC_L004_R1.fastq.gz \\\n",
    "-o /Users/sr320/data-genomic/tentacle/"
   ]
  },
  {
   "cell_type": "code",
   "execution_count": 11,
   "metadata": {
    "collapsed": false
   },
   "outputs": [
    {
     "name": "stdout",
     "output_type": "stream",
     "text": [
      "Started analysis of filtered_108A_Female_Mix_GGCTAC_L004_R2.fastq.gz\n",
      "Approx 5% complete for filtered_108A_Female_Mix_GGCTAC_L004_R2.fastq.gz\n",
      "Approx 10% complete for filtered_108A_Female_Mix_GGCTAC_L004_R2.fastq.gz\n",
      "Approx 15% complete for filtered_108A_Female_Mix_GGCTAC_L004_R2.fastq.gz\n",
      "Approx 20% complete for filtered_108A_Female_Mix_GGCTAC_L004_R2.fastq.gz\n",
      "Approx 25% complete for filtered_108A_Female_Mix_GGCTAC_L004_R2.fastq.gz\n",
      "Approx 30% complete for filtered_108A_Female_Mix_GGCTAC_L004_R2.fastq.gz\n",
      "Approx 35% complete for filtered_108A_Female_Mix_GGCTAC_L004_R2.fastq.gz\n",
      "Approx 40% complete for filtered_108A_Female_Mix_GGCTAC_L004_R2.fastq.gz\n",
      "Approx 45% complete for filtered_108A_Female_Mix_GGCTAC_L004_R2.fastq.gz\n",
      "Approx 50% complete for filtered_108A_Female_Mix_GGCTAC_L004_R2.fastq.gz\n",
      "Approx 55% complete for filtered_108A_Female_Mix_GGCTAC_L004_R2.fastq.gz\n",
      "Approx 60% complete for filtered_108A_Female_Mix_GGCTAC_L004_R2.fastq.gz\n",
      "Approx 65% complete for filtered_108A_Female_Mix_GGCTAC_L004_R2.fastq.gz\n",
      "Approx 70% complete for filtered_108A_Female_Mix_GGCTAC_L004_R2.fastq.gz\n",
      "Approx 75% complete for filtered_108A_Female_Mix_GGCTAC_L004_R2.fastq.gz\n",
      "Approx 80% complete for filtered_108A_Female_Mix_GGCTAC_L004_R2.fastq.gz\n",
      "Approx 85% complete for filtered_108A_Female_Mix_GGCTAC_L004_R2.fastq.gz\n",
      "Approx 90% complete for filtered_108A_Female_Mix_GGCTAC_L004_R2.fastq.gz\n",
      "Approx 95% complete for filtered_108A_Female_Mix_GGCTAC_L004_R2.fastq.gz\n",
      "Analysis complete for filtered_108A_Female_Mix_GGCTAC_L004_R2.fastq.gz\n"
     ]
    }
   ],
   "source": [
    "!/Applications/bioinfo/FastQC/fastqc \\\n",
    "/Volumes/web/nightingales/O_lurida/filtered_108A_Female_Mix_GGCTAC_L004_R2.fastq.gz \\\n",
    "-o /Users/sr320/data-genomic/tentacle/"
   ]
  },
  {
   "cell_type": "code",
   "execution_count": 12,
   "metadata": {
    "collapsed": false
   },
   "outputs": [
    {
     "name": "stdout",
     "output_type": "stream",
     "text": [
      "Started analysis of filtered_108A_Female_Mix_GGCTAC_L007_R1.fastq.gz\n",
      "Approx 5% complete for filtered_108A_Female_Mix_GGCTAC_L007_R1.fastq.gz\n",
      "Approx 10% complete for filtered_108A_Female_Mix_GGCTAC_L007_R1.fastq.gz\n",
      "Approx 15% complete for filtered_108A_Female_Mix_GGCTAC_L007_R1.fastq.gz\n",
      "Approx 20% complete for filtered_108A_Female_Mix_GGCTAC_L007_R1.fastq.gz\n",
      "Approx 25% complete for filtered_108A_Female_Mix_GGCTAC_L007_R1.fastq.gz\n",
      "Approx 30% complete for filtered_108A_Female_Mix_GGCTAC_L007_R1.fastq.gz\n",
      "Approx 35% complete for filtered_108A_Female_Mix_GGCTAC_L007_R1.fastq.gz\n",
      "Approx 40% complete for filtered_108A_Female_Mix_GGCTAC_L007_R1.fastq.gz\n",
      "Approx 45% complete for filtered_108A_Female_Mix_GGCTAC_L007_R1.fastq.gz\n",
      "Approx 50% complete for filtered_108A_Female_Mix_GGCTAC_L007_R1.fastq.gz\n",
      "Approx 55% complete for filtered_108A_Female_Mix_GGCTAC_L007_R1.fastq.gz\n",
      "Approx 60% complete for filtered_108A_Female_Mix_GGCTAC_L007_R1.fastq.gz\n",
      "Approx 65% complete for filtered_108A_Female_Mix_GGCTAC_L007_R1.fastq.gz\n",
      "Approx 70% complete for filtered_108A_Female_Mix_GGCTAC_L007_R1.fastq.gz\n",
      "Approx 75% complete for filtered_108A_Female_Mix_GGCTAC_L007_R1.fastq.gz\n",
      "Approx 80% complete for filtered_108A_Female_Mix_GGCTAC_L007_R1.fastq.gz\n",
      "Approx 85% complete for filtered_108A_Female_Mix_GGCTAC_L007_R1.fastq.gz\n",
      "Approx 90% complete for filtered_108A_Female_Mix_GGCTAC_L007_R1.fastq.gz\n",
      "Approx 95% complete for filtered_108A_Female_Mix_GGCTAC_L007_R1.fastq.gz\n",
      "Analysis complete for filtered_108A_Female_Mix_GGCTAC_L007_R1.fastq.gz\n"
     ]
    }
   ],
   "source": [
    "!/Applications/bioinfo/FastQC/fastqc \\\n",
    "/Volumes/web/nightingales/O_lurida/filtered_108A_Female_Mix_GGCTAC_L007_R1.fastq.gz \\\n",
    "-o /Users/sr320/data-genomic/tentacle/"
   ]
  },
  {
   "cell_type": "code",
   "execution_count": 13,
   "metadata": {
    "collapsed": false
   },
   "outputs": [
    {
     "name": "stdout",
     "output_type": "stream",
     "text": [
      "Started analysis of filtered_108A_Male_Mix_AGTCAA_L004_R1.fastq.gz\n",
      "Approx 5% complete for filtered_108A_Male_Mix_AGTCAA_L004_R1.fastq.gz\n",
      "Approx 10% complete for filtered_108A_Male_Mix_AGTCAA_L004_R1.fastq.gz\n",
      "Approx 15% complete for filtered_108A_Male_Mix_AGTCAA_L004_R1.fastq.gz\n",
      "Approx 20% complete for filtered_108A_Male_Mix_AGTCAA_L004_R1.fastq.gz\n",
      "Approx 25% complete for filtered_108A_Male_Mix_AGTCAA_L004_R1.fastq.gz\n",
      "Approx 30% complete for filtered_108A_Male_Mix_AGTCAA_L004_R1.fastq.gz\n",
      "Approx 35% complete for filtered_108A_Male_Mix_AGTCAA_L004_R1.fastq.gz\n",
      "Approx 40% complete for filtered_108A_Male_Mix_AGTCAA_L004_R1.fastq.gz\n",
      "Approx 45% complete for filtered_108A_Male_Mix_AGTCAA_L004_R1.fastq.gz\n",
      "Approx 50% complete for filtered_108A_Male_Mix_AGTCAA_L004_R1.fastq.gz\n",
      "Approx 55% complete for filtered_108A_Male_Mix_AGTCAA_L004_R1.fastq.gz\n",
      "Approx 60% complete for filtered_108A_Male_Mix_AGTCAA_L004_R1.fastq.gz\n",
      "Approx 65% complete for filtered_108A_Male_Mix_AGTCAA_L004_R1.fastq.gz\n",
      "Approx 70% complete for filtered_108A_Male_Mix_AGTCAA_L004_R1.fastq.gz\n",
      "Approx 75% complete for filtered_108A_Male_Mix_AGTCAA_L004_R1.fastq.gz\n",
      "Approx 80% complete for filtered_108A_Male_Mix_AGTCAA_L004_R1.fastq.gz\n",
      "Approx 85% complete for filtered_108A_Male_Mix_AGTCAA_L004_R1.fastq.gz\n",
      "Approx 90% complete for filtered_108A_Male_Mix_AGTCAA_L004_R1.fastq.gz\n",
      "Approx 95% complete for filtered_108A_Male_Mix_AGTCAA_L004_R1.fastq.gz\n",
      "Analysis complete for filtered_108A_Male_Mix_AGTCAA_L004_R1.fastq.gz\n"
     ]
    }
   ],
   "source": [
    "!/Applications/bioinfo/FastQC/fastqc \\\n",
    "/Volumes/web/nightingales/O_lurida/filtered_108A_Male_Mix_AGTCAA_L004_R1.fastq.gz \\\n",
    "-o /Users/sr320/data-genomic/tentacle/"
   ]
  },
  {
   "cell_type": "code",
   "execution_count": 14,
   "metadata": {
    "collapsed": false
   },
   "outputs": [
    {
     "name": "stdout",
     "output_type": "stream",
     "text": [
      "Started analysis of filtered_108A_Male_Mix_AGTCAA_L004_R2.fastq.gz\n",
      "Approx 5% complete for filtered_108A_Male_Mix_AGTCAA_L004_R2.fastq.gz\n",
      "Approx 10% complete for filtered_108A_Male_Mix_AGTCAA_L004_R2.fastq.gz\n",
      "Approx 15% complete for filtered_108A_Male_Mix_AGTCAA_L004_R2.fastq.gz\n",
      "Approx 20% complete for filtered_108A_Male_Mix_AGTCAA_L004_R2.fastq.gz\n",
      "Approx 25% complete for filtered_108A_Male_Mix_AGTCAA_L004_R2.fastq.gz\n",
      "Approx 30% complete for filtered_108A_Male_Mix_AGTCAA_L004_R2.fastq.gz\n",
      "Approx 35% complete for filtered_108A_Male_Mix_AGTCAA_L004_R2.fastq.gz\n",
      "Approx 40% complete for filtered_108A_Male_Mix_AGTCAA_L004_R2.fastq.gz\n",
      "Approx 45% complete for filtered_108A_Male_Mix_AGTCAA_L004_R2.fastq.gz\n",
      "Approx 50% complete for filtered_108A_Male_Mix_AGTCAA_L004_R2.fastq.gz\n",
      "Approx 55% complete for filtered_108A_Male_Mix_AGTCAA_L004_R2.fastq.gz\n",
      "Approx 60% complete for filtered_108A_Male_Mix_AGTCAA_L004_R2.fastq.gz\n",
      "Approx 65% complete for filtered_108A_Male_Mix_AGTCAA_L004_R2.fastq.gz\n",
      "Approx 70% complete for filtered_108A_Male_Mix_AGTCAA_L004_R2.fastq.gz\n",
      "Approx 75% complete for filtered_108A_Male_Mix_AGTCAA_L004_R2.fastq.gz\n",
      "Approx 80% complete for filtered_108A_Male_Mix_AGTCAA_L004_R2.fastq.gz\n",
      "Approx 85% complete for filtered_108A_Male_Mix_AGTCAA_L004_R2.fastq.gz\n",
      "Approx 90% complete for filtered_108A_Male_Mix_AGTCAA_L004_R2.fastq.gz\n",
      "Approx 95% complete for filtered_108A_Male_Mix_AGTCAA_L004_R2.fastq.gz\n",
      "Analysis complete for filtered_108A_Male_Mix_AGTCAA_L004_R2.fastq.gz\n"
     ]
    }
   ],
   "source": [
    "!/Applications/bioinfo/FastQC/fastqc \\\n",
    "/Volumes/web/nightingales/O_lurida/filtered_108A_Male_Mix_AGTCAA_L004_R2.fastq.gz \\\n",
    "-o /Users/sr320/data-genomic/tentacle/"
   ]
  },
  {
   "cell_type": "code",
   "execution_count": 15,
   "metadata": {
    "collapsed": false
   },
   "outputs": [
    {
     "name": "stdout",
     "output_type": "stream",
     "text": [
      "Started analysis of filtered_108A_Male_Mix_AGTCAA_L007_R1.fastq.gz\n",
      "Approx 5% complete for filtered_108A_Male_Mix_AGTCAA_L007_R1.fastq.gz\n",
      "Approx 10% complete for filtered_108A_Male_Mix_AGTCAA_L007_R1.fastq.gz\n",
      "Approx 15% complete for filtered_108A_Male_Mix_AGTCAA_L007_R1.fastq.gz\n",
      "Approx 20% complete for filtered_108A_Male_Mix_AGTCAA_L007_R1.fastq.gz\n",
      "Approx 25% complete for filtered_108A_Male_Mix_AGTCAA_L007_R1.fastq.gz\n",
      "Approx 30% complete for filtered_108A_Male_Mix_AGTCAA_L007_R1.fastq.gz\n",
      "Approx 35% complete for filtered_108A_Male_Mix_AGTCAA_L007_R1.fastq.gz\n",
      "Approx 40% complete for filtered_108A_Male_Mix_AGTCAA_L007_R1.fastq.gz\n",
      "Approx 45% complete for filtered_108A_Male_Mix_AGTCAA_L007_R1.fastq.gz\n",
      "Approx 50% complete for filtered_108A_Male_Mix_AGTCAA_L007_R1.fastq.gz\n",
      "Approx 55% complete for filtered_108A_Male_Mix_AGTCAA_L007_R1.fastq.gz\n",
      "Approx 60% complete for filtered_108A_Male_Mix_AGTCAA_L007_R1.fastq.gz\n",
      "Approx 65% complete for filtered_108A_Male_Mix_AGTCAA_L007_R1.fastq.gz\n",
      "Approx 70% complete for filtered_108A_Male_Mix_AGTCAA_L007_R1.fastq.gz\n",
      "Approx 75% complete for filtered_108A_Male_Mix_AGTCAA_L007_R1.fastq.gz\n",
      "Approx 80% complete for filtered_108A_Male_Mix_AGTCAA_L007_R1.fastq.gz\n",
      "Approx 85% complete for filtered_108A_Male_Mix_AGTCAA_L007_R1.fastq.gz\n",
      "Approx 90% complete for filtered_108A_Male_Mix_AGTCAA_L007_R1.fastq.gz\n",
      "Approx 95% complete for filtered_108A_Male_Mix_AGTCAA_L007_R1.fastq.gz\n",
      "Analysis complete for filtered_108A_Male_Mix_AGTCAA_L007_R1.fastq.gz\n"
     ]
    }
   ],
   "source": [
    "!/Applications/bioinfo/FastQC/fastqc \\\n",
    "/Volumes/web/nightingales/O_lurida/filtered_108A_Male_Mix_AGTCAA_L007_R1.fastq.gz \\\n",
    "-o /Users/sr320/data-genomic/tentacle/"
   ]
  },
  {
   "cell_type": "code",
   "execution_count": 16,
   "metadata": {
    "collapsed": false
   },
   "outputs": [
    {
     "name": "stdout",
     "output_type": "stream",
     "text": [
      "Started analysis of filtered_400_GTCCGC_L004_R1.fastq.gz\n",
      "Approx 5% complete for filtered_400_GTCCGC_L004_R1.fastq.gz\n",
      "Approx 10% complete for filtered_400_GTCCGC_L004_R1.fastq.gz\n",
      "Approx 15% complete for filtered_400_GTCCGC_L004_R1.fastq.gz\n",
      "Approx 20% complete for filtered_400_GTCCGC_L004_R1.fastq.gz\n",
      "Approx 25% complete for filtered_400_GTCCGC_L004_R1.fastq.gz\n",
      "Approx 30% complete for filtered_400_GTCCGC_L004_R1.fastq.gz\n",
      "Approx 35% complete for filtered_400_GTCCGC_L004_R1.fastq.gz\n",
      "Approx 40% complete for filtered_400_GTCCGC_L004_R1.fastq.gz\n",
      "Approx 45% complete for filtered_400_GTCCGC_L004_R1.fastq.gz\n",
      "Approx 50% complete for filtered_400_GTCCGC_L004_R1.fastq.gz\n",
      "Approx 55% complete for filtered_400_GTCCGC_L004_R1.fastq.gz\n",
      "Approx 60% complete for filtered_400_GTCCGC_L004_R1.fastq.gz\n",
      "Approx 65% complete for filtered_400_GTCCGC_L004_R1.fastq.gz\n",
      "Approx 70% complete for filtered_400_GTCCGC_L004_R1.fastq.gz\n",
      "Approx 75% complete for filtered_400_GTCCGC_L004_R1.fastq.gz\n",
      "Approx 80% complete for filtered_400_GTCCGC_L004_R1.fastq.gz\n",
      "Approx 85% complete for filtered_400_GTCCGC_L004_R1.fastq.gz\n",
      "Approx 90% complete for filtered_400_GTCCGC_L004_R1.fastq.gz\n",
      "Approx 95% complete for filtered_400_GTCCGC_L004_R1.fastq.gz\n",
      "Analysis complete for filtered_400_GTCCGC_L004_R1.fastq.gz\n"
     ]
    }
   ],
   "source": [
    "!/Applications/bioinfo/FastQC/fastqc \\\n",
    "/Volumes/web/nightingales/O_lurida/filtered_400_GTCCGC_L004_R1.fastq.gz \\\n",
    "-o /Users/sr320/data-genomic/tentacle/"
   ]
  },
  {
   "cell_type": "code",
   "execution_count": 17,
   "metadata": {
    "collapsed": false
   },
   "outputs": [
    {
     "name": "stdout",
     "output_type": "stream",
     "text": [
      "Started analysis of filtered_400_NoIndex_L006_R1.fastq.gz\n",
      "Approx 5% complete for filtered_400_NoIndex_L006_R1.fastq.gz\n",
      "Approx 10% complete for filtered_400_NoIndex_L006_R1.fastq.gz\n",
      "Approx 15% complete for filtered_400_NoIndex_L006_R1.fastq.gz\n",
      "Approx 20% complete for filtered_400_NoIndex_L006_R1.fastq.gz\n",
      "Approx 25% complete for filtered_400_NoIndex_L006_R1.fastq.gz\n",
      "Approx 30% complete for filtered_400_NoIndex_L006_R1.fastq.gz\n",
      "Approx 35% complete for filtered_400_NoIndex_L006_R1.fastq.gz\n",
      "Approx 40% complete for filtered_400_NoIndex_L006_R1.fastq.gz\n",
      "Approx 45% complete for filtered_400_NoIndex_L006_R1.fastq.gz\n",
      "Approx 50% complete for filtered_400_NoIndex_L006_R1.fastq.gz\n",
      "Approx 55% complete for filtered_400_NoIndex_L006_R1.fastq.gz\n",
      "Approx 60% complete for filtered_400_NoIndex_L006_R1.fastq.gz\n",
      "Approx 65% complete for filtered_400_NoIndex_L006_R1.fastq.gz\n",
      "Approx 70% complete for filtered_400_NoIndex_L006_R1.fastq.gz\n",
      "Approx 75% complete for filtered_400_NoIndex_L006_R1.fastq.gz\n",
      "Approx 80% complete for filtered_400_NoIndex_L006_R1.fastq.gz\n",
      "Approx 85% complete for filtered_400_NoIndex_L006_R1.fastq.gz\n",
      "Approx 90% complete for filtered_400_NoIndex_L006_R1.fastq.gz\n",
      "Approx 95% complete for filtered_400_NoIndex_L006_R1.fastq.gz\n",
      "Analysis complete for filtered_400_NoIndex_L006_R1.fastq.gz\n"
     ]
    }
   ],
   "source": [
    "!/Applications/bioinfo/FastQC/fastqc \\\n",
    "/Volumes/web/nightingales/O_lurida/filtered_400_NoIndex_L006_R1.fastq.gz \\\n",
    "-o /Users/sr320/data-genomic/tentacle/"
   ]
  },
  {
   "cell_type": "code",
   "execution_count": 18,
   "metadata": {
    "collapsed": false
   },
   "outputs": [
    {
     "name": "stdout",
     "output_type": "stream",
     "text": [
      "Started analysis of filtered_1000_GTGAAA_L004_R1.fastq.gz\n",
      "Approx 5% complete for filtered_1000_GTGAAA_L004_R1.fastq.gz\n",
      "Approx 10% complete for filtered_1000_GTGAAA_L004_R1.fastq.gz\n",
      "Approx 15% complete for filtered_1000_GTGAAA_L004_R1.fastq.gz\n",
      "Approx 20% complete for filtered_1000_GTGAAA_L004_R1.fastq.gz\n",
      "Approx 25% complete for filtered_1000_GTGAAA_L004_R1.fastq.gz\n",
      "Approx 30% complete for filtered_1000_GTGAAA_L004_R1.fastq.gz\n",
      "Approx 35% complete for filtered_1000_GTGAAA_L004_R1.fastq.gz\n",
      "Approx 40% complete for filtered_1000_GTGAAA_L004_R1.fastq.gz\n",
      "Approx 45% complete for filtered_1000_GTGAAA_L004_R1.fastq.gz\n",
      "Approx 50% complete for filtered_1000_GTGAAA_L004_R1.fastq.gz\n",
      "Approx 55% complete for filtered_1000_GTGAAA_L004_R1.fastq.gz\n",
      "Approx 60% complete for filtered_1000_GTGAAA_L004_R1.fastq.gz\n",
      "Approx 65% complete for filtered_1000_GTGAAA_L004_R1.fastq.gz\n",
      "Approx 70% complete for filtered_1000_GTGAAA_L004_R1.fastq.gz\n",
      "Approx 75% complete for filtered_1000_GTGAAA_L004_R1.fastq.gz\n",
      "Approx 80% complete for filtered_1000_GTGAAA_L004_R1.fastq.gz\n",
      "Approx 85% complete for filtered_1000_GTGAAA_L004_R1.fastq.gz\n",
      "Approx 90% complete for filtered_1000_GTGAAA_L004_R1.fastq.gz\n",
      "Approx 95% complete for filtered_1000_GTGAAA_L004_R1.fastq.gz\n",
      "Analysis complete for filtered_1000_GTGAAA_L004_R1.fastq.gz\n"
     ]
    }
   ],
   "source": [
    "!/Applications/bioinfo/FastQC/fastqc \\\n",
    "/Volumes/web/nightingales/O_lurida/filtered_1000_GTGAAA_L004_R1.fastq.gz \\\n",
    "-o /Users/sr320/data-genomic/tentacle/"
   ]
  },
  {
   "cell_type": "code",
   "execution_count": 19,
   "metadata": {
    "collapsed": false
   },
   "outputs": [
    {
     "name": "stdout",
     "output_type": "stream",
     "text": [
      "Started analysis of filtered_1600_GTGGCC_L004_R1.fastq.gz\n",
      "Approx 5% complete for filtered_1600_GTGGCC_L004_R1.fastq.gz\n",
      "Approx 10% complete for filtered_1600_GTGGCC_L004_R1.fastq.gz\n",
      "Approx 15% complete for filtered_1600_GTGGCC_L004_R1.fastq.gz\n",
      "Approx 20% complete for filtered_1600_GTGGCC_L004_R1.fastq.gz\n",
      "Approx 25% complete for filtered_1600_GTGGCC_L004_R1.fastq.gz\n",
      "Approx 30% complete for filtered_1600_GTGGCC_L004_R1.fastq.gz\n",
      "Approx 35% complete for filtered_1600_GTGGCC_L004_R1.fastq.gz\n",
      "Approx 40% complete for filtered_1600_GTGGCC_L004_R1.fastq.gz\n",
      "Approx 45% complete for filtered_1600_GTGGCC_L004_R1.fastq.gz\n",
      "Approx 50% complete for filtered_1600_GTGGCC_L004_R1.fastq.gz\n",
      "Approx 55% complete for filtered_1600_GTGGCC_L004_R1.fastq.gz\n",
      "Approx 60% complete for filtered_1600_GTGGCC_L004_R1.fastq.gz\n",
      "Approx 65% complete for filtered_1600_GTGGCC_L004_R1.fastq.gz\n",
      "Approx 70% complete for filtered_1600_GTGGCC_L004_R1.fastq.gz\n",
      "Approx 75% complete for filtered_1600_GTGGCC_L004_R1.fastq.gz\n",
      "Approx 80% complete for filtered_1600_GTGGCC_L004_R1.fastq.gz\n",
      "Approx 85% complete for filtered_1600_GTGGCC_L004_R1.fastq.gz\n",
      "Approx 90% complete for filtered_1600_GTGGCC_L004_R1.fastq.gz\n",
      "Approx 95% complete for filtered_1600_GTGGCC_L004_R1.fastq.gz\n",
      "Approx 100% complete for filtered_1600_GTGGCC_L004_R1.fastq.gz\n",
      "Analysis complete for filtered_1600_GTGGCC_L004_R1.fastq.gz\n"
     ]
    }
   ],
   "source": [
    "!/Applications/bioinfo/FastQC/fastqc \\\n",
    "/Volumes/web/nightingales/O_lurida/filtered_1600_GTGGCC_L004_R1.fastq.gz \\\n",
    "-o /Users/sr320/data-genomic/tentacle/"
   ]
  },
  {
   "cell_type": "code",
   "execution_count": 20,
   "metadata": {
    "collapsed": false
   },
   "outputs": [
    {
     "name": "stdout",
     "output_type": "stream",
     "text": [
      "Started analysis of filtered_2000_NoIndex_L007_R1.fastq.gz\n",
      "Approx 5% complete for filtered_2000_NoIndex_L007_R1.fastq.gz\n",
      "Approx 10% complete for filtered_2000_NoIndex_L007_R1.fastq.gz\n",
      "Approx 15% complete for filtered_2000_NoIndex_L007_R1.fastq.gz\n",
      "Approx 20% complete for filtered_2000_NoIndex_L007_R1.fastq.gz\n",
      "Approx 25% complete for filtered_2000_NoIndex_L007_R1.fastq.gz\n",
      "Approx 30% complete for filtered_2000_NoIndex_L007_R1.fastq.gz\n",
      "Approx 35% complete for filtered_2000_NoIndex_L007_R1.fastq.gz\n",
      "Approx 40% complete for filtered_2000_NoIndex_L007_R1.fastq.gz\n",
      "Approx 45% complete for filtered_2000_NoIndex_L007_R1.fastq.gz\n",
      "Approx 50% complete for filtered_2000_NoIndex_L007_R1.fastq.gz\n",
      "Approx 55% complete for filtered_2000_NoIndex_L007_R1.fastq.gz\n",
      "Approx 60% complete for filtered_2000_NoIndex_L007_R1.fastq.gz\n",
      "Approx 65% complete for filtered_2000_NoIndex_L007_R1.fastq.gz\n",
      "Approx 70% complete for filtered_2000_NoIndex_L007_R1.fastq.gz\n",
      "Approx 75% complete for filtered_2000_NoIndex_L007_R1.fastq.gz\n",
      "Approx 80% complete for filtered_2000_NoIndex_L007_R1.fastq.gz\n",
      "Approx 85% complete for filtered_2000_NoIndex_L007_R1.fastq.gz\n",
      "Approx 90% complete for filtered_2000_NoIndex_L007_R1.fastq.gz\n",
      "Approx 95% complete for filtered_2000_NoIndex_L007_R1.fastq.gz\n",
      "Analysis complete for filtered_2000_NoIndex_L007_R1.fastq.gz\n"
     ]
    }
   ],
   "source": [
    "!/Applications/bioinfo/FastQC/fastqc \\\n",
    "/Volumes/web/nightingales/O_lurida/filtered_2000_NoIndex_L007_R1.fastq.gz \\\n",
    "-o /Users/sr320/data-genomic/tentacle/"
   ]
  },
  {
   "cell_type": "code",
   "execution_count": 21,
   "metadata": {
    "collapsed": false
   },
   "outputs": [
    {
     "name": "stdout",
     "output_type": "stream",
     "text": [
      "Started analysis of filtered_2200_GTTTCG_L004_R1.fastq.gz\n",
      "Approx 5% complete for filtered_2200_GTTTCG_L004_R1.fastq.gz\n",
      "Approx 10% complete for filtered_2200_GTTTCG_L004_R1.fastq.gz\n",
      "Approx 15% complete for filtered_2200_GTTTCG_L004_R1.fastq.gz\n",
      "Approx 20% complete for filtered_2200_GTTTCG_L004_R1.fastq.gz\n",
      "Approx 25% complete for filtered_2200_GTTTCG_L004_R1.fastq.gz\n",
      "Approx 30% complete for filtered_2200_GTTTCG_L004_R1.fastq.gz\n",
      "Approx 35% complete for filtered_2200_GTTTCG_L004_R1.fastq.gz\n",
      "Approx 40% complete for filtered_2200_GTTTCG_L004_R1.fastq.gz\n",
      "Approx 45% complete for filtered_2200_GTTTCG_L004_R1.fastq.gz\n",
      "Approx 50% complete for filtered_2200_GTTTCG_L004_R1.fastq.gz\n",
      "Approx 55% complete for filtered_2200_GTTTCG_L004_R1.fastq.gz\n",
      "Approx 60% complete for filtered_2200_GTTTCG_L004_R1.fastq.gz\n",
      "Approx 65% complete for filtered_2200_GTTTCG_L004_R1.fastq.gz\n",
      "Approx 70% complete for filtered_2200_GTTTCG_L004_R1.fastq.gz\n",
      "Approx 75% complete for filtered_2200_GTTTCG_L004_R1.fastq.gz\n",
      "Approx 80% complete for filtered_2200_GTTTCG_L004_R1.fastq.gz\n",
      "Approx 85% complete for filtered_2200_GTTTCG_L004_R1.fastq.gz\n",
      "Approx 90% complete for filtered_2200_GTTTCG_L004_R1.fastq.gz\n",
      "Approx 95% complete for filtered_2200_GTTTCG_L004_R1.fastq.gz\n",
      "Analysis complete for filtered_2200_GTTTCG_L004_R1.fastq.gz\n"
     ]
    }
   ],
   "source": [
    "!/Applications/bioinfo/FastQC/fastqc \\\n",
    "/Volumes/web/nightingales/O_lurida/filtered_2200_GTTTCG_L004_R1.fastq.gz \\\n",
    "-o /Users/sr320/data-genomic/tentacle/"
   ]
  },
  {
   "cell_type": "code",
   "execution_count": 4,
   "metadata": {
    "collapsed": false
   },
   "outputs": [
    {
     "name": "stdout",
     "output_type": "stream",
     "text": [
      "Started analysis of filtered_106A_Female_Mix_GATCAG_L004_R2.fastq.gz\n",
      "Approx 5% complete for filtered_106A_Female_Mix_GATCAG_L004_R2.fastq.gz\n",
      "Approx 10% complete for filtered_106A_Female_Mix_GATCAG_L004_R2.fastq.gz\n",
      "Approx 15% complete for filtered_106A_Female_Mix_GATCAG_L004_R2.fastq.gz\n",
      "Approx 20% complete for filtered_106A_Female_Mix_GATCAG_L004_R2.fastq.gz\n",
      "Approx 25% complete for filtered_106A_Female_Mix_GATCAG_L004_R2.fastq.gz\n",
      "Approx 30% complete for filtered_106A_Female_Mix_GATCAG_L004_R2.fastq.gz\n",
      "Approx 35% complete for filtered_106A_Female_Mix_GATCAG_L004_R2.fastq.gz\n",
      "Approx 40% complete for filtered_106A_Female_Mix_GATCAG_L004_R2.fastq.gz\n",
      "Approx 45% complete for filtered_106A_Female_Mix_GATCAG_L004_R2.fastq.gz\n",
      "Approx 50% complete for filtered_106A_Female_Mix_GATCAG_L004_R2.fastq.gz\n",
      "Approx 55% complete for filtered_106A_Female_Mix_GATCAG_L004_R2.fastq.gz\n",
      "Approx 60% complete for filtered_106A_Female_Mix_GATCAG_L004_R2.fastq.gz\n",
      "Approx 65% complete for filtered_106A_Female_Mix_GATCAG_L004_R2.fastq.gz\n",
      "Approx 70% complete for filtered_106A_Female_Mix_GATCAG_L004_R2.fastq.gz\n",
      "Approx 75% complete for filtered_106A_Female_Mix_GATCAG_L004_R2.fastq.gz\n",
      "Approx 80% complete for filtered_106A_Female_Mix_GATCAG_L004_R2.fastq.gz\n",
      "Approx 85% complete for filtered_106A_Female_Mix_GATCAG_L004_R2.fastq.gz\n",
      "Approx 90% complete for filtered_106A_Female_Mix_GATCAG_L004_R2.fastq.gz\n",
      "Approx 95% complete for filtered_106A_Female_Mix_GATCAG_L004_R2.fastq.gz\n",
      "Analysis complete for filtered_106A_Female_Mix_GATCAG_L004_R2.fastq.gz\n"
     ]
    }
   ],
   "source": [
    "!/Applications/bioinfo/FastQC/fastqc \\\n",
    "/Volumes/web/nightingales/O_lurida/filtered_106A_Female_Mix_GATCAG_L004_R2.fastq.gz \\\n",
    "-o /Users/sr320/data-genomic/tentacle/"
   ]
  },
  {
   "cell_type": "code",
   "execution_count": null,
   "metadata": {
    "collapsed": true
   },
   "outputs": [],
   "source": []
  },
  {
   "cell_type": "code",
   "execution_count": null,
   "metadata": {
    "collapsed": true
   },
   "outputs": [],
   "source": []
  }
 ],
 "metadata": {
  "kernelspec": {
   "display_name": "Python 2",
   "language": "python",
   "name": "python2"
  },
  "language_info": {
   "codemirror_mode": {
    "name": "ipython",
    "version": 2
   },
   "file_extension": ".py",
   "mimetype": "text/x-python",
   "name": "python",
   "nbconvert_exporter": "python",
   "pygments_lexer": "ipython2",
   "version": "2.7.10"
  }
 },
 "nbformat": 4,
 "nbformat_minor": 0
}
