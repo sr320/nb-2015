{
 "cells": [
  {
   "cell_type": "markdown",
   "metadata": {},
   "source": [
    "# Assembly O_lurida version 5"
   ]
  },
  {
   "cell_type": "code",
   "execution_count": 4,
   "metadata": {
    "collapsed": false
   },
   "outputs": [
    {
     "name": "stdout",
     "output_type": "stream",
     "text": [
      "/Users/sr320/data-genomic/tentacle\n"
     ]
    }
   ],
   "source": [
    "cd /Users/sr320/data-genomic/tentacle"
   ]
  },
  {
   "cell_type": "code",
   "execution_count": 5,
   "metadata": {
    "collapsed": true
   },
   "outputs": [],
   "source": [
    "mkdir OlyOv5"
   ]
  },
  {
   "cell_type": "code",
   "execution_count": 5,
   "metadata": {
    "collapsed": false
   },
   "outputs": [
    {
     "name": "stdout",
     "output_type": "stream",
     "text": [
      "/Users/sr320/data-genomic/tentacle/OlyOv5\n"
     ]
    }
   ],
   "source": [
    "cd OlyOv5/"
   ]
  },
  {
   "cell_type": "code",
   "execution_count": null,
   "metadata": {
    "collapsed": true
   },
   "outputs": [],
   "source": [
    "!cp /Volumes/web-1/nightingales/O_lurida/filter* /"
   ]
  },
  {
   "cell_type": "code",
   "execution_count": 6,
   "metadata": {
    "collapsed": false
   },
   "outputs": [
    {
     "name": "stdout",
     "output_type": "stream",
     "text": [
      "\u001b[31mfiltered_1000_GTGAAA_L004_R1.fastq.gz\u001b[m\u001b[m            \u001b[31mfiltered_108A_Female_Mix_GGCTAC_L007_R1.fastq.gz\u001b[m\u001b[m\r\n",
      "\u001b[31mfiltered_106A_Female_Mix_GATCAG_L004_R1.fastq.gz\u001b[m\u001b[m \u001b[31mfiltered_108A_Male_Mix_AGTCAA_L004_R1.fastq.gz\u001b[m\u001b[m\r\n",
      "\u001b[31mfiltered_106A_Female_Mix_GATCAG_L004_R2.fastq.gz\u001b[m\u001b[m \u001b[31mfiltered_108A_Male_Mix_AGTCAA_L004_R2.fastq.gz\u001b[m\u001b[m\r\n",
      "\u001b[31mfiltered_106A_Female_Mix_GATCAG_L007_R1.fastq.gz\u001b[m\u001b[m \u001b[31mfiltered_108A_Male_Mix_AGTCAA_L007_R1.fastq.gz\u001b[m\u001b[m\r\n",
      "\u001b[31mfiltered_106A_Male_Mix_TAGCTT_L004_R1.fastq.gz\u001b[m\u001b[m   \u001b[31mfiltered_1600_GTGGCC_L004_R1.fastq.gz\u001b[m\u001b[m\r\n",
      "\u001b[31mfiltered_106A_Male_Mix_TAGCTT_L004_R2.fastq.gz\u001b[m\u001b[m   \u001b[31mfiltered_2000_NoIndex_L007_R1.fastq.gz\u001b[m\u001b[m\r\n",
      "\u001b[31mfiltered_106A_Male_Mix_TAGCTT_L007_R1.fastq.gz\u001b[m\u001b[m   \u001b[31mfiltered_2200_GTTTCG_L004_R1.fastq.gz\u001b[m\u001b[m\r\n",
      "\u001b[31mfiltered_108A_Female_Mix_GGCTAC_L004_R1.fastq.gz\u001b[m\u001b[m \u001b[31mfiltered_400_GTCCGC_L004_R1.fastq.gz\u001b[m\u001b[m\r\n",
      "\u001b[31mfiltered_108A_Female_Mix_GGCTAC_L004_R2.fastq.gz\u001b[m\u001b[m \u001b[31mfiltered_400_NoIndex_L006_R1.fastq.gz\u001b[m\u001b[m\r\n"
     ]
    }
   ],
   "source": [
    "!ls"
   ]
  },
  {
   "cell_type": "code",
   "execution_count": 7,
   "metadata": {
    "collapsed": false
   },
   "outputs": [],
   "source": [
    "%%bash\n",
    "for i in fi*; do md5 $i >> PostTransferMD5hashes.md5; done"
   ]
  },
  {
   "cell_type": "code",
   "execution_count": 14,
   "metadata": {
    "collapsed": false
   },
   "outputs": [
    {
     "name": "stdout",
     "output_type": "stream",
     "text": [
      "MD5 (filtered_1000_GTGAAA_L004_R1.fastq.gz) = 7217b5fa4354c20280fb5e3cbf1a9b3b\r\n",
      "MD5 (filtered_106A_Female_Mix_GATCAG_L004_R1.fastq.gz) = 51866975b9eefe7b857b6438b999d3d0\r\n",
      "MD5 (filtered_106A_Female_Mix_GATCAG_L004_R2.fastq.gz) = 7c60c85613b5f95c884fd5dbfe060306\r\n",
      "MD5 (filtered_106A_Female_Mix_GATCAG_L007_R1.fastq.gz) = 390c9e51ba52176dbe23e1d2947c6339\r\n",
      "MD5 (filtered_106A_Male_Mix_TAGCTT_L004_R1.fastq.gz) = d7255d5ca68f87baddc1b20304bb5654\r\n",
      "MD5 (filtered_106A_Male_Mix_TAGCTT_L004_R2.fastq.gz) = 6311f82de95722b9ac76b67ba46d90c1\r\n",
      "MD5 (filtered_106A_Male_Mix_TAGCTT_L007_R1.fastq.gz) = a4c46ad4eb42638c3306f0bced352322\r\n",
      "MD5 (filtered_108A_Female_Mix_GGCTAC_L004_R1.fastq.gz) = 0782efb8381e6b914ce89158615f18c7\r\n",
      "MD5 (filtered_108A_Female_Mix_GGCTAC_L004_R2.fastq.gz) = 5e1c8cce7314d2e4ea01230e8c5b4421\r\n",
      "MD5 (filtered_108A_Female_Mix_GGCTAC_L007_R1.fastq.gz) = 37c11f15afff32bc57478c48cb3a4772\r\n",
      "MD5 (filtered_108A_Male_Mix_AGTCAA_L004_R1.fastq.gz) = 9ddbc72c8152f86464ff7e66812ce7cc\r\n",
      "MD5 (filtered_108A_Male_Mix_AGTCAA_L004_R2.fastq.gz) = 2f9aaf2d2bbee41908be9fcba0fa21d8\r\n",
      "MD5 (filtered_108A_Male_Mix_AGTCAA_L007_R1.fastq.gz) = 940a0aca7ee0a7a167aded11c3658495\r\n",
      "MD5 (filtered_1600_GTGGCC_L004_R1.fastq.gz) = a54bed5a92d616cc9db35bfd64406346\r\n",
      "MD5 (filtered_2000_NoIndex_L007_R1.fastq.gz) = f934bd35a035fef8664b5e056b937f2e\r\n",
      "MD5 (filtered_2200_GTTTCG_L004_R1.fastq.gz) = 3df87eae8d7a1672f8f7c7f91ad11ce3\r\n",
      "MD5 (filtered_400_GTCCGC_L004_R1.fastq.gz) = b462a8b5f55781ffcce105735a5c87c3\r\n",
      "MD5 (filtered_400_NoIndex_L006_R1.fastq.gz) = 9686e4a27a308b9a5d595ca3170c1fac\r\n"
     ]
    }
   ],
   "source": [
    "!cat PostTransferMD5hashes.md5"
   ]
  },
  {
   "cell_type": "code",
   "execution_count": 12,
   "metadata": {
    "collapsed": false
   },
   "outputs": [
    {
     "name": "stdout",
     "output_type": "stream",
     "text": [
      "MD5 (filtered_1000_GTGAAA_L004_R1.fastq.gz) = 7217b5fa4354c20280fb5e3cbf1a9b3b\r\n",
      "MD5 (filtered_106A_Female_Mix_GATCAG_L004_R1.fastq.gz) = 51866975b9eefe7b857b6438b999d3d0\r\n",
      "MD5 (filtered_106A_Female_Mix_GATCAG_L004_R2.fastq.gz) = 7c60c85613b5f95c884fd5dbfe060306\r\n",
      "MD5 (filtered_106A_Female_Mix_GATCAG_L007_R1.fastq.gz) = 390c9e51ba52176dbe23e1d2947c6339\r\n",
      "MD5 (filtered_106A_Male_Mix_TAGCTT_L004_R1.fastq.gz) = d7255d5ca68f87baddc1b20304bb5654\r\n",
      "MD5 (filtered_106A_Male_Mix_TAGCTT_L004_R2.fastq.gz) = 6311f82de95722b9ac76b67ba46d90c1\r\n",
      "MD5 (filtered_106A_Male_Mix_TAGCTT_L007_R1.fastq.gz) = a4c46ad4eb42638c3306f0bced352322\r\n",
      "MD5 (filtered_108A_Female_Mix_GGCTAC_L004_R1.fastq.gz) = 0782efb8381e6b914ce89158615f18c7\r\n",
      "MD5 (filtered_108A_Female_Mix_GGCTAC_L004_R2.fastq.gz) = 5e1c8cce7314d2e4ea01230e8c5b4421\r\n",
      "MD5 (filtered_108A_Female_Mix_GGCTAC_L007_R1.fastq.gz) = 37c11f15afff32bc57478c48cb3a4772\r\n",
      "MD5 (filtered_108A_Male_Mix_AGTCAA_L004_R1.fastq.gz) = 9ddbc72c8152f86464ff7e66812ce7cc\r\n",
      "MD5 (filtered_108A_Male_Mix_AGTCAA_L004_R2.fastq.gz) = 2f9aaf2d2bbee41908be9fcba0fa21d8\r\n",
      "MD5 (filtered_108A_Male_Mix_AGTCAA_L007_R1.fastq.gz) = 940a0aca7ee0a7a167aded11c3658495\r\n",
      "MD5 (filtered_1600_GTGGCC_L004_R1.fastq.gz) = a54bed5a92d616cc9db35bfd64406346\r\n",
      "MD5 (filtered_2000_NoIndex_L007_R1.fastq.gz) = f934bd35a035fef8664b5e056b937f2e\r\n",
      "MD5 (filtered_2200_GTTTCG_L004_R1.fastq.gz) = 3df87eae8d7a1672f8f7c7f91ad11ce3\r\n",
      "MD5 (filtered_400_GTCCGC_L004_R1.fastq.gz) = b462a8b5f55781ffcce105735a5c87c3\r\n",
      "MD5 (filtered_400_NoIndex_L006_R1.fastq.gz) = 9686e4a27a308b9a5d595ca3170c1fac\r\n",
      "MD5 (m130619_081336_42134_c100525122550000001823081109281326_s1_p0.bas.h5.gz) = 4842624da6520268f6113687d685f6d7\r\n"
     ]
    }
   ],
   "source": [
    "!cat /Volumes/web/nightingales/O_lurida/checksums.md5"
   ]
  },
  {
   "cell_type": "code",
   "execution_count": 13,
   "metadata": {
    "collapsed": false
   },
   "outputs": [
    {
     "name": "stdout",
     "output_type": "stream",
     "text": [
      "19d18\r\n",
      "< MD5 (m130619_081336_42134_c100525122550000001823081109281326_s1_p0.bas.h5.gz) = 4842624da6520268f6113687d685f6d7\r\n"
     ]
    }
   ],
   "source": [
    "!diff /Volumes/web/nightingales/O_lurida/checksums.md5 PostTransferMD5hashes.md5\n",
    "\n"
   ]
  },
  {
   "cell_type": "markdown",
   "metadata": {},
   "source": [
    "Moved files into paired-end and single end dir"
   ]
  },
  {
   "cell_type": "code",
   "execution_count": 15,
   "metadata": {
    "collapsed": true
   },
   "outputs": [],
   "source": [
    "mkdir PE"
   ]
  },
  {
   "cell_type": "code",
   "execution_count": 16,
   "metadata": {
    "collapsed": true
   },
   "outputs": [],
   "source": [
    "mkdir SE"
   ]
  },
  {
   "cell_type": "code",
   "execution_count": 19,
   "metadata": {
    "collapsed": false
   },
   "outputs": [
    {
     "name": "stdout",
     "output_type": "stream",
     "text": [
      "\u001b[31mfiltered_106A_Female_Mix_GATCAG_L004_R1.fastq.gz\u001b[m\u001b[m \u001b[31mfiltered_108A_Female_Mix_GGCTAC_L004_R1.fastq.gz\u001b[m\u001b[m\r\n",
      "\u001b[31mfiltered_106A_Female_Mix_GATCAG_L004_R2.fastq.gz\u001b[m\u001b[m \u001b[31mfiltered_108A_Female_Mix_GGCTAC_L004_R2.fastq.gz\u001b[m\u001b[m\r\n",
      "\u001b[31mfiltered_106A_Male_Mix_TAGCTT_L004_R1.fastq.gz\u001b[m\u001b[m   \u001b[31mfiltered_108A_Male_Mix_AGTCAA_L004_R1.fastq.gz\u001b[m\u001b[m\r\n",
      "\u001b[31mfiltered_106A_Male_Mix_TAGCTT_L004_R2.fastq.gz\u001b[m\u001b[m   \u001b[31mfiltered_108A_Male_Mix_AGTCAA_L004_R2.fastq.gz\u001b[m\u001b[m\r\n"
     ]
    }
   ],
   "source": [
    "!ls PE/"
   ]
  },
  {
   "cell_type": "code",
   "execution_count": 20,
   "metadata": {
    "collapsed": false
   },
   "outputs": [
    {
     "name": "stdout",
     "output_type": "stream",
     "text": [
      "\u001b[31mfiltered_1000_GTGAAA_L004_R1.fastq.gz\u001b[m\u001b[m            \u001b[31mfiltered_1600_GTGGCC_L004_R1.fastq.gz\u001b[m\u001b[m\r\n",
      "\u001b[31mfiltered_106A_Female_Mix_GATCAG_L007_R1.fastq.gz\u001b[m\u001b[m \u001b[31mfiltered_2000_NoIndex_L007_R1.fastq.gz\u001b[m\u001b[m\r\n",
      "\u001b[31mfiltered_106A_Male_Mix_TAGCTT_L007_R1.fastq.gz\u001b[m\u001b[m   \u001b[31mfiltered_2200_GTTTCG_L004_R1.fastq.gz\u001b[m\u001b[m\r\n",
      "\u001b[31mfiltered_108A_Female_Mix_GGCTAC_L007_R1.fastq.gz\u001b[m\u001b[m \u001b[31mfiltered_400_GTCCGC_L004_R1.fastq.gz\u001b[m\u001b[m\r\n",
      "\u001b[31mfiltered_108A_Male_Mix_AGTCAA_L007_R1.fastq.gz\u001b[m\u001b[m   \u001b[31mfiltered_400_NoIndex_L006_R1.fastq.gz\u001b[m\u001b[m\r\n"
     ]
    }
   ],
   "source": [
    "!ls SE/"
   ]
  },
  {
   "cell_type": "code",
   "execution_count": 21,
   "metadata": {
    "collapsed": true
   },
   "outputs": [],
   "source": [
    "!cat \\\n",
    "PE/filtered_106A_Female_Mix_GATCAG_L004_R1.fastq \\\n",
    "PE/filtered_108A_Female_Mix_GGCTAC_L004_R1.fastq \\\n",
    "PE/filtered_106A_Male_Mix_TAGCTT_L004_R1.fastq \\\n",
    "PE/filtered_108A_Male_Mix_AGTCAA_L004_R1.fastq >> R1.fastq\n",
    "!cat \\\n",
    "PE/filtered_106A_Female_Mix_GATCAG_L004_R2.fastq \\\n",
    "PE/filtered_108A_Female_Mix_GGCTAC_L004_R2.fastq \\\n",
    "PE/filtered_106A_Male_Mix_TAGCTT_L004_R2.fastq \\\n",
    "PE/filtered_108A_Male_Mix_AGTCAA_L004_R2.fastq >> R2.fastq\n",
    "!cat \\\n",
    "SE/*.fastq >> tmp.R1.fastq\n",
    "!cat tmp.R1.fastq >> R1.fastq\n"
   ]
  },
  {
   "cell_type": "code",
   "execution_count": 22,
   "metadata": {
    "collapsed": false
   },
   "outputs": [
    {
     "name": "stdout",
     "output_type": "stream",
     "text": [
      "@HWI-ST700693:263:C0K6DACXX:4:1101:1464:1969\r\n",
      "NTTCATGAAGGGGTCAACCAGAATGATCTCGTAAAACTTGTAAGATGAATCCTGTGCCACCCAGTAAGAGCTTAGC\r\n",
      "+\r\n",
      "#4=DDDDDHFFHHGGABHIICBGH<E@FHIIGEGIIIIIIIDGGIIGEIIIIIIIIIIGIGGI9=D@CECEEF@CC\r\n",
      "@HWI-ST700693:263:C0K6DACXX:4:1101:1506:1985\r\n",
      "NCCTGATTGAAAACAAAATGTCTTTGTTTTTTCTACTTTGTATGGATCAATCAATCTTATTTGTTCCTGTAGAGAT\r\n",
      "+\r\n",
      "#1=DDFFFHHHHHJJJJJIGFHHJIIIIJJJJIIJIJJJJIJJFEGJIIIIHIGIJJEHIJJJGAGHJJIIIHGD;\r\n",
      "@HWI-ST700693:263:C0K6DACXX:4:1101:1882:1979\r\n",
      "NGGGACTCTAACGAGAACCTTCCGTCATCTGGCTCTGGACATAACCATGGTTAACAAGAACACTGTCATGGTGGAG\r\n"
     ]
    }
   ],
   "source": [
    "!head R1.fastq"
   ]
  },
  {
   "cell_type": "code",
   "execution_count": null,
   "metadata": {
    "collapsed": false,
    "scrolled": true
   },
   "outputs": [
    {
     "name": "stdout",
     "output_type": "stream",
     "text": [
      "No quality encoding type selected. Assuming that the data provided uses Sanger encoded Phred scores (default)\n",
      "\n",
      "Path to Cutadapt set as: '/Users/sr320/.local/bin/cutadapt' (user defined)\n",
      "1.8.1\n",
      "Cutadapt seems to be working fine (tested command '/Users/sr320/.local/bin/cutadapt --version')\n",
      "\n",
      "\n",
      "AUTO-DETECTING ADAPTER TYPE\n",
      "===========================\n",
      "Attempting to auto-detect adapter type from the first 1 million sequences of the first file (>> R1.fastq <<)\n",
      "\n",
      "Found perfect matches for the following adapter sequences:\n",
      "Adapter type\tCount\tSequence\tSequences analysed\tPercentage\n",
      "Illumina\t5712\tAGATCGGAAGAGC\t1000000\t0.57\n",
      "Nextera\t3\tCTGTCTCTTATA\t1000000\t0.00\n",
      "smallRNA\t1\tATGGAATTCTCG\t1000000\t0.00\n",
      "Using Illumina adapter for trimming (count: 5712). Second best hit was Nextera (count: 3)\n",
      "\n",
      "Writing report to 'R1.fastq_trimming_report.txt'\n",
      "\n",
      "SUMMARISING RUN PARAMETERS\n",
      "==========================\n",
      "Input filename: R1.fastq\n",
      "Trimming mode: paired-end\n",
      "Trim Galore version: 0.4.0\n",
      "Cutadapt version: 1.8.1\n",
      "Quality Phred score cutoff: 20\n",
      "Quality encoding type selected: ASCII+33\n",
      "Adapter sequence: 'AGATCGGAAGAGC' (Illumina TruSeq, Sanger iPCR; auto-detected)\n",
      "Maximum trimming error rate: 0.1 (default)\n",
      "Minimum required adapter overlap (stringency): 1 bp\n",
      "Minimum required sequence length for both reads before a sequence pair gets removed: 20 bp\n",
      "Length cut-off for read 1: 35 bp (default)\n",
      "Length cut-off for read 2: 35 bb (default)\n",
      "\n",
      "Writing final adapter and quality trimmed output to R1_trimmed.fq\n",
      "\n",
      "\n",
      "  >>> Now performing quality (cutoff 20) and adapter trimming in a single pass for the adapter sequence: 'AGATCGGAAGAGC' from file R1.fastq <<< \n",
      "10000000 sequences processed\n",
      "20000000 sequences processed\n",
      "30000000 sequences processed\n",
      "40000000 sequences processed\n",
      "50000000 sequences processed\n"
     ]
    }
   ],
   "source": [
    "!/Applications/bioinfo/trim_galore_zip/trim_galore \\\n",
    "--paired \\\n",
    "--retain_unpaired \\\n",
    "--path_to_cutadapt /Users/sr320/.local/bin/cutadapt \\\n",
    "R1.fastq \\\n",
    "R2.fastq"
   ]
  },
  {
   "cell_type": "code",
   "execution_count": null,
   "metadata": {
    "collapsed": false
   },
   "outputs": [],
   "source": [
    "!/Applications/bioinfo/FastQC/fastqc \\\n",
    "R1_val.fastq \\\n",
    "-o /Users/sr320/data-genomic/tentacle/"
   ]
  },
  {
   "cell_type": "code",
   "execution_count": null,
   "metadata": {
    "collapsed": true
   },
   "outputs": [],
   "source": [
    "!/Applications/bioinfo/FastQC/fastqc \\\n",
    "R2_val.fastq \\\n",
    "-o /Users/sr320/data-genomic/tentacle/"
   ]
  },
  {
   "cell_type": "code",
   "execution_count": null,
   "metadata": {
    "collapsed": true
   },
   "outputs": [],
   "source": []
  }
 ],
 "metadata": {
  "kernelspec": {
   "display_name": "Python 2",
   "language": "python",
   "name": "python2"
  },
  "language_info": {
   "codemirror_mode": {
    "name": "ipython",
    "version": 2
   },
   "file_extension": ".py",
   "mimetype": "text/x-python",
   "name": "python",
   "nbconvert_exporter": "python",
   "pygments_lexer": "ipython2",
   "version": "2.7.10"
  }
 },
 "nbformat": 4,
 "nbformat_minor": 0
}
