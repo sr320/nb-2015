{
 "cells": [
  {
   "cell_type": "markdown",
   "metadata": {},
   "source": [
    "# Assembly O_lurida version 5"
   ]
  },
  {
   "cell_type": "code",
   "execution_count": 4,
   "metadata": {
    "collapsed": false
   },
   "outputs": [
    {
     "name": "stdout",
     "output_type": "stream",
     "text": [
      "/Users/sr320/data-genomic/tentacle\n"
     ]
    }
   ],
   "source": [
    "cd /Users/sr320/data-genomic/tentacle"
   ]
  },
  {
   "cell_type": "code",
   "execution_count": 5,
   "metadata": {
    "collapsed": true
   },
   "outputs": [],
   "source": [
    "mkdir OlyOv5"
   ]
  },
  {
   "cell_type": "code",
   "execution_count": 7,
   "metadata": {
    "collapsed": false
   },
   "outputs": [
    {
     "name": "stdout",
     "output_type": "stream",
     "text": [
      "/Users/sr320/data-genomic/tentacle/OlyOv5\n"
     ]
    }
   ],
   "source": [
    "cd OlyOv5/"
   ]
  },
  {
   "cell_type": "code",
   "execution_count": null,
   "metadata": {
    "collapsed": true
   },
   "outputs": [],
   "source": [
    "!cp /Volumes/web-1/nightingales/O_lurida/filter* /"
   ]
  },
  {
   "cell_type": "code",
   "execution_count": 12,
   "metadata": {
    "collapsed": false
   },
   "outputs": [
    {
     "name": "stdout",
     "output_type": "stream",
     "text": [
      "\u001b[31mfiltered_1000_GTGAAA_L004_R1.fastq.gz\u001b[m\u001b[m            \u001b[31mfiltered_108A_Female_Mix_GGCTAC_L007_R1.fastq.gz\u001b[m\u001b[m\r\n",
      "\u001b[31mfiltered_106A_Female_Mix_GATCAG_L004_R1.fastq.gz\u001b[m\u001b[m \u001b[31mfiltered_108A_Male_Mix_AGTCAA_L004_R1.fastq.gz\u001b[m\u001b[m\r\n",
      "\u001b[31mfiltered_106A_Female_Mix_GATCAG_L004_R2.fastq.gz\u001b[m\u001b[m \u001b[31mfiltered_108A_Male_Mix_AGTCAA_L004_R2.fastq.gz\u001b[m\u001b[m\r\n",
      "\u001b[31mfiltered_106A_Female_Mix_GATCAG_L007_R1.fastq.gz\u001b[m\u001b[m \u001b[31mfiltered_108A_Male_Mix_AGTCAA_L007_R1.fastq.gz\u001b[m\u001b[m\r\n",
      "\u001b[31mfiltered_106A_Male_Mix_TAGCTT_L004_R1.fastq.gz\u001b[m\u001b[m   \u001b[31mfiltered_1600_GTGGCC_L004_R1.fastq.gz\u001b[m\u001b[m\r\n",
      "\u001b[31mfiltered_106A_Male_Mix_TAGCTT_L004_R2.fastq.gz\u001b[m\u001b[m   \u001b[31mfiltered_2000_NoIndex_L007_R1.fastq.gz\u001b[m\u001b[m\r\n",
      "\u001b[31mfiltered_106A_Male_Mix_TAGCTT_L007_R1.fastq.gz\u001b[m\u001b[m   \u001b[31mfiltered_2200_GTTTCG_L004_R1.fastq.gz\u001b[m\u001b[m\r\n",
      "\u001b[31mfiltered_108A_Female_Mix_GGCTAC_L004_R1.fastq.gz\u001b[m\u001b[m \u001b[31mfiltered_400_GTCCGC_L004_R1.fastq.gz\u001b[m\u001b[m\r\n",
      "\u001b[31mfiltered_108A_Female_Mix_GGCTAC_L004_R2.fastq.gz\u001b[m\u001b[m \u001b[31mfiltered_400_NoIndex_L006_R1.fastq.gz\u001b[m\u001b[m\r\n"
     ]
    }
   ],
   "source": [
    "!ls"
   ]
  },
  {
   "cell_type": "code",
   "execution_count": null,
   "metadata": {
    "collapsed": false
   },
   "outputs": [],
   "source": [
    "%%bash\n",
    "for i in fi*; do md5 $i >> PostTransferMD5hashes.md5; done"
   ]
  },
  {
   "cell_type": "code",
   "execution_count": null,
   "metadata": {
    "collapsed": false
   },
   "outputs": [],
   "source": [
    "!cat PostTransferMD5hashes.md5"
   ]
  },
  {
   "cell_type": "code",
   "execution_count": null,
   "metadata": {
    "collapsed": false
   },
   "outputs": [],
   "source": [
    "!cat /Volumes/web-1/nightingales/O_lurida/checksums.md5"
   ]
  },
  {
   "cell_type": "code",
   "execution_count": null,
   "metadata": {
    "collapsed": false
   },
   "outputs": [],
   "source": [
    "!diff /Volumes/web-1/nightingales/O_lurida/checksums.md5 PostTransferMD5hashes.md5\n",
    "\n"
   ]
  },
  {
   "cell_type": "code",
   "execution_count": null,
   "metadata": {
    "collapsed": true
   },
   "outputs": [],
   "source": []
  }
 ],
 "metadata": {
  "kernelspec": {
   "display_name": "Python 2",
   "language": "python",
   "name": "python2"
  },
  "language_info": {
   "codemirror_mode": {
    "name": "ipython",
    "version": 2
   },
   "file_extension": ".py",
   "mimetype": "text/x-python",
   "name": "python",
   "nbconvert_exporter": "python",
   "pygments_lexer": "ipython2",
   "version": "2.7.10"
  }
 },
 "nbformat": 4,
 "nbformat_minor": 0
}
