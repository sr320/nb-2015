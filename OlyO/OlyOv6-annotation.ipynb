{
 "cells": [
  {
   "cell_type": "markdown",
   "metadata": {
    "button": false,
    "deletable": true,
    "new_sheet": false,
    "run_control": {
     "read_only": false
    }
   },
   "source": [
    "# Annotation"
   ]
  },
  {
   "cell_type": "markdown",
   "metadata": {
    "run_control": {}
   },
   "source": [
    "## Blast Swiss-Prot"
   ]
  },
  {
   "cell_type": "code",
   "execution_count": null,
   "metadata": {
    "collapsed": true,
    "run_control": {}
   },
   "outputs": [],
   "source": [
    "%%bash\n",
    "for f in query.part*\n",
    "do\n",
    "blastx \\\n",
    "-query $f \\\n",
    "-db /usr/local/bioinformatics/dbs/uniprot_sprot.fasta \\\n",
    "-evalue 1e-5 \\\n",
    "-max_target_seqs 1 \\\n",
    "-max_hsps 1 \\\n",
    "-outfmt 6 \\\n",
    "-num_threads 16 \\\n",
    "-out blastout_\"$f\"_sp \\\n",
    "2> error-blastout_\"$f\"_sp\n",
    "done"
   ]
  },
  {
   "cell_type": "code",
   "execution_count": 2,
   "metadata": {
    "collapsed": false,
    "run_control": {}
   },
   "outputs": [
    {
     "name": "stdout",
     "output_type": "stream",
     "text": [
      "TR3|c0_g1_i1\tsp|Q8TCU5|NMD3A_HUMAN\t40.48\t84\t50\t0\t5\t256\t586\t669\t7e-15\t73.6\r\n",
      "TR4|c0_g1_i1\tsp|P27473|IFI44_PANTR\t34.52\t84\t51\t2\t1\t252\t142\t221\t1e-08\t55.8\r\n",
      "TR6|c0_g1_i1\tsp|Q8N461|FXL16_HUMAN\t39.13\t92\t53\t1\t129\t395\t82\t173\t3e-14\t72.8\r\n",
      "TR8|c0_g1_i1\tsp|Q9UBX5|FBLN5_HUMAN\t40.65\t123\t66\t5\t3\t371\t123\t238\t4e-18\t83.2\r\n",
      "TR18|c0_g1_i1\tsp|Q5RJH3|CAD12_MOUSE\t33.33\t78\t46\t1\t236\t3\t247\t318\t2e-06\t48.5\r\n",
      "TR18|c0_g2_i1\tsp|O93319|CAD11_CHICK\t36.36\t77\t43\t1\t236\t6\t246\t316\t2e-06\t48.9\r\n",
      "TR27|c0_g1_i1\tsp|Q8TE56|ATS17_HUMAN\t38.10\t126\t64\t6\t526\t170\t418\t536\t5e-12\t68.2\r\n",
      "TR31|c0_g1_i1\tsp|Q6V0I7|FAT4_HUMAN\t39.84\t128\t73\t4\t6\t380\t3848\t3974\t4e-25\t  105\r\n",
      "TR31|c0_g2_i1\tsp|O94813|SLIT2_HUMAN\t34.11\t129\t81\t4\t6\t380\t984\t1112\t3e-12\t67.4\r\n",
      "TR44|c0_g1_i1\tsp|P02707|LECH_CHICK\t37.18\t78\t47\t2\t28\t258\t129\t205\t1e-10\t58.5\r\n"
     ]
    }
   ],
   "source": [
    "!head /Users/sr320/Dropbox/hummingbird-ipython-nbs/OlyO-v6/blastout_query.part-01.fasta_sp"
   ]
  },
  {
   "cell_type": "code",
   "execution_count": 4,
   "metadata": {
    "collapsed": false,
    "run_control": {}
   },
   "outputs": [],
   "source": [
    "!cat /Users/sr320/Dropbox/hummingbird-ipython-nbs/OlyO-v6/blastout_*fasta_sp \\\n",
    "> ./data/blastout_sp"
   ]
  },
  {
   "cell_type": "code",
   "execution_count": 5,
   "metadata": {
    "collapsed": false,
    "run_control": {}
   },
   "outputs": [
    {
     "name": "stdout",
     "output_type": "stream",
     "text": [
      "Error: (1431.1) FASTA-Reader: Warning: FASTA-Reader: Title is very long: 2640 characters (max is 1000)\r\n",
      "Error: (1431.1) FASTA-Reader: Warning: FASTA-Reader: Title is very long: 4139 characters (max is 1000)\r\n",
      "Error: (1431.1) FASTA-Reader: Warning: FASTA-Reader: Title is very long: 2778 characters (max is 1000)\r\n",
      "Error: (1431.1) FASTA-Reader: Warning: FASTA-Reader: Title is very long: 3583 characters (max is 1000)\r\n",
      "Error: (1431.1) FASTA-Reader: Warning: FASTA-Reader: Title is very long: 3732 characters (max is 1000)\r\n",
      "Error: (1431.1) FASTA-Reader: Warning: FASTA-Reader: Title is very long: 3603 characters (max is 1000)\r\n",
      "Error: (1431.1) FASTA-Reader: Warning: FASTA-Reader: Title is very long: 1441 characters (max is 1000)\r\n",
      "Error: (1431.1) FASTA-Reader: Warning: FASTA-Reader: Title is very long: 2110 characters (max is 1000)\r\n",
      "Error: (1431.1) FASTA-Reader: Warning: FASTA-Reader: Title is very long: 3034 characters (max is 1000)\r\n",
      "Error: (1431.1) FASTA-Reader: Warning: FASTA-Reader: Title is very long: 3109 characters (max is 1000)\r\n"
     ]
    }
   ],
   "source": [
    "!head /Users/sr320/Dropbox/hummingbird-ipython-nbs/OlyO-v6/error-blastout_query.part-10.fasta_sp"
   ]
  },
  {
   "cell_type": "code",
   "execution_count": 7,
   "metadata": {
    "collapsed": false,
    "run_control": {}
   },
   "outputs": [
    {
     "name": "stdout",
     "output_type": "stream",
     "text": [
      "   29572 ./data/blastout_sp\r\n"
     ]
    }
   ],
   "source": [
    "!wc -l ./data/blastout_sp"
   ]
  },
  {
   "cell_type": "code",
   "execution_count": 8,
   "metadata": {
    "collapsed": false,
    "run_control": {}
   },
   "outputs": [
    {
     "name": "stdout",
     "output_type": "stream",
     "text": [
      "    4512 /Users/sr320/Dropbox/hummingbird-ipython-nbs/OlyO-v6/blastout_query.part-01.fasta_sp\r\n"
     ]
    }
   ],
   "source": [
    "!wc -l /Users/sr320/Dropbox/hummingbird-ipython-nbs/OlyO-v6/blastout_query.part-01.fasta_sp"
   ]
  },
  {
   "cell_type": "code",
   "execution_count": 11,
   "metadata": {
    "collapsed": false,
    "run_control": {}
   },
   "outputs": [],
   "source": [
    "!cat /Users/sr320/Dropbox/hummingbird-ipython-nbs/OlyO-v6/error-*fasta_sp \\\n",
    "> ./data/error_blastout_sp"
   ]
  },
  {
   "cell_type": "code",
   "execution_count": 13,
   "metadata": {
    "collapsed": false,
    "run_control": {}
   },
   "outputs": [
    {
     "name": "stdout",
     "output_type": "stream",
     "text": [
      "   21945 ./data/error_blastout_sp\r\n"
     ]
    }
   ],
   "source": [
    "!wc -l ./data/error_blastout_sp"
   ]
  },
  {
   "cell_type": "code",
   "execution_count": 14,
   "metadata": {
    "collapsed": true,
    "run_control": {}
   },
   "outputs": [],
   "source": [
    "!fgrep \"fault\" ./data/error_blastout_sp"
   ]
  },
  {
   "cell_type": "code",
   "execution_count": 15,
   "metadata": {
    "collapsed": false,
    "run_control": {}
   },
   "outputs": [
    {
     "name": "stdout",
     "output_type": "stream",
     "text": [
      "TR3|c0_g1_i1\tsp|Q8TCU5|NMD3A_HUMAN\t40.48\t84\t50\t0\t5\t256\t586\t669\t7e-15\t73.6\r\n",
      "TR4|c0_g1_i1\tsp|P27473|IFI44_PANTR\t34.52\t84\t51\t2\t1\t252\t142\t221\t1e-08\t55.8\r\n",
      "TR6|c0_g1_i1\tsp|Q8N461|FXL16_HUMAN\t39.13\t92\t53\t1\t129\t395\t82\t173\t3e-14\t72.8\r\n",
      "TR8|c0_g1_i1\tsp|Q9UBX5|FBLN5_HUMAN\t40.65\t123\t66\t5\t3\t371\t123\t238\t4e-18\t83.2\r\n",
      "TR18|c0_g1_i1\tsp|Q5RJH3|CAD12_MOUSE\t33.33\t78\t46\t1\t236\t3\t247\t318\t2e-06\t48.5\r\n",
      "TR18|c0_g2_i1\tsp|O93319|CAD11_CHICK\t36.36\t77\t43\t1\t236\t6\t246\t316\t2e-06\t48.9\r\n",
      "TR27|c0_g1_i1\tsp|Q8TE56|ATS17_HUMAN\t38.10\t126\t64\t6\t526\t170\t418\t536\t5e-12\t68.2\r\n",
      "TR31|c0_g1_i1\tsp|Q6V0I7|FAT4_HUMAN\t39.84\t128\t73\t4\t6\t380\t3848\t3974\t4e-25\t  105\r\n",
      "TR31|c0_g2_i1\tsp|O94813|SLIT2_HUMAN\t34.11\t129\t81\t4\t6\t380\t984\t1112\t3e-12\t67.4\r\n",
      "TR44|c0_g1_i1\tsp|P02707|LECH_CHICK\t37.18\t78\t47\t2\t28\t258\t129\t205\t1e-10\t58.5\r\n"
     ]
    }
   ],
   "source": [
    "!head ./data/blastout_sp"
   ]
  },
  {
   "cell_type": "code",
   "execution_count": 16,
   "metadata": {
    "collapsed": false,
    "run_control": {}
   },
   "outputs": [
    {
     "name": "stdout",
     "output_type": "stream",
     "text": [
      "TR3_c0_g1_i1\tsp|Q8TCU5|NMD3A_HUMAN\t40.48\t84\t50\t0\t5\t256\t586\t669\t7e-15\t73.6\r\n",
      "TR4_c0_g1_i1\tsp|P27473|IFI44_PANTR\t34.52\t84\t51\t2\t1\t252\t142\t221\t1e-08\t55.8\r\n",
      "TR6_c0_g1_i1\tsp|Q8N461|FXL16_HUMAN\t39.13\t92\t53\t1\t129\t395\t82\t173\t3e-14\t72.8\r\n",
      "TR8_c0_g1_i1\tsp|Q9UBX5|FBLN5_HUMAN\t40.65\t123\t66\t5\t3\t371\t123\t238\t4e-18\t83.2\r\n",
      "TR18_c0_g1_i1\tsp|Q5RJH3|CAD12_MOUSE\t33.33\t78\t46\t1\t236\t3\t247\t318\t2e-06\t48.5\r\n",
      "TR18_c0_g2_i1\tsp|O93319|CAD11_CHICK\t36.36\t77\t43\t1\t236\t6\t246\t316\t2e-06\t48.9\r\n",
      "TR27_c0_g1_i1\tsp|Q8TE56|ATS17_HUMAN\t38.10\t126\t64\t6\t526\t170\t418\t536\t5e-12\t68.2\r\n",
      "TR31_c0_g1_i1\tsp|Q6V0I7|FAT4_HUMAN\t39.84\t128\t73\t4\t6\t380\t3848\t3974\t4e-25\t  105\r\n",
      "TR31_c0_g2_i1\tsp|O94813|SLIT2_HUMAN\t34.11\t129\t81\t4\t6\t380\t984\t1112\t3e-12\t67.4\r\n",
      "TR44_c0_g1_i1\tsp|P02707|LECH_CHICK\t37.18\t78\t47\t2\t28\t258\t129\t205\t1e-10\t58.5\r\n"
     ]
    }
   ],
   "source": [
    "!sed 's/|c/_c/g' ./data/blastout_sp \\\n",
    "> ./data/blastout_sp_rn\n",
    "!head ./data/blastout_sp_rn"
   ]
  },
  {
   "cell_type": "markdown",
   "metadata": {
    "run_control": {}
   },
   "source": [
    "# NT Blast"
   ]
  },
  {
   "cell_type": "markdown",
   "metadata": {
    "run_control": {}
   },
   "source": [
    "```\n",
    "%%bash\n",
    "for f in query.part*\n",
    "do\n",
    "blastn \\\n",
    "-query $f \\\n",
    "-db /Volumes/Data/blast_db/nt \\\n",
    "-evalue 1e-5 \\\n",
    "-max_target_seqs 1 \\\n",
    "-max_hsps 1 \\\n",
    "-outfmt \"6 std sskingdoms stitle staxids sscinames scomnames sblastnames\" \\\n",
    "-num_threads 16 \\\n",
    "-out blastout_\"$f\"_nt \\\n",
    "2> err_\"$f\"_nt\n",
    "done\n",
    "```"
   ]
  },
  {
   "cell_type": "code",
   "execution_count": 17,
   "metadata": {
    "collapsed": true,
    "run_control": {}
   },
   "outputs": [],
   "source": [
    "!cat /Users/sr320/Dropbox/hummingbird-ipython-nbs/OlyO-v6/blastout_*fasta_nt \\\n",
    "> ./data/blastout_nt"
   ]
  },
  {
   "cell_type": "code",
   "execution_count": 18,
   "metadata": {
    "collapsed": false,
    "run_control": {}
   },
   "outputs": [
    {
     "name": "stdout",
     "output_type": "stream",
     "text": [
      "TR129|c0_g1_i1\tgi|194068374|dbj|AB374929.1|\t80.61\t526\t98\t4\t138\t661\t61\t584\t9e-109\t  403\tEukaryota\tSaccostrea kegaki mRNA for beta-tubulin, complete cds\t182713\tSaccostrea kegaki\tSaccostrea kegaki\tbivalves\r\n",
      "TR245|c0_g1_i1\tgi|401665878|gb|JX402632.1|\t84.45\t431\t40\t10\t1\t408\t12313\t12739\t8e-108\t  399\tEukaryota\tCrassostrea gigas protein kinase AMP-activated alpha-catalytic subunit gene, complete cds\t29159\tCrassostrea gigas\tPacific oyster\tbivalves\r\n",
      "TR245|c0_g1_i2\tgi|155368409|emb|CU459092.9|\t93.02\t43\t2\t1\t9\t50\t54901\t54943\t6e-06\t62.1\tEukaryota\tZebrafish DNA sequence from clone CH211-124E16 in linkage group 12, complete sequence\t7955\tDanio rerio\tzebrafish\tbony fishes\r\n",
      "TR365|c0_g2_i1\tgi|387598212|gb|JN091820.1|\t90.22\t501\t34\t4\t117\t616\t1\t487\t6e-180\t  640\tEukaryota\tOstrea edulis isolate M13R.350 THAP domain-containing protein mRNA, partial cds\t37623\tOstrea edulis\tOstrea edulis\tbivalves\r\n",
      "TR378|c0_g1_i1\tgi|270063425|gb|GU207418.1|\t91.84\t49\t4\t0\t306\t354\t3582\t3630\t2e-08\t69.4\tEukaryota\tCrassostrea gigas clone CG_Ba127F5, complete sequence\t29159\tCrassostrea gigas\tPacific oyster\tbivalves\r\n",
      "TR405|c0_g1_i1\tgi|133778962|ref|NM_131855.2|\t82.88\t111\t19\t0\t5\t115\t1412\t1522\t1e-17\t  100\tEukaryota\tDanio rerio protein kinase C, iota (prkci), mRNA\t7955\tDanio rerio\tzebrafish\tbony fishes\r\n",
      "TR633|c0_g1_i1\tgi|46517822|gb|AY341376.1|\t82.00\t411\t72\t2\t253\t662\t67\t476\t4e-92\t  348\tEukaryota\tPinctada fucata calmodulin mRNA, complete cds\t50426\tPinctada fucata\tPinctada fucata\tbivalves\r\n",
      "TR679|c0_g2_i1\tgi|317416887|emb|FN568099.1|\t92.08\t101\t8\t0\t868\t968\t1\t101\t3e-30\t  143\tEukaryota\tOstrea edulis partial hox PG-5 gene for hox PG-5 homeobox protein\t37623\tOstrea edulis\tOstrea edulis\tbivalves\r\n",
      "TR852|c1_g1_i1\tgi|194324881|gb|EU587462.1|\t81.51\t119\t19\t3\t3\t120\t295\t179\t3e-16\t95.3\tEukaryota\tOstrea conchaphila clone C130 microsatellite sequence\t627230\tOstrea lurida\tOstrea lurida\tbivalves\r\n",
      "TR988|c0_g1_i1\tgi|256071932|ref|XM_002572246.1|\t95.35\t43\t2\t0\t21\t63\t1194\t1236\t3e-08\t69.4\tEukaryota\tSchistosoma mansoni orthopedia homeobox protein, putative (Smp_126560) mRNA, complete cds\t6183\tSchistosoma mansoni\tSchistosoma mansoni\tflatworms\r\n"
     ]
    }
   ],
   "source": [
    "!head ./data/blastout_nt"
   ]
  },
  {
   "cell_type": "code",
   "execution_count": 19,
   "metadata": {
    "collapsed": false,
    "run_control": {}
   },
   "outputs": [
    {
     "name": "stdout",
     "output_type": "stream",
     "text": [
      "    3619 ./data/blastout_nt\r\n"
     ]
    }
   ],
   "source": [
    "!wc -l ./data/blastout_nt"
   ]
  },
  {
   "cell_type": "code",
   "execution_count": 24,
   "metadata": {
    "collapsed": false
   },
   "outputs": [
    {
     "name": "stdout",
     "output_type": "stream",
     "text": [
      "     343 /Users/sr320/Dropbox/hummingbird-ipython-nbs/OlyO-v6/blastout_query.part-10.fasta_nt\r\n"
     ]
    }
   ],
   "source": [
    "!wc -l /Users/sr320/Dropbox/hummingbird-ipython-nbs/OlyO-v6/blastout_query.part-10.fasta_nt"
   ]
  },
  {
   "cell_type": "code",
   "execution_count": 22,
   "metadata": {
    "collapsed": false,
    "run_control": {}
   },
   "outputs": [],
   "source": [
    "!cat /Users/sr320/Dropbox/hummingbird-ipython-nbs/OlyO-v6/err*fasta_nt \\\n",
    "> ./data/error_blastout_nt"
   ]
  },
  {
   "cell_type": "code",
   "execution_count": 23,
   "metadata": {
    "collapsed": false,
    "run_control": {}
   },
   "outputs": [
    {
     "name": "stdout",
     "output_type": "stream",
     "text": [
      "Error: (1431.1) FASTA-Reader: Warning: FASTA-Reader: Title is very long: 1173 characters (max is 1000)\r\n",
      "Error: (1431.1) FASTA-Reader: Warning: FASTA-Reader: Title is very long: 1007 characters (max is 1000)\r\n",
      "Error: (1431.1) FASTA-Reader: Warning: FASTA-Reader: Title is very long: 1113 characters (max is 1000)\r\n",
      "Error: (1431.1) FASTA-Reader: Warning: FASTA-Reader: Title is very long: 1205 characters (max is 1000)\r\n",
      "Error: (1431.1) FASTA-Reader: Warning: FASTA-Reader: Title is very long: 1073 characters (max is 1000)\r\n",
      "Error: (1431.1) FASTA-Reader: Warning: FASTA-Reader: Title is very long: 1316 characters (max is 1000)\r\n",
      "Error: (1431.1) FASTA-Reader: Warning: FASTA-Reader: Title is very long: 1629 characters (max is 1000)\r\n",
      "Error: (1431.1) FASTA-Reader: Warning: FASTA-Reader: Title is very long: 1804 characters (max is 1000)\r\n",
      "Error: (1431.1) FASTA-Reader: Warning: FASTA-Reader: Title is very long: 1007 characters (max is 1000)\r\n",
      "Error: (1431.1) FASTA-Reader: Warning: FASTA-Reader: Title is very long: 1134 characters (max is 1000)\r\n"
     ]
    }
   ],
   "source": [
    "!head ./data/error_blastout_nt"
   ]
  },
  {
   "cell_type": "code",
   "execution_count": 26,
   "metadata": {
    "collapsed": false,
    "run_control": {}
   },
   "outputs": [
    {
     "name": "stdout",
     "output_type": "stream",
     "text": [
      "      89\r\n"
     ]
    }
   ],
   "source": [
    "!fgrep \"Bacteria\" ./data/blastout_nt | wc -l"
   ]
  },
  {
   "cell_type": "code",
   "execution_count": 27,
   "metadata": {
    "collapsed": false,
    "run_control": {}
   },
   "outputs": [
    {
     "name": "stdout",
     "output_type": "stream",
     "text": [
      "TR2925|c0_g1_i1\tgi|522368383|gb|CP003847.1|\t85.34\t266\t36\t3\t29\t291\t371\t636\t1e-69\t  272\tBacteria\tAcinetobacter baumannii BJAB0715, complete genome\t1096996\tAcinetobacter baumannii BJAB0715\tAcinetobacter baumannii BJAB0715\tg-proteobacteria\r\n",
      "TR2925|c0_g2_i1\tgi|507148241|ref|NR_103048.1|\t100.00\t292\t0\t0\t1\t292\t2895\t2604\t3e-150\t  540\tBacteria\tStreptococcus oralis Uo5 strain Uo5 23S ribosomal RNA, complete sequence\t927666\tStreptococcus oralis Uo5\tStreptococcus oralis Uo5\tfirmicutes\r\n",
      "TR4178|c0_g1_i1\tgi|387159426|gb|CP003041.1|\t100.00\t326\t0\t0\t1\t326\t5042957\t5042632\t4e-169\t  603\tBacteria\tPseudomonas fluorescens A506, complete genome\t1037911\tPseudomonas fluorescens A506\tPseudomonas fluorescens A506\tg-proteobacteria\r\n",
      "TR5473|c0_g1_i1\tgi|470484732|ref|NR_076665.1|\t83.96\t561\t74\t14\t1\t552\t1417\t1970\t6e-145\t  523\tBacteria\tKytococcus sedentarius DSM 20547 strain DSM 20547 23S ribosomal RNA, complete sequence\t478801\tKytococcus sedentarius DSM 20547\tKytococcus sedentarius DSM 20547\thigh GC Gram+\r\n",
      "TR5632|c0_g1_i1\tgi|507148345|ref|NR_103148.1|\t99.58\t239\t1\t0\t1\t239\t1459\t1221\t3e-119\t  436\tBacteria\tRalstonia pickettii 12J strain 12J 23S ribosomal RNA, complete sequence\t402626\tRalstonia pickettii 12J\tRalstonia pickettii 12J\tb-proteobacteria\r\n",
      "TR9126|c0_g1_i1\tgi|470476824|ref|NR_076353.1|\t99.68\t311\t1\t0\t1\t311\t1245\t1555\t4e-159\t  569\tBacteria\tStaphylococcus epidermidis RP62A strain RP62A 23S ribosomal RNA, complete sequence\t176279\tStaphylococcus epidermidis RP62A\tStaphylococcus epidermidis RP62A\tfirmicutes\r\n",
      "TR9630|c0_g1_i1\tgi|9664791|gb|AF269470.1|AF269470\t100.00\t228\t0\t0\t1\t228\t2490\t2717\t8e-115\t  422\tBacteria\tStaphylococcus epidermidis strain SR1 clone step.1005a08 genomic sequence\t1282\tStaphylococcus epidermidis\tStaphylococcus epidermidis\tfirmicutes\r\n",
      "TR9630|c0_g2_i1\tgi|507148239|ref|NR_103046.1|\t90.32\t279\t15\t8\t1\t272\t1833\t1560\t1e-94\t  355\tBacteria\tStreptococcus mitis B6 strain B6 23S ribosomal RNA, complete sequence\t365659\tStreptococcus mitis B6\tStreptococcus mitis B6\tfirmicutes\r\n",
      "TR14715|c0_g1_i2\tgi|218759244|gb|CP001322.1|\t90.20\t51\t5\t0\t142\t192\t5783118\t5783168\t1e-07\t67.6\tBacteria\tDesulfatibacillum alkenivorans AK-01, complete genome\t439235\tDesulfatibacillum alkenivorans AK-01\tDesulfatibacillum alkenivorans AK-01\td-proteobacteria\r\n",
      "TR16414|c0_g1_i1\tgi|9624258|gb|AF270345.1|AF270345\t100.00\t416\t0\t0\t1\t416\t1019\t604\t0.0\t  769\tBacteria\tStaphylococcus epidermidis strain SR1 clone step.4023g04a genomic sequence\t1282\tStaphylococcus epidermidis\tStaphylococcus epidermidis\tfirmicutes\r\n",
      "TR16414|c0_g2_i1\tgi|507148239|ref|NR_103046.1|\t99.16\t477\t4\t0\t1\t477\t50\t526\t0.0\t  859\tBacteria\tStreptococcus mitis B6 strain B6 23S ribosomal RNA, complete sequence\t365659\tStreptococcus mitis B6\tStreptococcus mitis B6\tfirmicutes\r\n",
      "TR18414|c0_g1_i1\tgi|31044216|gb|AY204539.1|\t93.21\t427\t27\t2\t1\t426\t426\t1\t3e-176\t  627\tBacteria\tStreptococcus oralis 23S ribosomal RNA gene, partial sequence\t1303\tStreptococcus oralis\tStreptococcus oralis\tfirmicutes\r\n",
      "TR18414|c0_g1_i2\tgi|389595766|gb|JN207989.1|\t89.52\t248\t26\t0\t2\t249\t1033\t786\t2e-82\t  315\tBacteria\tBacterium EBAD28 23S ribosomal RNA gene, partial sequence\t1195819\tbacterium EBAD28\tbacterium EBAD28\tbacteria\r\n",
      "TR18414|c0_g1_i3\tgi|389595770|gb|JN207993.1|\t90.36\t249\t24\t0\t1\t249\t1041\t793\t2e-86\t  327\tBacteria\tBacterium EBAD32 23S ribosomal RNA gene, partial sequence\t1195823\tbacterium EBAD32\tbacterium EBAD32\tbacteria\r\n",
      "TR20422|c0_g1_i1\tgi|301165371|emb|FQ312005.1|\t88.89\t54\t6\t0\t230\t283\t2643264\t2643317\t3e-07\t67.6\tBacteria\tBacteriovorax marinus SJ genome\t862908\tBacteriovorax marinus SJ\tBacteriovorax marinus SJ\td-proteobacteria\r\n",
      "TR23051|c0_g1_i1\tgi|240002804|gb|GQ160464.1|\t85.67\t614\t73\t13\t107\t714\t1\t605\t1e-177\t  632\tBacteria\tUncultured bacterium clone HERMI11 23S ribosomal RNA gene, partial sequence\t77133\tuncultured bacterium\tuncultured bacterium\tbacteria\r\n",
      "TR23051|c0_g1_i2\tgi|387159426|gb|CP003041.1|\t99.52\t620\t3\t0\t1\t620\t122907\t123526\t0.0\t 1129\tBacteria\tPseudomonas fluorescens A506, complete genome\t1037911\tPseudomonas fluorescens A506\tPseudomonas fluorescens A506\tg-proteobacteria\r\n",
      "TR23051|c0_g1_i3\tgi|470491248|ref|NR_077029.1|\t100.00\t835\t0\t0\t1\t835\t1120\t1954\t0.0\t 1543\tBacteria\tMethylomicrobium alcaliphilum 20Z strain 20Z 23S ribosomal RNA, complete sequence\t1091494\tMethylomicrobium alcaliphilum 20Z\tMethylomicrobium alcaliphilum 20Z\tg-proteobacteria\r\n",
      "TR23051|c0_g2_i1\tgi|291261716|gb|GU926818.1|\t95.45\t220\t6\t4\t7\t225\t338\t554\t2e-92\t  348\tBacteria\tUncultured bacterium clone F5K2Q4C04IT1QZ 23S ribosomal RNA gene, partial sequence\t77133\tuncultured bacterium\tuncultured bacterium\tbacteria\r\n",
      "TR25922|c0_g1_i2\tgi|332168736|gb|CP002528.1|\t87.50\t56\t7\t0\t487\t542\t2400446\t2400391\t5e-07\t65.8\tBacteria\tKrokinobacter sp. 4H-3-7-5, complete genome\t983548\tKrokinobacter sp. 4H-3-7-5\tKrokinobacter sp. 4H-3-7-5\tCFB group bacteria\r\n",
      "TR27620|c0_g1_i1\tgi|343457546|gb|JF424148.1|\t77.62\t706\t132\t22\t1\t697\t1096\t1784\t3e-109\t  405\tBacteria\tStreptomyces erythrogriseus strain KCTC 19959 23S ribosomal RNA gene, partial sequence\t284027\tStreptomyces erythrogriseus\tStreptomyces erythrogriseus\thigh GC Gram+\r\n",
      "TR27620|c0_g1_i2\tgi|365740656|gb|CP003196.1|\t99.89\t1846\t2\t0\t1\t1846\t598553\t600398\t0.0\t 3398\tBacteria\tPropionibacterium acnes TypeIA2 P.acn17, complete genome\t1114967\tPropionibacterium acnes TypeIA2 P.acn17\tPropionibacterium acnes TypeIA2 P.acn17\thigh GC Gram+\r\n",
      "TR28687|c0_g1_i1\tgi|324320370|gb|CP002534.1|\t84.51\t71\t11\t0\t655\t725\t555194\t555264\t1e-08\t71.3\tBacteria\tCellulophaga lytica DSM 7489, complete genome\t867900\tCellulophaga lytica DSM 7489\tCellulophaga lytica DSM 7489\tCFB group bacteria\r\n",
      "TR29472|c0_g1_i1\tgi|407304062|gb|CP003876.1|\t92.00\t50\t4\t0\t615\t664\t1409296\t1409345\t2e-08\t71.3\tBacteria\tNocardia brasiliensis ATCC 700358, complete genome\t1133849\tNocardia brasiliensis ATCC 700358\tNocardia brasiliensis ATCC 700358\thigh GC Gram+\r\n",
      "TR33616|c0_g1_i7\tgi|428692674|gb|CP003944.1|\t75.56\t266\t61\t4\t968\t1231\t2169003\t2168740\t2e-25\t  128\tBacteria\tDactylococcopsis salina PCC 8305, complete genome\t13035\tDactylococcopsis salina PCC 8305\tDactylococcopsis salina PCC 8305\tcyanobacteria\r\n",
      "TR33688|c1_g2_i2\tgi|301165371|emb|FQ312005.1|\t74.12\t313\t71\t9\t538\t845\t3271821\t3271514\t5e-23\t  121\tBacteria\tBacteriovorax marinus SJ genome\t862908\tBacteriovorax marinus SJ\tBacteriovorax marinus SJ\td-proteobacteria\r\n",
      "TR34259|c0_g1_i3\tgi|90823168|gb|CP000142.2|\t79.50\t239\t44\t5\t234\t470\t756162\t755927\t1e-36\t  165\tBacteria\tPelobacter carbinolicus DSM 2380, complete genome\t338963\tPelobacter carbinolicus DSM 2380\tPelobacter carbinolicus DSM 2380\td-proteobacteria\r\n",
      "TR34701|c0_g1_i1\tgi|327482915|gb|CP002555.1|\t76.00\t175\t38\t4\t2368\t2540\t924096\t924268\t5e-13\t87.9\tBacteria\tVibrio cholerae LMA3894-4 chromosome I, complete sequence\t935297\tVibrio cholerae LMA3984-4\tVibrio cholerae LMA3984-4\tg-proteobacteria\r\n",
      "TR34701|c0_g1_i2\tgi|507098404|emb|HE798385.1|\t95.74\t47\t2\t0\t297\t343\t6901099\t6901053\t2e-10\t76.8\tBacteria\tAchromobacter xylosoxidans NH44784-1996 complete genome\t1167634\tAchromobacter xylosoxidans NH44784-1996\tAchromobacter xylosoxidans NH44784-1996\tb-proteobacteria\r\n",
      "TR37027|c0_g1_i1\tgi|356605685|gb|JN172538.1|\t95.40\t326\t15\t0\t1\t326\t306\t631\t4e-144\t  520\tBacteria\tUncultured bacterium clone SI-BU120-11328 16S ribosomal RNA gene, partial sequence\t77133\tuncultured bacterium\tuncultured bacterium\tbacteria\r\n",
      "TR37027|c0_g1_i2\tgi|214013595|gb|FJ451589.1|\t99.45\t363\t2\t0\t169\t531\t1\t363\t0.0\t  660\tBacteria\tUncultured bacterium clone ORFRC-FW102-622d-2.12 16S ribosomal RNA gene, partial sequence\t77133\tuncultured bacterium\tuncultured bacterium\tbacteria\r\n",
      "TR37027|c0_g1_i3\tgi|322197770|gb|JF212365.1|\t97.89\t949\t18\t2\t1\t948\t5\t952\t0.0\t 1640\tBacteria\tUncultured bacterium clone ncd2452a05c1 16S ribosomal RNA gene, partial sequence\t77133\tuncultured bacterium\tuncultured bacterium\tbacteria\r\n",
      "TR37027|c0_g1_i4\tgi|322220080|gb|JF234675.1|\t99.78\t458\t1\t0\t1\t458\t509\t966\t0.0\t  841\tBacteria\tUncultured bacterium clone ncd2711a02c1 16S ribosomal RNA gene, partial sequence\t77133\tuncultured bacterium\tuncultured bacterium\tbacteria\r\n",
      "TR37027|c0_g1_i5\tgi|60266657|gb|AY922111.1|\t94.09\t1405\t64\t17\t110\t1505\t1\t1395\t0.0\t 2117\tBacteria\tUncultured gamma proteobacterium clone AKYH1436 16S ribosomal RNA gene, partial sequence\t86473\tuncultured gamma proteobacterium\tuncultured gamma proteobacterium\tg-proteobacteria\r\n",
      "TR37027|c0_g1_i6\tgi|472247168|gb|CP004143.1|\t92.61\t1611\t98\t19\t55\t1655\t593112\t594711\t0.0\t 2296\tBacteria\tPseudomonas denitrificans ATCC 13867, complete genome\t1294143\tPseudomonas denitrificans ATCC 13867\tPseudomonas denitrificans ATCC 13867\tg-proteobacteria\r\n",
      "TR37027|c0_g1_i7\tgi|229359445|emb|AM181176.4|\t92.75\t1668\t100\t20\t1\t1658\t119618\t121274\t0.0\t 2390\tBacteria\tPseudomonas fluorescens SBW25 complete genome\t216595\tPseudomonas fluorescens SBW25\tPseudomonas fluorescens SBW25\tg-proteobacteria\r\n",
      "TR37027|c0_g1_i8\tgi|226935048|gb|FJ912883.1|\t92.38\t433\t24\t8\t38\t461\t52\t484\t4e-171\t  610\tBacteria\tPseudomonas sp. ICBR 109 16S ribosomal RNA gene, partial sequence\t638118\tPseudomonas sp. ICBR 109\tPseudomonas sp. ICBR 109\tg-proteobacteria\r\n",
      "TR37027|c0_g1_i9\tgi|512435814|gb|KC404012.1|\t99.86\t727\t0\t1\t1\t726\t1\t727\t0.0\t 1336\tBacteria\tPropionibacterium sp. enrichment culture clone MRHull-Fe-01E 16S ribosomal RNA gene, partial sequence\t1344434\tPropionibacterium sp. enrichment culture clone MRHull-Fe-01E\tPropionibacterium sp. enrichment culture clone MRHull-Fe-01E\thigh GC Gram+\r\n",
      "TR37027|c0_g1_i10\tgi|148615326|gb|EF188639.1|\t97.41\t502\t11\t2\t109\t609\t1\t501\t0.0\t  854\tBacteria\tUncultured gamma proteobacterium clone 2068 16S ribosomal RNA gene, partial sequence\t86473\tuncultured gamma proteobacterium\tuncultured gamma proteobacterium\tg-proteobacteria\r\n",
      "TR37027|c0_g1_i11\tgi|333981230|gb|JF772536.1|\t96.80\t1342\t36\t6\t109\t1447\t4\t1341\t0.0\t 2233\tBacteria\tPseudomonas putida strain bD1 16S ribosomal RNA gene, partial sequence\t303\tPseudomonas putida\tPseudomonas putida\tg-proteobacteria\r\n",
      "TR37027|c0_g1_i12\tgi|322199419|gb|JF214014.1|\t95.77\t970\t34\t7\t1\t967\t5\t970\t0.0\t 1557\tBacteria\tUncultured bacterium clone ncd2473g05c1 16S ribosomal RNA gene, partial sequence\t77133\tuncultured bacterium\tuncultured bacterium\tbacteria\r\n",
      "TR37027|c0_g1_i13\tgi|514441833|gb|JX515447.1|\t96.02\t654\t22\t4\t1\t652\t271\t922\t0.0\t 1061\tBacteria\tUncultured bacterium clone B165 16S ribosomal RNA gene, partial sequence\t77133\tuncultured bacterium\tuncultured bacterium\tbacteria\r\n",
      "TR37027|c0_g1_i14\tgi|297183258|gb|GU474920.1|\t98.25\t1656\t28\t1\t3\t1658\t8825\t10479\t0.0\t 2896\tBacteria\tUncultured Pseudomonadales bacterium HF0500_12O04 genomic sequence\t710779\tuncultured Pseudomonadales bacterium HF0500_12O04\tuncultured Pseudomonadales bacterium HF0500_12O04\tg-proteobacteria\r\n",
      "TR37027|c0_g1_i15\tgi|512128773|gb|KC873166.1|\t99.74\t773\t2\t0\t1\t773\t278\t1050\t0.0\t 1417\tBacteria\tUncultured bacterium clone S42_091 16S ribosomal RNA gene, partial sequence\t77133\tuncultured bacterium\tuncultured bacterium\tbacteria\r\n",
      "TR37027|c0_g1_i16\tgi|485973837|gb|KC756193.1|\t98.15\t324\t4\t2\t36\t359\t1\t322\t2e-157\t  564\tBacteria\tPseudomonas sp. SS2_1362 16S ribosomal RNA gene, partial sequence\t1328458\tPseudomonas sp. SS2_1362\tPseudomonas sp. SS2_1362\tg-proteobacteria\r\n",
      "TR37027|c0_g1_i17\tgi|526131843|gb|KF261242.1|\t93.10\t507\t35\t0\t22\t528\t128\t634\t0.0\t  743\tBacteria\tUncultured bacterium clone POE10-12 16S ribosomal RNA gene, partial sequence\t77133\tuncultured bacterium\tuncultured bacterium\tbacteria\r\n",
      "TR37027|c0_g1_i18\tgi|526132787|gb|KF292196.1|\t96.66\t389\t11\t2\t110\t497\t1\t388\t0.0\t  645\tBacteria\tUncultured bacterium clone OTU1749 16S ribosomal RNA gene, partial sequence\t77133\tuncultured bacterium\tuncultured bacterium\tbacteria\r\n",
      "TR37106|c0_g1_i1\tgi|72393774|gb|CP000107.1|\t94.87\t39\t2\t0\t888\t926\t225963\t226001\t9e-06\t62.1\tBacteria\tEhrlichia canis str. Jake, complete genome\t269484\tEhrlichia canis str. Jake\tEhrlichia canis str. Jake\ta-proteobacteria\r\n",
      "TR37987|c1_g1_i1\tgi|354508581|gb|JN002282.1|\t89.30\t271\t28\t1\t5\t274\t398\t128\t1e-89\t  339\tBacteria\tCandidatus Liberibacter asiaticus isolate CU1141 5S ribosomal RNA gene, complete sequence\t34021\tCandidatus Liberibacter asiaticus\tCandidatus Liberibacter asiaticus\ta-proteobacteria\r\n",
      "TR37987|c2_g1_i1\tgi|1470007|gb|U56455.1|PFU56455\t100.00\t284\t0\t0\t1\t284\t293\t10\t8e-146\t  525\tBacteria\tPseudomonas fluorescens 23S ribosomal RNA gene, hypervariable region, partial sequence\t294\tPseudomonas fluorescens\tPseudomonas fluorescens\tg-proteobacteria\r\n",
      "TR37987|c2_g2_i1\tgi|291259067|gb|GU924169.1|\t94.55\t312\t17\t0\t4\t315\t106\t417\t5e-133\t  483\tBacteria\tUncultured bacterium clone F5K2Q4C04JVXEI 23S ribosomal RNA gene, partial sequence\t77133\tuncultured bacterium\tuncultured bacterium\tbacteria\r\n",
      "TR37987|c3_g1_i1\tgi|291261165|gb|GU926267.1|\t87.89\t413\t36\t12\t1\t406\t133\t538\t5e-130\t  473\tBacteria\tUncultured bacterium clone F5K2Q4C04IRQ7O 23S ribosomal RNA gene, partial sequence\t77133\tuncultured bacterium\tuncultured bacterium\tbacteria\r\n",
      "TR37987|c3_g1_i2\tgi|56461932|gb|AY829729.1|\t89.73\t935\t83\t12\t1\t930\t189\t1115\t0.0\t 1184\tBacteria\tHalomonas taeanensis strain BH539 23S ribosomal RNA gene, partial sequence\t284577\tHalomonas taeanensis\tHalomonas taeanensis\tg-proteobacteria\r\n",
      "TR37987|c3_g1_i3\tgi|291261328|gb|GU926430.1|\t94.43\t557\t28\t3\t94\t648\t3\t558\t0.0\t  854\tBacteria\tUncultured bacterium clone F5K2Q4C04IFJBB 23S ribosomal RNA gene, partial sequence\t77133\tuncultured bacterium\tuncultured bacterium\tbacteria\r\n",
      "TR37987|c3_g1_i4\tgi|387159426|gb|CP003041.1|\t92.84\t1369\t86\t11\t1\t1367\t121883\t123241\t0.0\t 1975\tBacteria\tPseudomonas fluorescens A506, complete genome\t1037911\tPseudomonas fluorescens A506\tPseudomonas fluorescens A506\tg-proteobacteria\r\n",
      "TR37987|c3_g1_i5\tgi|470468118|ref|NR_076094.1|\t85.03\t2197\t291\t32\t130\t2311\t258\t2431\t0.0\t 2200\tBacteria\tMesorhizobium loti MAFF303099 strain MAFF303099 23S ribosomal RNA, complete sequence\t266835\tMesorhizobium loti MAFF303099\tMesorhizobium loti MAFF303099\ta-proteobacteria\r\n",
      "TR37987|c3_g1_i6\tgi|193084525|gb|EU795096.1|\t82.94\t1372\t212\t20\t1\t1367\t35218\t33864\t0.0\t 1218\tBacteria\tUncultured bacterium ARCTIC31_H_08 genomic sequence\t542420\tuncultured bacterium ARCTIC31_H_08\tuncultured bacterium ARCTIC31_H_08\tbacteria\r\n",
      "TR37987|c3_g1_i7\tgi|485099182|ref|NR_102576.1|\t92.03\t2322\t149\t25\t1\t2309\t231\t2529\t0.0\t 3230\tBacteria\tBartonella australis Aust/NH1 strain Aust/NH1 23S ribosomal RNA, complete sequence\t1094489\tBartonella australis Aust/NH1\tBartonella australis Aust/NH1\ta-proteobacteria\r\n",
      "TR37987|c3_g1_i8\tgi|330858973|emb|FR718491.1|\t85.25\t556\t64\t12\t1\t543\t322\t872\t5e-155\t  556\tBacteria\tYersinia enterocolitica W22703 biovar 2, serovar O:9, contig 7180000001058\t913028\tYersinia enterocolitica W22703\tYersinia enterocolitica W22703\tenterobacteria\r\n",
      "TR37987|c3_g1_i9\tgi|470475988|ref|NR_076312.1|\t82.19\t1196\t177\t28\t1465\t2637\t1823\t3005\t0.0\t  996\tBacteria\tActinoplanes missouriensis 431 strain 431 23S ribosomal RNA, complete sequence\t512565\tActinoplanes missouriensis 431\tActinoplanes missouriensis 431\thigh GC Gram+\r\n",
      "TR37987|c3_g1_i10\tgi|82798464|gb|DQ287902.1|\t93.20\t1352\t79\t7\t1\t1348\t268\t1610\t0.0\t 1975\tBacteria\tBrucella suis strain ATCC 23447 23S ribosomal RNA (rrn) gene, partial sequence\t520488\tBrucella suis bv. 4 str. 40\tBrucella suis bv. 4 str. 40\ta-proteobacteria\r\n",
      "TR37987|c3_g1_i11\tgi|291260190|gb|GU925292.1|\t87.02\t547\t54\t10\t139\t680\t21\t555\t4e-168\t  601\tBacteria\tUncultured bacterium clone F5K2Q4C04H44WP 23S ribosomal RNA gene, partial sequence\t77133\tuncultured bacterium\tuncultured bacterium\tbacteria\r\n",
      "TR37987|c3_g1_i12\tgi|530669580|dbj|AP012978.1|\t83.86\t2627\t349\t62\t1\t2604\t2211230\t2208656\t0.0\t 2433\tBacteria\tEndosymbiont of unidentified scaly snail isolate Monju DNA, complete genome\t1248727\tendosymbiont of unidentified scaly snail isolate Monju\tendosymbiont of unidentified scaly snail isolate Monju\tbacteria\r\n",
      "TR37987|c3_g1_i13\tgi|193083317|gb|EU686641.1|\t82.43\t2482\t363\t53\t1\t2467\t3564\t1141\t0.0\t 2100\tBacteria\tUncultured bacterium KM4-1-D1 genomic sequence\t526686\tuncultured bacterium KM4-1-D1\tuncultured bacterium KM4-1-D1\tbacteria\r\n",
      "TR37987|c3_g1_i14\tgi|258553496|gb|CP001737.1|\t88.59\t1008\t97\t14\t1317\t2314\t4552844\t4551845\t0.0\t 1208\tBacteria\tNakamurella multipartita DSM 44233, complete genome\t479431\tNakamurella multipartita DSM 44233\tNakamurella multipartita DSM 44233\thigh GC Gram+\r\n",
      "TR37987|c3_g1_i15\tgi|112012508|gb|DQ863676.1|\t87.83\t337\t37\t2\t3\t337\t81\t415\t1e-105\t  392\tBacteria\tVibrio parahaemolyticus ATCC 17802 23S ribosomal RNA gene, partial sequence\t670\tVibrio parahaemolyticus\tVibrio parahaemolyticus\tg-proteobacteria\r\n",
      "TR37987|c3_g1_i16\tgi|83743597|gb|DQ312642.1|\t85.16\t546\t63\t18\t5\t540\t1\t538\t4e-151\t  544\tBacteria\tUncultured bacterium clone 3C8G 23S ribosomal RNA gene, partial sequence\t77133\tuncultured bacterium\tuncultured bacterium\tbacteria\r\n",
      "TR37987|c3_g1_i17\tgi|179342784|gb|CP001029.1|\t83.51\t1819\t234\t50\t1\t1801\t605583\t603813\t0.0\t 1637\tBacteria\tMethylobacterium populi BJ001, complete genome\t441620\tMethylobacterium populi BJ001\tMethylobacterium populi BJ001\ta-proteobacteria\r\n",
      "TR37987|c3_g1_i18\tgi|353454017|gb|CP003084.1|\t99.74\t1160\t3\t0\t1465\t2624\t226654\t225495\t0.0\t 2126\tBacteria\tPropionibacterium acnes ATCC 11828, complete genome\t1091045\tPropionibacterium acnes ATCC 11828\tPropionibacterium acnes ATCC 11828\thigh GC Gram+\r\n",
      "TR37987|c3_g1_i20\tgi|470487009|ref|NR_076794.1|\t88.94\t2468\t256\t16\t1\t2459\t242\t2701\t0.0\t 3029\tBacteria\tMesorhizobium opportunistum WSM2075 strain WSM2075 23S ribosomal RNA, complete sequence\t536019\tMesorhizobium opportunistum WSM2075\tMesorhizobium opportunistum WSM2075\ta-proteobacteria\r\n",
      "TR37987|c3_g1_i21\tgi|29725934|gb|AY244380.1|\t99.26\t2297\t13\t4\t1\t2294\t352\t2647\t0.0\t 4145\tBacteria\tPhyllobacterium myrsinacearum strain IAM 13584 23S ribosomal RNA gene, partial sequence\t28101\tPhyllobacterium myrsinacearum\tPhyllobacterium myrsinacearum\ta-proteobacteria\r\n",
      "TR38567|c0_g1_i3\tgi|47118314|dbj|BA000035.2|\t100.00\t36\t0\t0\t1683\t1718\t1849776\t1849811\t6e-07\t67.6\tBacteria\tCorynebacterium efficiens YS-314 DNA, complete genome\t196164\tCorynebacterium efficiens YS-314\tCorynebacterium efficiens YS-314\thigh GC Gram+\r\n",
      "TR39061|c0_g1_i1\tgi|520959323|dbj|AP013072.1|\t84.52\t84\t13\t0\t23\t106\t1358526\t1358443\t4e-12\t84.2\tBacteria\tStreptococcus anginosus subsp. whileyi MAS624 DNA, complete genome\t1353243\tStreptococcus anginosus subsp. whileyi MAS624\tStreptococcus anginosus subsp. whileyi MAS624\tfirmicutes\r\n",
      "TR39318|c0_g1_i2\tgi|118501159|gb|CP000482.1|\t75.98\t333\t72\t8\t163\t491\t417897\t418225\t2e-36\t  165\tBacteria\tPelobacter propionicus DSM 2379, complete genome\t338966\tPelobacter propionicus DSM 2379\tPelobacter propionicus DSM 2379\td-proteobacteria\r\n",
      "TR40163|c0_g2_i1\tgi|452101774|gb|CP004123.1|\t95.56\t45\t2\t0\t2669\t2713\t3724958\t3724914\t3e-08\t73.1\tBacteria\tBacillus thuringiensis serovar thuringiensis str. IS5056, complete genome\t1286404\tBacillus thuringiensis serovar thuringiensis str. IS5056\tBacillus thuringiensis serovar thuringiensis str. IS5056\tfirmicutes\r\n",
      "TR40411|c0_g1_i4\tgi|365906293|gb|CP003220.1|\t72.39\t373\t82\t17\t1063\t1425\t2121718\t2121357\t2e-16\t99.0\tBacteria\tDesulfovibrio desulfuricans ND132, complete genome\t641491\tDesulfovibrio desulfuricans ND132\tDesulfovibrio desulfuricans ND132\td-proteobacteria\r\n",
      "TR40689|c0_g1_i2\tgi|537392242|gb|CP003992.2|\t97.62\t42\t1\t0\t2353\t2394\t1358279\t1358320\t3e-08\t73.1\tBacteria\tClostridium stercorarium subsp. stercorarium DSM 8532, complete genome\t1121335\tClostridium stercorarium subsp. stercorarium DSM 8532\tClostridium stercorarium subsp. stercorarium DSM 8532\tfirmicutes\r\n",
      "TR41613|c0_g1_i1\tgi|294768451|gb|GU905036.1|\t80.77\t234\t38\t7\t9\t239\t1536\t1765\t7e-41\t  176\tBacteria\tMycoplasma feliminutum strain ATCC 25749 23S ribosomal RNA gene, partial sequence; 23S-5S ribosomal RNA intergenic spacer, complete sequence; and 5S ribosomal RNA gene, partial sequence\t36741\tMycoplasma feliminutum\tMycoplasma feliminutum\tmycoplasmas\r\n",
      "TR42540|c0_g1_i1\tgi|507148378|ref|NR_103181.1|\t90.58\t276\t26\t0\t1\t276\t2282\t2557\t5e-98\t  366\tBacteria\tBorrelia crocidurae str. Achema strain Achema 23S ribosomal RNA, complete sequence\t1155096\tBorrelia crocidurae str. Achema\tBorrelia crocidurae str. Achema\tspirochetes\r\n",
      "TR45012|c0_g1_i1\tgi|470484237|ref|NR_076637.1|\t98.25\t400\t7\t0\t1\t400\t1808\t1409\t0.0\t  701\tBacteria\tMethylobacterium extorquens AM1 strain AM1 23S ribosomal RNA, complete sequence\t272630\tMethylobacterium extorquens AM1\tMethylobacterium extorquens AM1\ta-proteobacteria\r\n",
      "TR45930|c0_g1_i1\tgi|470468901|ref|NR_076142.1|\t89.50\t238\t25\t0\t1\t238\t31\t268\t1e-78\t  302\tBacteria\tIntrasporangium calvum DSM 43043 strain DSM 43043 23S ribosomal RNA, complete sequence\t710696\tIntrasporangium calvum DSM 43043\tIntrasporangium calvum DSM 43043\thigh GC Gram+\r\n",
      "TR45945|c0_g1_i1\tgi|507148239|ref|NR_103046.1|\t100.00\t341\t0\t0\t1\t341\t885\t1225\t2e-177\t  630\tBacteria\tStreptococcus mitis B6 strain B6 23S ribosomal RNA, complete sequence\t365659\tStreptococcus mitis B6\tStreptococcus mitis B6\tfirmicutes\r\n",
      "TR45945|c0_g2_i1\tgi|9623512|gb|AF269616.1|AF269616\t94.55\t220\t10\t2\t1\t220\t8\t225\t8e-90\t  339\tBacteria\tStaphylococcus epidermidis strain SR1 clone step.1013h10 genomic sequence\t1282\tStaphylococcus epidermidis\tStaphylococcus epidermidis\tfirmicutes\r\n",
      "TR48657|c0_g1_i1\tgi|445198867|gb|CP004045.1|\t99.60\t247\t1\t0\t1\t247\t301704\t301950\t1e-123\t  451\tBacteria\tPseudomonas poae RE*1-1-14, complete genome\t1282356\tPseudomonas poae RE*1-1-14\tPseudomonas poae RE*1-1-14\tg-proteobacteria\r\n",
      "TR50754|c0_g1_i1\tgi|349582482|gb|JF827506.1|\t97.66\t256\t6\t0\t4\t259\t832\t577\t3e-120\t  440\tBacteria\tUncultured bacterium clone 154C11 16S ribosomal RNA gene, partial sequence\t77133\tuncultured bacterium\tuncultured bacterium\tbacteria\r\n",
      "TR52507|c0_g1_i1\tgi|470484732|ref|NR_076665.1|\t83.83\t371\t42\t15\t1\t362\t232\t593\t5e-89\t  337\tBacteria\tKytococcus sedentarius DSM 20547 strain DSM 20547 23S ribosomal RNA, complete sequence\t478801\tKytococcus sedentarius DSM 20547\tKytococcus sedentarius DSM 20547\thigh GC Gram+\r\n",
      "TR54013|c0_g1_i1\tgi|530347744|gb|CP006647.1|\t84.62\t247\t26\t12\t1\t241\t435283\t435523\t1e-58\t  235\tBacteria\tBorrelia miyamotoi LB-2001, complete genome\t1302858\tBorrelia miyamotoi LB-2001\tBorrelia miyamotoi LB-2001\tspirochetes\r\n",
      "TR54019|c0_g1_i1\tgi|193083715|gb|EU686596.1|\t87.80\t295\t27\t8\t4\t295\t4808\t4520\t4e-89\t  337\tBacteria\tUncultured bacterium AD12-E7 genomic sequence\t526646\tuncultured bacterium AD12-E7\tuncultured bacterium AD12-E7\tbacteria\r\n",
      "TR60214|c0_g1_i1\tgi|538283378|gb|KF472324.1|\t100.00\t260\t0\t0\t1\t260\t286\t27\t2e-132\t  481\tBacteria\tBacterium 123 16S ribosomal RNA gene, partial sequence\t1379877\tbacterium 123\tbacterium 123\tbacteria\r\n"
     ]
    }
   ],
   "source": [
    "!fgrep \"Bacteria\" ./data/blastout_nt"
   ]
  },
  {
   "cell_type": "code",
   "execution_count": null,
   "metadata": {
    "collapsed": true,
    "run_control": {}
   },
   "outputs": [],
   "source": []
  }
 ],
 "metadata": {
  "kernelspec": {
   "display_name": "Python 3",
   "language": "python",
   "name": "python3"
  },
  "language_info": {
   "codemirror_mode": {
    "name": "ipython",
    "version": 3
   },
   "file_extension": ".py",
   "mimetype": "text/x-python",
   "name": "python",
   "nbconvert_exporter": "python",
   "pygments_lexer": "ipython3",
   "version": "3.5.0"
  }
 },
 "nbformat": 4,
 "nbformat_minor": 0
}
