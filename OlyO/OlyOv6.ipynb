{
 "cells": [
  {
   "cell_type": "markdown",
   "metadata": {
    "button": false,
    "deletable": true,
    "new_sheet": false,
    "run_control": {
     "read_only": false
    }
   },
   "source": [
    "```\n",
    "!cat \\\n",
    "filtered_106A_Female_Mix_GATCAG_L004_R1.fastq \\\n",
    "filtered_108A_Female_Mix_GGCTAC_L004_R1.fastq \\\n",
    "filtered_106A_Male_Mix_TAGCTT_L004_R1.fastq \\\n",
    "filtered_108A_Male_Mix_AGTCAA_L004_R1.fastq >> /Users/sr320/data-genomic/tentacle/OlyOv6/OlyOv6_combined_R1.fastq\n",
    "!cat \\\n",
    "filtered_106A_Female_Mix_GATCAG_L004_R2.fastq \\\n",
    "filtered_108A_Female_Mix_GGCTAC_L004_R2.fastq \\\n",
    "filtered_106A_Male_Mix_TAGCTT_L004_R2.fastq \\\n",
    "filtered_108A_Male_Mix_AGTCAA_L004_R2.fastq >> /Users/sr320/data-genomic/tentacle/OlyOv6/OlyOv6_combined_R2.fastq\n",
    "```"
   ]
  },
  {
   "cell_type": "markdown",
   "metadata": {
    "button": false,
    "deletable": true,
    "new_sheet": false,
    "run_control": {
     "read_only": false
    }
   },
   "source": [
    "Trimming details @\n",
    "<https://github.com/sr320/course-btea/blob/master/day-1/01-OlympiaOyster-transcriptome.ipynb>"
   ]
  },
  {
   "cell_type": "markdown",
   "metadata": {
    "button": false,
    "deletable": true,
    "new_sheet": false,
    "run_control": {
     "read_only": false
    }
   },
   "source": [
    "# Assembly"
   ]
  },
  {
   "cell_type": "markdown",
   "metadata": {
    "button": false,
    "deletable": true,
    "new_sheet": false,
    "run_control": {
     "read_only": false
    }
   },
   "source": [
    "```\n",
    "#!/bin/sh\n",
    "\n",
    "KMER=2\n",
    "\n",
    "LD_LIBRARY_PATH=/share/bioinformatics/gcc/lib64:/share/bioinformatics/gcc/lib\n",
    "\n",
    "TRIN=/data/ggoetz/trinityrnaseq-2.0.6\n",
    "SAMTOOLS=/share/bioinformatics/samtools/bin\n",
    "BOWTIE=/share/bioinformatics/bowtie\n",
    "\n",
    "PATH=${SAMTOOLS}:${BOWTIE}:${PATH}\n",
    "\n",
    "${TRIN}/Trinity \\\n",
    "\t--seqType fq \\\n",
    "\t--max_memory 400G \\\n",
    "\t--left OlyOv6_combined_R1_val_1.fq \\\n",
    "\t--right OlyOv6_combined_R2_val_2.fq \\\n",
    "\t--CPU 8 \\\n",
    "\t--bflyCalculateCPU \\\n",
    "\t--bflyHeapSpaceMax 16G \\\n",
    "\t--bflyHeapSpaceInit 8G \\\n",
    "\t--normalize_reads \\\n",
    "\t--min_kmer_cov ${KMER} \\\n",
    "\t--output trinity_All.kmer${KMER} \\\n",
    "\t> trinity_output.All.kmer${KMER}.log\n",
    "```"
   ]
  },
  {
   "cell_type": "code",
   "execution_count": 1,
   "metadata": {
    "button": false,
    "collapsed": false,
    "deletable": true,
    "new_sheet": false,
    "run_control": {
     "read_only": false
    }
   },
   "outputs": [
    {
     "name": "stdout",
     "output_type": "stream",
     "text": [
      ">TR1|c0_g1_i1 len=320 path=[639:0-301 640:302-319] [-1, 639, 640, -2]\r\n",
      "GACGAAAAACAAACACATAATCAATCAATCAATCAATCAATCAAATAACAGAGATTCAAT\r\n",
      "CCATAGTAACAGTATACCTTACAGCGATATAACAGTCTGGTTATTCTATAAAATCTATAT\r\n",
      "CTACATGTATTATTAACACACATTACTTATTATATAATGTTCTGGTTGCTTGAATTATGG\r\n",
      "AAGTATAAAAACAATGTATAACCGGGACCATTATTTATACAGAGAAAAACTAGCAAAGTG\r\n",
      "TTTGGTTTTAAAACTCGAATTGACTGACATTGACAGTGGCATATTTATAATTTTGTAGGA\r\n",
      "TGTTAATCAACACATAACAT\r\n",
      ">TR1|c0_g2_i1 len=323 path=[637:0-301 638:302-322] [-1, 637, 638, -2]\r\n",
      "GACGAAAAACAAACACATAATCAATCAATCAATCAATCAATCAAATAACAGAGATTCAAT\r\n",
      "CCATAGTAACAGTATACCTTACAGCGATATAACAGTCTGGTTATTCTATAAAATCTATAT\r\n"
     ]
    }
   ],
   "source": [
    "!head /Users/sr320/data-genomic/tentacle/trinity.kmer2.fa"
   ]
  },
  {
   "cell_type": "markdown",
   "metadata": {
    "button": false,
    "deletable": true,
    "new_sheet": false,
    "run_control": {
     "read_only": false
    }
   },
   "source": [
    "```\n",
    "################################\n",
    "## Counts of transcripts, etc.\n",
    "################################\n",
    "Total trinity 'genes':    81568\n",
    "Total trinity transcripts:    148557\n",
    "Percent GC: 39.50\n",
    "\n",
    "########################################\n",
    "Stats based on ALL transcript contigs:\n",
    "########################################\n",
    "\n",
    "    Contig N10: 5382\n",
    "    Contig N20: 3754\n",
    "    Contig N30: 2866\n",
    "    Contig N40: 2251\n",
    "    Contig N50: 1769\n",
    "\n",
    "    Median contig length: 527\n",
    "    Average contig: 1006.00\n",
    "    Total assembled bases: 149448583\n",
    "\n",
    "\n",
    "#####################################################\n",
    "## Stats based on ONLY LONGEST ISOFORM per 'GENE':\n",
    "#####################################################\n",
    "\n",
    "    Contig N10: 5242\n",
    "    Contig N20: 3620\n",
    "    Contig N30: 2695\n",
    "    Contig N40: 2062\n",
    "    Contig N50: 1577\n",
    "\n",
    "    Median contig length: 434\n",
    "    Average contig: 872.76\n",
    "    Total assembled bases: 71189166\n",
    "```        "
   ]
  },
  {
   "cell_type": "code",
   "execution_count": 2,
   "metadata": {
    "button": false,
    "collapsed": false,
    "deletable": true,
    "new_sheet": false,
    "run_control": {
     "read_only": false
    }
   },
   "outputs": [
    {
     "name": "stdout",
     "output_type": "stream",
     "text": [
      "148557\r\n"
     ]
    }
   ],
   "source": [
    "!fgrep -c \">\" /Users/sr320/data-genomic/tentacle/trinity.kmer2.fa"
   ]
  },
  {
   "cell_type": "code",
   "execution_count": 3,
   "metadata": {
    "button": false,
    "collapsed": true,
    "deletable": true,
    "new_sheet": false,
    "run_control": {
     "read_only": false
    }
   },
   "outputs": [],
   "source": [
    "!cp /Users/sr320/data-genomic/tentacle/trinity.kmer2.fa \\\n",
    "/Users/sr320/data-genomic/tentacle/OlyO_v6_transcriptome.fa"
   ]
  },
  {
   "cell_type": "markdown",
   "metadata": {
    "button": false,
    "deletable": true,
    "new_sheet": false,
    "run_control": {
     "read_only": false
    }
   },
   "source": [
    "## Running blastx"
   ]
  },
  {
   "cell_type": "markdown",
   "metadata": {
    "button": false,
    "deletable": true,
    "new_sheet": false,
    "run_control": {
     "read_only": false
    }
   },
   "source": [
    "```\n",
    "%%bash\n",
    "for f in query.part*\n",
    "do\n",
    "blastx \\\n",
    "-query $f \\\n",
    "-db /usr/local/bioinformatics/dbs/uniprot_sprot.fasta \\\n",
    "-evalue 1e-5 \\\n",
    "-max_target_seqs 1 \\\n",
    "-max_hsps 1 \\\n",
    "-outfmt 6 \\\n",
    "-num_threads 16 \\\n",
    "-out blastout_\"$f\"_sp \\\n",
    "2> error-blastout_\"$f\"_sp\n",
    "done\n",
    "```"
   ]
  },
  {
   "cell_type": "markdown",
   "metadata": {
    "run_control": {}
   },
   "source": [
    "# Expression"
   ]
  },
  {
   "cell_type": "markdown",
   "metadata": {
    "run_control": {}
   },
   "source": [
    "Ran RNA-seq on all four samples as  below to version 6."
   ]
  },
  {
   "cell_type": "markdown",
   "metadata": {
    "button": false,
    "collapsed": true,
    "deletable": true,
    "new_sheet": false,
    "run_control": {
     "read_only": false
    }
   },
   "source": [
    "<img src=\"http://eagle.fish.washington.edu/cnidarian/skitch/sr320’s_iMac_1C0748FB.png\" alt=\"sr320’s_iMac_1C0748FB.png\"/>"
   ]
  },
  {
   "cell_type": "markdown",
   "metadata": {
    "run_control": {}
   },
   "source": [
    "Then \"setup experiment\""
   ]
  },
  {
   "cell_type": "code",
   "execution_count": null,
   "metadata": {
    "collapsed": true,
    "run_control": {}
   },
   "outputs": [],
   "source": []
  }
 ],
 "metadata": {
  "kernelspec": {
   "display_name": "Python 3",
   "language": "python",
   "name": "python3"
  },
  "language_info": {
   "codemirror_mode": {
    "name": "ipython",
    "version": 3
   },
   "file_extension": ".py",
   "mimetype": "text/x-python",
   "name": "python",
   "nbconvert_exporter": "python",
   "pygments_lexer": "ipython3",
   "version": "3.5.0"
  }
 },
 "nbformat": 4,
 "nbformat_minor": 0
}
