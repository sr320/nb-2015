{
 "metadata": {
  "name": "",
  "signature": "sha256:9c9f4f9c9185529a13d9c748760d071f58d1347572bacc6590578b335ad6291b"
 },
 "nbformat": 3,
 "nbformat_minor": 0,
 "worksheets": [
  {
   "cells": [
    {
     "cell_type": "markdown",
     "metadata": {},
     "source": [
      "<img src=\"http://eagle.fish.washington.edu/cnidarian/skitch/Genomics_Core_Facility_-_Show_Sample_2035_1A33EB4D.png\" alt=\"Genomics_Core_Facility_-_Show_Sample_2035_1A33EB4D.png\"/>"
     ]
    },
    {
     "cell_type": "code",
     "collapsed": false,
     "input": [
      "!head /Volumes/web/trilobite/Crassostrea_gigas_HTSdata/batterbox/RADoly_01/lane1_NoIndex_L001_R1_004.fastq.gz"
     ],
     "language": "python",
     "metadata": {},
     "outputs": []
    },
    {
     "cell_type": "code",
     "collapsed": false,
     "input": [],
     "language": "python",
     "metadata": {},
     "outputs": []
    }
   ],
   "metadata": {}
  }
 ]
}