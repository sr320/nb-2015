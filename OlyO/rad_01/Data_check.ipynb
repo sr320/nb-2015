{
 "metadata": {
  "name": "",
  "signature": "sha256:456c76e9323dce06ffcc3a30ad963e2e7e0d176d2440c33bee07b59e99960641"
 },
 "nbformat": 3,
 "nbformat_minor": 0,
 "worksheets": [
  {
   "cells": [
    {
     "cell_type": "markdown",
     "metadata": {},
     "source": [
      "<img src=\"http://eagle.fish.washington.edu/cnidarian/skitch/Genomics_Core_Facility_-_Show_Sample_2035_1A33EB4D.png\" alt=\"Genomics_Core_Facility_-_Show_Sample_2035_1A33EB4D.png\"/>"
     ]
    },
    {
     "cell_type": "markdown",
     "metadata": {},
     "source": [
      "!head /Volumes/web/trilobite/Crassostrea_gigas_HTSdata/batterbox/RADoly_01/lane1_NoIndex_L001_R1_004.fastq.gz"
     ]
    },
    {
     "cell_type": "markdown",
     "metadata": {},
     "source": [
      "Consinder putting iages in repo???"
     ]
    },
    {
     "cell_type": "code",
     "collapsed": false,
     "input": [],
     "language": "python",
     "metadata": {},
     "outputs": []
    }
   ],
   "metadata": {}
  }
 ]
}