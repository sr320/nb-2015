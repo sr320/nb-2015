{
 "metadata": {
  "name": "",
  "signature": "sha256:cb9b9e84a2da2a1f4dc2648ce44b368fecee01c9c500c08b89351cd073b1ef08"
 },
 "nbformat": 3,
 "nbformat_minor": 0,
 "worksheets": [
  {
   "cells": [
    {
     "cell_type": "markdown",
     "metadata": {},
     "source": [
      "<img src=\"http://eagle.fish.washington.edu/cnidarian/skitch/Discovery_Environment_1A38D523.png\" alt=\"Discovery_Environment_1A38D523.png\"/>"
     ]
    },
    {
     "cell_type": "markdown",
     "metadata": {},
     "source": [
      "note: enzyme changed to `sbfI`"
     ]
    },
    {
     "cell_type": "markdown",
     "metadata": {},
     "source": [
      "<img src=\"http://eagle.fish.washington.edu/cnidarian/skitch/Discovery_Environment_1A38FA3C.png\" alt=\"Discovery_Environment_1A38FA3C.png\"/>"
     ]
    },
    {
     "cell_type": "code",
     "collapsed": false,
     "input": [],
     "language": "python",
     "metadata": {},
     "outputs": []
    }
   ],
   "metadata": {}
  }
 ]
}