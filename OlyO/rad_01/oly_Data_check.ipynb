{
 "metadata": {
  "name": "",
  "signature": "sha256:57e5358b0ecd83afac87ef5629c3a6f300e29e7a9ff4f12a516ba4df763786e9"
 },
 "nbformat": 3,
 "nbformat_minor": 0,
 "worksheets": [
  {
   "cells": [
    {
     "cell_type": "markdown",
     "metadata": {},
     "source": [
      "<img src=\"http://eagle.fish.washington.edu/cnidarian/skitch/Genomics_Core_Facility_-_Show_Sample_2035_1A33EB4D.png\" alt=\"Genomics_Core_Facility_-_Show_Sample_2035_1A33EB4D.png\"/>"
     ]
    },
    {
     "cell_type": "heading",
     "level": 1,
     "metadata": {},
     "source": [
      "FastQC"
     ]
    },
    {
     "cell_type": "code",
     "collapsed": false,
     "input": [
      "pwd"
     ],
     "language": "python",
     "metadata": {},
     "outputs": [
      {
       "metadata": {},
       "output_type": "pyout",
       "prompt_number": 1,
       "text": [
        "u'/Users/sr320/git-repos/nb-2015/OlyO/rad_01'"
       ]
      }
     ],
     "prompt_number": 1
    },
    {
     "cell_type": "code",
     "collapsed": false,
     "input": [
      "!head ./fastqc/olyo-rad-01_fastqc/fastqc_report.html"
     ],
     "language": "python",
     "metadata": {},
     "outputs": [
      {
       "output_type": "stream",
       "stream": "stdout",
       "text": [
        "<!DOCTYPE HTML PUBLIC \"-//W3C//DTD HTML 4.01 Strict//EN\">\r\n",
        "<html>\r\n",
        "<head><title>olyo-rad-01.fastq FastQC Report</title>\r\n",
        "\r\n",
        "<style type=\"text/css\">\r\n",
        "\r\n",
        " @media screen {\r\n",
        "  div.summary {\r\n",
        "    width: 18em;\r\n",
        "    position:fixed;\r\n"
       ]
      }
     ],
     "prompt_number": 3
    },
    {
     "cell_type": "code",
     "collapsed": false,
     "input": [
      "from IPython.display import HTML\n",
      "HTML('<iframe src=./fastqc/olyo-rad-01_fastqc/fastqc_report.html width=100% height=650></iframe>')"
     ],
     "language": "python",
     "metadata": {},
     "outputs": [
      {
       "html": [
        "<iframe src=./fastqc/olyo-rad-01_fastqc/fastqc_report.html width=100% height=650></iframe>"
       ],
       "metadata": {},
       "output_type": "pyout",
       "prompt_number": 4,
       "text": [
        "<IPython.core.display.HTML at 0x10436ee50>"
       ]
      }
     ],
     "prompt_number": 4
    },
    {
     "cell_type": "code",
     "collapsed": false,
     "input": [],
     "language": "python",
     "metadata": {},
     "outputs": []
    }
   ],
   "metadata": {}
  }
 ]
}