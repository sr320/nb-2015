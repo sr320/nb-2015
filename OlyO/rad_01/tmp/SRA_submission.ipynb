{
 "metadata": {
  "name": "",
  "signature": "sha256:73b32a6292345a76efd0fad18f6958cb7711bcdd8de724155168658fc3ac6263"
 },
 "nbformat": 3,
 "nbformat_minor": 0,
 "worksheets": [
  {
   "cells": [
    {
     "cell_type": "markdown",
     "metadata": {},
     "source": [
      "Logged into SRA submission - then directed back out to create BioProject (assuming does not already exist)."
     ]
    },
    {
     "cell_type": "markdown",
     "metadata": {},
     "source": [
      "Half way through creating BioProject, you are redirected to create biosample."
     ]
    },
    {
     "cell_type": "markdown",
     "metadata": {},
     "source": [
      "Went back and completed BioProject without doing biosample. "
     ]
    },
    {
     "cell_type": "markdown",
     "metadata": {},
     "source": [
      "Phel BioProject ID: `PRJNA270176`"
     ]
    },
    {
     "cell_type": "markdown",
     "metadata": {},
     "source": [
      "<img src=\"http://eagle.fish.washington.edu/cnidarian/skitch/BioSample_Attributes___Submission_Portal_1A3B1ECD.png\" alt=\"BioSample_Attributes___Submission_Portal_1A3B1ECD.png\"/>"
     ]
    },
    {
     "cell_type": "markdown",
     "metadata": {},
     "source": [
      "Will try batch biosample submission (this assumes I am correct in that each individual (ie 6 seastars) need to be 6 biosamples.)"
     ]
    },
    {
     "cell_type": "markdown",
     "metadata": {},
     "source": [
      "<img src=\"http://eagle.fish.washington.edu/cnidarian/skitch/Submissions___BioSample___Submission_Portal_1A3B43AC.png\" alt=\"Submissions___BioSample___Submission_Portal_1A3B43AC.png\"/>"
     ]
    },
    {
     "cell_type": "code",
     "collapsed": false,
     "input": [
      "#Biosample file\n"
     ],
     "language": "python",
     "metadata": {},
     "outputs": [],
     "prompt_number": 4
    },
    {
     "cell_type": "markdown",
     "metadata": {},
     "source": [
      "```\n",
      "# This is a submission template for batch deposit of 'Invertebrate; version 1.0' samples to the NCBI BioSample database (http://www.ncbi.nlm.nih.gov/biosample/).\t\t\t\t\t\t\t\t\t\t\t\t\t\t\t\t\t\t\t\t\t\t\t\t\n",
      "\"# Fields with an asterisk (*) are mandatory. Your submission will fail if any mandatory fields are not completed. If information is unavailable for any mandatory field, please enter 'not collected', 'not applicable' or 'missing' as appropriate.\"\t\t\t\t\t\t\t\t\t\t\t\t\t\t\t\t\t\t\t\t\t\t\t\t\n",
      "# All other fields are optional. Leave optional fields empty if no information is available.\t\t\t\t\t\t\t\t\t\t\t\t\t\t\t\t\t\t\t\t\t\t\t\t\n",
      "\"# You can add any number of custom fields to fully describe your BioSamples, simply include them in the table.\"\t\t\t\t\t\t\t\t\t\t\t\t\t\t\t\t\t\t\t\t\t\t\t\t\n",
      "\"# CAUTION: Be aware that Excel may automatically apply formatting to your data. In particular, take care with dates, incrementing autofills and special characters like / or -. Doublecheck that your text file is accurate before uploading to BioSample.\"\t\t\t\t\t\t\t\t\t\t\t\t\t\t\t\t\t\t\t\t\t\t\t\t\n",
      "# TO MAKE A SUBMISSION:\t\t\t\t\t\t\t\t\t\t\t\t\t\t\t\t\t\t\t\t\t\t\t\t\n",
      "\"#     1. Complete the template table (typically in Excel, or another spreadsheet application)\"\t\t\t\t\t\t\t\t\t\t\t\t\t\t\t\t\t\t\t\t\t\t\t\t\n",
      "\"#     2. Save the worksheet as a Text (Tab-delimited) file - use 'File, Save as, Save as type: Text (Tab-delimited)'\"\t\t\t\t\t\t\t\t\t\t\t\t\t\t\t\t\t\t\t\t\t\t\t\t\n",
      "#     3. Upload the file on the 'Attributes' tab of the BioSample Submission Portal at https://submit.ncbi.nlm.nih.gov/subs/biosample/.\t\t\t\t\t\t\t\t\t\t\t\t\t\t\t\t\t\t\t\t\t\t\t\t\n",
      "\"#     4. If you have any questions, please contact us at biosamplehelp@ncbi.nlm.nih.gov.\"\t\t\t\t\t\t\t\t\t\t\t\t\t\t\t\t\t\t\t\t\t\t\t\t\n",
      "*sample_name\tdescription\tbioproject_id\tsample_title\t*organism\tbreed\tisolate\thost\tisolation_source\t*collection_date\t*geo_loc_name\t*tissue\tage\taltitude\tbiomaterial_provider\tcollected_by\tdepth\tdev_stage\tenv_biome\thost_tissue_sampled\tidentified_by\tlat_lon\tsex\tspecimen_voucher\ttemp\n",
      "Phel_Treated_FHL\tinjected with viral-sized fraction homogenate (from P. helianthoides with clinical signs of SSWD)\tPRJNA270176\t\tPycnopodia helianthoides\t\tV_CF71\t\tseawater\tApr-2014\t\"USA: Friday Harbor, Washington\"\tcoelomocytes\t\t\t\t\t\t\t\t\t\t\t\t\t\n",
      "Phel_Treated_PH\tinjected with viral-sized fraction homogenate (from P. helianthoides with clinical signs of SSWD)\tPRJNA270176\t\tPycnopodia helianthoides\t\tV_CF34\t\tseawater\tApr-2014\t\"USA: Port Hadlock, Washington\"\tcoelomocytes\t\t\t\t\t\t\t\t\t\t\t\t\t\n",
      "Phel_Treated_L\tinjected with viral-sized fraction homogenate (from P. helianthoides with clinical signs of SSWD)\tPRJNA270176\t\tPycnopodia helianthoides\t\tV_CF26\t\tseawater\tApr-2014\t\"USA: Langley, Washington\"\tcoelomocytes\t\t\t\t\t\t\t\t\t\t\t\t\t\n",
      "Phel_Control_PH\tinjected with heat-killed fraction homogenate (from P. helianthoides with clinical signs of SSWD)\tPRJNA270176\t\tPycnopodia helianthoides\t\tHK_CF35\t\tseawater\tApr-2014\t\"USA: Port Hadlock, Washington\"\tcoelomocytes\t\t\t\t\t\t\t\t\t\t\t\t\t\n",
      "Phel_Control_DB\tinjected with heat-killed fraction homogenate (from P. helianthoides with clinical signs of SSWD)\tPRJNA270176\t\tPycnopodia helianthoides\t\tHK_CF2\t\tseawater\tApr-2014\t\"USA: Dabob Bay, Washington\"\tcoelomocytes\t\t\t\t\t\t\t\t\t\t\t\t\t\n",
      "Phel_Control_FHL\tinjected with heat-killed fraction homogenate (from P. helianthoides with clinical signs of SSWD)\tPRJNA270176\t\tPycnopodia helianthoides\t\tHK_CF70\t\tseawater\tApr-2014\t\"USA: Friday Harbor, Washington\"\tcoelomocytes\t\n",
      "```"
     ]
    },
    {
     "cell_type": "heading",
     "level": 1,
     "metadata": {},
     "source": [
      "WTF - Experiment seems to be sample."
     ]
    },
    {
     "cell_type": "markdown",
     "metadata": {},
     "source": [
      "<img src=\"http://eagle.fish.washington.edu/cnidarian/skitch/Experiment___Submit___Sequence_Read_Archive___NCBI_NLM_NIH_v_0_7_2_1A3B4739.png\" alt=\"Experiment___Submit___Sequence_Read_Archive___NCBI_NLM_NIH_v_0_7_2_1A3B4739.png\"/>"
     ]
    },
    {
     "cell_type": "markdown",
     "metadata": {},
     "source": [
      "```\n",
      "Pycnopodia helianthoides (radius 160.5 +/- 30.9 mm) were collected from four sites in Washington State: Langley (LA) (48.038, -122.404); Dabob Bay (DB) (47.813, -122.820); Port Hadlock Marina (PH) (48.030, -122.745); Friday Harbor (FH) (48.545, -123.012). Sites had no reports of SSWD infection at time of collection.\n",
      "Individuals were inoculated with tissue homogenate prepared from the tube feet, dermal tissue, and coelomic fluid of three P. helianthoides with clinical signs of SSWD. The tissue was ground with a mortar and pestle, then placed in a Stomacher with 10 mL seawater, and centrifuged at 1000 x g for 5 min at 4\u00b0C. Organisms injected with the heat-killed homogenate comprised the control group. The treated group were injected with viral-sized fraction homogenate that was syringe-filtered through a 0.22 \u03bcm polyethylsulfone filter.\n",
      "Libraries were prepared using the Illumina TruSeq RNA Sample Preparation kit according to the manufacturer\u2019s protocol\n",
      "```\n"
     ]
    },
    {
     "cell_type": "code",
     "collapsed": false,
     "input": [],
     "language": "python",
     "metadata": {},
     "outputs": []
    },
    {
     "cell_type": "markdown",
     "metadata": {},
     "source": [
      "<img src=\"http://eagle.fish.washington.edu/cnidarian/skitch/Submissions___BioSample___Submission_Portal_1A3B4709.png\" alt=\"Submissions___BioSample___Submission_Portal_1A3B4709.png\"/>"
     ]
    },
    {
     "cell_type": "markdown",
     "metadata": {},
     "source": [
      "```\n",
      "Accession\tSample Name\tOrganism\tTax ID\tLabel\tBioProject id\n",
      "SAMN03263886\tPhel_Treated_FHL\tPycnopodia helianthoides\t7614\tV_CF71\t270176\n",
      "SAMN03263887\tPhel_Treated_PH\tPycnopodia helianthoides\t7614\tV_CF34\t270176\n",
      "SAMN03263888\tPhel_Treated_L\tPycnopodia helianthoides\t7614\tV_CF26\t270176\n",
      "SAMN03263889\tPhel_Control_PH\tPycnopodia helianthoides\t7614\tHK_CF35\t270176\n",
      "SAMN03263890\tPhel_Control_DB\tPycnopodia helianthoides\t7614\tHK_CF2\t270176\n",
      "SAMN03263891\tPhel_Control_FHL\tPycnopodia helianthoides\t7614\tHK_CF70\t270176\n",
      "```\n"
     ]
    },
    {
     "cell_type": "markdown",
     "metadata": {},
     "source": [
      "Making MD5"
     ]
    },
    {
     "cell_type": "markdown",
     "metadata": {},
     "source": [
      "Phel_Treated_FHL"
     ]
    },
    {
     "cell_type": "code",
     "collapsed": false,
     "input": [
      "!md5 /Volumes/web-1/nightingales/P_helianthoides/3291_5903_10007_H94MGADXX_V_CF71_ATCACG_R1.fastq.gz"
     ],
     "language": "python",
     "metadata": {},
     "outputs": [
      {
       "output_type": "stream",
       "stream": "stdout",
       "text": [
        "MD5 (/Volumes/web-1/nightingales/P_helianthoides/3291_5903_10007_H94MGADXX_V_CF71_ATCACG_R1.fastq.gz) = f721de0ba98974f74c03b5a286f22d9c\r\n"
       ]
      }
     ],
     "prompt_number": 2
    },
    {
     "cell_type": "code",
     "collapsed": false,
     "input": [
      "!md5 /Volumes/web-1/nightingales/P_helianthoides/3291_5903_10007_H94MGADXX_V_CF71_ATCACG_R2.fastq.gz"
     ],
     "language": "python",
     "metadata": {},
     "outputs": [
      {
       "output_type": "stream",
       "stream": "stdout",
       "text": [
        "MD5 (/Volumes/web-1/nightingales/P_helianthoides/3291_5903_10007_H94MGADXX_V_CF71_ATCACG_R2.fastq.gz) = 591afa2c94262bab36e39011abf0d1e9\r\n"
       ]
      }
     ],
     "prompt_number": 3
    },
    {
     "cell_type": "markdown",
     "metadata": {},
     "source": [
      "Revised Sample Input"
     ]
    },
    {
     "cell_type": "markdown",
     "metadata": {},
     "source": [
      "<img src=\"http://eagle.fish.washington.edu/cnidarian/skitch/Experiment_SRX807405___Submit___Sequence_Read_Archive___NCBI_NLM_NIH_v_0_7_2_1A3B4EC5.png\" alt=\"Experiment_SRX807405___Submit___Sequence_Read_Archive___NCBI_NLM_NIH_v_0_7_2_1A3B4EC5.png\"/>"
     ]
    },
    {
     "cell_type": "heading",
     "level": 1,
     "metadata": {},
     "source": [
      "Start over following this model"
     ]
    },
    {
     "cell_type": "markdown",
     "metadata": {},
     "source": [
      "<img src=\"http://eagle.fish.washington.edu/cnidarian/skitch/Submission___Submit___Sequence_Read_Archive___NCBI_NLM_NIH_v_0_7_2_1A3B4F67.png\" alt=\"Submission___Submit___Sequence_Read_Archive___NCBI_NLM_NIH_v_0_7_2_1A3B4F67.png\"/>"
     ]
    },
    {
     "cell_type": "markdown",
     "metadata": {},
     "source": [
      "#FAIL\n",
      "<img src=\"http://eagle.fish.washington.edu/cnidarian/skitch/Submission___Submit___Sequence_Read_Archive___NCBI_NLM_NIH_v_0_7_2_1A3B4FA5.png\" alt=\"Submission___Submit___Sequence_Read_Archive___NCBI_NLM_NIH_v_0_7_2_1A3B4FA5.png\"/>"
     ]
    },
    {
     "cell_type": "markdown",
     "metadata": {},
     "source": [
      "actually - Experiment = Treated"
     ]
    },
    {
     "cell_type": "heading",
     "level": 1,
     "metadata": {},
     "source": [
      "NOTE EXPERIMENT HAS TO HAVE 1 BIOSAMPLE"
     ]
    },
    {
     "cell_type": "markdown",
     "metadata": {},
     "source": [
      "NEW Submission\n",
      "Phel_RNAseq"
     ]
    },
    {
     "cell_type": "code",
     "collapsed": false,
     "input": [
      "new biosample = SAMN03263918"
     ],
     "language": "python",
     "metadata": {},
     "outputs": []
    },
    {
     "cell_type": "markdown",
     "metadata": {},
     "source": [
      "md5 Treated_PH"
     ]
    },
    {
     "cell_type": "code",
     "collapsed": false,
     "input": [
      "!md5 /Volumes/web-1/nightingales/P_helianthoides/3291_5903_10008_H94MGADXX_V_CF34_CGATGT_R1.fastq.gz"
     ],
     "language": "python",
     "metadata": {},
     "outputs": [
      {
       "output_type": "stream",
       "stream": "stdout",
       "text": [
        "MD5 (/Volumes/web-1/nightingales/P_helianthoides/3291_5903_10008_H94MGADXX_V_CF34_CGATGT_R1.fastq.gz) = ebec9f0aa08bbb219f3cb338b67dc06b\r\n"
       ]
      }
     ],
     "prompt_number": 4
    },
    {
     "cell_type": "code",
     "collapsed": false,
     "input": [
      "!md5 /Volumes/web-1/nightingales/P_helianthoides/3291_5903_10008_H94MGADXX_V_CF34_CGATGT_R2.fastq.gz"
     ],
     "language": "python",
     "metadata": {},
     "outputs": [
      {
       "output_type": "stream",
       "stream": "stdout",
       "text": [
        "MD5 (/Volumes/web-1/nightingales/P_helianthoides/3291_5903_10008_H94MGADXX_V_CF34_CGATGT_R2.fastq.gz) = 51349054d2ecceda2b9e5f60eaa1e773\r\n"
       ]
      }
     ],
     "prompt_number": 5
    },
    {
     "cell_type": "code",
     "collapsed": false,
     "input": [
      "Phel_Treated_L\tPycnopodia helianthoides\t7614\tV_CF26"
     ],
     "language": "python",
     "metadata": {},
     "outputs": []
    },
    {
     "cell_type": "code",
     "collapsed": false,
     "input": [
      "```\n",
      "!md5 /Volumes/web-1/nightingales/P_helianthoides/3291_5903_10009_H94MGADXX_V_CF26_TTAGGC_R1.fastq.gz\n",
      "\n",
      "MD5 (/Volumes/web-1/nightingales/P_helianthoides/3291_5903_10009_H94MGADXX_V_CF26_TTAGGC_R1.fastq.gz) = 651b03f75777a781a97de223012a030f\n",
      "```\n"
     ],
     "language": "python",
     "metadata": {},
     "outputs": [
      {
       "ename": "SyntaxError",
       "evalue": "invalid syntax (<ipython-input-11-d8584f5ef666>, line 1)",
       "output_type": "pyerr",
       "traceback": [
        "\u001b[0;36m  File \u001b[0;32m\"<ipython-input-11-d8584f5ef666>\"\u001b[0;36m, line \u001b[0;32m1\u001b[0m\n\u001b[0;31m    ```\u001b[0m\n\u001b[0m       ^\u001b[0m\n\u001b[0;31mSyntaxError\u001b[0m\u001b[0;31m:\u001b[0m invalid syntax\n"
       ]
      }
     ],
     "prompt_number": 11
    },
    {
     "cell_type": "code",
     "collapsed": false,
     "input": [
      "!md5 /Volumes/web-1/nightingales/P_helianthoides/3291_5903_10009_H94MGADXX_V_CF26_TTAGGC_R2.fastq.gz"
     ],
     "language": "python",
     "metadata": {},
     "outputs": [
      {
       "output_type": "stream",
       "stream": "stdout",
       "text": [
        "^C\r\n"
       ]
      }
     ],
     "prompt_number": 8
    },
    {
     "cell_type": "heading",
     "level": 3,
     "metadata": {},
     "source": [
      "Controls"
     ]
    },
    {
     "cell_type": "code",
     "collapsed": false,
     "input": [
      "SAMN03263889\tPhel_Control_PH\tPycnopodia helianthoides\t7614\tHK_CF35\t270176\n",
      "SAMN03263890\tPhel_Control_DB\tPycnopodia helianthoides\t7614\tHK_CF2\t270176\n",
      "SAMN03263891\tPhel_Control_FHL\tPycnopodia helianthoides\t7614\tHK_CF70\t270176"
     ],
     "language": "python",
     "metadata": {},
     "outputs": []
    },
    {
     "cell_type": "code",
     "collapsed": false,
     "input": [
      "!md5 /Volumes/web-1/nightingales/P_helianthoides/3291_5903_10011_H94MGADXX_HK_CF35_ACAGTG_R1.fastq.gz"
     ],
     "language": "python",
     "metadata": {},
     "outputs": [
      {
       "output_type": "stream",
       "stream": "stdout",
       "text": [
        "^C\r\n"
       ]
      }
     ],
     "prompt_number": 9
    },
    {
     "cell_type": "code",
     "collapsed": false,
     "input": [
      "!md5 /Volumes/web-1/nightingales/P_helianthoides/3291_5903_10011_H94MGADXX_HK_CF35_ACAGTG_R2.fastq.gz"
     ],
     "language": "python",
     "metadata": {},
     "outputs": [
      {
       "output_type": "stream",
       "stream": "stdout",
       "text": [
        "MD5 (/Volumes/web-1/nightingales/P_helianthoides/3291_5903_10011_H94MGADXX_HK_CF35_ACAGTG_R2.fastq.gz) = 62716f94fdd8180c6befa5efd184b0de\r\n"
       ]
      }
     ],
     "prompt_number": 10
    },
    {
     "cell_type": "code",
     "collapsed": false,
     "input": [
      "term\n",
      "md5 /Volumes/web-1/nightingales/P_helianthoides/3291_5903_10010_H94MGADXX_HK_CF2_TGACCA_R1.fastq.gz"
     ],
     "language": "python",
     "metadata": {},
     "outputs": []
    },
    {
     "cell_type": "code",
     "collapsed": false,
     "input": [
      "md5 /Volumes/web-1/nightingales/P_helianthoides/3291_5903_10010_H94MGADXX_HK_CF2_TGACCA_R2.fastq.gz"
     ],
     "language": "python",
     "metadata": {},
     "outputs": []
    },
    {
     "cell_type": "code",
     "collapsed": false,
     "input": [
      "!md5 /Volumes/web-1/nightingales/P_helianthoides/3291_5903_10012_H94MGADXX_HK_CF70_GCCAAT_R1.fastq.gz"
     ],
     "language": "python",
     "metadata": {},
     "outputs": []
    },
    {
     "cell_type": "code",
     "collapsed": false,
     "input": [
      "!md5 /Volumes/web-1/nightingales/P_helianthoides/3291_5903_10012_H94MGADXX_HK_CF70_GCCAAT_R2.fastq.gz"
     ],
     "language": "python",
     "metadata": {},
     "outputs": []
    },
    {
     "cell_type": "markdown",
     "metadata": {},
     "source": [
      "NEVERMIND SAM already did this!\n",
      "```\n",
      "MD5 (3291_5903_10007_H94MGADXX_V_CF71_ATCACG_R1.fastq.gz) = f721de0ba98974f74c03b5a286f22d9c\n",
      "MD5 (3291_5903_10007_H94MGADXX_V_CF71_ATCACG_R2.fastq.gz) = 591afa2c94262bab36e39011abf0d1e9\n",
      "MD5 (3291_5903_10008_H94MGADXX_V_CF34_CGATGT_R1.fastq.gz) = ebec9f0aa08bbb219f3cb338b67dc06b\n",
      "MD5 (3291_5903_10008_H94MGADXX_V_CF34_CGATGT_R2.fastq.gz) = 51349054d2ecceda2b9e5f60eaa1e773\n",
      "MD5 (3291_5903_10009_H94MGADXX_V_CF26_TTAGGC_R1.fastq.gz) = 651b03f75777a781a97de223012a030f\n",
      "MD5 (3291_5903_10009_H94MGADXX_V_CF26_TTAGGC_R2.fastq.gz) = 23d79e3db56c56c7855deeb66944e310\n",
      "MD5 (3291_5903_10010_H94MGADXX_HK_CF2_TGACCA_R1.fastq.gz) = e2dabef023c97c36aac803577e5e881d\n",
      "MD5 (3291_5903_10010_H94MGADXX_HK_CF2_TGACCA_R2.fastq.gz) = da65d0d28d80273ffb179cca8cbedecd\n",
      "MD5 (3291_5903_10011_H94MGADXX_HK_CF35_ACAGTG_R1.fastq.gz) = 605af289d6459e0cce271e02ab9136ea\n",
      "MD5 (3291_5903_10011_H94MGADXX_HK_CF35_ACAGTG_R2.fastq.gz) = 62716f94fdd8180c6befa5efd184b0de\n",
      "MD5 (3291_5903_10012_H94MGADXX_HK_CF70_GCCAAT_R1.fastq.gz) = 24415fa7ca77293147c464b15a45ef76\n",
      "MD5 (3291_5903_10012_H94MGADXX_HK_CF70_GCCAAT_R2.fastq.gz) = f0763fc8025f0460c5c09c268136293e\n",
      "```\n"
     ]
    },
    {
     "cell_type": "code",
     "collapsed": false,
     "input": [
      "#done"
     ],
     "language": "python",
     "metadata": {},
     "outputs": []
    },
    {
     "cell_type": "markdown",
     "metadata": {},
     "source": [
      "<img src=\"http://eagle.fish.washington.edu/cnidarian/skitch/Submission___Submit___Sequence_Read_Archive___NCBI_NLM_NIH_v_0_7_2_1A3B5924.png\" alt=\"Submission___Submit___Sequence_Read_Archive___NCBI_NLM_NIH_v_0_7_2_1A3B5924.png\"/>"
     ]
    },
    {
     "cell_type": "code",
     "collapsed": false,
     "input": [],
     "language": "python",
     "metadata": {},
     "outputs": []
    }
   ],
   "metadata": {}
  }
 ]
}