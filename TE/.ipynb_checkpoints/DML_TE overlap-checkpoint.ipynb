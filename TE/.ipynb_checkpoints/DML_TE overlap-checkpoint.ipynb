{
 "metadata": {
  "name": "",
  "signature": "sha256:0254e28aadbbaff9b898a591726852ea29b8914ea66daef5f8a5efb6ba510b64"
 },
 "nbformat": 3,
 "nbformat_minor": 0,
 "worksheets": [
  {
   "cells": [
    {
     "cell_type": "heading",
     "level": 1,
     "metadata": {},
     "source": [
      "Olson DML beds"
     ]
    },
    {
     "cell_type": "code",
     "collapsed": false,
     "input": [
      "!head /Volumes/web/cnidarian/olson-thesis-nb-master-12100836/wd/dev_dml.bed"
     ],
     "language": "python",
     "metadata": {},
     "outputs": [
      {
       "output_type": "stream",
       "stream": "stdout",
       "text": [
        "C24224\t2053\t2053\tDML_dev\r\n",
        "C30124\t6380\t6380\tDML_dev\r\n",
        "scaffold1024\t1265774\t1265774\tDML_dev\r\n",
        "scaffold1103\t28814\t28814\tDML_dev\r\n",
        "scaffold1103\t30261\t30261\tDML_dev\r\n",
        "scaffold1188\t81327\t81327\tDML_dev\r\n",
        "scaffold1297\t43485\t43485\tDML_dev\r\n",
        "scaffold1337\t180233\t180233\tDML_dev\r\n",
        "scaffold1423\t296279\t296279\tDML_dev\r\n",
        "scaffold1896\t38848\t38848\tDML_dev\r\n"
       ]
      }
     ],
     "prompt_number": 1
    },
    {
     "cell_type": "code",
     "collapsed": false,
     "input": [
      "!head /Volumes/web/cnidarian/olson-thesis-nb-master-12100836/wd/lineage_dml.bed"
     ],
     "language": "python",
     "metadata": {},
     "outputs": [
      {
       "output_type": "stream",
       "stream": "stdout",
       "text": [
        "C23232\t379\t379\tDML_lin\r\n",
        "C26004\t260\t260\tDML_lin\r\n",
        "C26812\t1897\t1897\tDML_lin\r\n",
        "C27566\t2051\t2051\tDML_lin\r\n",
        "C27928\t1300\t1300\tDML_lin\r\n",
        "C27928\t1323\t1323\tDML_lin\r\n",
        "C30526\t1477\t1477\tDML_lin\r\n",
        "C33236\t10478\t10478\tDML_lin\r\n",
        "C33236\t10483\t10483\tDML_lin\r\n",
        "C34176\t2127\t2127\tDML_lin\r\n"
       ]
      }
     ],
     "prompt_number": 2
    },
    {
     "cell_type": "code",
     "collapsed": false,
     "input": [
      "mkdir data"
     ],
     "language": "python",
     "metadata": {},
     "outputs": [],
     "prompt_number": 9
    },
    {
     "cell_type": "code",
     "collapsed": false,
     "input": [
      "!wget http://eagle.fish.washington.edu/cnidarian/olson-thesis-nb-master-12100836/wd/lineage_dml.bed"
     ],
     "language": "python",
     "metadata": {},
     "outputs": [
      {
       "output_type": "stream",
       "stream": "stdout",
       "text": [
        "--2014-12-10 14:18:43--  http://eagle.fish.washington.edu/cnidarian/olson-thesis-nb-master-12100836/wd/lineage_dml.bed\r\n",
        "Resolving eagle.fish.washington.edu... "
       ]
      },
      {
       "output_type": "stream",
       "stream": "stdout",
       "text": [
        "128.95.149.81\r\n",
        "Connecting to eagle.fish.washington.edu|128.95.149.81|:80... connected.\r\n",
        "HTTP request sent, awaiting response... 200 OK\r\n",
        "Length: 6273 (6.1K) [application/vnd.realvnc.bed]\r\n",
        "Saving to: `lineage_dml.bed'\r\n",
        "\r\n",
        "\r",
        " 0% [                                       ] 0           --.-K/s              \r",
        "100%[======================================>] 6,273       --.-K/s   in 0s      \r\n",
        "\r\n",
        "2014-12-10 14:18:43 (63.6 MB/s) - `lineage_dml.bed' saved [6273/6273]\r\n",
        "\r\n"
       ]
      }
     ],
     "prompt_number": 10
    },
    {
     "cell_type": "code",
     "collapsed": false,
     "input": [
      "!wget http://eagle.fish.washington.edu/cnidarian/olson-thesis-nb-master-12100836/wd/dev_dml.bed"
     ],
     "language": "python",
     "metadata": {},
     "outputs": [
      {
       "output_type": "stream",
       "stream": "stdout",
       "text": [
        "--2014-12-10 14:18:58--  http://eagle.fish.washington.edu/cnidarian/olson-thesis-nb-master-12100836/wd/dev_dml.bed\r\n",
        "Resolving eagle.fish.washington.edu... 128.95.149.81\r\n",
        "Connecting to eagle.fish.washington.edu|128.95.149.81|:80... connected.\r\n",
        "HTTP request sent, awaiting response... 200 OK\r\n",
        "Length: 5331 (5.2K) [application/vnd.realvnc.bed]\r\n",
        "Saving to: `dev_dml.bed'\r\n",
        "\r\n",
        "\r",
        " 0% [                                       ] 0           --.-K/s              \r",
        "100%[======================================>] 5,331       --.-K/s   in 0s      \r\n",
        "\r\n",
        "2014-12-10 14:18:58 (164 MB/s) - `dev_dml.bed' saved [5331/5331]\r\n",
        "\r\n"
       ]
      }
     ],
     "prompt_number": 11
    },
    {
     "cell_type": "code",
     "collapsed": false,
     "input": [
      "ls"
     ],
     "language": "python",
     "metadata": {},
     "outputs": [
      {
       "output_type": "stream",
       "stream": "stdout",
       "text": [
        "\u001b[34mipython_nb\u001b[m\u001b[m/ \u001b[34mnb-2015\u001b[m\u001b[m/\r\n"
       ]
      }
     ],
     "prompt_number": 22
    },
    {
     "cell_type": "code",
     "collapsed": false,
     "input": [
      "!head ~/git-repos/nb-2015/TE/data/dev_dml.bed"
     ],
     "language": "python",
     "metadata": {},
     "outputs": [
      {
       "output_type": "stream",
       "stream": "stdout",
       "text": [
        "C24224\t2053\t2053\tDML_dev\r\n",
        "C30124\t6380\t6380\tDML_dev\r\n",
        "scaffold1024\t1265774\t1265774\tDML_dev\r\n",
        "scaffold1103\t28814\t28814\tDML_dev\r\n",
        "scaffold1103\t30261\t30261\tDML_dev\r\n",
        "scaffold1188\t81327\t81327\tDML_dev\r\n",
        "scaffold1297\t43485\t43485\tDML_dev\r\n",
        "scaffold1337\t180233\t180233\tDML_dev\r\n",
        "scaffold1423\t296279\t296279\tDML_dev\r\n",
        "scaffold1896\t38848\t38848\tDML_dev\r\n"
       ]
      }
     ],
     "prompt_number": 24
    },
    {
     "cell_type": "code",
     "collapsed": false,
     "input": [
      "!intersectbed \\\n",
      "-wo \\\n",
      "-a ~/git-repos/nb-2015/TE/data/dev_dml.bed \\\n",
      "-b /Volumes/web/trilobite/Crassostrea_gigas_v9_tracks/Cgigas_v9_TE.gff \n"
     ],
     "language": "python",
     "metadata": {},
     "outputs": [
      {
       "output_type": "stream",
       "stream": "stdout",
       "text": [
        "scaffold1188\t81327\t81327\tDML_dev\tscaffold1188\tWUBlastX\tLINE_R2-Hero\t78711\t81929\t2619\t-\t.\t.\t2\r\n",
        "scaffold532\t46292\t46292\tDML_dev\tscaffold532\tTRF\tTandem_Repeat\t45305\t46705\t2349\t+\t.\t.\t2\r\n",
        "scaffold532\t46292\t46292\tDML_dev\tscaffold532\tTRF\tTandem_Repeat\t45306\t46708\t2382\t+\t.\t.\t2\r\n",
        "scaffold601\t110843\t110843\tDML_dev\tscaffold601\tTRF\tTandem_Repeat\t110102\t110963\t699\t+\t.\t.\t2\r\n",
        "scaffold1209\t10262\t10262\tDML_dev\tscaffold1209\tWUBlastX\tRC_Helitron\t8503\t11436\t1889\t-\t.\t.\t2\r\n",
        "scaffold1264\t136257\t136257\tDML_dev\tscaffold1264\tWUBlastX\tLINE_L1\t136179\t137522\t839\t+\t.\t.\t2\r\n",
        "scaffold1847\t26361\t26361\tDML_dev\tscaffold1847\tWUBlastX\tLTR_Pao\t23813\t27868\t3196\t+\t.\t.\t2\r\n",
        "scaffold1847\t26361\t26361\tDML_dev\tscaffold1847\tWUBlastX\tLTR_Pao\t22979\t27865\t2168\t+\t.\t.\t2\r\n",
        "scaffold3\t197079\t197079\tDML_dev\tscaffold3\tTRF\tTandem_Repeat\t197002\t197079\t126\t+\t.\t.\t1\r\n",
        "scaffold43660\t67427\t67427\tDML_dev\tscaffold43660\tTRF\tTandem_Repeat\t66950\t67762\t1466\t+\t.\t.\t2\r\n",
        "scaffold606\t266817\t266817\tDML_dev\tscaffold606\tTRF\tTandem_Repeat\t265668\t267393\t2076\t+\t.\t.\t2\r\n",
        "scaffold695\t314697\t314697\tDML_dev\tscaffold695\tTRF\tTandem_Repeat\t314672\t315322\t144\t+\t.\t.\t2\r\n",
        "scaffold695\t314697\t314697\tDML_dev\tscaffold695\tTRF\tTandem_Repeat\t314671\t315354\t328\t+\t.\t.\t2\r\n",
        "scaffold695\t314697\t314697\tDML_dev\tscaffold695\tTRF\tTandem_Repeat\t314668\t315327\t232\t+\t.\t.\t2\r\n",
        "scaffold721\t379153\t379153\tDML_dev\tscaffold721\tTRF\tTandem_Repeat\t378796\t379228\t625\t+\t.\t.\t2\r\n",
        "scaffold759\t97099\t97099\tDML_dev\tscaffold759\tWUBlastX\tLTR_Gypsy\t96962\t97861\t418\t-\t.\t.\t2\r\n",
        "scaffold759\t97099\t97099\tDML_dev\tscaffold759\tWUBlastX\tLTR_Gypsy\t96755\t97861\t247\t-\t.\t.\t2\r\n",
        "scaffold992\t63410\t63410\tDML_dev\tscaffold992\tTRF\tTandem_Repeat\t63166\t63466\t235\t+\t.\t.\t2\r\n",
        "scaffold1227\t137921\t137921\tDML_dev\tscaffold1227\tTRF\tTandem_Repeat\t137882\t138064\t330\t+\t.\t.\t2\r\n",
        "scaffold146\t563061\t563061\tDML_dev\tscaffold146\tWUBlastX\tLINE_L1-Tx1\t562867\t563436\t291\t+\t.\t.\t2\r\n",
        "scaffold169\t564998\t564998\tDML_dev\tscaffold169\tWUBlastX\tDNA_Sola\t564668\t565312\t170\t+\t.\t.\t2\r\n",
        "scaffold3\t555163\t555163\tDML_dev\tscaffold3\tWUBlastX\tLTR_Ngaro\t555085\t555171\t36\t-\t.\t.\t2\r\n",
        "scaffold3\t555163\t555163\tDML_dev\tscaffold3\tWUBlastX\tLTR_Ngaro\t555049\t555168\t31\t-\t.\t.\t2\r\n",
        "scaffold4\t650580\t650580\tDML_dev\tscaffold4\tWUBlastX\tLINE_CR1-L2\t650234\t650653\t124\t+\t.\t.\t2\r\n",
        "scaffold4\t650580\t650580\tDML_dev\tscaffold4\tWUBlastX\tLINE_L2\t650489\t650689\t30\t+\t.\t.\t2\r\n",
        "scaffold42408\t120678\t120678\tDML_dev\tscaffold42408\tWUBlastX\tRC_Helitron\t118674\t121460\t1783\t-\t.\t.\t2\r\n",
        "scaffold852\t66803\t66803\tDML_dev\tscaffold852\tWUBlastX\tLTR_Gypsy-Cigr\t66717\t69767\t2144\t-\t.\t.\t2\r\n",
        "scaffold852\t66803\t66803\tDML_dev\tscaffold852\tWUBlastX\tLTR_Gypsy\t66714\t70346\t1793\t-\t.\t.\t2\r\n",
        "scaffold852\t66803\t66803\tDML_dev\tscaffold852\tWUBlastX\tLTR_Gypsy\t66624\t67109\t27\t-\t.\t.\t2\r\n"
       ]
      }
     ],
     "prompt_number": 28
    },
    {
     "cell_type": "code",
     "collapsed": false,
     "input": [
      "!intersectbed \\\n",
      "-wo \\\n",
      "-a ~/git-repos/nb-2015/TE/data/lineage_dml.bed \\\n",
      "-b /Volumes/web/trilobite/Crassostrea_gigas_v9_tracks/Cgigas_v9_TE.gff"
     ],
     "language": "python",
     "metadata": {},
     "outputs": [
      {
       "output_type": "stream",
       "stream": "stdout",
       "text": [
        "C23232\t379\t379\tDML_lin\tC23232\tWUBlastX\tRC_Helitron\t1\t1128\t669\t-\t.\t.\t2\r\n",
        "C26004\t260\t260\tDML_lin\tC26004\tWUBlastX\tDNA_TcMar-Tc1\t139\t1140\t258\t+\t.\t.\t2\r\n",
        "C30526\t1477\t1477\tDML_lin\tC30526\tWUBlastX\tDNA_TcMar-Tc2\t1439\t2503\t822\t-\t.\t.\t2\r\n",
        "scaffold1052\t37566\t37566\tDML_lin\tscaffold1052\tWUBlastX\tLTR_DIRS\t35731\t37764\t1220\t-\t.\t.\t2\r\n",
        "scaffold1093\t541091\t541091\tDML_lin\tscaffold1093\tWUBlastX\tLINE_L1\t540483\t541922\t64\t-\t.\t.\t2\r\n",
        "scaffold1093\t541091\t541091\tDML_lin\tscaffold1093\tWUBlastX\tLINE_L1-Tx1\t540339\t541682\t392\t-\t.\t.\t2\r\n",
        "scaffold1093\t541194\t541194\tDML_lin\tscaffold1093\tWUBlastX\tLINE_L1\t540483\t541922\t64\t-\t.\t.\t2\r\n",
        "scaffold1093\t541194\t541194\tDML_lin\tscaffold1093\tWUBlastX\tLINE_L1-Tx1\t540339\t541682\t392\t-\t.\t.\t2\r\n",
        "scaffold1093\t541205\t541205\tDML_lin\tscaffold1093\tWUBlastX\tLINE_L1\t540483\t541922\t64\t-\t.\t.\t2\r\n",
        "scaffold1093\t541205\t541205\tDML_lin\tscaffold1093\tWUBlastX\tLINE_L1-Tx1\t540339\t541682\t392\t-\t.\t.\t2\r\n",
        "scaffold1771\t71291\t71291\tDML_lin\tscaffold1771\tTRF\tTandem_Repeat\t71088\t71378\t415\t+\t.\t.\t2\r\n",
        "scaffold237\t606835\t606835\tDML_lin\tscaffold237\tWUBlastX\tDNA_MuDR\t605976\t607616\t527\t-\t.\t.\t2\r\n",
        "scaffold237\t606841\t606841\tDML_lin\tscaffold237\tWUBlastX\tDNA_MuDR\t605976\t607616\t527\t-\t.\t.\t2\r\n",
        "scaffold31484\t9467\t9467\tDML_lin\tscaffold31484\tWUBlastX\tRC_Helitron\t9352\t9591\t101\t-\t.\t.\t2\r\n",
        "scaffold322\t42004\t42004\tDML_lin\tscaffold322\tWUBlastX\tLINE_RTE-X\t41324\t42403\t306\t+\t.\t.\t2\r\n",
        "scaffold338\t254518\t254518\tDML_lin\tscaffold338\tWUBlastX\tLINE_L2\t254221\t254787\t42\t+\t.\t.\t2\r\n",
        "scaffold338\t254518\t254518\tDML_lin\tscaffold338\tWUBlastX\tLINE_RTE-X\t254323\t255909\t517\t+\t.\t.\t2\r\n",
        "scaffold338\t254529\t254529\tDML_lin\tscaffold338\tWUBlastX\tLINE_L2\t254221\t254787\t42\t+\t.\t.\t2\r\n",
        "scaffold338\t254529\t254529\tDML_lin\tscaffold338\tWUBlastX\tLINE_RTE-X\t254323\t255909\t517\t+\t.\t.\t2\r\n",
        "scaffold33934\t10057\t10057\tDML_lin\tscaffold33934\tWUBlastX\tLTR_Gypsy-Cigr\t9749\t10879\t96\t-\t.\t.\t2\r\n",
        "scaffold35568\t2244\t2244\tDML_lin\tscaffold35568\tWUBlastX\tLINE_L1-Tx1\t51\t2531\t1053\t+\t.\t.\t2\r\n",
        "scaffold42408\t116477\t116477\tDML_lin\tscaffold42408\tWUBlastX\tRC_Helitron\t116084\t117067\t103\t-\t.\t.\t2\r\n",
        "scaffold42408\t116507\t116507\tDML_lin\tscaffold42408\tWUBlastX\tRC_Helitron\t116084\t117067\t103\t-\t.\t.\t2\r\n",
        "scaffold471\t1229927\t1229927\tDML_lin\tscaffold471\tWUBlastX\tDNA_MuDR\t1229012\t1229992\t43\t-\t.\t.\t2\r\n",
        "scaffold471\t1229927\t1229927\tDML_lin\tscaffold471\tWUBlastX\tDNA_MuDR\t1229012\t1230214\t29\t-\t.\t.\t2\r\n",
        "scaffold695\t315092\t315092\tDML_lin\tscaffold695\tTRF\tTandem_Repeat\t314672\t315322\t144\t+\t.\t.\t2\r\n",
        "scaffold695\t315092\t315092\tDML_lin\tscaffold695\tTRF\tTandem_Repeat\t314671\t315354\t328\t+\t.\t.\t2\r\n",
        "scaffold695\t315092\t315092\tDML_lin\tscaffold695\tTRF\tTandem_Repeat\t314668\t315327\t232\t+\t.\t.\t2\r\n",
        "scaffold721\t378853\t378853\tDML_lin\tscaffold721\tTRF\tTandem_Repeat\t378796\t379228\t625\t+\t.\t.\t2\r\n",
        "scaffold760\t128351\t128351\tDML_lin\tscaffold760\tWUBlastX\tLINE_L1-Tx1\t127785\t130661\t1616\t+\t.\t.\t2\r\n",
        "scaffold760\t777234\t777234\tDML_lin\tscaffold760\tWUBlastX\tLTR_Pao\t777204\t777527\t26\t-\t.\t.\t2\r\n",
        "scaffold773\t175267\t175267\tDML_lin\tscaffold773\tWUBlastX\tLTR_Pao\t170964\t176408\t2249\t-\t.\t.\t2\r\n",
        "scaffold815\t20326\t20326\tDML_lin\tscaffold815\tWUBlastX\tDNA_hAT-hATw\t19971\t21215\t420\t-\t.\t.\t2\r\n",
        "scaffold968\t140888\t140888\tDML_lin\tscaffold968\tWUBlastX\tLTR_Copia\t139375\t141270\t1143\t-\t.\t.\t2\r\n",
        "scaffold968\t141149\t141149\tDML_lin\tscaffold968\tWUBlastX\tLTR_Copia\t139375\t141270\t1143\t-\t.\t.\t2\r\n"
       ]
      }
     ],
     "prompt_number": 32
    },
    {
     "cell_type": "code",
     "collapsed": false,
     "input": [],
     "language": "python",
     "metadata": {},
     "outputs": []
    }
   ],
   "metadata": {}
  }
 ]
}