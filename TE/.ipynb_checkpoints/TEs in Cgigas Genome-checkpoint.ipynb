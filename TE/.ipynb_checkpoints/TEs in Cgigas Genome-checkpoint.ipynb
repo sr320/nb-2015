{
 "metadata": {
  "name": "",
  "signature": "sha256:ca8494c00d2f9859a7c70bc6120a3ac49625abf9b4c5423734f1e36d04fb443d"
 },
 "nbformat": 3,
 "nbformat_minor": 0,
 "worksheets": [
  {
   "cells": [
    {
     "cell_type": "code",
     "collapsed": false,
     "input": [
      "!fgrep -c \">\" /Volumes/web/cnidarian/oyster.v9.fa"
     ],
     "language": "python",
     "metadata": {},
     "outputs": [
      {
       "output_type": "stream",
       "stream": "stdout",
       "text": [
        "11969\r\n"
       ]
      }
     ],
     "prompt_number": 3
    },
    {
     "cell_type": "code",
     "collapsed": false,
     "input": [
      "!head /Volumes/web/trilobite/Crassostrea_gigas_v9_tracks/Cgigas_v9_TE.gff"
     ],
     "language": "python",
     "metadata": {},
     "outputs": [
      {
       "output_type": "stream",
       "stream": "stdout",
       "text": [
        "C21242\tTRF\tTandem_Repeat\t38\t100\t72\t+\t.\t.\r\n",
        "C21306\tTRF\tTandem_Repeat\t35\t143\t112\t+\t.\t.\r\n",
        "C21306\tTRF\tTandem_Repeat\t574\t947\t208\t+\t.\t.\r\n",
        "C21306\tTRF\tTandem_Repeat\t574\t901\t313\t+\t.\t.\r\n",
        "C21372\tTRF\tTandem_Repeat\t643\t671\t58\t+\t.\t.\r\n",
        "C22542\tTRF\tTandem_Repeat\t1727\t1774\t96\t+\t.\t.\r\n",
        "C22728\tTRF\tTandem_Repeat\t426\t491\t105\t+\t.\t.\r\n",
        "C23428\tTRF\tTandem_Repeat\t130\t415\t202\t+\t.\t.\r\n",
        "C23796\tTRF\tTandem_Repeat\t547\t608\t97\t+\t.\t.\r\n",
        "C24440\tTRF\tTandem_Repeat\t1059\t1089\t62\t+\t.\t.\r\n"
       ]
      }
     ],
     "prompt_number": 6
    },
    {
     "cell_type": "code",
     "collapsed": false,
     "input": [
      "!tail /Volumes/web/trilobite/Crassostrea_gigas_v9_tracks/Cgigas_v9_TE.gff"
     ],
     "language": "python",
     "metadata": {},
     "outputs": [
      {
       "output_type": "stream",
       "stream": "stdout",
       "text": [
        "scaffold1857\tWUBlastX\tLINE_L2\t407417\t407473\t20\t+\t.\t.\r\n",
        "scaffold719\tWUBlastX\tLINE_L1-Tx1\t169331\t169657\t23\t+\t.\t.\r\n",
        "scaffold120\tWUBlastX\tLINE_L1-Tx1\t318727\t318939\t36\t-\t.\t.\r\n",
        "scaffold575\tWUBlastX\tLINE_L1-Tx1\t139593\t139886\t64\t+\t.\t.\r\n",
        "scaffold3\tWUBlastX\tLINE_L1-Tx1\t324807\t324851\t26\t-\t.\t.\r\n",
        "scaffold38216\tWUBlastX\tLINE_DRE\t52242\t52382\t29\t+\t.\t.\r\n",
        "scaffold1213\tWUBlastX\tDNA_Transib\t669104\t669283\t58\t-\t.\t.\r\n",
        "scaffold117\tWUBlastX\tDNA_TcMar-Tc1\t355991\t356095\t53\t+\t.\t.\r\n",
        "scaffold1009\tWUBlastX\tDNA_TcMar-Tc2\t1790325\t1790603\t20\t+\t.\t.\r\n",
        "scaffold983\tWUBlastX\tDNA_TcMar-Tc1\t369636\t369770\t26\t-\t.\t."
       ]
      }
     ],
     "prompt_number": 8
    },
    {
     "cell_type": "code",
     "collapsed": false,
     "input": [
      "!fgrep -c \"Tandem_Repeat\" /Volumes/web/trilobite/Crassostrea_gigas_v9_tracks/Cgigas_v9_TE.gff"
     ],
     "language": "python",
     "metadata": {},
     "outputs": [
      {
       "output_type": "stream",
       "stream": "stdout",
       "text": [
        "61319\r\n"
       ]
      }
     ],
     "prompt_number": 9
    },
    {
     "cell_type": "code",
     "collapsed": false,
     "input": [
      "!wc -l /Volumes/web/trilobite/Crassostrea_gigas_v9_tracks/Cgigas_v9_TE.gff"
     ],
     "language": "python",
     "metadata": {},
     "outputs": [
      {
       "output_type": "stream",
       "stream": "stdout",
       "text": [
        "  119786 /Volumes/web/trilobite/Crassostrea_gigas_v9_tracks/Cgigas_v9_TE.gff\r\n"
       ]
      }
     ],
     "prompt_number": 7
    },
    {
     "cell_type": "markdown",
     "metadata": {},
     "source": [
      "_found code_\n",
      "\n",
      "```\n",
      "robertsmac:RepeatMasker sr320$ ./RepeatMasker -dir /Volumes/Bay3/Software/RepeatMasker/out/ -gff oyster.v9.fa \n",
      "\n",
      "Search Engine: NCBI/RMBLAST\n",
      "Master RepeatMasker Database: /Volumes/Bay3/Software/RepeatMasker/Libraries/RepeatMaskerLib.embl ( Complete Database: 20120418 )\n",
      "```"
     ]
    },
    {
     "cell_type": "heading",
     "level": 3,
     "metadata": {},
     "source": [
      "OTHER INFO"
     ]
    },
    {
     "cell_type": "code",
     "collapsed": false,
     "input": [],
     "language": "python",
     "metadata": {},
     "outputs": []
    }
   ],
   "metadata": {}
  }
 ]
}