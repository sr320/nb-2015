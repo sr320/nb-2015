{
 "metadata": {
  "name": "",
  "signature": "sha256:5885aaf7397e401fa044a97a572d68193bf8344d1bb463f7a9fb60a47189e137"
 },
 "nbformat": 3,
 "nbformat_minor": 0,
 "worksheets": [
  {
   "cells": [
    {
     "cell_type": "heading",
     "level": 1,
     "metadata": {},
     "source": [
      "Olson DML beds"
     ]
    },
    {
     "cell_type": "code",
     "collapsed": false,
     "input": [],
     "language": "python",
     "metadata": {},
     "outputs": []
    }
   ],
   "metadata": {}
  }
 ]
}