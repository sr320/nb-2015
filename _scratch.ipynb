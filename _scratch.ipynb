{
 "metadata": {
  "name": "",
  "signature": "sha256:4b2ebc214040e0078247cf20224e7de4f165778b4be79eab01228f58ce519f6a"
 },
 "nbformat": 3,
 "nbformat_minor": 0,
 "worksheets": [
  {
   "cells": [
    {
     "cell_type": "code",
     "collapsed": false,
     "input": [
      "!/Volumes/Bay3/Software/RepeatMasker/RepeatProteinMask -help"
     ],
     "language": "python",
     "metadata": {},
     "outputs": [
      {
       "output_type": "stream",
       "stream": "stdout",
       "text": [
        "NAME\r\n",
        "    RepeatProteinMask - Mask Repeat Proteins in DNA sequence\r\n",
        "\r\n",
        "SYNOPSIS\r\n",
        "      RepeatProteinMask [-pvalue #] [-minscore #] [-wordsize #] [-maxAADist] \r\n",
        "                        [-noLowSimple] [-noTRF] [-queryStatLen #] <fasta file>\r\n",
        "\r\n",
        "DESCRIPTION\r\n",
        "    The options are:\r\n",
        "\r\n",
        "    -h(elp)\r\n",
        "    -pvalue #\r\n",
        "        The threshold for accepting matches. Matches must hava a pvalue less\r\n",
        "        than this number. Default is *NOT* to threshold...it used to be\r\n",
        "        0.0001!!!!\r\n",
        "\r\n",
        "    -minscore #\r\n",
        "        Threshold on minscore. Note no default is added. So all hits will be\r\n",
        "        returned unless a minscore is used.\r\n",
        "\r\n",
        "    -wordsize #\r\n",
        "        The wordsize to use with the wublastx search. Default is 3\r\n",
        "\r\n",
        "    -querystatlen #\r\n",
        "        The effective length of the query to use in statistical\r\n",
        "        calculations.\r\n",
        "\r\n",
        "    -maxaadist #\r\n",
        "        The maximum distance to consider two blastx hits as the same (and\r\n",
        "        thus contributing to Sum P scores). Default is 333.\r\n",
        "\r\n",
        "    -noLowSimple\r\n",
        "        Turns off masking/annotating of low complexity and simple repeats in\r\n",
        "        the final output. Low complexity and simple repeat analysis will\r\n",
        "        still occur prior to looking for matches to the RepeatPep database.\r\n",
        "\r\n",
        "    -noTRF\r\n",
        "        Turns off masking/annotating of tandem repeats in the input\r\n",
        "        sequence.\r\n",
        "\r\n",
        "        Detailed help\r\n",
        "\r\n",
        "SEE ALSO\r\n",
        "        RepeatModeler\r\n",
        "\r\n",
        "COPYRIGHT\r\n",
        "    Copyright 2005 Institute for Systems Biology\r\n",
        "\r\n",
        "AUTHOR\r\n",
        "    Robert Hubley <rhubley@systemsbiology.org>\r\n",
        "\r\n"
       ]
      }
     ],
     "prompt_number": 2
    },
    {
     "cell_type": "code",
     "collapsed": false,
     "input": [
      "cd /Volumes/Bay3/Software"
     ],
     "language": "python",
     "metadata": {},
     "outputs": [
      {
       "output_type": "stream",
       "stream": "stdout",
       "text": [
        "/Volumes/Bay3/Software\n"
       ]
      }
     ],
     "prompt_number": 3
    },
    {
     "cell_type": "code",
     "collapsed": false,
     "input": [
      "!tar xfvz stacks-1.22.tar.gz"
     ],
     "language": "python",
     "metadata": {},
     "outputs": [
      {
       "output_type": "stream",
       "stream": "stdout",
       "text": [
        "x stacks-1.22/\r\n",
        "x stacks-1.22/config/\r\n",
        "x stacks-1.22/config/depcomp\r\n",
        "x stacks-1.22/config/test-driver\r\n",
        "x stacks-1.22/config/compile\r\n",
        "x stacks-1.22/config/install-sh\r\n",
        "x stacks-1.22/config/missing\r\n",
        "x stacks-1.22/php/\r\n",
        "x stacks-1.22/php/images/\r\n",
        "x stacks-1.22/php/images/caret-d.png\r\n",
        "x stacks-1.22/php/images/caret-u.png\r\n",
        "x stacks-1.22/php/images/excel_icon.png\r\n",
        "x stacks-1.22/php/images/l-arrow-disabled.png\r\n",
        "x stacks-1.22/php/images/l-arrow.png\r\n",
        "x stacks-1.22/php/images/r-arrow-disabled.png\r\n",
        "x stacks-1.22/php/images/r-arrow.png\r\n",
        "x stacks-1.22/php/images/stacks_bg.png\r\n",
        "x stacks-1.22/php/images/stacks_logo_rev_small.png\r\n",
        "x stacks-1.22/php/CatalogClass.php\r\n",
        "x stacks-1.22/php/annotate_marker.php\r\n",
        "x stacks-1.22/php/constants.php.dist\r\n",
        "x stacks-1.22/php/index.php\r\n",
        "x stacks-1.22/php/tags.php\r\n",
        "x stacks-1.22/php/Locus.php\r\n",
        "x stacks-1.22/php/catalog.php\r\n",
        "x stacks-1.22/php/correct_genotypes.php\r\n",
        "x stacks-1.22/php/correct_genotype.php\r\n",
        "x stacks-1.22/php/export_batch.php\r\n",
        "x stacks-1.22/php/last_modified.php\r\n",
        "x stacks-1.22/php/version.php\r\n",
        "x stacks-1.22/php/catalog_genotypes.php\r\n",
        "x stacks-1.22/php/db_functions.php\r\n",
        "x stacks-1.22/php/header.php\r\n",
        "x stacks-1.22/php/samples.php\r\n",
        "x stacks-1.22/php/stacks_functions.php\r\n",
        "x stacks-1.22/php/view_sequence.php\r\n",
        "x stacks-1.22/php/catalog_tag.php\r\n",
        "x stacks-1.22/php/sequence_blast.php\r\n",
        "x stacks-1.22/php/tag.php\r\n",
        "x stacks-1.22/php/ajax.js\r\n",
        "x stacks-1.22/php/annotate.js\r\n",
        "x stacks-1.22/php/stacks.js\r\n",
        "x stacks-1.22/php/export.js\r\n",
        "x stacks-1.22/php/stacks.css\r\n",
        "x stacks-1.22/scripts/\r\n",
        "x stacks-1.22/scripts/denovo_map.pl\r\n",
        "x stacks-1.22/scripts/ref_map.pl\r\n",
        "x stacks-1.22/scripts/export_sql.pl\r\n",
        "x stacks-1.22/scripts/sort_read_pairs.pl\r\n",
        "x stacks-1.22/scripts/exec_velvet.pl\r\n",
        "x stacks-1.22/scripts/load_sequences.pl\r\n",
        "x stacks-1.22/scripts/index_radtags.pl\r\n",
        "x stacks-1.22/scripts/load_radtags.pl\r\n",
        "x stacks-1.22/scripts/stacks_export_notify.pl\r\n",
        "x stacks-1.22/scripts/extract_interpop_chars.pl\r\n",
        "x stacks-1.22/scripts/convert_stacks.pl\r\n",
        "x stacks-1.22/sql/\r\n",
        "x stacks-1.22/sql/mysql.cnf.dist\r\n",
        "x stacks-1.22/sql/catalog_index.sql\r\n",
        "x stacks-1.22/sql/stacks.sql\r\n",
        "x stacks-1.22/sql/tag_index.sql\r\n",
        "x stacks-1.22/sql/chr_index.sql\r\n",
        "x stacks-1.22/src/\r\n",
        "x stacks-1.22/src/clone_filter.h\r\n",
        "x stacks-1.22/src/clone_filter.cc\r\n",
        "x stacks-1.22/src/constants.h\r\n",
        "x stacks-1.22/src/kmers.h\r\n",
        "x stacks-1.22/src/kmers.cc\r\n",
        "x stacks-1.22/src/input.h\r\n",
        "x stacks-1.22/src/input.cc\r\n",
        "x stacks-1.22/src/BustardI.h\r\n",
        "x stacks-1.22/src/FastqI.h\r\n",
        "x stacks-1.22/src/FastaI.h\r\n",
        "x stacks-1.22/src/gzFastq.h\r\n",
        "x stacks-1.22/src/gzFasta.h\r\n",
        "x stacks-1.22/src/cstacks.h\r\n",
        "x stacks-1.22/src/cstacks.cc\r\n",
        "x stacks-1.22/src/stacks.h\r\n",
        "x stacks-1.22/src/stacks.cc\r\n",
        "x stacks-1.22/src/locus.h\r\n",
        "x stacks-1.22/src/locus.cc\r\n",
        "x stacks-1.22/src/utils.h\r\n",
        "x stacks-1.22/src/utils.cc\r\n",
        "x stacks-1.22/src/DNASeq.h\r\n",
        "x stacks-1.22/src/DNASeq.cc\r\n",
        "x stacks-1.22/src/DNANSeq.h\r\n",
        "x stacks-1.22/src/DNANSeq.cc\r\n",
        "x stacks-1.22/src/sql_utilities.h\r\n",
        "x stacks-1.22/src/estacks.h"
       ]
      },
      {
       "output_type": "stream",
       "stream": "stdout",
       "text": [
        "\r\n",
        "x stacks-1.22/src/estacks.cc\r\n",
        "x stacks-1.22/src/mstack.h\r\n",
        "x stacks-1.22/src/mstack.cc\r\n",
        "x stacks-1.22/src/models.h\r\n",
        "x stacks-1.22/src/models.cc\r\n",
        "x stacks-1.22/src/Tsv.h\r\n",
        "x stacks-1.22/src/BowtieI.h\r\n",
        "x stacks-1.22/src/SamI.h\r\n",
        "x stacks-1.22/src/genotypes.h\r\n",
        "x stacks-1.22/src/genotypes.cc\r\n",
        "x stacks-1.22/src/catalog_utils.h\r\n",
        "x stacks-1.22/src/catalog_utils.cc\r\n",
        "x stacks-1.22/src/log_utils.h\r\n",
        "x stacks-1.22/src/log_utils.cc\r\n",
        "x stacks-1.22/src/PopMap.h\r\n",
        "x stacks-1.22/src/genotype_dictionaries.h\r\n",
        "x stacks-1.22/src/renz.h\r\n",
        "x stacks-1.22/src/hstacks.h\r\n",
        "x stacks-1.22/src/hstacks.cc\r\n",
        "x stacks-1.22/src/kmer_filter.h\r\n",
        "x stacks-1.22/src/kmer_filter.cc\r\n",
        "x stacks-1.22/src/write.h\r\n",
        "x stacks-1.22/src/write.cc\r\n",
        "x stacks-1.22/src/phasedstacks.h\r\n",
        "x stacks-1.22/src/phasedstacks.cc\r\n",
        "x stacks-1.22/src/populations.h\r\n",
        "x stacks-1.22/src/populations.cc\r\n",
        "x stacks-1.22/src/PopSum.h\r\n",
        "x stacks-1.22/src/bootstrap.h\r\n",
        "x stacks-1.22/src/ordered.h\r\n",
        "x stacks-1.22/src/smoothing.h\r\n",
        "x stacks-1.22/src/smoothing_utils.h\r\n",
        "x stacks-1.22/src/process_radtags.h\r\n",
        "x stacks-1.22/src/process_radtags.cc\r\n",
        "x stacks-1.22/src/clean.h\r\n",
        "x stacks-1.22/src/clean.cc\r\n",
        "x stacks-1.22/src/file_io.h\r\n",
        "x stacks-1.22/src/file_io.cc\r\n",
        "x stacks-1.22/src/process_shortreads.h\r\n",
        "x stacks-1.22/src/process_shortreads.cc\r\n",
        "x stacks-1.22/src/pstacks.h\r\n",
        "x stacks-1.22/src/pstacks.cc\r\n",
        "x stacks-1.22/src/BamI.h\r\n",
        "x stacks-1.22/src/rxstacks.h\r\n",
        "x stacks-1.22/src/rxstacks.cc\r\n",
        "x stacks-1.22/src/mst.h\r\n",
        "x stacks-1.22/src/mst.cc\r\n",
        "x stacks-1.22/src/sstacks.h\r\n",
        "x stacks-1.22/src/sstacks.cc\r\n",
        "x stacks-1.22/src/ustacks.h\r\n",
        "x stacks-1.22/src/ustacks.cc\r\n",
        "x stacks-1.22/src/cmb.h\r\n",
        "x stacks-1.22/src/cmb.cc\r\n",
        "x stacks-1.22/tests/\r\n",
        "x stacks-1.22/tests/process_radtags.t\r\n",
        "x stacks-1.22/tests/kmer_filter.t\r\n",
        "x stacks-1.22/tests/ustacks.t\r\n",
        "x stacks-1.22/tests/pstacks.t\r\n",
        "x stacks-1.22/Makefile.in\r\n",
        "x stacks-1.22/Makefile.am\r\n",
        "x stacks-1.22/configure\r\n",
        "x stacks-1.22/acinclude.m4"
       ]
      },
      {
       "output_type": "stream",
       "stream": "stdout",
       "text": [
        "\r\n",
        "x stacks-1.22/configure.ac\r\n",
        "x stacks-1.22/aclocal.m4\r\n",
        "x stacks-1.22/config.h.in\r\n",
        "x stacks-1.22/autogen.sh\r\n",
        "x stacks-1.22/ChangeLog\r\n",
        "x stacks-1.22/INSTALL\r\n",
        "x stacks-1.22/README\r\n",
        "x stacks-1.22/LICENSE"
       ]
      },
      {
       "output_type": "stream",
       "stream": "stdout",
       "text": [
        "\r\n"
       ]
      }
     ],
     "prompt_number": 5
    },
    {
     "cell_type": "code",
     "collapsed": false,
     "input": [
      "cd stacks-1.22/"
     ],
     "language": "python",
     "metadata": {},
     "outputs": [
      {
       "output_type": "stream",
       "stream": "stdout",
       "text": [
        "/Volumes/Bay3/Software/stacks-1.22\n"
       ]
      }
     ],
     "prompt_number": 6
    },
    {
     "cell_type": "code",
     "collapsed": false,
     "input": [
      "!./configure\n"
     ],
     "language": "python",
     "metadata": {},
     "outputs": [
      {
       "output_type": "stream",
       "stream": "stdout",
       "text": [
        "checking for a BSD-compatible install... "
       ]
      },
      {
       "output_type": "stream",
       "stream": "stdout",
       "text": [
        "/usr/bin/install -c\r\n",
        "checking whether build environment is sane... "
       ]
      },
      {
       "output_type": "stream",
       "stream": "stdout",
       "text": [
        "yes\r\n"
       ]
      },
      {
       "output_type": "stream",
       "stream": "stdout",
       "text": [
        "checking for a thread-safe mkdir -p... config/install-sh -c -d\r\n",
        "checking for gawk... no\r\n",
        "checking for mawk... no\r\n",
        "checking for nawk... no\r\n",
        "checking for awk... awk\r\n",
        "checking whether make sets $(MAKE)... "
       ]
      },
      {
       "output_type": "stream",
       "stream": "stdout",
       "text": [
        "yes\r\n"
       ]
      },
      {
       "output_type": "stream",
       "stream": "stdout",
       "text": [
        "checking whether make supports nested variables... "
       ]
      },
      {
       "output_type": "stream",
       "stream": "stdout",
       "text": [
        "yes\r\n"
       ]
      },
      {
       "output_type": "stream",
       "stream": "stdout",
       "text": [
        "checking for g++... g++\r\n"
       ]
      },
      {
       "output_type": "stream",
       "stream": "stdout",
       "text": [
        "checking whether the C++ compiler works... "
       ]
      },
      {
       "output_type": "stream",
       "stream": "stdout",
       "text": [
        "yes\r\n",
        "checking for C++ compiler default output file name... a.out\r\n",
        "checking for suffix of executables... "
       ]
      },
      {
       "output_type": "stream",
       "stream": "stdout",
       "text": [
        "\r\n",
        "checking whether we are cross compiling... "
       ]
      },
      {
       "output_type": "stream",
       "stream": "stdout",
       "text": [
        "no\r\n",
        "checking for suffix of object files... "
       ]
      },
      {
       "output_type": "stream",
       "stream": "stdout",
       "text": [
        "o\r\n",
        "checking whether we are using the GNU C++ compiler... "
       ]
      },
      {
       "output_type": "stream",
       "stream": "stdout",
       "text": [
        "yes\r\n",
        "checking whether g++ accepts -g... "
       ]
      },
      {
       "output_type": "stream",
       "stream": "stdout",
       "text": [
        "yes\r\n",
        "checking for style of include used by make... GNU\r\n",
        "checking dependency style of g++... "
       ]
      },
      {
       "output_type": "stream",
       "stream": "stdout",
       "text": [
        "gcc3\r\n"
       ]
      },
      {
       "output_type": "stream",
       "stream": "stdout",
       "text": [
        "checking for gcc... gcc\r\n"
       ]
      },
      {
       "output_type": "stream",
       "stream": "stdout",
       "text": [
        "checking whether we are using the GNU C compiler... "
       ]
      },
      {
       "output_type": "stream",
       "stream": "stdout",
       "text": [
        "yes\r\n",
        "checking whether gcc accepts -g... "
       ]
      },
      {
       "output_type": "stream",
       "stream": "stdout",
       "text": [
        "yes\r\n",
        "checking for gcc option to accept ISO C89... "
       ]
      },
      {
       "output_type": "stream",
       "stream": "stdout",
       "text": [
        "none needed\r\n",
        "checking whether gcc understands -c and -o together... "
       ]
      },
      {
       "output_type": "stream",
       "stream": "stdout",
       "text": [
        "yes\r\n",
        "checking dependency style of gcc... "
       ]
      },
      {
       "output_type": "stream",
       "stream": "stdout",
       "text": [
        "gcc3\r\n",
        "checking whether g++ supports C++11 features by default... "
       ]
      },
      {
       "output_type": "stream",
       "stream": "stdout",
       "text": [
        "no\r\n",
        "checking whether g++ supports C++11 features with -std=gnu++11... "
       ]
      },
      {
       "output_type": "stream",
       "stream": "stdout",
       "text": [
        "no\r\n",
        "checking whether g++ supports C++11 features with -std=gnu++0x... "
       ]
      },
      {
       "output_type": "stream",
       "stream": "stdout",
       "text": [
        "no\r\n",
        "checking whether g++ supports C++11 features with -std=c++11... "
       ]
      },
      {
       "output_type": "stream",
       "stream": "stdout",
       "text": [
        "no\r\n",
        "checking whether g++ supports C++11 features with -std=c++0x... "
       ]
      },
      {
       "output_type": "stream",
       "stream": "stdout",
       "text": [
        "no\r\n",
        "configure: No compiler with C++11 support was found\r\n",
        "checking for omp_set_num_threads in -lgomp... "
       ]
      },
      {
       "output_type": "stream",
       "stream": "stdout",
       "text": [
        "no\r\n",
        "configure: WARNING: Unable to locate OpenMP library, you should probably specify '--disable-openmp'.\r\n",
        "checking for gzread in -lz... "
       ]
      },
      {
       "output_type": "stream",
       "stream": "stdout",
       "text": [
        "yes\r\n"
       ]
      },
      {
       "output_type": "stream",
       "stream": "stdout",
       "text": [
        "checking for dirent.h that defines DIR... "
       ]
      },
      {
       "output_type": "stream",
       "stream": "stdout",
       "text": [
        "yes\r\n"
       ]
      },
      {
       "output_type": "stream",
       "stream": "stdout",
       "text": [
        "checking for library containing opendir... "
       ]
      },
      {
       "output_type": "stream",
       "stream": "stdout",
       "text": [
        "none required\r\n",
        "checking how to run the C preprocessor... "
       ]
      },
      {
       "output_type": "stream",
       "stream": "stdout",
       "text": [
        "gcc -E\r\n"
       ]
      },
      {
       "output_type": "stream",
       "stream": "stdout",
       "text": [
        "checking for grep that handles long lines and -e... /usr/bin/grep\r\n",
        "checking for egrep... "
       ]
      },
      {
       "output_type": "stream",
       "stream": "stdout",
       "text": [
        "/usr/bin/grep -E\r\n",
        "checking for ANSI C header files... "
       ]
      },
      {
       "output_type": "stream",
       "stream": "stdout",
       "text": [
        "yes\r\n",
        "checking for sys/types.h... "
       ]
      },
      {
       "output_type": "stream",
       "stream": "stdout",
       "text": [
        "yes\r\n"
       ]
      },
      {
       "output_type": "stream",
       "stream": "stdout",
       "text": [
        "checking for sys/stat.h... "
       ]
      },
      {
       "output_type": "stream",
       "stream": "stdout",
       "text": [
        "yes\r\n"
       ]
      },
      {
       "output_type": "stream",
       "stream": "stdout",
       "text": [
        "checking for stdlib.h... "
       ]
      },
      {
       "output_type": "stream",
       "stream": "stdout",
       "text": [
        "yes\r\n"
       ]
      },
      {
       "output_type": "stream",
       "stream": "stdout",
       "text": [
        "checking for string.h... "
       ]
      },
      {
       "output_type": "stream",
       "stream": "stdout",
       "text": [
        "yes\r\n"
       ]
      },
      {
       "output_type": "stream",
       "stream": "stdout",
       "text": [
        "checking for memory.h... "
       ]
      },
      {
       "output_type": "stream",
       "stream": "stdout",
       "text": [
        "yes\r\n"
       ]
      },
      {
       "output_type": "stream",
       "stream": "stdout",
       "text": [
        "checking for strings.h... "
       ]
      },
      {
       "output_type": "stream",
       "stream": "stdout",
       "text": [
        "yes\r\n"
       ]
      },
      {
       "output_type": "stream",
       "stream": "stdout",
       "text": [
        "checking for inttypes.h... "
       ]
      },
      {
       "output_type": "stream",
       "stream": "stdout",
       "text": [
        "yes\r\n",
        "checking for stdint.h... "
       ]
      },
      {
       "output_type": "stream",
       "stream": "stdout",
       "text": [
        "yes\r\n"
       ]
      },
      {
       "output_type": "stream",
       "stream": "stdout",
       "text": [
        "checking for unistd.h... "
       ]
      },
      {
       "output_type": "stream",
       "stream": "stdout",
       "text": [
        "yes\r\n",
        "checking float.h usability... "
       ]
      },
      {
       "output_type": "stream",
       "stream": "stdout",
       "text": [
        "yes\r\n",
        "checking float.h presence... "
       ]
      },
      {
       "output_type": "stream",
       "stream": "stdout",
       "text": [
        "yes\r\n",
        "checking for float.h... yes\r\n"
       ]
      },
      {
       "output_type": "stream",
       "stream": "stdout",
       "text": [
        "checking limits.h usability... "
       ]
      },
      {
       "output_type": "stream",
       "stream": "stdout",
       "text": [
        "yes\r\n",
        "checking limits.h presence... "
       ]
      },
      {
       "output_type": "stream",
       "stream": "stdout",
       "text": [
        "yes\r\n",
        "checking for limits.h... yes\r\n",
        "checking for stdlib.h... (cached) yes\r\n"
       ]
      },
      {
       "output_type": "stream",
       "stream": "stdout",
       "text": [
        "checking for string.h... (cached) yes\r\n",
        "checking for gcc option to support OpenMP... "
       ]
      },
      {
       "output_type": "stream",
       "stream": "stdout",
       "text": [
        "-fopenmp\r\n",
        "checking for stdbool.h that conforms to C99... "
       ]
      },
      {
       "output_type": "stream",
       "stream": "stdout",
       "text": [
        "yes\r\n",
        "checking for _Bool... "
       ]
      },
      {
       "output_type": "stream",
       "stream": "stdout",
       "text": [
        "yes\r\n"
       ]
      },
      {
       "output_type": "stream",
       "stream": "stdout",
       "text": [
        "checking for an ANSI C-conforming const... "
       ]
      },
      {
       "output_type": "stream",
       "stream": "stdout",
       "text": [
        "yes\r\n",
        "checking for size_t... "
       ]
      },
      {
       "output_type": "stream",
       "stream": "stdout",
       "text": [
        "yes\r\n",
        "checking whether closedir returns void... "
       ]
      },
      {
       "output_type": "stream",
       "stream": "stdout",
       "text": [
        "no\r\n",
        "checking for stdlib.h... (cached) yes\r\n"
       ]
      },
      {
       "output_type": "stream",
       "stream": "stdout",
       "text": [
        "checking for GNU libc compatible malloc... "
       ]
      },
      {
       "output_type": "stream",
       "stream": "stdout",
       "text": [
        "yes\r\n",
        "checking for stdlib.h... (cached) yes\r\n"
       ]
      },
      {
       "output_type": "stream",
       "stream": "stdout",
       "text": [
        "checking for GNU libc compatible realloc... "
       ]
      },
      {
       "output_type": "stream",
       "stream": "stdout",
       "text": [
        "yes\r\n",
        "checking for floor... "
       ]
      },
      {
       "output_type": "stream",
       "stream": "stdout",
       "text": [
        "yes\r\n"
       ]
      },
      {
       "output_type": "stream",
       "stream": "stdout",
       "text": [
        "checking for memset... "
       ]
      },
      {
       "output_type": "stream",
       "stream": "stdout",
       "text": [
        "yes\r\n"
       ]
      },
      {
       "output_type": "stream",
       "stream": "stdout",
       "text": [
        "checking for pow... "
       ]
      },
      {
       "output_type": "stream",
       "stream": "stdout",
       "text": [
        "yes\r\n",
        "checking for sqrt... "
       ]
      },
      {
       "output_type": "stream",
       "stream": "stdout",
       "text": [
        "yes\r\n",
        "checking for gawk... (cached) awk\r\n"
       ]
      },
      {
       "output_type": "stream",
       "stream": "stdout",
       "text": [
        "checking that generated files are newer than configure... done\r\n",
        "configure: creating ./config.status\r\n"
       ]
      },
      {
       "output_type": "stream",
       "stream": "stdout",
       "text": [
        "config.status: creating Makefile\r\n"
       ]
      },
      {
       "output_type": "stream",
       "stream": "stdout",
       "text": [
        "config.status: creating config.h\r\n"
       ]
      },
      {
       "output_type": "stream",
       "stream": "stdout",
       "text": [
        "config.status: executing depfiles commands\r\n"
       ]
      }
     ],
     "prompt_number": 7
    },
    {
     "cell_type": "code",
     "collapsed": false,
     "input": [
      "!make"
     ],
     "language": "python",
     "metadata": {},
     "outputs": [
      {
       "output_type": "stream",
       "stream": "stdout",
       "text": [
        "make  all-am\r\n"
       ]
      },
      {
       "output_type": "stream",
       "stream": "stdout",
       "text": [
        "g++ -DHAVE_CONFIG_H -I.    -fopenmp  -g -O2 -MT src/ustacks-ustacks.o -MD -MP -MF src/.deps/ustacks-ustacks.Tpo -c -o src/ustacks-ustacks.o `test -f 'src/ustacks.cc' || echo './'`src/ustacks.cc\r\n"
       ]
      },
      {
       "output_type": "stream",
       "stream": "stdout",
       "text": [
        "In file included from src/ustacks.cc:29:\r\n",
        "src/ustacks.h:57:25: error: unordered_map: No such file or directory\r\n"
       ]
      },
      {
       "output_type": "stream",
       "stream": "stdout",
       "text": [
        "In file included from src/ustacks.cc:29:\r\n",
        "src/ustacks.h:58: error: \u2018std::unordered_map\u2019 has not been declared\r\n"
       ]
      },
      {
       "output_type": "stream",
       "stream": "stdout",
       "text": [
        "In file included from src/ustacks.h:70,\r\n",
        "                 from src/ustacks.cc:29:\r\n",
        "src/kmers.h:44: error: \u2018std::unordered_map\u2019 has not been declared\r\n"
       ]
      },
      {
       "output_type": "stream",
       "stream": "stdout",
       "text": [
        "In file included from src/ustacks.h:70,\r\n",
        "                 from src/ustacks.cc:29:\r\n",
        "src/kmers.h:79: error: expected initializer before \u2018<\u2019 token\r\n",
        "src/kmers.h:80: error: expected initializer before \u2018<\u2019 token\r\n",
        "src/kmers.h:86: error: \u2018KmerHashMap\u2019 has not been declared\r\n",
        "src/kmers.h:87: error: \u2018CatKmerHashMap\u2019 has not been declared\r\n",
        "src/kmers.h:88: error: \u2018KmerHashMap\u2019 was not declared in this scope\r\n",
        "src/kmers.h:88: error: expected primary-expression before \u2018,\u2019 token\r\n",
        "src/kmers.h:88: error: expected primary-expression before \u2018&\u2019 token\r\n",
        "src/kmers.h:88: error: expected primary-expression before \u2018)\u2019 token\r\n",
        "src/kmers.h:88: error: initializer expression list treated as compound expression\r\n",
        "src/kmers.h:89: error: redefinition of \u2018int free_kmer_hash\u2019\r\n",
        "src/kmers.h:88: error: \u2018int free_kmer_hash\u2019 previously defined here\r\n",
        "src/kmers.h:89: error: \u2018CatKmerHashMap\u2019 was not declared in this scope\r\n",
        "src/kmers.h:89: error: expected primary-expression before \u2018,\u2019 token\r\n",
        "src/kmers.h:89: error: expected primary-expression before \u2018&\u2019 token\r\n",
        "src/kmers.h:89: error: expected primary-expression before \u2018)\u2019 token\r\n",
        "src/kmers.h:109: error: \u2018KmerHashMap\u2019 was not declared in this scope\r\n",
        "src/kmers.h:109: error: expected primary-expression before \u2018)\u2019 token\r\n"
       ]
      },
      {
       "output_type": "stream",
       "stream": "stdout",
       "text": [
        "In file included from src/ustacks.cc:29:\r\n",
        "src/ustacks.h:102: error: expected initializer before \u2018<\u2019 token\r\n",
        "src/ustacks.h:108: error: \u2018DNASeqHashMap\u2019 has not been declared\r\n",
        "src/ustacks.h:110: error: \u2018DNASeqHashMap\u2019 was not declared in this scope\r\n",
        "src/ustacks.h:110: error: expected primary-expression before \u2018,\u2019 token\r\n",
        "src/ustacks.h:110: error: expected primary-expression before \u2018&\u2019 token\r\n",
        "src/ustacks.h:110: error: expected primary-expression before \u2018,\u2019 token\r\n",
        "src/ustacks.h:110: error: expected primary-expression before \u2018&\u2019 token\r\n",
        "src/ustacks.h:110: error: expected primary-expression before \u2018)\u2019 token\r\n",
        "src/ustacks.h:110: error: initializer expression list treated as compound expression\r\n",
        "src/ustacks.h:111: error: \u2018DNASeqHashMap\u2019 was not declared in this scope\r\n",
        "src/ustacks.h:111: error: expected primary-expression before \u2018,\u2019 token\r\n",
        "src/ustacks.h:111: error: expected primary-expression before \u2018&\u2019 token\r\n",
        "src/ustacks.h:111: error: expected primary-expression before \u2018)\u2019 token\r\n",
        "src/ustacks.h:111: error: initializer expression list treated as compound expression\r\n",
        "src/ustacks.cc: In function \u2018int main(int, char**)\u2019:\r\n",
        "src/ustacks.cc:124: error: \u2018DNASeqHashMap\u2019 was not declared in this scope\r\n",
        "src/ustacks.cc:124: error: expected `;' before \u2018radtags\u2019\r\n",
        "src/ustacks.cc:130: error: \u2018radtags\u2019 was not declared in this scope\r\n",
        "src/ustacks.cc:132: error: \u2018reduce_radtags\u2019 cannot be used as a function\r\n",
        "src/ustacks.cc:134: error: \u2018free_radtags_hash\u2019 cannot be used as a function\r\n",
        "src/ustacks.cc: In function \u2018int merge_remainders(std::map<int, MergedStack*, std::less<int>, std::allocator<std::pair<const int, MergedStack*> > >&, std::map<int, Rem*, std::less<int>, std::allocator<std::pair<const int, Rem*> > >&)\u2019:\r\n",
        "src/ustacks.cc:220: error: \u2018KmerHashMap\u2019 was not declared in this scope\r\n",
        "src/ustacks.cc:220: error: expected `;' before \u2018kmer_map\u2019\r\n",
        "src/ustacks.cc:222: error: \u2018kmer_map\u2019 was not declared in this scope\r\n"
       ]
      },
      {
       "output_type": "stream",
       "stream": "stdout",
       "text": [
        "src/ustacks.cc:317: error: \u2018free_kmer_hash\u2019 cannot be used as a function\r\n"
       ]
      },
      {
       "output_type": "stream",
       "stream": "stdout",
       "text": [
        "src/ustacks.cc: In function \u2018int merge_stacks(std::map<int, Stack*, std::less<int>, std::allocator<std::pair<const int, Stack*> > >&, std::map<int, Rem*, std::less<int>, std::allocator<std::pair<const int, Rem*> > >&, std::map<int, MergedStack*, std::less<int>, std::allocator<std::pair<const int, MergedStack*> > >&, std::set<int, std::less<int>, std::allocator<int> >&, int)\u2019:\r\n",
        "src/ustacks.cc:591: warning: iteration variable \u2018index\u2019 is unsigned\r\n"
       ]
      },
      {
       "output_type": "stream",
       "stream": "stdout",
       "text": [
        "src/ustacks.cc: In function \u2018int calc_kmer_distance(std::map<int, MergedStack*, std::less<int>, std::allocator<std::pair<const int, MergedStack*> > >&, int)\u2019:\r\n",
        "src/ustacks.cc:1029: error: \u2018KmerHashMap\u2019 was not declared in this scope\r\n",
        "src/ustacks.cc:1029: error: expected `;' before \u2018kmer_map\u2019\r\n",
        "src/ustacks.cc:1056: error: \u2018kmer_map\u2019 was not declared in this scope\r\n",
        "src/ustacks.cc:1061: warning: iteration variable \u2018i\u2019 is unsigned\r\n",
        "src/ustacks.cc:1125: error: \u2018free_kmer_hash\u2019 cannot be used as a function\r\n",
        "src/ustacks.cc: At global scope:\r\n",
        "src/ustacks.cc:1189: error: redefinition of \u2018int reduce_radtags\u2019\r\n",
        "src/ustacks.h:110: error: \u2018int reduce_radtags\u2019 previously defined here\r\n",
        "src/ustacks.cc:1189: error: \u2018DNASeqHashMap\u2019 was not declared in this scope\r\n",
        "src/ustacks.cc:1189: error: \u2018radtags\u2019 was not declared in this scope\r\n",
        "src/ustacks.cc:1189: error: expected primary-expression before \u2018&\u2019 token\r\n",
        "src/ustacks.cc:1189: error: \u2018unique\u2019 was not declared in this scope\r\n",
        "src/ustacks.cc:1189: error: expected primary-expression before \u2018&\u2019 token\r\n",
        "src/ustacks.cc:1189: error: \u2018rem\u2019 was not declared in this scope\r\n"
       ]
      },
      {
       "output_type": "stream",
       "stream": "stdout",
       "text": [
        "make[1]: *** [src/ustacks-ustacks.o] Error 1\r\n",
        "make: *** [all] Error 2\r\n"
       ]
      }
     ],
     "prompt_number": 8
    },
    {
     "cell_type": "code",
     "collapsed": false,
     "input": [
      "!sudo make"
     ],
     "language": "python",
     "metadata": {},
     "outputs": [
      {
       "output_type": "stream",
       "stream": "stdout",
       "text": [
        "Password:"
       ]
      },
      {
       "output_type": "stream",
       "stream": "stdout",
       "text": [
        "\r\n"
       ]
      }
     ],
     "prompt_number": 9
    },
    {
     "cell_type": "code",
     "collapsed": false,
     "input": [],
     "language": "python",
     "metadata": {},
     "outputs": []
    }
   ],
   "metadata": {}
  }
 ]
}