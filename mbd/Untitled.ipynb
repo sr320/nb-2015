{
 "cells": [
  {
   "cell_type": "code",
   "execution_count": 5,
   "metadata": {
    "collapsed": false
   },
   "outputs": [],
   "source": [
    "!/Applications/bioinfo/bedtools2/bin/genomeCoverageBed \\\n",
    "-bg \\\n",
    "-ibam /Users/sr320/data-genomic/tentacle/solid0078_moth.bam \\\n",
    "-g /Volumes/web/halfshell/qdod3/Cg.GCA_000297895.1.25.dna_sm.toplevel.genome \\\n",
    "> /Users/sr320/data-genomic/tentacle/MBD-meth.bedgraph"
   ]
  },
  {
   "cell_type": "code",
   "execution_count": 7,
   "metadata": {
    "collapsed": false
   },
   "outputs": [],
   "source": [
    "!/Applications/bioinfo/bedtools2/bin/genomeCoverageBed \\\n",
    "-bg \\\n",
    "-ibam /Users/sr320/data-genomic/tentacle/solid0078_unmoth.bam \\\n",
    "-g /Volumes/web/halfshell/qdod3/Cg.GCA_000297895.1.25.dna_sm.toplevel.genome \\\n",
    "> /Users/sr320/data-genomic/tentacle/MBD-unmeth.bedgraph"
   ]
  },
  {
   "cell_type": "code",
   "execution_count": null,
   "metadata": {
    "collapsed": true
   },
   "outputs": [],
   "source": [
    "Exon number: 3\n",
    "scaffold1204:59148-65170\n",
    "EKC29325\n",
    "\n",
    "<b>gene_id</b>:&nbsp;CGI_10009807<br/><b>gene_version</b>:&nbsp;1<br/><b>transcript_id</b>:&nbsp;EKC29325<br/><b>transcript_version</b>:&nbsp;1<br/><b>exon_number</b>:&nbsp;3<br/><b>protein_id</b>:&nbsp;EKC29325<br/>\n",
    "scaffold1204:59148-65170"
   ]
  },
  {
   "cell_type": "code",
   "execution_count": null,
   "metadata": {
    "collapsed": true
   },
   "outputs": [],
   "source": []
  },
  {
   "cell_type": "code",
   "execution_count": 8,
   "metadata": {
    "collapsed": true
   },
   "outputs": [],
   "source": [
    "!/Applications/bioinfo/bedtools2/bin/genomeCoverageBed \\\n",
    "-bg \\\n",
    "-ibam /Users/sr320/data-genomic/tentacle/solid0078_MOTH-2.bam \\\n",
    "-g /Volumes/web/halfshell/qdod3/Cg.GCA_000297895.1.25.dna_sm.toplevel.genome \\\n",
    "> /Users/sr320/data-genomic/tentacle/MBD-meth-2.bedgraph"
   ]
  },
  {
   "cell_type": "code",
   "execution_count": 10,
   "metadata": {
    "collapsed": false
   },
   "outputs": [
    {
     "name": "stdout",
     "output_type": "stream",
     "text": [
      "C12728\t43\t68\t1\r\n",
      "C12728\t109\t134\t1\r\n",
      "C12728\t156\t181\t1\r\n",
      "C12722\t80\t82\t1\r\n",
      "C12722\t82\t83\t4\r\n",
      "C12722\t83\t84\t5\r\n",
      "C12722\t84\t85\t8\r\n",
      "C12722\t85\t86\t12\r\n",
      "C12722\t86\t87\t20\r\n",
      "C12722\t87\t88\t21\r\n"
     ]
    }
   ],
   "source": [
    "!head /Users/sr320/data-genomic/tentacle/MBD-meth-2.bedgraph"
   ]
  },
  {
   "cell_type": "code",
   "execution_count": null,
   "metadata": {
    "collapsed": true
   },
   "outputs": [],
   "source": []
  }
 ],
 "metadata": {
  "kernelspec": {
   "display_name": "Python 2",
   "language": "python",
   "name": "python2"
  },
  "language_info": {
   "codemirror_mode": {
    "name": "ipython",
    "version": 2
   },
   "file_extension": ".py",
   "mimetype": "text/x-python",
   "name": "python",
   "nbconvert_exporter": "python",
   "pygments_lexer": "ipython2",
   "version": "2.7.9"
  }
 },
 "nbformat": 4,
 "nbformat_minor": 0
}
