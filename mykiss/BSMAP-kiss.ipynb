{
 "cells": [
  {
   "cell_type": "code",
   "execution_count": null,
   "metadata": {
    "collapsed": true
   },
   "outputs": [],
   "source": [
    "!/Applications/bioinfo/BSMAP/bsmap-2.74/bsmap \\\n",
    "-a /Users/sr320/data-genomic/tentacle/2112_lane1_NoIndex_L001_R1_002.fastq.gz \\\n",
    "-d /Users/sr320/data-genomic/tentacle/Crassostrea_gigas.GCA_000297895.1.22.dna_sm.genome.fa \\\n",
    "-o /Users/sr320/data-genomic/tentacle/2112_Cv_LSU_bsmapout_030815.sam \\\n",
    "-g 3 \\\n",
    "-q 20 \\\n",
    "-p 8 "
   ]
  },
  {
   "cell_type": "code",
   "execution_count": 4,
   "metadata": {
    "collapsed": false
   },
   "outputs": [
    {
     "name": "stdout",
     "output_type": "stream",
     "text": [
      "Archive:  /Users/sr320/git-repos/nb-2015/mykiss/data/Sample_81.fastq.zip\r\n",
      "  End-of-central-directory signature not found.  Either this file is not\r\n",
      "  a zipfile, or it constitutes one disk of a multi-part archive.  In the\r\n",
      "  latter case the central directory and zipfile comment will be found on\r\n",
      "  the last disk(s) of this archive.\r\n",
      "unzip:  cannot find zipfile directory in one of /Users/sr320/git-repos/nb-2015/mykiss/data/Sample_81.fastq.zip or\r\n",
      "        /Users/sr320/git-repos/nb-2015/mykiss/data/Sample_81.fastq.zip.zip, and cannot find /Users/sr320/git-repos/nb-2015/mykiss/data/Sample_81.fastq.zip.ZIP, period.\r\n"
     ]
    }
   ],
   "source": [
    "!unzip /Users/sr320/git-repos/nb-2015/mykiss/data/Sample_81.fastq.zip"
   ]
  },
  {
   "cell_type": "code",
   "execution_count": null,
   "metadata": {
    "collapsed": true
   },
   "outputs": [],
   "source": []
  }
 ],
 "metadata": {
  "kernelspec": {
   "display_name": "Python 2",
   "language": "python",
   "name": "python2"
  },
  "language_info": {
   "codemirror_mode": {
    "name": "ipython",
    "version": 2
   },
   "file_extension": ".py",
   "mimetype": "text/x-python",
   "name": "python",
   "nbconvert_exporter": "python",
   "pygments_lexer": "ipython2",
   "version": "2.7.9"
  }
 },
 "nbformat": 4,
 "nbformat_minor": 0
}
