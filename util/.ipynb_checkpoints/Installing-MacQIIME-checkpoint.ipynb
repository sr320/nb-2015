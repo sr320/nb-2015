{
 "cells": [
  {
   "cell_type": "markdown",
   "metadata": {
    "button": false,
    "deletable": true,
    "new_sheet": false,
    "run_control": {
     "read_only": false
    }
   },
   "source": [
    "# Installing MacQiime"
   ]
  },
  {
   "cell_type": "code",
   "execution_count": null,
   "metadata": {
    "collapsed": true,
    "run_control": {}
   },
   "outputs": [],
   "source": [
    "Downloaded file to Desktop"
   ]
  },
  {
   "cell_type": "code",
   "execution_count": 2,
   "metadata": {
    "collapsed": false
   },
   "outputs": [
    {
     "name": "stdout",
     "output_type": "stream",
     "text": [
      "/Users/sr320/Desktop\n"
     ]
    }
   ],
   "source": [
    "cd /Users/sr320/Desktop"
   ]
  },
  {
   "cell_type": "code",
   "execution_count": 3,
   "metadata": {
    "collapsed": false,
    "run_control": {}
   },
   "outputs": [
    {
     "name": "stdout",
     "output_type": "stream",
     "text": [
      "MacQIIME_1.9.1-20150604_OS10.7.tgz\r\n"
     ]
    }
   ],
   "source": [
    "ls\n"
   ]
  },
  {
   "cell_type": "code",
   "execution_count": 4,
   "metadata": {
    "collapsed": false,
    "run_control": {}
   },
   "outputs": [
    {
     "name": "stdout",
     "output_type": "stream",
     "text": [
      "MD5 (MacQIIME_1.9.1-20150604_OS10.7.tgz) = 6634cb226d71ecf17d60483e6039f66a\r\n"
     ]
    }
   ],
   "source": [
    "!md5 MacQIIME_1.9.1-20150604_OS10.7.tgz"
   ]
  },
  {
   "cell_type": "markdown",
   "metadata": {
    "run_control": {}
   },
   "source": [
    "<img src=\"http://eagle.fish.washington.edu/cnidarian/skitch/MacQIIME_-_Werner_Lab_1C20417E.png\" alt=\"MacQIIME_-_Werner_Lab_1C20417E.png\"/>"
   ]
  },
  {
   "cell_type": "code",
   "execution_count": null,
   "metadata": {
    "collapsed": true,
    "run_control": {}
   },
   "outputs": [],
   "source": [
    "!tar -xvf MacQIIME_1.9.1-20150604_OS10.7.tgz"
   ]
  },
  {
   "cell_type": "markdown",
   "metadata": {
    "run_control": {}
   },
   "source": [
    "Note this can be done anywhere (ie Downloads etc) as next step puts it in `usr/bin`"
   ]
  },
  {
   "cell_type": "code",
   "execution_count": null,
   "metadata": {
    "collapsed": true,
    "run_control": {}
   },
   "outputs": [],
   "source": [
    "cd MacQIIME_1.9.1-20150604_OS10.7"
   ]
  },
  {
   "cell_type": "code",
   "execution_count": null,
   "metadata": {
    "collapsed": true
   },
   "outputs": [],
   "source": [
    "./install.s\n",
    "\n",
    "This script will REPLACE any existing /macqiime directory.\n",
    "Any files or data currently in /macqiime will be lost!!!!!\n",
    "If this is NOT what you want to do, HIT control-C to quit.\n",
    "Otherwise, press return to continue...\n",
    "\n",
    "\n",
    "Creating the /macqiime directory. (An error, if it already exists, is okay.)\n",
    "You may have to enter your sudo password.\n",
    "Password:\n",
    "Copying all the files (may take a while)...\n",
    "Creating script /usr/bin/macqiime...\n",
    "cp: /usr/bin/macqiime: Operation not permitted\n",
    "chmod: /usr/bin/macqiime: No such file or directory\n",
    "\n",
    "done.\n",
    "\n",
    " To source the QIIME environment variables, type the command \"macqiime\"\n",
    " and press return (enter).  Note that this is different from previous\n",
    " versions of macqiime. Sorry about the change, but it was needed!\n",
    " Alternatively, you could put the contents of /macqiime/configs/bash_profile.txt\n",
    " into your ~/.profile or /etc/bashrc file to make it permanent (not recommended\n",
    " unless you are very self-aware of all the software versions and dependencies on\n",
    " your computer and can expertly conclude that this will not break anything).\n",
    "\n",
    " To make a copy of the qiime test scripts in your home, do this:\n",
    "  $ cp -R /macqiime/QIIME/tests ~/qiime_tests\n",
    "\n",
    " To make a copy of the tutorial data in your home, do this:\n",
    "  $ cp -R /macqiime/QIIME/qiime_tutorial ~/\n",
    "\n",
    "Stevens-MacBook-Air:MacQIIME_1.9.1-20150604_OS10.7 sr320$ macqiime\n",
    "-bash: macqiime: command not found\n"
   ]
  }
 ],
 "metadata": {
  "kernelspec": {
   "display_name": "Python 3",
   "language": "python",
   "name": "python3"
  },
  "language_info": {
   "codemirror_mode": {
    "name": "ipython",
    "version": 3
   },
   "file_extension": ".py",
   "mimetype": "text/x-python",
   "name": "python",
   "nbconvert_exporter": "python",
   "pygments_lexer": "ipython3",
   "version": "3.5.0"
  }
 },
 "nbformat": 4,
 "nbformat_minor": 0
}
