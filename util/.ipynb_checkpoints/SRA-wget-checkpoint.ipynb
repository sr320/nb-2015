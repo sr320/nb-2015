{
 "cells": [
  {
   "cell_type": "markdown",
   "metadata": {
    "button": false,
    "deletable": true,
    "new_sheet": false,
    "run_control": {
     "read_only": false
    }
   },
   "source": [
    "# Trying to get SRA files down "
   ]
  },
  {
   "cell_type": "markdown",
   "metadata": {
    "button": false,
    "deletable": true,
    "new_sheet": false,
    "run_control": {
     "read_only": false
    }
   },
   "source": [
    "Claire's Data"
   ]
  },
  {
   "cell_type": "markdown",
   "metadata": {
    "button": false,
    "deletable": true,
    "new_sheet": false,
    "run_control": {
     "read_only": false
    }
   },
   "source": [
    "<img src=\"http://eagle.fish.washington.edu/cnidarian/skitch/Index_of__sra_sra-instant_reads_ByStudy_sra_SRP_SRP028_SRP028178_1A3A076E.png\" alt=\"Index_of__sra_sra-instant_reads_ByStudy_sra_SRP_SRP028_SRP028178_1A3A076E.png\"/>"
   ]
  },
  {
   "cell_type": "code",
   "execution_count": 2,
   "metadata": {
    "button": false,
    "collapsed": false,
    "deletable": true,
    "new_sheet": false,
    "run_control": {
     "read_only": false
    }
   },
   "outputs": [
    {
     "name": "stdout",
     "output_type": "stream",
     "text": [
      "/Volumes/web/cnidarian\n"
     ]
    }
   ],
   "source": [
    "cd /Volumes/web/cnidarian"
   ]
  },
  {
   "cell_type": "code",
   "execution_count": 4,
   "metadata": {
    "button": false,
    "collapsed": false,
    "deletable": true,
    "new_sheet": false,
    "run_control": {
     "read_only": false
    }
   },
   "outputs": [
    {
     "name": "stdout",
     "output_type": "stream",
     "text": [
      "--2014-12-11 09:07:08--  ftp://ftp-trace.ncbi.nih.gov/sra/sra-instant/reads/ByStudy/sra/SRP/SRP028/SRP028178/SRR1693528/SRR1693528.sra\n",
      "           => `SRR1693528.sra'\n",
      "Resolving ftp-trace.ncbi.nih.gov... 130.14.250.7, 2607:f220:41e:250::10\n",
      "Connecting to ftp-trace.ncbi.nih.gov|130.14.250.7|:21... connected.\n",
      "Logging in as anonymous ... Logged in!\n",
      "==> SYST ... done.    ==> PWD ... done.\n",
      "==> TYPE I ... done.  ==> CWD (1) /sra/sra-instant/reads/ByStudy/sra/SRP/SRP028/SRP028178/SRR1693528 ... done.\n",
      "==> SIZE SRR1693528.sra ... 251088597\n",
      "==> PASV ... done.    ==> RETR SRR1693528.sra ... done.\n",
      "Length: 251088597 (239M) (unauthoritative)\n",
      "\n",
      "100%[======================================>] 251,088,597  939K/s   in 4m 25s  \n",
      "\n",
      "2014-12-11 09:11:35 (926 KB/s) - `SRR1693528.sra' saved [251088597]\n",
      "\n"
     ]
    }
   ],
   "source": [
    "\n",
    "!wget ftp://ftp-trace.ncbi.nih.gov/sra/sra-instant/reads/ByStudy/sra/SRP/SRP028/SRP028178/SRR1693528/SRR1693528.sra\n",
    "\n",
    "\n"
   ]
  },
  {
   "cell_type": "code",
   "execution_count": null,
   "metadata": {
    "button": false,
    "collapsed": false,
    "deletable": true,
    "new_sheet": false,
    "run_control": {
     "read_only": false
    }
   },
   "outputs": [],
   "source": [
    "ftp://ftp-trace.ncbi.nih.gov/sra/sra-instant/reads/ByStudy/sra/SRP/SRP028/SRP028178/SRR1693528/SRR1693528.sra"
   ]
  }
 ],
 "metadata": {
  "kernelspec": {
   "display_name": "Python 3",
   "language": "python",
   "name": "python3"
  },
  "language_info": {
   "codemirror_mode": {
    "name": "ipython",
    "version": 3
   },
   "file_extension": ".py",
   "mimetype": "text/x-python",
   "name": "python",
   "nbconvert_exporter": "python",
   "pygments_lexer": "ipython3",
   "version": "3.5.0"
  }
 },
 "nbformat": 4,
 "nbformat_minor": 0
}
