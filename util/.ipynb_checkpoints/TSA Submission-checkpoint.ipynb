{
 "cells": [
  {
   "cell_type": "markdown",
   "metadata": {
    "button": false,
    "deletable": true,
    "new_sheet": false,
    "run_control": {
     "read_only": false
    }
   },
   "source": []
  },
  {
   "cell_type": "markdown",
   "metadata": {
    "button": false,
    "collapsed": false,
    "deletable": true,
    "new_sheet": false,
    "run_control": {
     "read_only": false
    }
   },
   "source": [
    "# Christian's Data"
   ]
  },
  {
   "cell_type": "code",
   "execution_count": 21,
   "metadata": {
    "button": false,
    "collapsed": false,
    "deletable": true,
    "new_sheet": false,
    "run_control": {
     "read_only": false
    }
   },
   "outputs": [
    {
     "name": "stdout",
     "output_type": "stream",
     "text": [
      "[tbl2asn 24.3] Validating Caligus_contigs\r\n",
      "\r\n"
     ]
    }
   ],
   "source": [
    "!/Applications/tbl2asn \\\n",
    "-t /Users/sr320/git-repos/nb-2015/util/tmp/tbl2asn/template.sbt \\\n",
    "-p /Users/sr320/git-repos/nb-2015/util/tmp/tbl2asn \\\n",
    "-a s \\\n",
    "-V v"
   ]
  },
  {
   "cell_type": "markdown",
   "metadata": {
    "button": false,
    "deletable": true,
    "new_sheet": false,
    "run_control": {
     "read_only": false
    }
   },
   "source": [
    "<img src=\"http://eagle.fish.washington.edu/cnidarian/skitch/util_1C123826.png\" alt=\"util_1C123826.png\"/>"
   ]
  },
  {
   "cell_type": "code",
   "execution_count": null,
   "metadata": {
    "button": false,
    "collapsed": true,
    "deletable": true,
    "new_sheet": false,
    "run_control": {
     "read_only": false
    }
   },
   "outputs": [],
   "source": [
    "Created 3 files"
   ]
  },
  {
   "cell_type": "code",
   "execution_count": 22,
   "metadata": {
    "button": false,
    "collapsed": false,
    "deletable": true,
    "new_sheet": false,
    "run_control": {
     "read_only": false
    }
   },
   "outputs": [
    {
     "name": "stdout",
     "output_type": "stream",
     "text": [
      "[tbl2asn 24.3] Validating Caligus_contigs\r\n",
      "\r\n"
     ]
    }
   ],
   "source": [
    "!/Applications/tbl2asn \\\n",
    "-t /Users/sr320/git-repos/nb-2015/util/tmp/tbl2asn/template.sbt \\\n",
    "-p /Users/sr320/git-repos/nb-2015/util/tmp/tbl2asn \\\n",
    "-j \"[organism=Caligus rogercresseyi]\" \\\n",
    "-a s \\\n",
    "-V v"
   ]
  },
  {
   "cell_type": "code",
   "execution_count": 23,
   "metadata": {
    "button": false,
    "collapsed": false,
    "deletable": true,
    "new_sheet": false,
    "run_control": {
     "read_only": false
    }
   },
   "outputs": [
    {
     "name": "stdout",
     "output_type": "stream",
     "text": [
      "[tbl2asn 24.3] Validating Caligus_contigs\r\n",
      "\r\n"
     ]
    }
   ],
   "source": [
    "!/Applications/tbl2asn \\\n",
    "-t /Users/sr320/git-repos/nb-2015/util/tmp/tbl2asn/template.sbt \\\n",
    "-p /Users/sr320/git-repos/nb-2015/util/tmp/tbl2asn \\\n",
    "-j \"[organism=Caligus rogercresseyi]\" \\\n",
    "-M t \\\n",
    "-a s \\\n",
    "-V v"
   ]
  },
  {
   "cell_type": "code",
   "execution_count": 24,
   "metadata": {
    "button": false,
    "collapsed": false,
    "deletable": true,
    "new_sheet": false,
    "run_control": {
     "read_only": false
    }
   },
   "outputs": [
    {
     "name": "stdout",
     "output_type": "stream",
     "text": [
      "[tbl2asn 24.3] Validating Caligus_contigs\r\n",
      "\r\n"
     ]
    }
   ],
   "source": [
    "!/Applications/tbl2asn \\\n",
    "-t /Users/sr320/git-repos/nb-2015/util/tmp/tbl2asn/template.sbt \\\n",
    "-p /Users/sr320/git-repos/nb-2015/util/tmp/tbl2asn \\\n",
    "-j \"[organism=Caligus rogercresseyi][tech=TSA]\" \\\n",
    "-a s \\\n",
    "-V v\n"
   ]
  },
  {
   "cell_type": "code",
   "execution_count": null,
   "metadata": {
    "collapsed": true
   },
   "outputs": [],
   "source": [
    "test"
   ]
  },
  {
   "cell_type": "code",
   "execution_count": 19,
   "metadata": {
    "button": false,
    "collapsed": false,
    "deletable": true,
    "new_sheet": false,
    "run_control": {
     "read_only": false
    }
   },
   "outputs": [
    {
     "name": "stdout",
     "output_type": "stream",
     "text": [
      ">contig1\r\n",
      "ATGCCCAATACCATTTTTTAGTCCGCAAAGTAATTCTATAATTTGAGACTGAGTTATCCA\r\n",
      "GCAAGCCAACTCCACCCATATTTTGACTCTAAACGATAGATGAATTAGGGCATGCTGTGG\r\n",
      "GTATCTTCTTCCGTTGTTCTTGATTGTATTTGTTCACATATCCAATTGTCAAAAGTTTGA\r\n",
      "CCCTATGAAAACTGACCCTGAATCTTTCCACGAGATCGGAAGAGCGTCGTGTAGGGAAAG\r\n",
      "AGTGTAGATCTCGGTGGTCGCCGTATCATTAAAAAAAAAAACAAATCCTAAGAGCGTCGA\r\n",
      "CAAGGGAATGACAGAAGATCCCGGTAGGTGCCGAACCACTACTACAAA\r\n",
      ">contig2\r\n",
      "AAGTAATTCTATAATTTGAGACTGAGTTATCCAGCAAGCCATATTTTGACTCTAAACGAT\r\n",
      "AGATGAATTAGGGCATGCTGTGGGTATCTTCTTCCGTTGTTCTCAGGCCCGGCGGGATGT\r\n",
      "GCGGGCCCCAGGGGGGTGAGGCCCGCCCACTGAGTGACGTGGGCCCAATCTTTTATGAAT\r\n",
      "GTGCCAATTGTGCCCCCCCCATAACAACTGTAGGGTCCCTCCAAAAGCCTTGGCCTGCTG\r\n",
      "CCGGATCTGGTTGTTCTCGATTGTATTTGTTCACATATCCAATTAGCTCTGAATCCAAAA\r\n",
      "AGTTTGACCCTATGAAAACTGACCCTGAATCTTTCCACGCTGTAACGCACAAATAGTTGT\r\n",
      "CAATATAAACATATTTCATAAAACCTTTGTTCGCCTTGTTCATTGATTTTTGTGTTGGTA\r\n",
      "GATTCA\r\n",
      ">contig3\r\n",
      "AGCTACTCGGAGGGCTGATATCCTTCTGTCTACTATAAGCCGAAGCCAGAGGGCAGTCGA\r\n",
      "GAGTGTTTTTTTTTTTAATGATACGGCGACCACCGAGATCTACACTCTTTCCCTACACGA\r\n",
      "CGCTCTTCCGATCTCACCCTATGGCCTCTACTCCTACCTTGCTTATAAGAACAAGGCACA\r\n"
     ]
    }
   ],
   "source": [
    "!head -20 /Users/sr320/git-repos/nb-2015/util/tmp/tbl2asn/Caligus_contigs.fsa"
   ]
  },
  {
   "cell_type": "code",
   "execution_count": null,
   "metadata": {
    "button": false,
    "collapsed": true,
    "deletable": true,
    "new_sheet": false,
    "run_control": {
     "read_only": false
    }
   },
   "outputs": [],
   "source": [
    ">Sc_16 [organism=Saccharomyces cerevisiae]\n",
    "\n",
    "Caligus rogercresseyi"
   ]
  }
 ],
 "metadata": {
  "kernelspec": {
   "display_name": "Python 3",
   "language": "python",
   "name": "python3"
  },
  "language_info": {
   "codemirror_mode": {
    "name": "ipython",
    "version": 3
   },
   "file_extension": ".py",
   "mimetype": "text/x-python",
   "name": "python",
   "nbconvert_exporter": "python",
   "pygments_lexer": "ipython3",
   "version": "3.5.0"
  }
 },
 "nbformat": 4,
 "nbformat_minor": 0
}
