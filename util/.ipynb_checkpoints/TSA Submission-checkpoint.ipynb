{
 "cells": [
  {
   "cell_type": "markdown",
   "metadata": {
    "button": false,
    "deletable": true,
    "new_sheet": false,
    "run_control": {
     "read_only": false
    }
   },
   "source": []
  },
  {
   "cell_type": "markdown",
   "metadata": {
    "button": false,
    "collapsed": false,
    "deletable": true,
    "new_sheet": false,
    "run_control": {
     "read_only": false
    }
   },
   "source": [
    "# Christian's Data"
   ]
  },
  {
   "cell_type": "code",
   "execution_count": 21,
   "metadata": {
    "button": false,
    "collapsed": false,
    "deletable": true,
    "new_sheet": false,
    "run_control": {
     "read_only": false
    }
   },
   "outputs": [
    {
     "name": "stdout",
     "output_type": "stream",
     "text": [
      "[tbl2asn 24.3] Validating Caligus_contigs\r\n",
      "\r\n"
     ]
    }
   ],
   "source": [
    "!/Applications/tbl2asn \\\n",
    "-t /Users/sr320/git-repos/nb-2015/util/tmp/tbl2asn/template.sbt \\\n",
    "-p /Users/sr320/git-repos/nb-2015/util/tmp/tbl2asn \\\n",
    "-a s \\\n",
    "-V v"
   ]
  },
  {
   "cell_type": "markdown",
   "metadata": {
    "button": false,
    "deletable": true,
    "new_sheet": false,
    "run_control": {
     "read_only": false
    }
   },
   "source": [
    "<img src=\"http://eagle.fish.washington.edu/cnidarian/skitch/util_1C123826.png\" alt=\"util_1C123826.png\"/>"
   ]
  },
  {
   "cell_type": "code",
   "execution_count": null,
   "metadata": {
    "button": false,
    "collapsed": true,
    "deletable": true,
    "new_sheet": false,
    "run_control": {
     "read_only": false
    }
   },
   "outputs": [],
   "source": [
    "Created 3 files"
   ]
  },
  {
   "cell_type": "code",
   "execution_count": 22,
   "metadata": {
    "button": false,
    "collapsed": false,
    "deletable": true,
    "new_sheet": false,
    "run_control": {
     "read_only": false
    }
   },
   "outputs": [
    {
     "name": "stdout",
     "output_type": "stream",
     "text": [
      "[tbl2asn 24.3] Validating Caligus_contigs\r\n",
      "\r\n"
     ]
    }
   ],
   "source": [
    "!/Applications/tbl2asn \\\n",
    "-t /Users/sr320/git-repos/nb-2015/util/tmp/tbl2asn/template.sbt \\\n",
    "-p /Users/sr320/git-repos/nb-2015/util/tmp/tbl2asn \\\n",
    "-j \"[organism=Caligus rogercresseyi]\" \\\n",
    "-a s \\\n",
    "-V v"
   ]
  },
  {
   "cell_type": "code",
   "execution_count": 23,
   "metadata": {
    "button": false,
    "collapsed": false,
    "deletable": true,
    "new_sheet": false,
    "run_control": {
     "read_only": false
    }
   },
   "outputs": [
    {
     "name": "stdout",
     "output_type": "stream",
     "text": [
      "[tbl2asn 24.3] Validating Caligus_contigs\r\n",
      "\r\n"
     ]
    }
   ],
   "source": [
    "!/Applications/tbl2asn \\\n",
    "-t /Users/sr320/git-repos/nb-2015/util/tmp/tbl2asn/template.sbt \\\n",
    "-p /Users/sr320/git-repos/nb-2015/util/tmp/tbl2asn \\\n",
    "-j \"[organism=Caligus rogercresseyi]\" \\\n",
    "-M t \\\n",
    "-a s \\\n",
    "-V v"
   ]
  },
  {
   "cell_type": "code",
   "execution_count": 24,
   "metadata": {
    "button": false,
    "collapsed": false,
    "deletable": true,
    "new_sheet": false,
    "run_control": {
     "read_only": false
    }
   },
   "outputs": [
    {
     "name": "stdout",
     "output_type": "stream",
     "text": [
      "[tbl2asn 24.3] Validating Caligus_contigs\r\n",
      "\r\n"
     ]
    }
   ],
   "source": [
    "!/Applications/tbl2asn \\\n",
    "-t /Users/sr320/git-repos/nb-2015/util/tmp/tbl2asn/template.sbt \\\n",
    "-p /Users/sr320/git-repos/nb-2015/util/tmp/tbl2asn \\\n",
    "-j \"[organism=Caligus rogercresseyi][tech=TSA]\" \\\n",
    "-a s \\\n",
    "-V v\n"
   ]
  },
  {
   "cell_type": "code",
   "execution_count": 26,
   "metadata": {
    "button": false,
    "collapsed": false,
    "deletable": true,
    "new_sheet": false,
    "run_control": {
     "read_only": false
    }
   },
   "outputs": [
    {
     "name": "stdout",
     "output_type": "stream",
     "text": [
      ">gnl|uv|X66730.1:1-2687-49 B.bronchiseptica plasmid pBBR1 genes for mobilization and replication\r\n",
      "CTCGGGCCGTCTCTTGGGCTTGATCGGCCTTCTTGCGCATCTCACGCGCTCCTGCGGCGGCCTGTAGGGC\r\n",
      "AGGCTCATACCCCTGCCGAACCGCTTTTGTCAGCCGGTCGGCCACGGCTTCCGGCGTCTCAACGCGCTTT\r\n",
      "GAGATTCCCAGCTTTTCGGCCAATCCCTGCGGTGCATAGGCGCGTGGCTCGACCGCTTGCGGGCTGATGG\r\n",
      "TGACGTGGCCCACTGGTGGCCGCTCCAGGGCCTCGTAGAACGCCTGAATGCGCGTGTGACGTGCCTTGCT\r\n",
      "GCCCTCGATGCCCCGTTGCAGCCCTAGATCGGCCACAGCGGCCGCAAACGTGGTCTGGTCGCGGGTCATC\r\n",
      "TGCGCTTTGTTGCCGATGAACTCCTTGGCCGACAGCCTGCCGTCCTGCGTCAGCGGCACCACGAACGCGG\r\n",
      "TCATGTGCGGGCTGGTTTCGTCACGGTGGATGCTGGCCGTCACGATGCGATCCGCCCCGTACTTGTCCGC\r\n",
      "CAGCCACTTGTGCGCCTTCTCGAAGAACGCCGCCTGCTGTTCTTGGCTGGCCGACTTCCACCATTCCGGG\r\n",
      "CTGGCCGTCATGACGTACTCGACCGCCAACACAGCGTCCTTGCGCCGCTTCTCTGGCAGCAACTCGCGCA\r\n"
     ]
    }
   ],
   "source": [
    "!head /Users/sr320/git-repos/nb-2015/util/tmp/UniVec"
   ]
  },
  {
   "cell_type": "code",
   "execution_count": 45,
   "metadata": {
    "button": false,
    "collapsed": false,
    "deletable": true,
    "new_sheet": false,
    "run_control": {
     "read_only": false
    }
   },
   "outputs": [
    {
     "name": "stdout",
     "output_type": "stream",
     "text": [
      "\n",
      "\n",
      "Building a new DB, current time: 12/04/2015 20:27:43\n",
      "New DB name:   tmp/UniVec\n",
      "New DB title:  tmp/UniVec.fa\n",
      "Sequence type: Nucleotide\n",
      "Keep Linkouts: T\n",
      "Keep MBits: T\n",
      "Maximum file size: 1000000000B\n",
      "Error: (1431.1) FASTA-Reader: Warning: FASTA-Reader: First data line in seq is about 64% ambiguous nucleotides (shouldn't be over 40%)\n",
      "Error: (1431.1) FASTA-Reader: Warning: FASTA-Reader: First data line in seq is about 47% ambiguous nucleotides (shouldn't be over 40%)\n",
      "Error: (1431.1) FASTA-Reader: Warning: FASTA-Reader: First data line in seq is about 51% ambiguous nucleotides (shouldn't be over 40%)\n",
      "Error: (1431.1) FASTA-Reader: Warning: FASTA-Reader: First data line in seq is about 51% ambiguous nucleotides (shouldn't be over 40%)\n",
      "Error: (1431.1) FASTA-Reader: Warning: FASTA-Reader: First data line in seq is about 51% ambiguous nucleotides (shouldn't be over 40%)\n",
      "Error: (1431.1) FASTA-Reader: Warning: FASTA-Reader: First data line in seq is about 68% ambiguous nucleotides (shouldn't be over 40%)\n",
      "Error: (1431.1) FASTA-Reader: Warning: FASTA-Reader: First data line in seq is about 68% ambiguous nucleotides (shouldn't be over 40%)\n",
      "Error: (1431.1) FASTA-Reader: Warning: FASTA-Reader: First data line in seq is about 68% ambiguous nucleotides (shouldn't be over 40%)\n",
      "Error: (1431.1) FASTA-Reader: Warning: FASTA-Reader: First data line in seq is about 68% ambiguous nucleotides (shouldn't be over 40%)\n",
      "Error: (1431.1) FASTA-Reader: Warning: FASTA-Reader: First data line in seq is about 68% ambiguous nucleotides (shouldn't be over 40%)\n",
      "Error: (1431.1) FASTA-Reader: Warning: FASTA-Reader: First data line in seq is about 68% ambiguous nucleotides (shouldn't be over 40%)\n",
      "Error: (1431.1) FASTA-Reader: Warning: FASTA-Reader: First data line in seq is about 68% ambiguous nucleotides (shouldn't be over 40%)\n",
      "Error: (1431.1) FASTA-Reader: Warning: FASTA-Reader: First data line in seq is about 68% ambiguous nucleotides (shouldn't be over 40%)\n",
      "Error: (1431.1) FASTA-Reader: Warning: FASTA-Reader: First data line in seq is about 71% ambiguous nucleotides (shouldn't be over 40%)\n",
      "Error: (1431.1) FASTA-Reader: Warning: FASTA-Reader: First data line in seq is about 71% ambiguous nucleotides (shouldn't be over 40%)\n",
      "Error: (1431.1) FASTA-Reader: Warning: FASTA-Reader: First data line in seq is about 71% ambiguous nucleotides (shouldn't be over 40%)\n",
      "Error: (1431.1) FASTA-Reader: Warning: FASTA-Reader: First data line in seq is about 100% ambiguous nucleotides (shouldn't be over 40%)\n",
      "Error: (1431.1) FASTA-Reader: Warning: FASTA-Reader: Ignoring FASTA modifier(s) found because the input was not expected to have any.\n",
      "Error: (1431.1) FASTA-Reader: Warning: FASTA-Reader: Ignoring FASTA modifier(s) found because the input was not expected to have any.\n",
      "Error: (1431.1) FASTA-Reader: Warning: FASTA-Reader: Ignoring FASTA modifier(s) found because the input was not expected to have any.\n",
      "Error: (1431.1) FASTA-Reader: Warning: FASTA-Reader: Ignoring FASTA modifier(s) found because the input was not expected to have any.\n",
      "Error: (1431.1) FASTA-Reader: Warning: FASTA-Reader: Ignoring FASTA modifier(s) found because the input was not expected to have any.\n",
      "Error: (1431.1) FASTA-Reader: Warning: FASTA-Reader: Ignoring FASTA modifier(s) found because the input was not expected to have any.\n",
      "Error: (1431.1) FASTA-Reader: Warning: FASTA-Reader: Ignoring FASTA modifier(s) found because the input was not expected to have any.\n",
      "Adding sequences from FASTA; added 5456 sequences in 0.507593 seconds.\n"
     ]
    }
   ],
   "source": [
    "!/Applications/transrate-1.0.1-osx/lib/app/ruby/2.2.0/bin/makeblastdb \\\n",
    "-dbtype nucl \\\n",
    "-in tmp/UniVec.fa -out tmp/UniVec"
   ]
  },
  {
   "cell_type": "code",
   "execution_count": 46,
   "metadata": {
    "button": false,
    "collapsed": true,
    "deletable": true,
    "new_sheet": false,
    "run_control": {
     "read_only": false
    }
   },
   "outputs": [],
   "source": [
    "!/Applications/transrate-1.0.1-osx/lib/app/ruby/2.2.0/bin/blastn \\\n",
    "-query tmp/tbl2asn/Caligus_contigs.fsa \\\n",
    "-db tmp/UniVec \\\n",
    "-num_threads 4 \\\n",
    "-evalue 1e-5 \\\n",
    "-max_target_seqs 1 \\\n",
    "-max_hsps 1 \\\n",
    "-outfmt 6 \\\n",
    "-out tmp/Caligus_blastn_UniVec"
   ]
  },
  {
   "cell_type": "code",
   "execution_count": 49,
   "metadata": {
    "button": false,
    "collapsed": true,
    "deletable": true,
    "new_sheet": false,
    "run_control": {
     "read_only": false
    }
   },
   "outputs": [],
   "source": [
    "!/Applications/transrate-1.0.1-osx/lib/app/ruby/2.2.0/bin/blastn \\\n",
    "-query tmp/tbl2asn/Caligus_contigs.fsa \\\n",
    "-db tmp/UniVec \\\n",
    "-num_threads 4 \\\n",
    "-evalue 1e-40 \\\n",
    "-max_target_seqs 1 \\\n",
    "-max_hsps 1 \\\n",
    "-outfmt 6 \\\n",
    "-out tmp/Caligus_blastn_UniVec-40"
   ]
  },
  {
   "cell_type": "code",
   "execution_count": 51,
   "metadata": {
    "button": false,
    "collapsed": false,
    "deletable": true,
    "new_sheet": false,
    "run_control": {
     "read_only": false
    }
   },
   "outputs": [
    {
     "name": "stdout",
     "output_type": "stream",
     "text": [
      "contig3305\tgnl|uv|J02482.1:1-5386-49\t99.89\t4583\t5\t0\t1\t4583\t4583\t1\t0.0\t 8436\r\n",
      "contig53552\tgnl|uv|J01749.1:1-4361-49\t99.62\t533\t2\t0\t1\t533\t3238\t3770\t0.0\t  974\r\n",
      "contig54843\tgnl|uv|Z50120.1:1215-5191\t92.86\t126\t9\t0\t1\t126\t1102\t977\t8e-48\t  183\r\n",
      "contig62714\tgnl|uv|J01749.1:1-4361-49\t98.01\t251\t3\t2\t1\t250\t4037\t4286\t2e-123\t  435\r\n",
      "contig80617\tgnl|uv|J01749.1:1-4361-49\t99.25\t265\t2\t0\t3\t267\t3776\t4040\t1e-136\t  479\r\n"
     ]
    }
   ],
   "source": [
    "!cat tmp/Caligus_blastn_UniVec-40"
   ]
  },
  {
   "cell_type": "code",
   "execution_count": 54,
   "metadata": {
    "button": false,
    "collapsed": false,
    "deletable": true,
    "new_sheet": false,
    "run_control": {
     "read_only": false
    }
   },
   "outputs": [
    {
     "name": "stdout",
     "output_type": "stream",
     "text": [
      ">gnl|uv|J01749.1:1-4361-49 Cloning vector pBR322\r\n"
     ]
    }
   ],
   "source": [
    "!fgrep \"gnl|uv|J01749.1:1-4361-49\" tmp/UniVec.fa"
   ]
  },
  {
   "cell_type": "code",
   "execution_count": 43,
   "metadata": {
    "button": false,
    "collapsed": false,
    "deletable": true,
    "new_sheet": false,
    "run_control": {
     "read_only": false
    }
   },
   "outputs": [
    {
     "name": "stdout",
     "output_type": "stream",
     "text": [
      ">gnl|uv|X66730.1:1-2687-49 B.bronchiseptica plasmid pBBR1 genes for mobilization and replication\r\n",
      "CTCGGGCCGTCTCTTGGGCTTGATCGGCCTTCTTGCGCATCTCACGCGCTCCTGCGGCGGCCTGTAGGGC\r\n",
      "AGGCTCATACCCCTGCCGAACCGCTTTTGTCAGCCGGTCGGCCACGGCTTCCGGCGTCTCAACGCGCTTT\r\n",
      "GAGATTCCCAGCTTTTCGGCCAATCCCTGCGGTGCATAGGCGCGTGGCTCGACCGCTTGCGGGCTGATGG\r\n",
      "TGACGTGGCCCACTGGTGGCCGCTCCAGGGCCTCGTAGAACGCCTGAATGCGCGTGTGACGTGCCTTGCT\r\n",
      "GCCCTCGATGCCCCGTTGCAGCCCTAGATCGGCCACAGCGGCCGCAAACGTGGTCTGGTCGCGGGTCATC\r\n",
      "TGCGCTTTGTTGCCGATGAACTCCTTGGCCGACAGCCTGCCGTCCTGCGTCAGCGGCACCACGAACGCGG\r\n",
      "TCATGTGCGGGCTGGTTTCGTCACGGTGGATGCTGGCCGTCACGATGCGATCCGCCCCGTACTTGTCCGC\r\n",
      "CAGCCACTTGTGCGCCTTCTCGAAGAACGCCGCCTGCTGTTCTTGGCTGGCCGACTTCCACCATTCCGGG\r\n",
      "CTGGCCGTCATGACGTACTCGACCGCCAACACAGCGTCCTTGCGCCGCTTCTCTGGCAGCAACTCGCGCA\r\n"
     ]
    }
   ],
   "source": [
    "!head tmp/UniVec.fa"
   ]
  },
  {
   "cell_type": "code",
   "execution_count": null,
   "metadata": {
    "button": false,
    "collapsed": true,
    "deletable": true,
    "new_sheet": false,
    "run_control": {
     "read_only": false
    }
   },
   "outputs": [],
   "source": []
  },
  {
   "cell_type": "code",
   "execution_count": null,
   "metadata": {
    "button": false,
    "collapsed": true,
    "deletable": true,
    "new_sheet": false,
    "run_control": {
     "read_only": false
    }
   },
   "outputs": [],
   "source": []
  },
  {
   "cell_type": "code",
   "execution_count": 19,
   "metadata": {
    "button": false,
    "collapsed": false,
    "deletable": true,
    "new_sheet": false,
    "run_control": {
     "read_only": false
    }
   },
   "outputs": [
    {
     "name": "stdout",
     "output_type": "stream",
     "text": [
      ">contig1\r\n",
      "ATGCCCAATACCATTTTTTAGTCCGCAAAGTAATTCTATAATTTGAGACTGAGTTATCCA\r\n",
      "GCAAGCCAACTCCACCCATATTTTGACTCTAAACGATAGATGAATTAGGGCATGCTGTGG\r\n",
      "GTATCTTCTTCCGTTGTTCTTGATTGTATTTGTTCACATATCCAATTGTCAAAAGTTTGA\r\n",
      "CCCTATGAAAACTGACCCTGAATCTTTCCACGAGATCGGAAGAGCGTCGTGTAGGGAAAG\r\n",
      "AGTGTAGATCTCGGTGGTCGCCGTATCATTAAAAAAAAAAACAAATCCTAAGAGCGTCGA\r\n",
      "CAAGGGAATGACAGAAGATCCCGGTAGGTGCCGAACCACTACTACAAA\r\n",
      ">contig2\r\n",
      "AAGTAATTCTATAATTTGAGACTGAGTTATCCAGCAAGCCATATTTTGACTCTAAACGAT\r\n",
      "AGATGAATTAGGGCATGCTGTGGGTATCTTCTTCCGTTGTTCTCAGGCCCGGCGGGATGT\r\n",
      "GCGGGCCCCAGGGGGGTGAGGCCCGCCCACTGAGTGACGTGGGCCCAATCTTTTATGAAT\r\n",
      "GTGCCAATTGTGCCCCCCCCATAACAACTGTAGGGTCCCTCCAAAAGCCTTGGCCTGCTG\r\n",
      "CCGGATCTGGTTGTTCTCGATTGTATTTGTTCACATATCCAATTAGCTCTGAATCCAAAA\r\n",
      "AGTTTGACCCTATGAAAACTGACCCTGAATCTTTCCACGCTGTAACGCACAAATAGTTGT\r\n",
      "CAATATAAACATATTTCATAAAACCTTTGTTCGCCTTGTTCATTGATTTTTGTGTTGGTA\r\n",
      "GATTCA\r\n",
      ">contig3\r\n",
      "AGCTACTCGGAGGGCTGATATCCTTCTGTCTACTATAAGCCGAAGCCAGAGGGCAGTCGA\r\n",
      "GAGTGTTTTTTTTTTTAATGATACGGCGACCACCGAGATCTACACTCTTTCCCTACACGA\r\n",
      "CGCTCTTCCGATCTCACCCTATGGCCTCTACTCCTACCTTGCTTATAAGAACAAGGCACA\r\n"
     ]
    }
   ],
   "source": [
    "!head -20 /Users/sr320/git-repos/nb-2015/util/tmp/tbl2asn/Caligus_contigs.fsa"
   ]
  },
  {
   "cell_type": "code",
   "execution_count": null,
   "metadata": {
    "button": false,
    "collapsed": true,
    "deletable": true,
    "new_sheet": false,
    "run_control": {
     "read_only": false
    }
   },
   "outputs": [],
   "source": [
    ">Sc_16 [organism=Saccharomyces cerevisiae]\n",
    "\n",
    "Caligus rogercresseyi"
   ]
  }
 ],
 "metadata": {
  "kernelspec": {
   "display_name": "Python 3",
   "language": "python",
   "name": "python3"
  },
  "language_info": {
   "codemirror_mode": {
    "name": "ipython",
    "version": 3
   },
   "file_extension": ".py",
   "mimetype": "text/x-python",
   "name": "python",
   "nbconvert_exporter": "python",
   "pygments_lexer": "ipython3",
   "version": "3.5.0"
  }
 },
 "nbformat": 4,
 "nbformat_minor": 0
}
