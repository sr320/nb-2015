{
 "cells": [
  {
   "cell_type": "code",
   "execution_count": 2,
   "metadata": {
    "collapsed": false
   },
   "outputs": [
    {
     "name": "stdout",
     "output_type": "stream",
     "text": [
      "!gaf-version: 2.0\r\n",
      "!Project_name: GO Annotation @ EBI (GOA)\r\n",
      "!URL: http://www.ebi.ac.uk/GOA/index.html\r\n",
      "!Contact Email: goa@ebi.ac.uk\r\n",
      "!\r\n",
      "!This file contains all GO annotations and gene product information for proteins in the UniProt KnowledgeBase (UniProtKB),\r\n",
      "!IntAct protein complexes, and RNAcentral identifiers.\r\n",
      "!If a particular gene product is not annotated with GO, then it will not appear in this file.\r\n",
      "!\r\n",
      "!Generated: 2015-03-02 13:51\r\n",
      "!GO-version: http://purl.obolibrary.org/obo/go/releases/2015-02-27/go.owl\r\n",
      "!\r\n",
      "UniProtKB\tA0A000\tmoeA5\t\tGO:0003824\tGO_REF:0000002\tIEA\tInterPro:IPR015421|InterPro:IPR015422\tF\tMoeA5\tA0A000_9ACTO|moeA5\tprotein\ttaxon:35758\t20150228\tInterPro\t\t\r\n",
      "UniProtKB\tA0A000\tmoeA5\t\tGO:0003870\tGO_REF:0000002\tIEA\tInterPro:IPR010961\tF\tMoeA5\tA0A000_9ACTO|moeA5\tprotein\ttaxon:35758\t20150228\tInterPro\t\t\r\n",
      "UniProtKB\tA0A000\tmoeA5\t\tGO:0009058\tGO_REF:0000002\tIEA\tInterPro:IPR004839\tP\tMoeA5\tA0A000_9ACTO|moeA5\tprotein\ttaxon:35758\t20150228\tInterPro\t\t\r\n",
      "UniProtKB\tA0A000\tmoeA5\t\tGO:0030170\tGO_REF:0000002\tIEA\tInterPro:IPR004839|InterPro:IPR010961|InterPro:IPR015421|InterPro:IPR015422\tF\tMoeA5\tA0A000_9ACTO|moeA5\tprotein\ttaxon:35758\t20150228\tInterPro\t\t\r\n",
      "UniProtKB\tA0A000\tmoeA5\t\tGO:0033014\tGO_REF:0000002\tIEA\tInterPro:IPR010961\tP\tMoeA5\tA0A000_9ACTO|moeA5\tprotein\ttaxon:35758\t20150228\tInterPro\t\t\r\n",
      "UniProtKB\tA0A001\tmoeD5\t\tGO:0000166\tGO_REF:0000038\tIEA\tUniProtKB-KW:KW-0547\tF\tMoeD5\tA0A001_9ACTO|moeD5\tprotein\ttaxon:35758\t20150228\tUniProt\t\t\r\n",
      "UniProtKB\tA0A001\tmoeD5\t\tGO:0005524\tGO_REF:0000002\tIEA\tInterPro:IPR003439|InterPro:IPR011527|InterPro:IPR017871\tF\tMoeD5\tA0A001_9ACTO|moeD5\tprotein\ttaxon:35758\t20150228\tInterPro\t\t\r\n",
      "UniProtKB\tA0A001\tmoeD5\t\tGO:0005524\tGO_REF:0000038\tIEA\tUniProtKB-KW:KW-0067\tF\tMoeD5\tA0A001_9ACTO|moeD5\tprotein\ttaxon:35758\t20150228\tUniProt\t\t\r\n",
      "UniProtKB\tA0A001\tmoeD5\t\tGO:0006810\tGO_REF:0000002\tIEA\tInterPro:IPR011527\tP\tMoeD5\tA0A001_9ACTO|moeD5\tprotein\ttaxon:35758\t20150228\tInterPro\t\t\r\n",
      "UniProtKB\tA0A001\tmoeD5\t\tGO:0008152\tGO_REF:0000002\tIEA\tInterPro:IPR003439|InterPro:IPR017871\tP\tMoeD5\tA0A001_9ACTO|moeD5\tprotein\ttaxon:35758\t20150228\tGOC\t\t\r\n",
      "UniProtKB\tA0A001\tmoeD5\t\tGO:0016021\tGO_REF:0000002\tIEA\tInterPro:IPR011527\tC\tMoeD5\tA0A001_9ACTO|moeD5\tprotein\ttaxon:35758\t20150228\tInterPro\t\t\r\n",
      "UniProtKB\tA0A001\tmoeD5\t\tGO:0016887\tGO_REF:0000002\tIEA\tInterPro:IPR003439|InterPro:IPR017871\tF\tMoeD5\tA0A001_9ACTO|moeD5\tprotein\ttaxon:35758\t20150228\tInterPro\t\t\r\n",
      "UniProtKB\tA0A001\tmoeD5\t\tGO:0042626\tGO_REF:0000002\tIEA\tInterPro:IPR011527\tF\tMoeD5\tA0A001_9ACTO|moeD5\tprotein\ttaxon:35758\t20150228\tInterPro\t\t\r\n",
      "UniProtKB\tA0A001\tmoeD5\t\tGO:0055085\tGO_REF:0000002\tIEA\tInterPro:IPR011527\tP\tMoeD5\tA0A001_9ACTO|moeD5\tprotein\ttaxon:35758\t20150228\tInterPro\t\t\r\n",
      "UniProtKB\tA0A002\tA0A002\t\tGO:0005524\tGO_REF:0000002\tIEA\tInterPro:IPR003439|InterPro:IPR011527\tF\tMoeJ5\tA0A002_9ACTO\tprotein\ttaxon:35758\t20150228\tInterPro\t\t\r\n",
      "UniProtKB\tA0A002\tA0A002\t\tGO:0006810\tGO_REF:0000002\tIEA\tInterPro:IPR011527\tP\tMoeJ5\tA0A002_9ACTO\tprotein\ttaxon:35758\t20150228\tInterPro\t\t\r\n",
      "UniProtKB\tA0A002\tA0A002\t\tGO:0008152\tGO_REF:0000002\tIEA\tInterPro:IPR003439\tP\tMoeJ5\tA0A002_9ACTO\tprotein\ttaxon:35758\t20150228\tGOC\t\t\r\n",
      "UniProtKB\tA0A002\tA0A002\t\tGO:0016021\tGO_REF:0000002\tIEA\tInterPro:IPR011527\tC\tMoeJ5\tA0A002_9ACTO\tprotein\ttaxon:35758\t20150228\tInterPro\t\t\r\n",
      "UniProtKB\tA0A002\tA0A002\t\tGO:0016887\tGO_REF:0000002\tIEA\tInterPro:IPR003439\tF\tMoeJ5\tA0A002_9ACTO\tprotein\ttaxon:35758\t20150228\tInterPro\t\t\r\n",
      "UniProtKB\tA0A002\tA0A002\t\tGO:0042626\tGO_REF:0000002\tIEA\tInterPro:IPR011527\tF\tMoeJ5\tA0A002_9ACTO\tprotein\ttaxon:35758\t20150228\tInterPro\t\t\r\n",
      "UniProtKB\tA0A002\tA0A002\t\tGO:0055085\tGO_REF:0000002\tIEA\tInterPro:IPR011527\tP\tMoeJ5\tA0A002_9ACTO\tprotein\ttaxon:35758\t20150228\tInterPro\t\t\r\n",
      "UniProtKB\tA0A003\tmoeE5\t\tGO:0003824\tGO_REF:0000002\tIEA\tInterPro:IPR001509\tF\tMoeE5\tA0A003_9ACTO|moeE5\tprotein\ttaxon:35758\t20150228\tInterPro\t\t\r\n",
      "UniProtKB\tA0A003\tmoeE5\t\tGO:0005975\tGO_REF:0000002\tIEA\tInterPro:IPR008089\tP\tMoeE5\tA0A003_9ACTO|moeE5\tprotein\ttaxon:35758\t20150228\tInterPro\t\t\r\n",
      "UniProtKB\tA0A003\tmoeE5\t\tGO:0016857\tGO_REF:0000002\tIEA\tInterPro:IPR008089\tF\tMoeE5\tA0A003_9ACTO|moeE5\tprotein\ttaxon:35758\t20150228\tInterPro\t\t\r\n",
      "UniProtKB\tA0A003\tmoeE5\t\tGO:0050662\tGO_REF:0000002\tIEA\tInterPro:IPR001509\tF\tMoeE5\tA0A003_9ACTO|moeE5\tprotein\ttaxon:35758\t20150228\tInterPro\t\t\r\n",
      "UniProtKB\tA0A004\tmoeF5\t\tGO:0000166\tGO_REF:0000038\tIEA\tUniProtKB-KW:KW-0547\tF\tAsparagine synthetase\tA0A004_9ACTO|moeF5\tprotein\ttaxon:35758\t20150228\tUniProt\t\t\r\n",
      "UniProtKB\tA0A004\tmoeF5\t\tGO:0004066\tGO_REF:0000002\tIEA\tInterPro:IPR001962|InterPro:IPR006426\tF\tAsparagine synthetase\tA0A004_9ACTO|moeF5\tprotein\ttaxon:35758\t20150228\tInterPro\t\t\r\n",
      "UniProtKB\tA0A004\tmoeF5\t\tGO:0004066\tGO_REF:0000003\tIEA\tEC:6.3.5.4\tF\tAsparagine synthetase\tA0A004_9ACTO|moeF5\tprotein\ttaxon:35758\t20150228\tUniProt\t\t\r\n",
      "UniProtKB\tA0A004\tmoeF5\t\tGO:0005524\tGO_REF:0000038\tIEA\tUniProtKB-KW:KW-0067\tF\tAsparagine synthetase\tA0A004_9ACTO|moeF5\tprotein\ttaxon:35758\t20150228\tUniProt\t\t\r\n",
      "UniProtKB\tA0A004\tmoeF5\t\tGO:0006529\tGO_REF:0000002\tIEA\tInterPro:IPR001962|InterPro:IPR006426\tP\tAsparagine synthetase\tA0A004_9ACTO|moeF5\tprotein\ttaxon:35758\t20150228\tInterPro\t\t\r\n",
      "UniProtKB\tA0A004\tmoeF5\t\tGO:0006529\tGO_REF:0000038\tIEA\tUniProtKB-KW:KW-0061\tP\tAsparagine synthetase\tA0A004_9ACTO|moeF5\tprotein\ttaxon:35758\t20150228\tUniProt\t\t\r\n",
      "UniProtKB\tA0A004\tmoeF5\t\tGO:0008152\tGO_REF:0000002\tIEA\tInterPro:IPR000583\tP\tAsparagine synthetase\tA0A004_9ACTO|moeF5\tprotein\ttaxon:35758\t20150228\tInterPro\t\t\r\n",
      "UniProtKB\tA0A004\tmoeF5\t\tGO:0008652\tGO_REF:0000038\tIEA\tUniProtKB-KW:KW-0028\tP\tAsparagine synthetase\tA0A004_9ACTO|moeF5\tprotein\ttaxon:35758\t20150228\tUniProt\t\t\r\n",
      "UniProtKB\tA0A004\tmoeF5\t\tGO:0016874\tGO_REF:0000038\tIEA\tUniProtKB-KW:KW-0436\tF\tAsparagine synthetase\tA0A004_9ACTO|moeF5\tprotein\ttaxon:35758\t20150228\tUniProt\t\t\r\n",
      "UniProtKB\tA0A004\tmoeF5\t\tGO:0070981\tGO_REF:0000041\tIEA\tUniPathway:UPA00134\tP\tAsparagine synthetase\tA0A004_9ACTO|moeF5\tprotein\ttaxon:35758\t20150228\tUniProt\t\t\r\n",
      "UniProtKB\tA0A006\tmoeH5\t\tGO:0004066\tGO_REF:0000002\tIEA\tInterPro:IPR001962\tF\tMoeH5\tA0A006_9ACTO|moeH5\tprotein\ttaxon:35758\t20150228\tInterPro\t\t\r\n",
      "UniProtKB\tA0A006\tmoeH5\t\tGO:0006529\tGO_REF:0000002\tIEA\tInterPro:IPR001962\tP\tMoeH5\tA0A006_9ACTO|moeH5\tprotein\ttaxon:35758\t20150228\tInterPro\t\t\r\n",
      "UniProtKB\tA0A007\tmoeK5\t\tGO:0003824\tGO_REF:0000002\tIEA\tInterPro:IPR006638|InterPro:IPR007197\tF\tMoeK5\tA0A007_9ACTO|moeK5\tprotein\ttaxon:35758\t20150228\tInterPro\t\t\r\n"
     ]
    }
   ],
   "source": [
    "!head -50 /Users/sr320/Downloads/gene_association.goa_uniprot"
   ]
  },
  {
   "cell_type": "code",
   "execution_count": null,
   "metadata": {
    "collapsed": false
   },
   "outputs": [],
   "source": [
    "!tail -n +12 /Users/sr320/Downloads/gene_association.goa_uniprot"
   ]
  },
  {
   "cell_type": "code",
   "execution_count": null,
   "metadata": {
    "collapsed": false
   },
   "outputs": [
    {
     "name": "stdout",
     "output_type": "stream",
     "text": [
      "wc: illegal option -- 1\r\n",
      "usage: wc [-clmw] [file ...]\r\n"
     ]
    }
   ],
   "source": [
    "!grep \"^[^!;]\" /Users/sr320/Downloads/gene_association.goa_uniprot | wc -1"
   ]
  },
  {
   "cell_type": "code",
   "execution_count": 6,
   "metadata": {
    "collapsed": false
   },
   "outputs": [
    {
     "name": "stdout",
     "output_type": "stream",
     "text": [
      "/Volumes/Bay3/Software/stacks-1.22\n"
     ]
    }
   ],
   "source": [
    "cd stacks-1.22/"
   ]
  },
  {
   "cell_type": "code",
   "execution_count": 7,
   "metadata": {
    "collapsed": false
   },
   "outputs": [
    {
     "name": "stdout",
     "output_type": "stream",
     "text": [
      "checking for a BSD-compatible install... /usr/bin/install -c\n",
      "checking whether build environment is sane... yes\n",
      "checking for a thread-safe mkdir -p... config/install-sh -c -d\n",
      "checking for gawk... no\n",
      "checking for mawk... no\n",
      "checking for nawk... no\n",
      "checking for awk... awk\n",
      "checking whether make sets $(MAKE)... yes\n",
      "checking whether make supports nested variables... yes\n",
      "checking for g++... g++\n",
      "checking whether the C++ compiler works... yes\n",
      "checking for C++ compiler default output file name... a.out\n",
      "checking for suffix of executables... \n",
      "checking whether we are cross compiling... no\n",
      "checking for suffix of object files... o\n",
      "checking whether we are using the GNU C++ compiler... yes\n",
      "checking whether g++ accepts -g... yes\n",
      "checking for style of include used by make... GNU\n",
      "checking dependency style of g++... gcc3\n",
      "checking for gcc... gcc\n",
      "checking whether we are using the GNU C compiler... yes\n",
      "checking whether gcc accepts -g... yes\n",
      "checking for gcc option to accept ISO C89... none needed\n",
      "checking whether gcc understands -c and -o together... yes\n",
      "checking dependency style of gcc... gcc3\n",
      "checking whether g++ supports C++11 features by default... no\n",
      "checking whether g++ supports C++11 features with -std=gnu++11... no\n",
      "checking whether g++ supports C++11 features with -std=gnu++0x... no\n",
      "checking whether g++ supports C++11 features with -std=c++11... no\n",
      "checking whether g++ supports C++11 features with -std=c++0x... no\n",
      "configure: No compiler with C++11 support was found\n",
      "checking for omp_set_num_threads in -lgomp... no\n",
      "configure: WARNING: Unable to locate OpenMP library, you should probably specify '--disable-openmp'.\n",
      "checking for gzread in -lz... yes\n",
      "checking for dirent.h that defines DIR... yes\n",
      "checking for library containing opendir... none required\n",
      "checking how to run the C preprocessor... gcc -E\n",
      "checking for grep that handles long lines and -e... /usr/bin/grep\n",
      "checking for egrep... /usr/bin/grep -E\n",
      "checking for ANSI C header files... yes\n",
      "checking for sys/types.h... yes\n",
      "checking for sys/stat.h... yes\n",
      "checking for stdlib.h... yes\n",
      "checking for string.h... yes\n",
      "checking for memory.h... yes\n",
      "checking for strings.h... yes\n",
      "checking for inttypes.h... yes\n",
      "checking for stdint.h... yes\n",
      "checking for unistd.h... yes\n",
      "checking float.h usability... yes\n",
      "checking float.h presence... yes\n",
      "checking for float.h... yes\n",
      "checking limits.h usability... yes\n",
      "checking limits.h presence... yes\n",
      "checking for limits.h... yes\n",
      "checking for stdlib.h... (cached) yes\n",
      "checking for string.h... (cached) yes\n",
      "checking for gcc option to support OpenMP... -fopenmp\n",
      "checking for stdbool.h that conforms to C99... yes\n",
      "checking for _Bool... yes\n",
      "checking for an ANSI C-conforming const... yes\n",
      "checking for size_t... yes\n",
      "checking whether closedir returns void... no\n",
      "checking for stdlib.h... (cached) yes\n",
      "checking for GNU libc compatible malloc... yes\n",
      "checking for stdlib.h... (cached) yes\n",
      "checking for GNU libc compatible realloc... yes\n",
      "checking for floor... yes\n",
      "checking for memset... yes\n",
      "checking for pow... yes\n",
      "checking for sqrt... yes\n",
      "checking for gawk... (cached) awk\n",
      "checking that generated files are newer than configure... done\n",
      "configure: creating ./config.status\n",
      "config.status: creating Makefile\n",
      "config.status: creating config.h\n",
      "config.status: executing depfiles commands\n"
     ]
    }
   ],
   "source": [
    "!./configure\n"
   ]
  },
  {
   "cell_type": "code",
   "execution_count": 8,
   "metadata": {
    "collapsed": false
   },
   "outputs": [
    {
     "name": "stdout",
     "output_type": "stream",
     "text": [
      "make  all-am\n",
      "g++ -DHAVE_CONFIG_H -I.    -fopenmp  -g -O2 -MT src/ustacks-ustacks.o -MD -MP -MF src/.deps/ustacks-ustacks.Tpo -c -o src/ustacks-ustacks.o `test -f 'src/ustacks.cc' || echo './'`src/ustacks.cc\n",
      "In file included from src/ustacks.cc:29:\n",
      "src/ustacks.h:57:25: error: unordered_map: No such file or directory\n",
      "In file included from src/ustacks.cc:29:\n",
      "src/ustacks.h:58: error: ‘std::unordered_map’ has not been declared\n",
      "In file included from src/ustacks.h:70,\n",
      "                 from src/ustacks.cc:29:\n",
      "src/kmers.h:44: error: ‘std::unordered_map’ has not been declared\n",
      "In file included from src/ustacks.h:70,\n",
      "                 from src/ustacks.cc:29:\n",
      "src/kmers.h:79: error: expected initializer before ‘<’ token\n",
      "src/kmers.h:80: error: expected initializer before ‘<’ token\n",
      "src/kmers.h:86: error: ‘KmerHashMap’ has not been declared\n",
      "src/kmers.h:87: error: ‘CatKmerHashMap’ has not been declared\n",
      "src/kmers.h:88: error: ‘KmerHashMap’ was not declared in this scope\n",
      "src/kmers.h:88: error: expected primary-expression before ‘,’ token\n",
      "src/kmers.h:88: error: expected primary-expression before ‘&’ token\n",
      "src/kmers.h:88: error: expected primary-expression before ‘)’ token\n",
      "src/kmers.h:88: error: initializer expression list treated as compound expression\n",
      "src/kmers.h:89: error: redefinition of ‘int free_kmer_hash’\n",
      "src/kmers.h:88: error: ‘int free_kmer_hash’ previously defined here\n",
      "src/kmers.h:89: error: ‘CatKmerHashMap’ was not declared in this scope\n",
      "src/kmers.h:89: error: expected primary-expression before ‘,’ token\n",
      "src/kmers.h:89: error: expected primary-expression before ‘&’ token\n",
      "src/kmers.h:89: error: expected primary-expression before ‘)’ token\n",
      "src/kmers.h:109: error: ‘KmerHashMap’ was not declared in this scope\n",
      "src/kmers.h:109: error: expected primary-expression before ‘)’ token\n",
      "In file included from src/ustacks.cc:29:\n",
      "src/ustacks.h:102: error: expected initializer before ‘<’ token\n",
      "src/ustacks.h:108: error: ‘DNASeqHashMap’ has not been declared\n",
      "src/ustacks.h:110: error: ‘DNASeqHashMap’ was not declared in this scope\n",
      "src/ustacks.h:110: error: expected primary-expression before ‘,’ token\n",
      "src/ustacks.h:110: error: expected primary-expression before ‘&’ token\n",
      "src/ustacks.h:110: error: expected primary-expression before ‘,’ token\n",
      "src/ustacks.h:110: error: expected primary-expression before ‘&’ token\n",
      "src/ustacks.h:110: error: expected primary-expression before ‘)’ token\n",
      "src/ustacks.h:110: error: initializer expression list treated as compound expression\n",
      "src/ustacks.h:111: error: ‘DNASeqHashMap’ was not declared in this scope\n",
      "src/ustacks.h:111: error: expected primary-expression before ‘,’ token\n",
      "src/ustacks.h:111: error: expected primary-expression before ‘&’ token\n",
      "src/ustacks.h:111: error: expected primary-expression before ‘)’ token\n",
      "src/ustacks.h:111: error: initializer expression list treated as compound expression\n",
      "src/ustacks.cc: In function ‘int main(int, char**)’:\n",
      "src/ustacks.cc:124: error: ‘DNASeqHashMap’ was not declared in this scope\n",
      "src/ustacks.cc:124: error: expected `;' before ‘radtags’\n",
      "src/ustacks.cc:130: error: ‘radtags’ was not declared in this scope\n",
      "src/ustacks.cc:132: error: ‘reduce_radtags’ cannot be used as a function\n",
      "src/ustacks.cc:134: error: ‘free_radtags_hash’ cannot be used as a function\n",
      "src/ustacks.cc: In function ‘int merge_remainders(std::map<int, MergedStack*, std::less<int>, std::allocator<std::pair<const int, MergedStack*> > >&, std::map<int, Rem*, std::less<int>, std::allocator<std::pair<const int, Rem*> > >&)’:\n",
      "src/ustacks.cc:220: error: ‘KmerHashMap’ was not declared in this scope\n",
      "src/ustacks.cc:220: error: expected `;' before ‘kmer_map’\n",
      "src/ustacks.cc:222: error: ‘kmer_map’ was not declared in this scope\n",
      "src/ustacks.cc:317: error: ‘free_kmer_hash’ cannot be used as a function\n",
      "src/ustacks.cc: In function ‘int merge_stacks(std::map<int, Stack*, std::less<int>, std::allocator<std::pair<const int, Stack*> > >&, std::map<int, Rem*, std::less<int>, std::allocator<std::pair<const int, Rem*> > >&, std::map<int, MergedStack*, std::less<int>, std::allocator<std::pair<const int, MergedStack*> > >&, std::set<int, std::less<int>, std::allocator<int> >&, int)’:\n",
      "src/ustacks.cc:591: warning: iteration variable ‘index’ is unsigned\n",
      "src/ustacks.cc: In function ‘int calc_kmer_distance(std::map<int, MergedStack*, std::less<int>, std::allocator<std::pair<const int, MergedStack*> > >&, int)’:\n",
      "src/ustacks.cc:1029: error: ‘KmerHashMap’ was not declared in this scope\n",
      "src/ustacks.cc:1029: error: expected `;' before ‘kmer_map’\n",
      "src/ustacks.cc:1056: error: ‘kmer_map’ was not declared in this scope\n",
      "src/ustacks.cc:1061: warning: iteration variable ‘i’ is unsigned\n",
      "src/ustacks.cc:1125: error: ‘free_kmer_hash’ cannot be used as a function\n",
      "src/ustacks.cc: At global scope:\n",
      "src/ustacks.cc:1189: error: redefinition of ‘int reduce_radtags’\n",
      "src/ustacks.h:110: error: ‘int reduce_radtags’ previously defined here\n",
      "src/ustacks.cc:1189: error: ‘DNASeqHashMap’ was not declared in this scope\n",
      "src/ustacks.cc:1189: error: ‘radtags’ was not declared in this scope\n",
      "src/ustacks.cc:1189: error: expected primary-expression before ‘&’ token\n",
      "src/ustacks.cc:1189: error: ‘unique’ was not declared in this scope\n",
      "src/ustacks.cc:1189: error: expected primary-expression before ‘&’ token\n",
      "src/ustacks.cc:1189: error: ‘rem’ was not declared in this scope\n",
      "make[1]: *** [src/ustacks-ustacks.o] Error 1\n",
      "make: *** [all] Error 2\n"
     ]
    }
   ],
   "source": [
    "!make"
   ]
  },
  {
   "cell_type": "code",
   "execution_count": 9,
   "metadata": {
    "collapsed": false
   },
   "outputs": [
    {
     "name": "stdout",
     "output_type": "stream",
     "text": [
      "Password:\n"
     ]
    }
   ],
   "source": [
    "!sudo make"
   ]
  },
  {
   "cell_type": "code",
   "execution_count": null,
   "metadata": {
    "collapsed": false
   },
   "outputs": [],
   "source": []
  }
 ],
 "metadata": {
  "kernelspec": {
   "display_name": "Python 2",
   "language": "python",
   "name": "python2"
  },
  "language_info": {
   "codemirror_mode": {
    "name": "ipython",
    "version": 2
   },
   "file_extension": ".py",
   "mimetype": "text/x-python",
   "name": "python",
   "nbconvert_exporter": "python",
   "pygments_lexer": "ipython2",
   "version": "2.7.9"
  }
 },
 "nbformat": 4,
 "nbformat_minor": 0
}
