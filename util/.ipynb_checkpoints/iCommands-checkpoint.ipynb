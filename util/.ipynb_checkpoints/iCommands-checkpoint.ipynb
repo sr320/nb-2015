{
 "cells": [
  {
   "cell_type": "code",
   "execution_count": 3,
   "metadata": {
    "collapsed": false
   },
   "outputs": [
    {
     "name": "stdout",
     "output_type": "stream",
     "text": [
      "/iplant/home/sr320\r\n"
     ]
    }
   ],
   "source": [
    "!ipwd\n"
   ]
  },
  {
   "cell_type": "code",
   "execution_count": 4,
   "metadata": {
    "collapsed": false
   },
   "outputs": [
    {
     "name": "stdout",
     "output_type": "stream",
     "text": [
      "/iplant/home/sr320:\n",
      "  Galaxy10-[Cut_on_data_7].tabular\n",
      "  Roberts_20100712_CC.single.fastq\n",
      "  Roberts_20100712_CE.single.fastq\n",
      "  SPID_and_GO_number.tabular\n",
      "  C- /iplant/home/sr320/AltSplice\n",
      "  C- /iplant/home/sr320/analyses\n",
      "  C- /iplant/home/sr320/austral\n",
      "  C- /iplant/home/sr320/austral_class\n",
      "  C- /iplant/home/sr320/bamout\n",
      "  C- /iplant/home/sr320/BiGo_larvae\n",
      "  C- /iplant/home/sr320/bisque_data\n",
      "  C- /iplant/home/sr320/Black_Abalone\n",
      "  C- /iplant/home/sr320/BS-heat\n",
      "  C- /iplant/home/sr320/cacheServiceTempDir\n",
      "  C- /iplant/home/sr320/ce\n",
      "  C- /iplant/home/sr320/Cgigas_MBD\n",
      "  C- /iplant/home/sr320/Cgigas_OA\n",
      "  C- /iplant/home/sr320/Cgigas_v9\n",
      "  C- /iplant/home/sr320/Cgigas_yan_larvae\n",
      "  C- /iplant/home/sr320/CICESE-btea\n",
      "  C- /iplant/home/sr320/coge_data\n",
      "  C- /iplant/home/sr320/Cv_LSU\n",
      "  C- /iplant/home/sr320/eimd\n",
      "  C- /iplant/home/sr320/fish546\n",
      "  C- /iplant/home/sr320/Geoduck\n",
      "  C- /iplant/home/sr320/iplant_ws\n",
      "  C- /iplant/home/sr320/labshare\n",
      "  C- /iplant/home/sr320/meadow\n",
      "  C- /iplant/home/sr320/Mytilus_SXT\n",
      "  C- /iplant/home/sr320/OlympiaOyster\n",
      "  C- /iplant/home/sr320/OlyO_PacBio\n",
      "  C- /iplant/home/sr320/OlyO_Rad-01\n",
      "  C- /iplant/home/sr320/OlyO_SNPhunt\n",
      "  C- /iplant/home/sr320/paper-Cg-temp-methylation\n",
      "  C- /iplant/home/sr320/qdod\n",
      "  C- /iplant/home/sr320/tmp\n"
     ]
    }
   ],
   "source": [
    "!ils"
   ]
  },
  {
   "cell_type": "code",
   "execution_count": null,
   "metadata": {
    "collapsed": true
   },
   "outputs": [],
   "source": []
  }
 ],
 "metadata": {
  "kernelspec": {
   "display_name": "Python 2",
   "language": "python",
   "name": "python2"
  },
  "language_info": {
   "codemirror_mode": {
    "name": "ipython",
    "version": 2
   },
   "file_extension": ".py",
   "mimetype": "text/x-python",
   "name": "python",
   "nbconvert_exporter": "python",
   "pygments_lexer": "ipython2",
   "version": "2.7.10"
  }
 },
 "nbformat": 4,
 "nbformat_minor": 0
}
