{
 "metadata": {
  "name": "",
  "signature": "sha256:a0bf9f96a45be267d74980ba6892c56cfcfbdd890aecdee44d37411e6903ae64"
 },
 "nbformat": 3,
 "nbformat_minor": 0,
 "worksheets": [
  {
   "cells": [
    {
     "cell_type": "code",
     "collapsed": false,
     "input": [
      "!perl -e '$count=0; $len=0; while(<>) {s/\\r?\\n//; s/\\t/ /g; if (s/^>//) { if ($. != 1) {print \"\\n\"} s/ |$/\\t/; $count++; $_ .= \"\\t\";} else {s/ //g; $len += length($_)} print $_;} print \"\\n\"; warn \"\\nConverted $count FASTA records in $. lines to tabular format\\nTotal sequence length: $len\\n\\n\";' \\\n",
      "/Volumes/web/halfshell/qdod3/Crassostrea_gigas.GCA_000297895.1.25.dna_sm.toplevel.fa \\\n",
      "> /Volumes/web/halfshell/qdod3/Crassostrea_gigas.GCA_000297895.1.25.dna_sm.toplevel.tab"
     ],
     "language": "python",
     "metadata": {},
     "outputs": [
      {
       "output_type": "stream",
       "stream": "stdout",
       "text": [
        "\r\n",
        "Converted 7658 FASTA records in 9306685 lines to tabular format\r\n",
        "Total sequence length: 557717710\r\n",
        "\r\n"
       ]
      }
     ],
     "prompt_number": 3
    },
    {
     "cell_type": "code",
     "collapsed": false,
     "input": [
      "#add column with length of sequence\n",
      "!perl -e '$col = 2;' -e 'while (<>) { s/\\r?\\n//; @F = split /\\t/, $_; $len = length($F[$col]); print \"$_\\t$len\\n\" } warn \"\\nAdded column with length of column $col for $. lines.\\n\\n\";' \\\n",
      "/Volumes/web/halfshell/qdod3/Crassostrea_gigas.GCA_000297895.1.25.dna_sm.toplevel.tab \\\n",
      "> /Volumes/web/halfshell/qdod3/Crassostrea_gigas.GCA_000297895.1.25.dna_sm.toplevel.fa.genome\n"
     ],
     "language": "python",
     "metadata": {},
     "outputs": [
      {
       "output_type": "stream",
       "stream": "stdout",
       "text": [
        "\r\n",
        "Added column with length of column 2 for 7658 lines.\r\n",
        "\r\n"
       ]
      }
     ],
     "prompt_number": 4
    },
    {
     "cell_type": "code",
     "collapsed": false,
     "input": [
      "!head /Volumes/web/halfshell/qdod3/Crassostrea_gigas.GCA_000297895.1.25.dna_sm.toplevel.fa.genome"
     ],
     "language": "python",
     "metadata": {},
     "outputs": [
      {
       "output_type": "stream",
       "stream": "stdout",
       "text": [
        "C12728\tdna_sm:supercontig supercontig:GCA_000297895.1:C12728:1:200:1\tTTTTTCTTATTTTTATTTGTACCAGTTAATCCTGTGAgccgcttttatgtctctttctggccgtttttatgtctctttctgTTGACTTTATTATTCTCTCATTTATGATTTAACATCTCATATGAATTATTATGTGTATCTTGCATGGGATATTTTGCCACTTCGTGCCCATAAAAATCAACACTTGTCTTTCGGTGTAT\t200\r\n",
        "C12722\tdna_sm:supercontig supercontig:GCA_000297895.1:C12722:1:200:1\tTAGGGACAGTGTCTATTGCATTAAGGTGAGTGACTGTTTGGGGTTAAACTTAAACAGGTATGGATAGATTGAGTGTGTGAACATCCCTGCTCTATCTAATCTACGTGTTTTCTAACCTTTGATACAAAGTGTGCGGTCATTCCTGCCCTGTATCGCATTAATACAAGTGTGCAGTCATACCTGCTTGTATTGGTGGTGGT\t200\r\n",
        "C12706\tdna_sm:supercontig supercontig:GCA_000297895.1:C12706:1:200:1\tGGAGCGTTTCCTGTAACGTCATAGCCTCTTTACCGCAGACTTTGACAGCAGAGAGGGAAGAATCAATCCGCGTTTTTGAATGTCCACCATCCTTGCAATATTCACCATATTCTATGGAATGGAAATATTGTGGACTCTTTTTGGGATCAACTTGAAAGCCTACAAATAAGGTATTTTAAAAGTATAAGCAGGGCATCATC\t200\r\n",
        "C12718\tdna_sm:supercontig supercontig:GCA_000297895.1:C12718:1:200:1\tGTGCGAGCTGTAGCCCCTGGCACATAAGTGGGATTTTAGGAGTTGACTTTGCTCAGAGTATAGTTCTTGAGTTGAACAAATACGTCTGACTCTGGTGGCTAGGCCTTTTGGTATGCCTCTAAACGTATGAGGTGGGTGGCAGCTAGACGTCATTAAATAGAGGTGGGAATCTGTAGGTTTAGTATGAAGATTGAAATCGA\t200\r\n",
        "C12732\tdna_sm:supercontig supercontig:GCA_000297895.1:C12732:1:200:1\tAAACCTACAGGATGTCCATGGTATACCAACTTGTTATTGATTTATTATTGTATATTAGGTGATTCTTCCTGATTTAATTTTTGCTCCTAATATGCCTTTATTTTAGTCTGTTACTATGTAGTCGTAAAAAAGATTTTATTATTGTTTTTCACATCAGTTTAGAAAAAAATGACCAAACATTATATTTCACTTTAAATAGC\t200\r\n",
        "C12726\tdna_sm:supercontig supercontig:GCA_000297895.1:C12726:1:200:1\tTTAGTTCTTAGTGTAATTGGTAGTATGTTTGTATGTTTATCGGGACTTTATTAGTCACAGTATGTTTTTTTCAGTGCGTAAGGGTGTTTGATACAATTACCTGAAATACAGACTGGTGTGCTAGACGGAAATTTTCCTATGGAAGGTCGTGGGGACAATTGACGAAGGTCGGGGACGCATTCTATGCTGAGTGGGGCGTG\t200\r\n",
        "C12708\tdna_sm:supercontig supercontig:GCA_000297895.1:C12708:1:200:1\tTTACTGAGACCATTCGGCTGTGTACAAGCAGCACACATAACCTCGGACATCGGGTGAGACCTGCACCTGGCTAAACCTGTCAATCAAACTCTGTGTATTTGTTTTCATTGGATGGTCAGGCGTCTCCCTTTTGTCAAAAGCCAATGGAAAATTAATGACTTCAAGGTAATCGGAATACGTATTTGATGAAGCACACAATG\t200\r\n",
        "C12730\tdna_sm:supercontig supercontig:GCA_000297895.1:C12730:1:200:1\tAAAGATGTAATATACAAAGCAACACCAACTGTGGCCACATAAGCAATATATTTTCAGAAAGGAACACCCTTAACACCAAATGTACAAGTCATACATATTTCATAGGAATATCTCTTAGCATTTTCATAAGGCACAACTCATAATTACATGGTTATTCAAATAAATAAGGATACTTTTTCTTCATTTCTTCTTCGGCCTCC\t200\r\n",
        "C12724\tdna_sm:supercontig supercontig:GCA_000297895.1:C12724:1:200:1\tgacatcatctacatcatattcatcgacatgaccatcatcatcgtcgtcgtcatcatcaccataacatcatcgtcgtcatcaacatgaacatcgcatcgtcatcgacttcaccatgaacgacatcatcTACACCATCATCATCGACATGACCATCATCAATATGACACTACAATAAGTGTACAAGTGACACCATAACACCA\t200\r\n",
        "C12734\tdna_sm:supercontig supercontig:GCA_000297895.1:C12734:1:200:1\tAAAACACAAAGAAATACTGAAAAACAAAATTTAATCCAACATGCATAATCATAATTATACCGTAATTCTTTAAACCATTGACCACCCCAAAATGTATCATTTGAGATGCTACATGTCAGGCAAACAAGGGGATACCGCAATGTACAGCtggggagggggttggattatgatgggggacggggcggggggaagggggTAGC\t200\r\n"
       ]
      }
     ],
     "prompt_number": 5
    },
    {
     "cell_type": "code",
     "collapsed": false,
     "input": [
      "!awk -F\"\\t\" '{print $1,$4}' /Volumes/web/halfshell/qdod3/Crassostrea_gigas.GCA_000297895.1.25.dna_sm.toplevel.fa.genome \\\n",
      "> /Volumes/web/halfshell/qdod3/Cg.GCA_000297895.1.25.dna_sm.toplevel.genome"
     ],
     "language": "python",
     "metadata": {},
     "outputs": [],
     "prompt_number": 14
    },
    {
     "cell_type": "code",
     "collapsed": false,
     "input": [
      "!tail /Volumes/web/halfshell/qdod3/Cg.GCA_000297895.1.25.dna_sm.toplevel.genome"
     ],
     "language": "python",
     "metadata": {},
     "outputs": [
      {
       "output_type": "stream",
       "stream": "stdout",
       "text": [
        "scaffold77 1619719\r\n",
        "scaffold337 1638316\r\n",
        "scaffold86 1697160\r\n",
        "scaffold1532 1715538\r\n",
        "scaffold419 1725835\r\n",
        "scaffold102 1727112\r\n",
        "scaffold1024 1774716\r\n",
        "scaffold150 1854615\r\n",
        "scaffold1009 1861391\r\n",
        "scaffold22 1964558\r\n"
       ]
      }
     ],
     "prompt_number": 16
    },
    {
     "cell_type": "code",
     "collapsed": false,
     "input": [
      "!cut -f4 /Volumes/web/halfshell/qdod3/Cg.GCA_000297895.1.25.dna_sm.toplevel.genome"
     ],
     "language": "python",
     "metadata": {},
     "outputs": []
    }
   ],
   "metadata": {}
  }
 ]
}