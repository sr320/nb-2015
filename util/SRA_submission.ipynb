{
 "metadata": {
  "name": "",
  "signature": "sha256:de3fa27dae8bbf65c6847fae3beb68f99400c0b93cf4bcff5b5cee1e9763d709"
 },
 "nbformat": 3,
 "nbformat_minor": 0,
 "worksheets": [
  {
   "cells": [
    {
     "cell_type": "markdown",
     "metadata": {},
     "source": [
      "Logged into SRA submission - then directed back out to create BioProject (assuming does not already exist)."
     ]
    },
    {
     "cell_type": "markdown",
     "metadata": {},
     "source": [
      "Half way through creating BioProject, you are redirected to create biosample."
     ]
    },
    {
     "cell_type": "markdown",
     "metadata": {},
     "source": [
      "Went back and completed BioProject without doing biosample. "
     ]
    },
    {
     "cell_type": "markdown",
     "metadata": {},
     "source": [
      "Phel BioProject ID: `PRJNA270176`"
     ]
    },
    {
     "cell_type": "markdown",
     "metadata": {},
     "source": [
      "<img src=\"http://eagle.fish.washington.edu/cnidarian/skitch/BioSample_Attributes___Submission_Portal_1A3B1ECD.png\" alt=\"BioSample_Attributes___Submission_Portal_1A3B1ECD.png\"/>"
     ]
    },
    {
     "cell_type": "markdown",
     "metadata": {},
     "source": [
      "Will try batch biosample submission (this assumes I am correct in that each individual (ie 6 seastars) need to be 6 biosamples.)"
     ]
    },
    {
     "cell_type": "code",
     "collapsed": false,
     "input": [],
     "language": "python",
     "metadata": {},
     "outputs": []
    }
   ],
   "metadata": {}
  }
 ]
}