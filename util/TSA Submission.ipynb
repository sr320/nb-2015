{
 "cells": [
  {
   "cell_type": "markdown",
   "metadata": {
    "button": false,
    "deletable": true,
    "new_sheet": false,
    "run_control": {
     "read_only": false
    }
   },
   "source": []
  },
  {
   "cell_type": "markdown",
   "metadata": {
    "button": false,
    "collapsed": false,
    "deletable": true,
    "new_sheet": false,
    "run_control": {
     "read_only": false
    }
   },
   "source": [
    "# Christian's Data"
   ]
  },
  {
   "cell_type": "code",
   "execution_count": 12,
   "metadata": {
    "collapsed": false,
    "run_control": {}
   },
   "outputs": [
    {
     "name": "stdout",
     "output_type": "stream",
     "text": [
      "\u0007[tbl2asn 24.3] SeqID lcl|Caligus_H_trimmed_(paired)_contig_9694_consensus is present on multiple Bioseqs in record\r\n",
      "\u0007[tbl2asn 24.3] SeqID lcl|Caligus_H_trimmed_(paired)_contig_46192_consensus is present on multiple Bioseqs in record\r\n",
      "\u0007[tbl2asn 24.3] SeqID lcl|Caligus_H_trimmed_(paired)_contig_84004_consensus is present on multiple Bioseqs in record\r\n",
      "\u0007[tbl2asn 24.3] SeqID lcl|Caligus_H_trimmed_(paired)_contig_59205_consensus is present on multiple Bioseqs in record\r\n",
      "\u0007[tbl2asn 24.3] SeqID lcl|Caligus_H_trimmed_(paired)_contig_56263_consensus is present on multiple Bioseqs in record\r\n",
      "\u0007[tbl2asn 24.3] SeqID lcl|Caligus_H_trimmed_(paired)_contig_5364_consensus is present on multiple Bioseqs in record\r\n",
      "\u0007[tbl2asn 24.3] SeqID lcl|Caligus_H_trimmed_(paired)_contig_10158_consensus is present on multiple Bioseqs in record\r\n",
      "\u0007[tbl2asn 24.3] SeqID lcl|Caligus_H_trimmed_(paired)_contig_83965_consensus is present on multiple Bioseqs in record\r\n",
      "\u0007[tbl2asn 24.3] SeqID lcl|Caligus_H_trimmed_(paired)_contig_62139_consensus is present on multiple Bioseqs in record\r\n",
      "\u0007[tbl2asn 24.3] SeqID lcl|Caligus_H_trimmed_(paired)_contig_8082_consensus is present on multiple Bioseqs in record\r\n",
      "\u0007[tbl2asn 24.3] SeqID lcl|Caligus_H_trimmed_(paired)_contig_5980_consensus is present on multiple Bioseqs in record\r\n",
      "\u0007[tbl2asn 24.3] SeqID lcl|Caligus_H_trimmed_(paired)_contig_5607_consensus is present on multiple Bioseqs in record\r\n",
      "\u0007[tbl2asn 24.3] SeqID lcl|Caligus_H_trimmed_(paired)_contig_12948_consensus is present on multiple Bioseqs in record\r\n",
      "\u0007[tbl2asn 24.3] SeqID lcl|Caligus_H_trimmed_(paired)_contig_4536_consensus is present on multiple Bioseqs in record\r\n",
      "\u0007[tbl2asn 24.3] SeqID lcl|Caligus_H_trimmed_(paired)_contig_14915_consensus is present on multiple Bioseqs in record\r\n",
      "\u0007[tbl2asn 24.3] SeqID lcl|Caligus_H_trimmed_(paired)_contig_13771_consensus is present on multiple Bioseqs in record\r\n",
      "\u0007[tbl2asn 24.3] SeqID lcl|Caligus_H_trimmed_(paired)_contig_4536_consensus is present on multiple Bioseqs in record\r\n",
      "\u0007[tbl2asn 24.3] SeqID lcl|Caligus_H_trimmed_(paired)_contig_12158_consensus is present on multiple Bioseqs in record\r\n"
     ]
    }
   ],
   "source": [
    "!/Applications/tbl2asn \\\n",
    "-t /Users/sr320/git-repos/nb-2015/util/tmp/tbl2asn/template.sbt \\\n",
    "-p /Users/sr320/git-repos/nb-2015/util/tmp/tbl2asn \\\n",
    "-a s \\\n",
    "-V v"
   ]
  },
  {
   "cell_type": "code",
   "execution_count": 15,
   "metadata": {
    "collapsed": false,
    "run_control": {}
   },
   "outputs": [
    {
     "name": "stdout",
     "output_type": "stream",
     "text": [
      ">contig840\r",
      "\r\n",
      "AAAAAGTAGAAAACATCAGGCAAAAAATACAATTTTGATTAAAGAGCTAAAATTCGTCAT\r",
      "\r\n",
      "TATAATGTGTTAGTAAATACCTACGAGTTCAATGAATAAATATTTTCTAGACAATGTTAG\r",
      "\r\n",
      "CAAAACATTGTACACATCGATTTAATCATCGTATTATTGTGGTTCAACTTCTTTAAATTA\r",
      "\r\n",
      "ATACCCATGTTAGTTTATCACTAAATTAATATTGAAACATGTTTAACTATTTTATGACTG\r",
      "\r\n",
      "AAAAAAATATAAAACTACGTTACGTTATTTCAACACTCTATTTTATTGGGTTATTTAGAA\r",
      "\r\n",
      "GCAAATCTCTTTCGGCCTATAATTATTCTAATGGACGACTTCTTAAGATATTTTAAAATA\r",
      "\r\n",
      "AAGATTAGCAGCTAATTATATATTTTTTTTGAGAATTTCTTCAATTCCTTTAGTTTACAA\r",
      "\r\n",
      "TAAAGATATATTCTTTGTAGTTAATACTATAAATACATACAATCTAAAGAAAAAACGTGA\r",
      "\r\n",
      "TAGAAACAATAATAAACTTTGTAGTTATGAATAATGTAGATTTATTGTTGATACAAAGTG\r",
      "\r\n",
      "ATGAAACAATTATAATTAATATTCTTTGTATGTTGAATAACTATTTTATATCAGTTAAAA\r",
      "\r\n",
      "TAATACGACATTTATTTGTTTCTTGGGCGGAGCTCCACTCCAATATCATCGACATCAATT\r",
      "\r\n",
      "AGAAATAAGCAGCCCTTTCTATGAGTATATTTGGTGTCACTCGTGGGACGGATCTCGAAG\r",
      "\r\n",
      "TTCTTTACAATTTTCTCCACCAGGATTTTCAGCTCCATCATCGCAAAGCGATAGGCGATG\r",
      "\r\n",
      "CAGACTCGGTTACCGTCCCCGAAGGGCCGATATGTATTTGGTATGACTTCCCCTTCCGTT\r",
      "\r\n",
      "AAGAATCTCTCCGGACGAAACTCATTGGGTTCCGGGAAGTATTCGGGATCAAAGTGTGAG\r",
      "\r\n",
      "GCGTAGATAGGCATTTCTACTATGGTTCCCGCCTTGATGGGAATGCCCTCAACCTCTGTG\r",
      "\r\n",
      "TCCTTTGTGCAAACACGCAAGTGAAGCGTTGCCGGAGGAAACATGCGAAGCGTTTCCTTT\r",
      "\r\n",
      "ATCACTGCTGTTACATACCCATTCTCCTGATATTCTTCACTCTCAGAAGAAGATATCTCG\r",
      "\r\n",
      "GATAGGAGCTTTTCTTGGACCTCGGGATTCGTGGCCAGGACGTAGATAAGGCTTGTGATA\r",
      "\r\n"
     ]
    }
   ],
   "source": [
    "!head -20 /Users/sr320/git-repos/nb-2015/util/tmp/tbl2asn/Contigs_Caligus.fsa"
   ]
  },
  {
   "cell_type": "code",
   "execution_count": 14,
   "metadata": {
    "collapsed": false,
    "run_control": {}
   },
   "outputs": [
    {
     "name": "stdout",
     "output_type": "stream",
     "text": [
      ">Caligus_H_trimmed_(paired)_contig_10119_consensus Caligus_H_trimmed_(paired)_contig_10119_consensus\r",
      "\r\n",
      ">Caligus_H_trimmed_(paired)_contig_10158_consensus Caligus_H_trimmed_(paired)_contig_10158_consensus\r",
      "\r\n",
      ">Caligus_H_trimmed_(paired)_contig_10158_consensus Caligus_H_trimmed_(paired)_contig_10158_consensus\r",
      "\r\n",
      ">Caligus_H_trimmed_(paired)_contig_1032_consensus Caligus_H_trimmed_(paired)_contig_1032_consensus\r",
      "\r\n",
      ">Caligus_H_trimmed_(paired)_contig_10535_consensus Caligus_H_trimmed_(paired)_contig_10535_consensus\r",
      "\r\n",
      ">Caligus_H_trimmed_(paired)_contig_1103_consensus_Copy Caligus_H_trimmed_(paired)_contig_1103_consensus\r",
      "\r\n",
      ">Caligus_H_trimmed_(paired)_contig_11095_consensus Caligus_H_trimmed_(paired)_contig_11095_consensus\r",
      "\r\n",
      ">Caligus_H_trimmed_(paired)_contig_1142_consensus Caligus_H_trimmed_(paired)_contig_1142_consensus\r",
      "\r\n",
      ">Caligus_H_trimmed_(paired)_contig_11696 Average coverage: 121,54\r",
      "\r\n",
      ">Caligus_H_trimmed_(paired)_contig_116_consensus Caligus_H_trimmed_(paired)_contig_116_consensus\r",
      "\r\n",
      ">Caligus_H_trimmed_(paired)_contig_11973_consensus\r",
      "\r\n",
      ">Caligus_H_trimmed_(paired)_contig_12052_consensus_Copy Caligus_H_trimmed_(paired)_contig_12052_consensus\r",
      "\r\n",
      ">Caligus_H_trimmed_(paired)_contig_12058_consensus Caligus_H_trimmed_(paired)_contig_12058_consensus\r",
      "\r\n",
      ">Caligus_H_trimmed_(paired)_contig_12130_consensus Caligus_H_trimmed_(paired)_contig_12130_consensus\r",
      "\r\n",
      ">Caligus_H_trimmed_(paired)_contig_12130_consensus_Copy Caligus_H_trimmed_(paired)_contig_12130_consensus\r",
      "\r\n",
      ">Caligus_H_trimmed_(paired)_contig_12158_consensus Caligus_H_trimmed_(paired)_contig_12158_consensus\r",
      "\r\n",
      ">Caligus_H_trimmed_(paired)_contig_12158_consensus Caligus_H_trimmed_(paired)_contig_12158_consensus\r",
      "\r\n",
      ">Caligus_H_trimmed_(paired)_contig_123 Average coverage: 812,32\r",
      "\r\n",
      ">Caligus_H_trimmed_(paired)_contig_12641 Average coverage: 1.097,68\r",
      "\r\n",
      ">Caligus_H_trimmed_(paired)_contig_12765_consensus Caligus_H_trimmed_(paired)_contig_12765_consensus\r",
      "\r\n",
      ">Caligus_H_trimmed_(paired)_contig_1285_consensus Caligus_H_trimmed_(paired)_contig_1285_consensus\r",
      "\r\n",
      ">Caligus_H_trimmed_(paired)_contig_1285_consensus_Copy Caligus_H_trimmed_(paired)_contig_1285_consensus\r",
      "\r\n",
      ">Caligus_H_trimmed_(paired)_contig_12948_consensus Caligus_H_trimmed_(paired)_contig_12948_consensus\r",
      "\r\n",
      ">Caligus_H_trimmed_(paired)_contig_12948_consensus Caligus_H_trimmed_(paired)_contig_12948_consensus\r",
      "\r\n",
      ">Caligus_H_trimmed_(paired)_contig_13124_consensus Caligus_H_trimmed_(paired)_contig_13124_consensus\r",
      "\r\n",
      ">Caligus_H_trimmed_(paired)_contig_13158_consensus Caligus_H_trimmed_(paired)_contig_13158_consensus\r",
      "\r\n",
      ">Caligus_H_trimmed_(paired)_contig_1316_consensus juvenil hormone\r",
      "\r\n",
      ">Caligus_H_trimmed_(paired)_contig_13183_consensus\r",
      "\r\n",
      ">Caligus_H_trimmed_(paired)_contig_1331 Average coverage: 420,68\r",
      "\r\n",
      ">Caligus_H_trimmed_(paired)_contig_1332 Average coverage: 5.050,85\r",
      "\r\n",
      ">Caligus_H_trimmed_(paired)_contig_13645_consensus Caligus_H_trimmed_(paired)_contig_13645_consensus\r",
      "\r\n",
      ">Caligus_H_trimmed_(paired)_contig_13771_consensus Caligus_H_trimmed_(paired)_contig_13771_consensus\r",
      "\r\n",
      ">Caligus_H_trimmed_(paired)_contig_13771_consensus Caligus_H_trimmed_(paired)_contig_13771_consensus\r",
      "\r\n",
      ">Caligus_H_trimmed_(paired)_contig_1380 Average coverage: 163,69\r",
      "\r\n",
      ">Caligus_H_trimmed_(paired)_contig_1390_consensus Caligus_H_trimmed_(paired)_contig_1390_consensus\r",
      "\r\n",
      ">Caligus_H_trimmed_(paired)_contig_14033_consensus\r",
      "\r\n",
      ">Caligus_H_trimmed_(paired)_contig_1423_consensus Caligus_H_trimmed_(paired)_contig_1423_consensus\r",
      "\r\n",
      ">Caligus_H_trimmed_(paired)_contig_14587_consensus Caligus_H_trimmed_(paired)_contig_14587_consensus\r",
      "\r\n",
      ">Caligus_H_trimmed_(paired)_contig_14832_consensus Caligus_H_trimmed_(paired)_contig_14832_consensus\r",
      "\r\n",
      ">Caligus_H_trimmed_(paired)_contig_14915_consensus Caligus_H_trimmed_(paired)_contig_14915_consensus\r",
      "\r\n",
      ">Caligus_H_trimmed_(paired)_contig_14915_consensus Caligus_H_trimmed_(paired)_contig_14915_consensus\r",
      "\r\n",
      ">Caligus_H_trimmed_(paired)_contig_152_consensus Caligus_H_trimmed_(paired)_contig_152_consensus\r",
      "\r\n",
      ">Caligus_H_trimmed_(paired)_contig_1564_consensus Caligus_H_trimmed_(paired)_contig_1564_consensus\r",
      "\r\n",
      ">Caligus_H_trimmed_(paired)_contig_1674_consensus Caligus_H_trimmed_(paired)_contig_1674_consensus\r",
      "\r\n",
      ">Caligus_H_trimmed_(paired)_contig_16794 Average coverage: 113,56\r",
      "\r\n",
      ">Caligus_H_trimmed_(paired)_contig_16795 Average coverage: 110,66\r",
      "\r\n",
      ">Caligus_H_trimmed_(paired)_contig_16796 Average coverage: 95,45\r",
      "\r\n",
      ">Caligus_H_trimmed_(paired)_contig_17081_consensus Caligus_H_trimmed_(paired)_contig_17081_consensus\r",
      "\r\n",
      ">Caligus_H_trimmed_(paired)_contig_17456_consensus Caligus_H_trimmed_(paired)_contig_17456_consensus\r",
      "\r\n",
      ">Caligus_H_trimmed_(paired)_contig_1784_consensus Caligus_H_trimmed_(paired)_contig_1784_consensus\r",
      "\r\n"
     ]
    }
   ],
   "source": [
    "!fgrep \">\" /Users/sr320/git-repos/nb-2015/util/tmp/tbl2asn/Contigs_Caligus.fsa \\\n",
    "| sort | head -50"
   ]
  },
  {
   "cell_type": "code",
   "execution_count": 18,
   "metadata": {
    "collapsed": false,
    "run_control": {}
   },
   "outputs": [
    {
     "name": "stdout",
     "output_type": "stream",
     "text": [
      "ACACGACGCTCTTCCGATCTGCGAAGTTGTTGGTGTGATGTTGTTTGGTAGGGGTGGGTG\r",
      "\r\n",
      "GGAGGTTGGGAGGTTAAAGACATGTGGAGTCTCTCTTTATTCCTCTTCTCCCTCCTTTTT\r",
      "\r\n",
      "GGCGACCATGAGTCCTTTCAAGTGAGTACCGTCAATTTGGCCACCCTCGATCTGGAATTC\r",
      "\r\n",
      "GCCAAAGGCATCGTTGATCTCAGTTTCCGTGAACTTGTCACCCCAGGTCATAAGGGAATG\r",
      "\r\n",
      "TTTGAACATCTCTGCGTCGATCTTGCCGTTGATCTCAAAGGCGTCGAAGGATTTCAGAAT\r",
      "\r\n",
      "GACGTCATCTTCGTCAGTGCCGCCGGCCATTTTCTCTGGGAAAAGGGTGACCATCTGTGT\r",
      "\r\n",
      "GAAGTTGATGGGTCCAGGGGCTTCGGAGAGCATGTCTGAGACTTCGCCGTCGGACACGGA\r",
      "\r\n",
      "CTTTCCGACAGAGGAAAAGACAGCCTTCAAGTCTCCGGCTGAGACGATGCCGTCCTTGTC\r",
      "\r\n",
      "GGTATCCATGATGCCGAAAGCCTCTTTGAACTCTTGGATCTGCTTTTGAGAGATCGGAAG\r",
      "\r\n",
      "AGCGTCGTGTAGGGAAAGAGTG\r",
      "\r\n",
      ">Caligus_H_trimmed_(paired)_contig_1784_consensus Caligus_H_trimmed_(paired)_contig_1784_consensus\r",
      "\r\n",
      "AGTTGTGTGTGTGTCTTGATAGAAGGGTGAGATTTTTCGGAACTTGGGGGAACTGAGAGA\r",
      "\r\n",
      "TCGAATCCGTGTCATTGCTTTCAAAGAGAGAGAGAGACTCCGAGATATTCAAGTTTGTTT\r",
      "\r\n",
      "TTTCACTCTTCGTTTGCTATTTGGATATTGTTGTTTTCCTGTCCTGTCCTGTGGTCTGTC\r",
      "\r\n",
      "TGTCTGTCTGTCTCAAGGATGTCTTCTTCCTCGTCGTCTTCTTCGTCTTGTTCCGTGATC\r",
      "\r\n",
      "TCTCACTACAAGCGTAAGATGGAGCGTCATCCCAGCGATTCCTCTGTGCTTCTTCACTGT\r",
      "\r\n",
      "CTGTCCAAGCTGGACCGCGTGGAGGTCAACATTGCTCTTCTCCAAGAGACCGGCATTGGG\r",
      "\r\n",
      "CGGATCGTCAACTCGCTCAAAAAGTCCGAGCAGGAAGAAGTCGCGGAGAAGGCGAGACTC\r",
      "\r\n",
      "CTTGTATCCAAGTGGAAAGACGTCGTGGCCAAGGAAGACGATGGAGAAGAAACCCCTGGC\r",
      "\r\n",
      "GCTACAGGGAATCCAAGCAACACTTCAGACCAGGAAGAAGCCAACGCAAGAACAGACGAC\r",
      "\r\n",
      "AGTCCCAACCAGATTCAGGGAGACTCTCCGGAAGACGAAGACAACCAGGGAAGCGACTCC\r",
      "\r\n"
     ]
    }
   ],
   "source": [
    "!fgrep -A 10 -B 10 \"Caligus_H_trimmed_(paired)_contig_1784_consensus\"  /Users/sr320/git-repos/nb-2015/util/tmp/tbl2asn/Contigs_Caligus.fsa \\\n"
   ]
  },
  {
   "cell_type": "code",
   "execution_count": null,
   "metadata": {
    "collapsed": true,
    "run_control": {}
   },
   "outputs": [],
   "source": []
  }
 ],
 "metadata": {
  "kernelspec": {
   "display_name": "Python 3",
   "language": "python",
   "name": "python3"
  },
  "language_info": {
   "codemirror_mode": {
    "name": "ipython",
    "version": 3
   },
   "file_extension": ".py",
   "mimetype": "text/x-python",
   "name": "python",
   "nbconvert_exporter": "python",
   "pygments_lexer": "ipython3",
   "version": "3.5.0"
  }
 },
 "nbformat": 4,
 "nbformat_minor": 0
}
