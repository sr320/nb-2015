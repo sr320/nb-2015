{
 "metadata": {
  "name": "",
  "signature": "sha256:20c1385b1d64ce20a45478781d381a1a11b635aba30a816015a6cf74b44b10c3"
 },
 "nbformat": 3,
 "nbformat_minor": 0,
 "worksheets": [
  {
   "cells": [
    {
     "cell_type": "code",
     "collapsed": false,
     "input": [
      "!tail -40 /Volumes/Bay3/Software/RepeatMasker/out/oyster.v9_pls.fa.out"
     ],
     "language": "python",
     "metadata": {},
     "outputs": [
      {
       "output_type": "stream",
       "stream": "stdout",
       "text": [
        "  576    0.0  0.0  0.0  scaffold999      99507   99570   (68340) + (GA)n           Simple_repeat          1     64    (0) 243928  \r\n",
        "   22    5.6  0.0  0.0  scaffold999     100617  100652   (67258) + AT_rich         Low_complexity         1     36    (0) 243929  \r\n",
        "   23   23.3  0.0  0.0  scaffold999     100804  100833   (67077) + AT_rich         Low_complexity         1     30    (0) 243930  \r\n",
        "  252    8.6  0.0  0.0  scaffold999     101831  101865   (66045) + (T)n            Simple_repeat          1     35    (0) 243931  \r\n",
        "   21    0.0  0.0  0.0  scaffold999     102044  102064   (65846) + AT_rich         Low_complexity         1     21    (0) 243932  \r\n",
        "  240   19.6  0.0  0.0  scaffold999     105058  105108   (62802) + CT-rich         Low_complexity        65    115    (0) 243933  \r\n",
        "  231   19.2  0.0  0.0  scaffold999     105436  105508   (62402) + CT-rich         Low_complexity        58    130    (0) 243934  \r\n",
        "   29    3.5  0.0  0.0  scaffold999     105542  105570   (62340) + AT_rich         Low_complexity         1     29    (0) 243935  \r\n",
        "  246    6.2  0.0  0.0  scaffold999     105593  105624   (62286) + (TC)n           Simple_repeat          1     32    (0) 243936  \r\n",
        "  183    4.2  0.0  0.0  scaffold999     106967  106990   (60920) + (C)n            Simple_repeat          1     24    (0) 243937  \r\n",
        "   21    5.7  0.0  0.0  scaffold999     110252  110286   (57624) + AT_rich         Low_complexity         1     35    (0) 243938  \r\n",
        "   31    4.4  0.0  0.0  scaffold999     112127  112171   (55739) + AT_rich         Low_complexity         1     45    (0) 243939  \r\n",
        "   26    0.0  0.0  0.0  scaffold999     112336  112361   (55549) + AT_rich         Low_complexity         1     26    (0) 243940  \r\n",
        "  468    0.0  0.0  0.0  scaffold999     112611  112662   (55248) + (TC)n           Simple_repeat          1     52    (0) 243941  \r\n",
        "   21    5.7  0.0  0.0  scaffold999     114218  114252   (53658) + AT_rich         Low_complexity         1     35    (0) 243942  \r\n",
        "   40   23.4  0.0  0.0  scaffold999     116526  116572   (51338) + AT_rich         Low_complexity         1     47    (0) 243943  \r\n",
        "  189    0.0  0.0  0.0  scaffold999     117934  117954   (49956) + (G)n            Simple_repeat          1     21    (0) 243944  \r\n",
        "   24    3.2  0.0  0.0  scaffold999     121402  121432   (46478) + AT_rich         Low_complexity         1     31    (0) 243945  \r\n",
        "   41    4.8  0.0  0.0  scaffold999     123154  123215   (44695) + AT_rich         Low_complexity         1     62    (0) 243946  \r\n",
        "   24   28.9  0.0  0.0  scaffold999     128410  128447   (39463) + AT_rich         Low_complexity         1     38    (0) 243947  \r\n",
        "  225    0.0  0.0  0.0  scaffold999     130490  130514   (37396) + (C)n            Simple_repeat          1     25    (0) 243948  \r\n",
        "   21    0.0  0.0  0.0  scaffold999     137262  137282   (30628) + AT_rich         Low_complexity         1     21    (0) 243949  \r\n",
        "  180   14.3  0.0  0.0  scaffold999     137473  137514   (30396) + (TTTTG)n        Simple_repeat          2     43    (0) 243950  \r\n",
        "  205    8.8  0.0  2.9  scaffold999     140286  140320   (27590) + (TAAAAA)n       Simple_repeat          3     36    (0) 243951  \r\n",
        "  228    6.7  0.0  0.0  scaffold999     142082  142111   (25799) + (CGGA)n         Simple_repeat          3     32    (0) 243952  \r\n",
        "  192   17.6  0.0  0.0  scaffold999     143448  143481   (24429) + (TTA)n          Simple_repeat          2     35    (0) 243953  \r\n",
        "   25   28.2  0.0  0.0  scaffold999     145233  145271   (22639) + AT_rich         Low_complexity         1     39    (0) 243954  \r\n",
        "  324    4.8  0.0  0.0  scaffold999     145756  145797   (22113) + (GA)n           Simple_repeat          2     43    (0) 243955  \r\n",
        "  459    0.0  0.0  0.0  scaffold999     146541  146591   (21319) + (TC)n           Simple_repeat          1     51    (0) 243956  \r\n",
        "   22    7.0  0.0  0.0  scaffold999     147370  147412   (20498) + AT_rich         Low_complexity         1     43    (0) 243957  \r\n",
        "  289   17.7  0.0  3.8  scaffold999     148718  148799   (19111) + (CTATG)n        Simple_repeat          1     79    (0) 243958  \r\n",
        "  288    7.0  0.0  0.0  scaffold999     148823  148865   (19045) + (CTATG)n        Simple_repeat          1     43    (0) 243958  \r\n",
        "  395   19.4  0.0  3.9  scaffold999     149013  149146   (18764) + (CTATG)n        Simple_repeat          1    129    (0) 243959  \r\n",
        "   21    5.7  0.0  0.0  scaffold999     153751  153785   (14125) + AT_rich         Low_complexity         1     35    (0) 243960  \r\n",
        "   22    3.5  0.0  0.0  scaffold999     155983  156011   (11899) + AT_rich         Low_complexity         1     29    (0) 243961  \r\n",
        "   21    0.0  0.0  0.0  scaffold999     157962  157982    (9928) + AT_rich         Low_complexity         1     21    (0) 243962  \r\n",
        "   25   28.0  0.0  0.0  scaffold999     158614  158638    (9272) + AT_rich         Low_complexity         1     25    (0) 243963  \r\n",
        "   24    5.3  0.0  0.0  scaffold999     160600  160637    (7273) + AT_rich         Low_complexity         1     38    (0) 243964  \r\n",
        "   21    5.7  0.0  0.0  scaffold999     162318  162352    (5558) + AT_rich         Low_complexity         1     35    (0) 243965  \r\n",
        "  330    2.6  0.0  0.0  scaffold999     166754  166792    (1118) + (GA)n           Simple_repeat          2     40    (0) 243966  \r\n"
       ]
      }
     ],
     "prompt_number": 2
    },
    {
     "cell_type": "code",
     "collapsed": false,
     "input": [
      "cd /Volumes/Bay3/Software"
     ],
     "language": "python",
     "metadata": {},
     "outputs": [
      {
       "output_type": "stream",
       "stream": "stdout",
       "text": [
        "/Volumes/Bay3/Software\n"
       ]
      }
     ],
     "prompt_number": 3
    },
    {
     "cell_type": "code",
     "collapsed": false,
     "input": [
      "!tar xfvz stacks-1.22.tar.gz"
     ],
     "language": "python",
     "metadata": {},
     "outputs": [
      {
       "output_type": "stream",
       "stream": "stdout",
       "text": [
        "x stacks-1.22/\r\n",
        "x stacks-1.22/config/\r\n",
        "x stacks-1.22/config/depcomp\r\n",
        "x stacks-1.22/config/test-driver\r\n",
        "x stacks-1.22/config/compile\r\n",
        "x stacks-1.22/config/install-sh\r\n",
        "x stacks-1.22/config/missing\r\n",
        "x stacks-1.22/php/\r\n",
        "x stacks-1.22/php/images/\r\n",
        "x stacks-1.22/php/images/caret-d.png\r\n",
        "x stacks-1.22/php/images/caret-u.png\r\n",
        "x stacks-1.22/php/images/excel_icon.png\r\n",
        "x stacks-1.22/php/images/l-arrow-disabled.png\r\n",
        "x stacks-1.22/php/images/l-arrow.png\r\n",
        "x stacks-1.22/php/images/r-arrow-disabled.png\r\n",
        "x stacks-1.22/php/images/r-arrow.png\r\n",
        "x stacks-1.22/php/images/stacks_bg.png\r\n",
        "x stacks-1.22/php/images/stacks_logo_rev_small.png\r\n",
        "x stacks-1.22/php/CatalogClass.php\r\n",
        "x stacks-1.22/php/annotate_marker.php\r\n",
        "x stacks-1.22/php/constants.php.dist\r\n",
        "x stacks-1.22/php/index.php\r\n",
        "x stacks-1.22/php/tags.php\r\n",
        "x stacks-1.22/php/Locus.php\r\n",
        "x stacks-1.22/php/catalog.php\r\n",
        "x stacks-1.22/php/correct_genotypes.php\r\n",
        "x stacks-1.22/php/correct_genotype.php\r\n",
        "x stacks-1.22/php/export_batch.php\r\n",
        "x stacks-1.22/php/last_modified.php\r\n",
        "x stacks-1.22/php/version.php\r\n",
        "x stacks-1.22/php/catalog_genotypes.php\r\n",
        "x stacks-1.22/php/db_functions.php\r\n",
        "x stacks-1.22/php/header.php\r\n",
        "x stacks-1.22/php/samples.php\r\n",
        "x stacks-1.22/php/stacks_functions.php\r\n",
        "x stacks-1.22/php/view_sequence.php\r\n",
        "x stacks-1.22/php/catalog_tag.php\r\n",
        "x stacks-1.22/php/sequence_blast.php\r\n",
        "x stacks-1.22/php/tag.php\r\n",
        "x stacks-1.22/php/ajax.js\r\n",
        "x stacks-1.22/php/annotate.js\r\n",
        "x stacks-1.22/php/stacks.js\r\n",
        "x stacks-1.22/php/export.js\r\n",
        "x stacks-1.22/php/stacks.css\r\n",
        "x stacks-1.22/scripts/\r\n",
        "x stacks-1.22/scripts/denovo_map.pl\r\n",
        "x stacks-1.22/scripts/ref_map.pl\r\n",
        "x stacks-1.22/scripts/export_sql.pl\r\n",
        "x stacks-1.22/scripts/sort_read_pairs.pl\r\n",
        "x stacks-1.22/scripts/exec_velvet.pl\r\n",
        "x stacks-1.22/scripts/load_sequences.pl\r\n",
        "x stacks-1.22/scripts/index_radtags.pl\r\n",
        "x stacks-1.22/scripts/load_radtags.pl\r\n",
        "x stacks-1.22/scripts/stacks_export_notify.pl\r\n",
        "x stacks-1.22/scripts/extract_interpop_chars.pl\r\n",
        "x stacks-1.22/scripts/convert_stacks.pl\r\n",
        "x stacks-1.22/sql/\r\n",
        "x stacks-1.22/sql/mysql.cnf.dist\r\n",
        "x stacks-1.22/sql/catalog_index.sql\r\n",
        "x stacks-1.22/sql/stacks.sql\r\n",
        "x stacks-1.22/sql/tag_index.sql\r\n",
        "x stacks-1.22/sql/chr_index.sql\r\n",
        "x stacks-1.22/src/\r\n",
        "x stacks-1.22/src/clone_filter.h\r\n",
        "x stacks-1.22/src/clone_filter.cc\r\n",
        "x stacks-1.22/src/constants.h\r\n",
        "x stacks-1.22/src/kmers.h\r\n",
        "x stacks-1.22/src/kmers.cc\r\n",
        "x stacks-1.22/src/input.h\r\n",
        "x stacks-1.22/src/input.cc\r\n",
        "x stacks-1.22/src/BustardI.h\r\n",
        "x stacks-1.22/src/FastqI.h\r\n",
        "x stacks-1.22/src/FastaI.h\r\n",
        "x stacks-1.22/src/gzFastq.h\r\n",
        "x stacks-1.22/src/gzFasta.h\r\n",
        "x stacks-1.22/src/cstacks.h\r\n",
        "x stacks-1.22/src/cstacks.cc\r\n",
        "x stacks-1.22/src/stacks.h\r\n",
        "x stacks-1.22/src/stacks.cc\r\n",
        "x stacks-1.22/src/locus.h\r\n",
        "x stacks-1.22/src/locus.cc\r\n",
        "x stacks-1.22/src/utils.h\r\n",
        "x stacks-1.22/src/utils.cc\r\n",
        "x stacks-1.22/src/DNASeq.h\r\n",
        "x stacks-1.22/src/DNASeq.cc\r\n",
        "x stacks-1.22/src/DNANSeq.h\r\n",
        "x stacks-1.22/src/DNANSeq.cc\r\n",
        "x stacks-1.22/src/sql_utilities.h\r\n",
        "x stacks-1.22/src/estacks.h"
       ]
      },
      {
       "output_type": "stream",
       "stream": "stdout",
       "text": [
        "\r\n",
        "x stacks-1.22/src/estacks.cc\r\n",
        "x stacks-1.22/src/mstack.h\r\n",
        "x stacks-1.22/src/mstack.cc\r\n",
        "x stacks-1.22/src/models.h\r\n",
        "x stacks-1.22/src/models.cc\r\n",
        "x stacks-1.22/src/Tsv.h\r\n",
        "x stacks-1.22/src/BowtieI.h\r\n",
        "x stacks-1.22/src/SamI.h\r\n",
        "x stacks-1.22/src/genotypes.h\r\n",
        "x stacks-1.22/src/genotypes.cc\r\n",
        "x stacks-1.22/src/catalog_utils.h\r\n",
        "x stacks-1.22/src/catalog_utils.cc\r\n",
        "x stacks-1.22/src/log_utils.h\r\n",
        "x stacks-1.22/src/log_utils.cc\r\n",
        "x stacks-1.22/src/PopMap.h\r\n",
        "x stacks-1.22/src/genotype_dictionaries.h\r\n",
        "x stacks-1.22/src/renz.h\r\n",
        "x stacks-1.22/src/hstacks.h\r\n",
        "x stacks-1.22/src/hstacks.cc\r\n",
        "x stacks-1.22/src/kmer_filter.h\r\n",
        "x stacks-1.22/src/kmer_filter.cc\r\n",
        "x stacks-1.22/src/write.h\r\n",
        "x stacks-1.22/src/write.cc\r\n",
        "x stacks-1.22/src/phasedstacks.h\r\n",
        "x stacks-1.22/src/phasedstacks.cc\r\n",
        "x stacks-1.22/src/populations.h\r\n",
        "x stacks-1.22/src/populations.cc\r\n",
        "x stacks-1.22/src/PopSum.h\r\n",
        "x stacks-1.22/src/bootstrap.h\r\n",
        "x stacks-1.22/src/ordered.h\r\n",
        "x stacks-1.22/src/smoothing.h\r\n",
        "x stacks-1.22/src/smoothing_utils.h\r\n",
        "x stacks-1.22/src/process_radtags.h\r\n",
        "x stacks-1.22/src/process_radtags.cc\r\n",
        "x stacks-1.22/src/clean.h\r\n",
        "x stacks-1.22/src/clean.cc\r\n",
        "x stacks-1.22/src/file_io.h\r\n",
        "x stacks-1.22/src/file_io.cc\r\n",
        "x stacks-1.22/src/process_shortreads.h\r\n",
        "x stacks-1.22/src/process_shortreads.cc\r\n",
        "x stacks-1.22/src/pstacks.h\r\n",
        "x stacks-1.22/src/pstacks.cc\r\n",
        "x stacks-1.22/src/BamI.h\r\n",
        "x stacks-1.22/src/rxstacks.h\r\n",
        "x stacks-1.22/src/rxstacks.cc\r\n",
        "x stacks-1.22/src/mst.h\r\n",
        "x stacks-1.22/src/mst.cc\r\n",
        "x stacks-1.22/src/sstacks.h\r\n",
        "x stacks-1.22/src/sstacks.cc\r\n",
        "x stacks-1.22/src/ustacks.h\r\n",
        "x stacks-1.22/src/ustacks.cc\r\n",
        "x stacks-1.22/src/cmb.h\r\n",
        "x stacks-1.22/src/cmb.cc\r\n",
        "x stacks-1.22/tests/\r\n",
        "x stacks-1.22/tests/process_radtags.t\r\n",
        "x stacks-1.22/tests/kmer_filter.t\r\n",
        "x stacks-1.22/tests/ustacks.t\r\n",
        "x stacks-1.22/tests/pstacks.t\r\n",
        "x stacks-1.22/Makefile.in\r\n",
        "x stacks-1.22/Makefile.am\r\n",
        "x stacks-1.22/configure\r\n",
        "x stacks-1.22/acinclude.m4"
       ]
      },
      {
       "output_type": "stream",
       "stream": "stdout",
       "text": [
        "\r\n",
        "x stacks-1.22/configure.ac\r\n",
        "x stacks-1.22/aclocal.m4\r\n",
        "x stacks-1.22/config.h.in\r\n",
        "x stacks-1.22/autogen.sh\r\n",
        "x stacks-1.22/ChangeLog\r\n",
        "x stacks-1.22/INSTALL\r\n",
        "x stacks-1.22/README\r\n",
        "x stacks-1.22/LICENSE"
       ]
      },
      {
       "output_type": "stream",
       "stream": "stdout",
       "text": [
        "\r\n"
       ]
      }
     ],
     "prompt_number": 5
    },
    {
     "cell_type": "code",
     "collapsed": false,
     "input": [
      "cd stacks-1.22/"
     ],
     "language": "python",
     "metadata": {},
     "outputs": [
      {
       "output_type": "stream",
       "stream": "stdout",
       "text": [
        "/Volumes/Bay3/Software/stacks-1.22\n"
       ]
      }
     ],
     "prompt_number": 6
    },
    {
     "cell_type": "code",
     "collapsed": false,
     "input": [
      "!./configure\n"
     ],
     "language": "python",
     "metadata": {},
     "outputs": [
      {
       "output_type": "stream",
       "stream": "stdout",
       "text": [
        "checking for a BSD-compatible install... "
       ]
      },
      {
       "output_type": "stream",
       "stream": "stdout",
       "text": [
        "/usr/bin/install -c\r\n",
        "checking whether build environment is sane... "
       ]
      },
      {
       "output_type": "stream",
       "stream": "stdout",
       "text": [
        "yes\r\n"
       ]
      },
      {
       "output_type": "stream",
       "stream": "stdout",
       "text": [
        "checking for a thread-safe mkdir -p... config/install-sh -c -d\r\n",
        "checking for gawk... no\r\n",
        "checking for mawk... no\r\n",
        "checking for nawk... no\r\n",
        "checking for awk... awk\r\n",
        "checking whether make sets $(MAKE)... "
       ]
      },
      {
       "output_type": "stream",
       "stream": "stdout",
       "text": [
        "yes\r\n"
       ]
      },
      {
       "output_type": "stream",
       "stream": "stdout",
       "text": [
        "checking whether make supports nested variables... "
       ]
      },
      {
       "output_type": "stream",
       "stream": "stdout",
       "text": [
        "yes\r\n"
       ]
      },
      {
       "output_type": "stream",
       "stream": "stdout",
       "text": [
        "checking for g++... g++\r\n"
       ]
      },
      {
       "output_type": "stream",
       "stream": "stdout",
       "text": [
        "checking whether the C++ compiler works... "
       ]
      },
      {
       "output_type": "stream",
       "stream": "stdout",
       "text": [
        "yes\r\n",
        "checking for C++ compiler default output file name... a.out\r\n",
        "checking for suffix of executables... "
       ]
      },
      {
       "output_type": "stream",
       "stream": "stdout",
       "text": [
        "\r\n",
        "checking whether we are cross compiling... "
       ]
      },
      {
       "output_type": "stream",
       "stream": "stdout",
       "text": [
        "no\r\n",
        "checking for suffix of object files... "
       ]
      },
      {
       "output_type": "stream",
       "stream": "stdout",
       "text": [
        "o\r\n",
        "checking whether we are using the GNU C++ compiler... "
       ]
      },
      {
       "output_type": "stream",
       "stream": "stdout",
       "text": [
        "yes\r\n",
        "checking whether g++ accepts -g... "
       ]
      },
      {
       "output_type": "stream",
       "stream": "stdout",
       "text": [
        "yes\r\n",
        "checking for style of include used by make... GNU\r\n",
        "checking dependency style of g++... "
       ]
      },
      {
       "output_type": "stream",
       "stream": "stdout",
       "text": [
        "gcc3\r\n"
       ]
      },
      {
       "output_type": "stream",
       "stream": "stdout",
       "text": [
        "checking for gcc... gcc\r\n"
       ]
      },
      {
       "output_type": "stream",
       "stream": "stdout",
       "text": [
        "checking whether we are using the GNU C compiler... "
       ]
      },
      {
       "output_type": "stream",
       "stream": "stdout",
       "text": [
        "yes\r\n",
        "checking whether gcc accepts -g... "
       ]
      },
      {
       "output_type": "stream",
       "stream": "stdout",
       "text": [
        "yes\r\n",
        "checking for gcc option to accept ISO C89... "
       ]
      },
      {
       "output_type": "stream",
       "stream": "stdout",
       "text": [
        "none needed\r\n",
        "checking whether gcc understands -c and -o together... "
       ]
      },
      {
       "output_type": "stream",
       "stream": "stdout",
       "text": [
        "yes\r\n",
        "checking dependency style of gcc... "
       ]
      },
      {
       "output_type": "stream",
       "stream": "stdout",
       "text": [
        "gcc3\r\n",
        "checking whether g++ supports C++11 features by default... "
       ]
      },
      {
       "output_type": "stream",
       "stream": "stdout",
       "text": [
        "no\r\n",
        "checking whether g++ supports C++11 features with -std=gnu++11... "
       ]
      },
      {
       "output_type": "stream",
       "stream": "stdout",
       "text": [
        "no\r\n",
        "checking whether g++ supports C++11 features with -std=gnu++0x... "
       ]
      },
      {
       "output_type": "stream",
       "stream": "stdout",
       "text": [
        "no\r\n",
        "checking whether g++ supports C++11 features with -std=c++11... "
       ]
      },
      {
       "output_type": "stream",
       "stream": "stdout",
       "text": [
        "no\r\n",
        "checking whether g++ supports C++11 features with -std=c++0x... "
       ]
      },
      {
       "output_type": "stream",
       "stream": "stdout",
       "text": [
        "no\r\n",
        "configure: No compiler with C++11 support was found\r\n",
        "checking for omp_set_num_threads in -lgomp... "
       ]
      },
      {
       "output_type": "stream",
       "stream": "stdout",
       "text": [
        "no\r\n",
        "configure: WARNING: Unable to locate OpenMP library, you should probably specify '--disable-openmp'.\r\n",
        "checking for gzread in -lz... "
       ]
      },
      {
       "output_type": "stream",
       "stream": "stdout",
       "text": [
        "yes\r\n"
       ]
      },
      {
       "output_type": "stream",
       "stream": "stdout",
       "text": [
        "checking for dirent.h that defines DIR... "
       ]
      },
      {
       "output_type": "stream",
       "stream": "stdout",
       "text": [
        "yes\r\n"
       ]
      },
      {
       "output_type": "stream",
       "stream": "stdout",
       "text": [
        "checking for library containing opendir... "
       ]
      },
      {
       "output_type": "stream",
       "stream": "stdout",
       "text": [
        "none required\r\n",
        "checking how to run the C preprocessor... "
       ]
      },
      {
       "output_type": "stream",
       "stream": "stdout",
       "text": [
        "gcc -E\r\n"
       ]
      },
      {
       "output_type": "stream",
       "stream": "stdout",
       "text": [
        "checking for grep that handles long lines and -e... /usr/bin/grep\r\n",
        "checking for egrep... "
       ]
      },
      {
       "output_type": "stream",
       "stream": "stdout",
       "text": [
        "/usr/bin/grep -E\r\n",
        "checking for ANSI C header files... "
       ]
      },
      {
       "output_type": "stream",
       "stream": "stdout",
       "text": [
        "yes\r\n",
        "checking for sys/types.h... "
       ]
      },
      {
       "output_type": "stream",
       "stream": "stdout",
       "text": [
        "yes\r\n"
       ]
      },
      {
       "output_type": "stream",
       "stream": "stdout",
       "text": [
        "checking for sys/stat.h... "
       ]
      },
      {
       "output_type": "stream",
       "stream": "stdout",
       "text": [
        "yes\r\n"
       ]
      },
      {
       "output_type": "stream",
       "stream": "stdout",
       "text": [
        "checking for stdlib.h... "
       ]
      },
      {
       "output_type": "stream",
       "stream": "stdout",
       "text": [
        "yes\r\n"
       ]
      },
      {
       "output_type": "stream",
       "stream": "stdout",
       "text": [
        "checking for string.h... "
       ]
      },
      {
       "output_type": "stream",
       "stream": "stdout",
       "text": [
        "yes\r\n"
       ]
      },
      {
       "output_type": "stream",
       "stream": "stdout",
       "text": [
        "checking for memory.h... "
       ]
      },
      {
       "output_type": "stream",
       "stream": "stdout",
       "text": [
        "yes\r\n"
       ]
      },
      {
       "output_type": "stream",
       "stream": "stdout",
       "text": [
        "checking for strings.h... "
       ]
      },
      {
       "output_type": "stream",
       "stream": "stdout",
       "text": [
        "yes\r\n"
       ]
      },
      {
       "output_type": "stream",
       "stream": "stdout",
       "text": [
        "checking for inttypes.h... "
       ]
      },
      {
       "output_type": "stream",
       "stream": "stdout",
       "text": [
        "yes\r\n",
        "checking for stdint.h... "
       ]
      },
      {
       "output_type": "stream",
       "stream": "stdout",
       "text": [
        "yes\r\n"
       ]
      },
      {
       "output_type": "stream",
       "stream": "stdout",
       "text": [
        "checking for unistd.h... "
       ]
      },
      {
       "output_type": "stream",
       "stream": "stdout",
       "text": [
        "yes\r\n",
        "checking float.h usability... "
       ]
      },
      {
       "output_type": "stream",
       "stream": "stdout",
       "text": [
        "yes\r\n",
        "checking float.h presence... "
       ]
      },
      {
       "output_type": "stream",
       "stream": "stdout",
       "text": [
        "yes\r\n",
        "checking for float.h... yes\r\n"
       ]
      },
      {
       "output_type": "stream",
       "stream": "stdout",
       "text": [
        "checking limits.h usability... "
       ]
      },
      {
       "output_type": "stream",
       "stream": "stdout",
       "text": [
        "yes\r\n",
        "checking limits.h presence... "
       ]
      },
      {
       "output_type": "stream",
       "stream": "stdout",
       "text": [
        "yes\r\n",
        "checking for limits.h... yes\r\n",
        "checking for stdlib.h... (cached) yes\r\n"
       ]
      },
      {
       "output_type": "stream",
       "stream": "stdout",
       "text": [
        "checking for string.h... (cached) yes\r\n",
        "checking for gcc option to support OpenMP... "
       ]
      },
      {
       "output_type": "stream",
       "stream": "stdout",
       "text": [
        "-fopenmp\r\n",
        "checking for stdbool.h that conforms to C99... "
       ]
      },
      {
       "output_type": "stream",
       "stream": "stdout",
       "text": [
        "yes\r\n",
        "checking for _Bool... "
       ]
      },
      {
       "output_type": "stream",
       "stream": "stdout",
       "text": [
        "yes\r\n"
       ]
      },
      {
       "output_type": "stream",
       "stream": "stdout",
       "text": [
        "checking for an ANSI C-conforming const... "
       ]
      },
      {
       "output_type": "stream",
       "stream": "stdout",
       "text": [
        "yes\r\n",
        "checking for size_t... "
       ]
      },
      {
       "output_type": "stream",
       "stream": "stdout",
       "text": [
        "yes\r\n",
        "checking whether closedir returns void... "
       ]
      },
      {
       "output_type": "stream",
       "stream": "stdout",
       "text": [
        "no\r\n",
        "checking for stdlib.h... (cached) yes\r\n"
       ]
      },
      {
       "output_type": "stream",
       "stream": "stdout",
       "text": [
        "checking for GNU libc compatible malloc... "
       ]
      },
      {
       "output_type": "stream",
       "stream": "stdout",
       "text": [
        "yes\r\n",
        "checking for stdlib.h... (cached) yes\r\n"
       ]
      },
      {
       "output_type": "stream",
       "stream": "stdout",
       "text": [
        "checking for GNU libc compatible realloc... "
       ]
      },
      {
       "output_type": "stream",
       "stream": "stdout",
       "text": [
        "yes\r\n",
        "checking for floor... "
       ]
      },
      {
       "output_type": "stream",
       "stream": "stdout",
       "text": [
        "yes\r\n"
       ]
      },
      {
       "output_type": "stream",
       "stream": "stdout",
       "text": [
        "checking for memset... "
       ]
      },
      {
       "output_type": "stream",
       "stream": "stdout",
       "text": [
        "yes\r\n"
       ]
      },
      {
       "output_type": "stream",
       "stream": "stdout",
       "text": [
        "checking for pow... "
       ]
      },
      {
       "output_type": "stream",
       "stream": "stdout",
       "text": [
        "yes\r\n",
        "checking for sqrt... "
       ]
      },
      {
       "output_type": "stream",
       "stream": "stdout",
       "text": [
        "yes\r\n",
        "checking for gawk... (cached) awk\r\n"
       ]
      },
      {
       "output_type": "stream",
       "stream": "stdout",
       "text": [
        "checking that generated files are newer than configure... done\r\n",
        "configure: creating ./config.status\r\n"
       ]
      },
      {
       "output_type": "stream",
       "stream": "stdout",
       "text": [
        "config.status: creating Makefile\r\n"
       ]
      },
      {
       "output_type": "stream",
       "stream": "stdout",
       "text": [
        "config.status: creating config.h\r\n"
       ]
      },
      {
       "output_type": "stream",
       "stream": "stdout",
       "text": [
        "config.status: executing depfiles commands\r\n"
       ]
      }
     ],
     "prompt_number": 7
    },
    {
     "cell_type": "code",
     "collapsed": false,
     "input": [
      "!make"
     ],
     "language": "python",
     "metadata": {},
     "outputs": [
      {
       "output_type": "stream",
       "stream": "stdout",
       "text": [
        "make  all-am\r\n"
       ]
      },
      {
       "output_type": "stream",
       "stream": "stdout",
       "text": [
        "g++ -DHAVE_CONFIG_H -I.    -fopenmp  -g -O2 -MT src/ustacks-ustacks.o -MD -MP -MF src/.deps/ustacks-ustacks.Tpo -c -o src/ustacks-ustacks.o `test -f 'src/ustacks.cc' || echo './'`src/ustacks.cc\r\n"
       ]
      },
      {
       "output_type": "stream",
       "stream": "stdout",
       "text": [
        "In file included from src/ustacks.cc:29:\r\n",
        "src/ustacks.h:57:25: error: unordered_map: No such file or directory\r\n"
       ]
      },
      {
       "output_type": "stream",
       "stream": "stdout",
       "text": [
        "In file included from src/ustacks.cc:29:\r\n",
        "src/ustacks.h:58: error: \u2018std::unordered_map\u2019 has not been declared\r\n"
       ]
      },
      {
       "output_type": "stream",
       "stream": "stdout",
       "text": [
        "In file included from src/ustacks.h:70,\r\n",
        "                 from src/ustacks.cc:29:\r\n",
        "src/kmers.h:44: error: \u2018std::unordered_map\u2019 has not been declared\r\n"
       ]
      },
      {
       "output_type": "stream",
       "stream": "stdout",
       "text": [
        "In file included from src/ustacks.h:70,\r\n",
        "                 from src/ustacks.cc:29:\r\n",
        "src/kmers.h:79: error: expected initializer before \u2018<\u2019 token\r\n",
        "src/kmers.h:80: error: expected initializer before \u2018<\u2019 token\r\n",
        "src/kmers.h:86: error: \u2018KmerHashMap\u2019 has not been declared\r\n",
        "src/kmers.h:87: error: \u2018CatKmerHashMap\u2019 has not been declared\r\n",
        "src/kmers.h:88: error: \u2018KmerHashMap\u2019 was not declared in this scope\r\n",
        "src/kmers.h:88: error: expected primary-expression before \u2018,\u2019 token\r\n",
        "src/kmers.h:88: error: expected primary-expression before \u2018&\u2019 token\r\n",
        "src/kmers.h:88: error: expected primary-expression before \u2018)\u2019 token\r\n",
        "src/kmers.h:88: error: initializer expression list treated as compound expression\r\n",
        "src/kmers.h:89: error: redefinition of \u2018int free_kmer_hash\u2019\r\n",
        "src/kmers.h:88: error: \u2018int free_kmer_hash\u2019 previously defined here\r\n",
        "src/kmers.h:89: error: \u2018CatKmerHashMap\u2019 was not declared in this scope\r\n",
        "src/kmers.h:89: error: expected primary-expression before \u2018,\u2019 token\r\n",
        "src/kmers.h:89: error: expected primary-expression before \u2018&\u2019 token\r\n",
        "src/kmers.h:89: error: expected primary-expression before \u2018)\u2019 token\r\n",
        "src/kmers.h:109: error: \u2018KmerHashMap\u2019 was not declared in this scope\r\n",
        "src/kmers.h:109: error: expected primary-expression before \u2018)\u2019 token\r\n"
       ]
      },
      {
       "output_type": "stream",
       "stream": "stdout",
       "text": [
        "In file included from src/ustacks.cc:29:\r\n",
        "src/ustacks.h:102: error: expected initializer before \u2018<\u2019 token\r\n",
        "src/ustacks.h:108: error: \u2018DNASeqHashMap\u2019 has not been declared\r\n",
        "src/ustacks.h:110: error: \u2018DNASeqHashMap\u2019 was not declared in this scope\r\n",
        "src/ustacks.h:110: error: expected primary-expression before \u2018,\u2019 token\r\n",
        "src/ustacks.h:110: error: expected primary-expression before \u2018&\u2019 token\r\n",
        "src/ustacks.h:110: error: expected primary-expression before \u2018,\u2019 token\r\n",
        "src/ustacks.h:110: error: expected primary-expression before \u2018&\u2019 token\r\n",
        "src/ustacks.h:110: error: expected primary-expression before \u2018)\u2019 token\r\n",
        "src/ustacks.h:110: error: initializer expression list treated as compound expression\r\n",
        "src/ustacks.h:111: error: \u2018DNASeqHashMap\u2019 was not declared in this scope\r\n",
        "src/ustacks.h:111: error: expected primary-expression before \u2018,\u2019 token\r\n",
        "src/ustacks.h:111: error: expected primary-expression before \u2018&\u2019 token\r\n",
        "src/ustacks.h:111: error: expected primary-expression before \u2018)\u2019 token\r\n",
        "src/ustacks.h:111: error: initializer expression list treated as compound expression\r\n",
        "src/ustacks.cc: In function \u2018int main(int, char**)\u2019:\r\n",
        "src/ustacks.cc:124: error: \u2018DNASeqHashMap\u2019 was not declared in this scope\r\n",
        "src/ustacks.cc:124: error: expected `;' before \u2018radtags\u2019\r\n",
        "src/ustacks.cc:130: error: \u2018radtags\u2019 was not declared in this scope\r\n",
        "src/ustacks.cc:132: error: \u2018reduce_radtags\u2019 cannot be used as a function\r\n",
        "src/ustacks.cc:134: error: \u2018free_radtags_hash\u2019 cannot be used as a function\r\n",
        "src/ustacks.cc: In function \u2018int merge_remainders(std::map<int, MergedStack*, std::less<int>, std::allocator<std::pair<const int, MergedStack*> > >&, std::map<int, Rem*, std::less<int>, std::allocator<std::pair<const int, Rem*> > >&)\u2019:\r\n",
        "src/ustacks.cc:220: error: \u2018KmerHashMap\u2019 was not declared in this scope\r\n",
        "src/ustacks.cc:220: error: expected `;' before \u2018kmer_map\u2019\r\n",
        "src/ustacks.cc:222: error: \u2018kmer_map\u2019 was not declared in this scope\r\n"
       ]
      },
      {
       "output_type": "stream",
       "stream": "stdout",
       "text": [
        "src/ustacks.cc:317: error: \u2018free_kmer_hash\u2019 cannot be used as a function\r\n"
       ]
      },
      {
       "output_type": "stream",
       "stream": "stdout",
       "text": [
        "src/ustacks.cc: In function \u2018int merge_stacks(std::map<int, Stack*, std::less<int>, std::allocator<std::pair<const int, Stack*> > >&, std::map<int, Rem*, std::less<int>, std::allocator<std::pair<const int, Rem*> > >&, std::map<int, MergedStack*, std::less<int>, std::allocator<std::pair<const int, MergedStack*> > >&, std::set<int, std::less<int>, std::allocator<int> >&, int)\u2019:\r\n",
        "src/ustacks.cc:591: warning: iteration variable \u2018index\u2019 is unsigned\r\n"
       ]
      },
      {
       "output_type": "stream",
       "stream": "stdout",
       "text": [
        "src/ustacks.cc: In function \u2018int calc_kmer_distance(std::map<int, MergedStack*, std::less<int>, std::allocator<std::pair<const int, MergedStack*> > >&, int)\u2019:\r\n",
        "src/ustacks.cc:1029: error: \u2018KmerHashMap\u2019 was not declared in this scope\r\n",
        "src/ustacks.cc:1029: error: expected `;' before \u2018kmer_map\u2019\r\n",
        "src/ustacks.cc:1056: error: \u2018kmer_map\u2019 was not declared in this scope\r\n",
        "src/ustacks.cc:1061: warning: iteration variable \u2018i\u2019 is unsigned\r\n",
        "src/ustacks.cc:1125: error: \u2018free_kmer_hash\u2019 cannot be used as a function\r\n",
        "src/ustacks.cc: At global scope:\r\n",
        "src/ustacks.cc:1189: error: redefinition of \u2018int reduce_radtags\u2019\r\n",
        "src/ustacks.h:110: error: \u2018int reduce_radtags\u2019 previously defined here\r\n",
        "src/ustacks.cc:1189: error: \u2018DNASeqHashMap\u2019 was not declared in this scope\r\n",
        "src/ustacks.cc:1189: error: \u2018radtags\u2019 was not declared in this scope\r\n",
        "src/ustacks.cc:1189: error: expected primary-expression before \u2018&\u2019 token\r\n",
        "src/ustacks.cc:1189: error: \u2018unique\u2019 was not declared in this scope\r\n",
        "src/ustacks.cc:1189: error: expected primary-expression before \u2018&\u2019 token\r\n",
        "src/ustacks.cc:1189: error: \u2018rem\u2019 was not declared in this scope\r\n"
       ]
      },
      {
       "output_type": "stream",
       "stream": "stdout",
       "text": [
        "make[1]: *** [src/ustacks-ustacks.o] Error 1\r\n",
        "make: *** [all] Error 2\r\n"
       ]
      }
     ],
     "prompt_number": 8
    },
    {
     "cell_type": "code",
     "collapsed": false,
     "input": [
      "!sudo make"
     ],
     "language": "python",
     "metadata": {},
     "outputs": [
      {
       "output_type": "stream",
       "stream": "stdout",
       "text": [
        "Password:"
       ]
      },
      {
       "output_type": "stream",
       "stream": "stdout",
       "text": [
        "\r\n"
       ]
      }
     ],
     "prompt_number": 9
    },
    {
     "cell_type": "code",
     "collapsed": false,
     "input": [],
     "language": "python",
     "metadata": {},
     "outputs": []
    }
   ],
   "metadata": {}
  }
 ]
}