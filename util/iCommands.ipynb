{
 "cells": [
  {
   "cell_type": "code",
   "execution_count": 3,
   "metadata": {
    "collapsed": false
   },
   "outputs": [
    {
     "name": "stdout",
     "output_type": "stream",
     "text": [
      "/iplant/home/sr320\r\n"
     ]
    }
   ],
   "source": [
    "!ipwd\n"
   ]
  },
  {
   "cell_type": "code",
   "execution_count": 4,
   "metadata": {
    "collapsed": false
   },
   "outputs": [
    {
     "name": "stdout",
     "output_type": "stream",
     "text": [
      "/iplant/home/sr320:\n",
      "  Galaxy10-[Cut_on_data_7].tabular\n",
      "  Roberts_20100712_CC.single.fastq\n",
      "  Roberts_20100712_CE.single.fastq\n",
      "  SPID_and_GO_number.tabular\n",
      "  C- /iplant/home/sr320/AltSplice\n",
      "  C- /iplant/home/sr320/analyses\n",
      "  C- /iplant/home/sr320/austral\n",
      "  C- /iplant/home/sr320/austral_class\n",
      "  C- /iplant/home/sr320/bamout\n",
      "  C- /iplant/home/sr320/BiGo_larvae\n",
      "  C- /iplant/home/sr320/bisque_data\n",
      "  C- /iplant/home/sr320/Black_Abalone\n",
      "  C- /iplant/home/sr320/BS-heat\n",
      "  C- /iplant/home/sr320/cacheServiceTempDir\n",
      "  C- /iplant/home/sr320/ce\n",
      "  C- /iplant/home/sr320/Cgigas_MBD\n",
      "  C- /iplant/home/sr320/Cgigas_OA\n",
      "  C- /iplant/home/sr320/Cgigas_v9\n",
      "  C- /iplant/home/sr320/Cgigas_yan_larvae\n",
      "  C- /iplant/home/sr320/CICESE-btea\n",
      "  C- /iplant/home/sr320/coge_data\n",
      "  C- /iplant/home/sr320/Cv_LSU\n",
      "  C- /iplant/home/sr320/eimd\n",
      "  C- /iplant/home/sr320/fish546\n",
      "  C- /iplant/home/sr320/Geoduck\n",
      "  C- /iplant/home/sr320/iplant_ws\n",
      "  C- /iplant/home/sr320/labshare\n",
      "  C- /iplant/home/sr320/meadow\n",
      "  C- /iplant/home/sr320/Mytilus_SXT\n",
      "  C- /iplant/home/sr320/OlympiaOyster\n",
      "  C- /iplant/home/sr320/OlyO_PacBio\n",
      "  C- /iplant/home/sr320/OlyO_Rad-01\n",
      "  C- /iplant/home/sr320/OlyO_SNPhunt\n",
      "  C- /iplant/home/sr320/paper-Cg-temp-methylation\n",
      "  C- /iplant/home/sr320/qdod\n",
      "  C- /iplant/home/sr320/tmp\n"
     ]
    }
   ],
   "source": [
    "!ils"
   ]
  },
  {
   "cell_type": "code",
   "execution_count": 5,
   "metadata": {
    "collapsed": false
   },
   "outputs": [
    {
     "name": "stdout",
     "output_type": "stream",
     "text": [
      "/Volumes/Histidine/hectocotylus/iplant\n"
     ]
    }
   ],
   "source": [
    "cd /Volumes/Histidine/hectocotylus/iplant"
   ]
  },
  {
   "cell_type": "code",
   "execution_count": 6,
   "metadata": {
    "collapsed": false
   },
   "outputs": [
    {
     "name": "stdout",
     "output_type": "stream",
     "text": [
      "/iplant/home/sr320/Mytilus_SXT:\n",
      "  C0_1.fastq.gz\n",
      "  C0_2.fastq.gz\n",
      "  D1_1.fastq.gz\n",
      "  D1_2.fastq.gz\n",
      "  D2_1.fastq.gz\n",
      "  D2_2.fastq.gz\n",
      "  D3_1.fastq.gz\n",
      "  D3_2.fastq.gz\n",
      "  D4_1.fastq.gz\n",
      "  D4_2.fastq.gz\n",
      "  D5_1.fastq.gz\n",
      "  D5_2.fastq.gz\n",
      "  mchil-sxt_1.fastq\n",
      "  mchil-sxt_2.fastq\n",
      "  Mytilus-SXT.trimmed.trinity.fa\n",
      "  Mytilus-SXT.trimmed.trinity.fa.transdecoder.fasta\n",
      "  Mytilus-SXT.trimmed.trinity.v3.fa\n",
      "  SRR1598943.sra\n",
      "  SRR1598945.sra\n",
      "  SRR1598987.sra\n",
      "  C- /iplant/home/sr320/Mytilus_SXT/NCBI_SRA_Toolkit_fastq-dump_2.3.4_analysis1-2015-12-16-22-31-36.5\n",
      "  C- /iplant/home/sr320/Mytilus_SXT/TopHat2-PE_analysis1-2015-12-11-23-10-06.5\n",
      "  C- /iplant/home/sr320/Mytilus_SXT/Trinity-r2013-11-10_11.10.13_analysis1-2015-12-04-00-57-49.0\n",
      "  C- /iplant/home/sr320/Mytilus_SXT/Uncompress_files_with_gunzip_analysis1-MYT-2015-12-11-21-14-03.0\n"
     ]
    }
   ],
   "source": [
    "!ils /iplant/home/sr320/Mytilus_SXT"
   ]
  },
  {
   "cell_type": "code",
   "execution_count": 7,
   "metadata": {
    "collapsed": false
   },
   "outputs": [
    {
     "name": "stdout",
     "output_type": "stream",
     "text": [
      "/iplant/home/sr320/analyses:\n",
      "  C- /iplant/home/sr320/analyses/Abyss_AbAss_2-2013-03-08-16-31-02.315\n",
      "  C- /iplant/home/sr320/analyses/Abyss_Ab_assembly1-2013-03-08-02-25-32.641\n",
      "  C- /iplant/home/sr320/analyses/Abyss_BlackAB_v3_25k-2013-04-03-15-23-59.619\n",
      "  C- /iplant/home/sr320/analyses/Abyss_fish546_PE-2013-01-24-11-50-07.639\n",
      "  C- /iplant/home/sr320/analyses/AllpathsLG_44837_analysis1-2015-12-17-00-08-56.8\n",
      "  C- /iplant/home/sr320/analyses/AllpathsLG_44837_analysis1-2015-12-17-10-53-59.1\n",
      "  C- /iplant/home/sr320/analyses/AllpathsLG_48777_analysis1-2015-12-16-23-54-59.4\n",
      "  C- /iplant/home/sr320/analyses/AltSplice_Tophat_BB3_DH_90-2013-03-04-13-14-51.070\n",
      "  C- /iplant/home/sr320/analyses/AnnoBED_MgoBED_-_Intron-2013-02-08-08-34-44.700\n",
      "  C- /iplant/home/sr320/analyses/Annotate_transcripts_analysis1-2014-02-01-15-34-00.909\n",
      "  C- /iplant/home/sr320/analyses/Bam2Bed_MgoExp-2013-02-08-08-05-15.354\n",
      "  C- /iplant/home/sr320/analyses/bamToBed_analysis1-2014-02-12-08-50-34.397\n",
      "  C- /iplant/home/sr320/analyses/BamtoBedSplit-2013-02-08-12-16-04.884\n",
      "  C- /iplant/home/sr320/analyses/BiGoRNAseq_Fastx_quality_trm-2013-07-25-13-10-40.254\n",
      "  C- /iplant/home/sr320/analyses/BiGoRNASeq_Pre-Process-2013-07-25-12-43-44.353\n",
      "  C- /iplant/home/sr320/analyses/BlackABb_FastQc_trim-2013-03-16-13-07-20.454\n",
      "  C- /iplant/home/sr320/analyses/BlackAb_fastaQC-2013-03-16-09-55-03.966\n",
      "  C- /iplant/home/sr320/analyses/BlackAb_trim_Illu15-2013-03-16-09-40-20.429\n",
      "  C- /iplant/home/sr320/analyses/BlackAb_trim_phred-2013-03-16-09-48-29.791\n",
      "  C- /iplant/home/sr320/analyses/BlackAb_trim_phred20-2013-03-16-09-49-39.702\n",
      "  C- /iplant/home/sr320/analyses/Bowtie-2.2.1_Bowtie2-Build_indexer_analysis1-2015-10-21-13-16-40.4\n",
      "  C- /iplant/home/sr320/analyses/Bowtie-2.2.1--Build-and-Map_analysis1-2014-02-09-18-00-25.950\n",
      "  C- /iplant/home/sr320/analyses/Bowtie-2.2.1--Build-and-Map_analysis1-2015-12-11-17-18-06.7\n",
      "  C- /iplant/home/sr320/analyses/BSMAP_analysis1-2014-02-03-16-24-07.598\n",
      "  C- /iplant/home/sr320/analyses/BSMAP_analysis1-2014-02-28-13-43-09.970\n",
      "  C- /iplant/home/sr320/analyses/BSMAP_analysis1-2014-02-28-13-45-05.024\n",
      "  C- /iplant/home/sr320/analyses/BSMAP_analysis1-2015-05-26-21-57-43.4\n",
      "  C- /iplant/home/sr320/analyses/BSMAP_analysis1-wO-2014-02-28-14-16-26.553\n",
      "  C- /iplant/home/sr320/analyses/BSMAP_analysis_BiGov9-2014-04-03-14-47-47.882\n",
      "  C- /iplant/home/sr320/analyses/BSMAP_analysis_BiGo_v9-2014-04-04-06-17-30.118\n",
      "  C- /iplant/home/sr320/analyses/BSMAP_analysis_F-2014-02-28-13-55-22.654\n",
      "  C- /iplant/home/sr320/analyses/CD-HIT-est_4.6.1_analysis1-2014-02-09-11-15-51.820\n",
      "  C- /iplant/home/sr320/analyses/CD-HIT-est_4.6.1_analysis1-2015-12-09-21-15-05.3\n",
      "  C- /iplant/home/sr320/analyses/CD-HIT-EST_4.6.1_analysis1-2015-12-13-20-31-21.3\n",
      "  C- /iplant/home/sr320/analyses/CEGMA_OlyO_Pat10k-2014-02-01-12-19-17.093\n",
      "  C- /iplant/home/sr320/analyses/CE_Mgo_acchit_SNPs-2013-03-01-15-15-19.656\n",
      "  C- /iplant/home/sr320/analyses/CE_NSA_Mgo_tophatPE-2013-02-04-20-43-30.523\n",
      "  C- /iplant/home/sr320/analyses/Compute_contig_statistics_analysis1-2014-02-09-11-13-46.124\n",
      "  C- /iplant/home/sr320/analyses/CovBed_MgoExp_on_Introns-2013-02-08-08-02-06.022\n",
      "  C- /iplant/home/sr320/analyses/covbed_split_noreportdepth-2013-02-08-12-18-09.299\n",
      "  C- /iplant/home/sr320/analyses/Coverage_50bpwindow-2013-02-08-11-17-33.489\n",
      "  C- /iplant/home/sr320/analyses/coverBed_Split-2013-02-08-12-17-20.606\n",
      "  C- /iplant/home/sr320/analyses/Cuffdiff2_analysis1-2014-02-01-14-41-18.088\n",
      "  C- /iplant/home/sr320/analyses/Cuffdiff2_analysis1-2014-02-01-14-41-21.643\n",
      "  C- /iplant/home/sr320/analyses/Cuffdiff2_analysis_oly0_mf2-2014-01-19-10-46-11.416\n",
      "  C- /iplant/home/sr320/analyses/Cuffdiff2_analysis_OlyO_MvF-2014-01-19-10-26-50.408\n",
      "  C- /iplant/home/sr320/analyses/Cufflinks2_analysis1-2014-02-01-14-06-23.659\n",
      "  C- /iplant/home/sr320/analyses/Cufflinks2_analysis1-2014-02-04-06-05-24.707\n",
      "  C- /iplant/home/sr320/analyses/Cufflinks_analysis1-2014-01-26-13-54-37.558\n",
      "  C- /iplant/home/sr320/analyses/Cufflinks_analysis_2-2014-01-27-09-26-13.191\n",
      "  C- /iplant/home/sr320/analyses/Cufflinks_BiGORNA_a-2013-07-26-12-29-12.303\n",
      "  C- /iplant/home/sr320/analyses/Cuffmerge2_analysis1-2014-02-01-14-24-06.271\n",
      "  C- /iplant/home/sr320/analyses/EBI_Interproscan_1.0.1__Web_Service__Phel_clc-2014-08-05-11-43-03.750\n",
      "  C- /iplant/home/sr320/analyses/EMBOSS_Fuzznuc_analysis1-2014-04-14-06-26-39.879\n",
      "  C- /iplant/home/sr320/analyses/FaST-LMM_1.09_analysis1-2014-02-01-11-34-42.672\n",
      "  C- /iplant/home/sr320/analyses/FastQC_0.10.1_allfiles-2014-06-28-15-32-35.511\n",
      "  C- /iplant/home/sr320/analyses/FastQC_0.10.1__BiGo-2014-04-04-10-19-52.797\n",
      "  C- /iplant/home/sr320/analyses/FastQC_0.10.1__BiGOclctrim-2014-03-25-15-06-35.344\n",
      "  C- /iplant/home/sr320/analyses/FastQC_0.10.1_BiGo-gilesclean-2014-03-26-06-14-46.680\n",
      "  C- /iplant/home/sr320/analyses/FastQC_0.10.1_BiGoQual-2014-03-24-11-02-19.392\n",
      "  C- /iplant/home/sr320/analyses/FastQC_0.10.1__BiGoRNA-2014-03-24-10-33-44.916\n",
      "  C- /iplant/home/sr320/analyses/FastQC_0.10.1__clamRAD-2014-02-25-07-25-03.711\n",
      "  C- /iplant/home/sr320/analyses/FastQC_0.10.1__multi-file__analysis1-2014-02-01-14-28-21.285\n",
      "  C- /iplant/home/sr320/analyses/FastQC_0.10.1__multi-file__analysis1-2015-05-27-13-22-54.1\n",
      "  C- /iplant/home/sr320/analyses/FastQC_0.10.1__multi-file__analysis1-2015-10-20-12-34-54.0\n",
      "  C- /iplant/home/sr320/analyses/FastQC_0.10.1__yanouk_mix-2014-06-03-14-35-44.813\n",
      "  C- /iplant/home/sr320/analyses/FastQC_AbbAss-2013-03-08-09-32-11.231\n",
      "  C- /iplant/home/sr320/analyses/Find_SNPs_Mgo-2013-02-08-14-17-05.628\n",
      "  C- /iplant/home/sr320/analyses/Find_SNPS_-_mpileup_analysis1-2014-02-11-05-13-30.147\n",
      "  C- /iplant/home/sr320/analyses/fish546\n",
      "  C- /iplant/home/sr320/analyses/fish546 Abyss PE K40-2013-01-26-16-43-01.055\n",
      "  C- /iplant/home/sr320/analyses/fish546_Abyss_PE_K40-2013-01-26-16-43-01.055\n",
      "  C- /iplant/home/sr320/analyses/fish546_CE_Mgo_acchit_SNO-2013-03-01-09-20-44.564\n",
      "  C- /iplant/home/sr320/analyses/fish546_EmmaSNP-2013-03-05-10-56-30.710\n",
      "  C- /iplant/home/sr320/analyses/fish546_FindSNP_1_ICH-2013-02-27-04-44-10.920\n",
      "  C- /iplant/home/sr320/analyses/fish546_fragscan-2013-02-20-04-52-40.970\n",
      "  C- /iplant/home/sr320/analyses/fish546_ICH_50k_Sbf1_fuzz-2013-02-27-09-28-08.552\n",
      "  C- /iplant/home/sr320/analyses/fish546_ICH50k_snp_VCF2GFF-2013-02-27-14-02-35.763\n",
      "  C- /iplant/home/sr320/analyses/fish546_ICH_SNP_2-2013-02-27-05-09-13.196\n",
      "  C- /iplant/home/sr320/analyses/fish546_ICHsnp_50k-2013-02-27-10-07-10.728\n",
      "  C- /iplant/home/sr320/analyses/fish546_ICHSNP_50k_sortedbam-2013-02-27-10-17-26.870\n",
      "  C- /iplant/home/sr320/analyses/fish546_ICH_snpVCF2GFF-2013-02-27-08-26-57.462\n",
      "  C- /iplant/home/sr320/analyses/fish546_metaGeneMark-2013-02-20-11-53-24.528\n",
      "  C- /iplant/home/sr320/analyses/fish_546_Metaphyler-2013-02-20-04-51-32.463\n",
      "  C- /iplant/home/sr320/analyses/fish546_MgoTH_SNP_acchit_VCF_GFF-2013-03-01-09-15-39.128\n",
      "  C- /iplant/home/sr320/analyses/fish546_thICH_50k_SNP-2013-03-02-08-36-07.873\n",
      "  C- /iplant/home/sr320/analyses/fish546_TH_ICH_findSNP-2013-03-02-08-12-17.269\n",
      "  C- /iplant/home/sr320/analyses/fish546_THmgo_acchits_SNP-2013-03-01-06-43-27.339\n",
      "  C- /iplant/home/sr320/analyses/fish546_THmgo_Gil_1_SNP-2013-03-01-06-44-56.780\n",
      "  C- /iplant/home/sr320/analyses/fish546_THMgo_v90acchit_SNP-2013-03-01-16-18-41.521\n",
      "  C- /iplant/home/sr320/analyses/fish546_tophat_ICH_50_ref-2013-03-01-17-33-17.821\n",
      "  C- /iplant/home/sr320/analyses/fish546_Tophat_SE_on_AByssk25-2013-01-26-10-29-11.684\n",
      "  C- /iplant/home/sr320/analyses/fish546 Velvet PE-2013-01-26-15-15-04.807\n",
      "  C- /iplant/home/sr320/analyses/fish546_Velvet_PE-2013-01-26-15-15-04.807\n",
      "  C- /iplant/home/sr320/analyses/fuzznuc_cg-2013-02-13-04-50-34.086\n",
      "  C- /iplant/home/sr320/analyses/geecee_v9.90-2013-02-13-04-51-37.708\n",
      "  C- /iplant/home/sr320/analyses/genomeCoverageBed_analysis1-2014-02-12-12-22-28.848\n",
      "  C- /iplant/home/sr320/analyses/genomeCoverageBed_BiGill-2014-02-15-06-01-32.135\n",
      "  C- /iplant/home/sr320/analyses/genomeCoverageBed_BiGo-2014-02-15-05-14-28.745\n",
      "  C- /iplant/home/sr320/analyses/Gil_ExpTH_coverage_CDS-2013-02-18-07-21-31.449\n",
      "  C- /iplant/home/sr320/analyses/ICH_Sam_to_Bam-2013-02-26-16-33-53.160\n",
      "  C- /iplant/home/sr320/analyses/IGVtools_toTDF_analysis1-2014-03-07-09-27-51.507\n",
      "  C- /iplant/home/sr320/analyses/IGVtools_toTDF_analysis1-2014-03-07-09-31-43.662\n",
      "  C- /iplant/home/sr320/analyses/IGVtools_toTDF_analysis1-2014-03-07-10-15-01.821\n",
      "  C- /iplant/home/sr320/analyses/IGVtools_toTDF_analysis1-2014-03-07-10-18-05.080\n",
      "  C- /iplant/home/sr320/analyses/IGVtools_toTDF_analysis1-2014-03-07-10-27-42.676\n",
      "  C- /iplant/home/sr320/analyses/IGVtools_toTDF_analysis1-2014-03-07-11-39-40.798\n",
      "  C- /iplant/home/sr320/analyses/IGVtools_toTDF_analysis1-2014-03-07-11-42-02.932\n",
      "  C- /iplant/home/sr320/analyses/IGVtools_toTDF_analysis1-2014-03-07-11-46-33.440\n",
      "  C- /iplant/home/sr320/analyses/InterproScan5-44.0_OlyO_v3-2014-02-01-19-28-08.326\n",
      "  C- /iplant/home/sr320/analyses/InterProScan_Sequence_Search_5.8.49.0_analysis1-2015-12-09-21-05-39.1\n",
      "  C- /iplant/home/sr320/analyses/InterProScan_Sequence_Search_5.8.49.0_analysis1-2015-12-09-21-10-06.2\n",
      "  C- /iplant/home/sr320/analyses/InterProScan_Sequence_Search_5.8.49.0_analysis1-2015-12-09-21-11-07.4\n",
      "  C- /iplant/home/sr320/analyses/Mgo_coverage_CDS_depth-2013-02-14-12-47-31.711\n",
      "  C- /iplant/home/sr320/analyses/MgoExp_cover_CDS_split-2013-02-14-10-31-34.970\n",
      "  C- /iplant/home/sr320/analyses/MgoVCF-GFF-2013-02-09-05-36-28.549\n",
      "  C- /iplant/home/sr320/analyses/MultiBamCov_MgoExp_Intron-2013-02-08-08-50-09.866\n",
      "  C- /iplant/home/sr320/analyses/Muscle-3.8.31_analysis1-2014-01-31-11-08-53.026\n",
      "  C- /iplant/home/sr320/analyses/Muscle-3.8.31_analysis1-2014-01-31-12-57-07.210\n",
      "  C- /iplant/home/sr320/analyses/NCBI_SRA_Toolkit_fastq-dump_2.1.9_analysis1-2015-12-16-22-38-19.7\n",
      "  C- /iplant/home/sr320/analyses/NCBI_SRA_Toolkit_fastq-dump_2.1.9_analysis1-2015-12-16-22-38-59.0\n",
      "  C- /iplant/home/sr320/analyses/OlyO_10kcontigs_TopHatm106-2013-07-10-07-13-26.771\n",
      "  C- /iplant/home/sr320/analyses/OysterCDS_gff-gtf-2013-02-16-14-34-14.912\n",
      "  C- /iplant/home/sr320/analyses/oyster_gff_gtf-2013-03-04-13-02-09.483\n",
      "  C- /iplant/home/sr320/analyses/Oyster_v9_CG-2013-04-19-14-57-50.715\n",
      "  C- /iplant/home/sr320/analyses/radtag_demultiplex_andy2-2014-02-27-10-42-44.518\n",
      "  C- /iplant/home/sr320/analyses/radtag_demultiplex_andy3-2014-02-27-10-55-01.856\n",
      "  C- /iplant/home/sr320/analyses/radtag_demultiplex_andyrun-2014-02-27-09-16-14.685\n",
      "  C- /iplant/home/sr320/analyses/RAxML-7.3.0_analysis1-2014-01-31-13-06-45.949\n",
      "  C- /iplant/home/sr320/analyses/REdo\n",
      "  C- /iplant/home/sr320/analyses/REdo on SOAP assembly fish546 PE-2013-01-24-22-55-41.733\n",
      "  C- /iplant/home/sr320/analyses/REdo_on_SOAP_assembly_fish546_PE-2013-01-24-22-55-41.733\n",
      "  C- /iplant/home/sr320/analyses/RNAseq2bedgraph_analysis1_BiGo-2014-02-15-05-07-26.299\n",
      "  C- /iplant/home/sr320/analyses/RNAseq2bedgraph_SB_meth-2014-07-03-09-58-41.884\n",
      "  C- /iplant/home/sr320/analyses/RNAseq2bedgraph_SE_analysis2-2015-01-08-21-10-33.2\n",
      "  C- /iplant/home/sr320/analyses/SAMTOOLS-0.1.19_mpileup_raw-vcf-out_analysis1-2015-10-29-15-53-36.2\n",
      "  C- /iplant/home/sr320/analyses/SAM_to_sorted_BAM_analysis1-2015-10-29-15-11-01.0\n",
      "  C- /iplant/home/sr320/analyses/SOAP_fish545_PEassembly-2013-01-24-11-47-11.901\n",
      "  C- /iplant/home/sr320/analyses/TJGR_CpGislands-2013-08-14-10-19-32.165\n",
      "  C- /iplant/home/sr320/analyses/TJGR_NewCpgReport-2013-08-14-10-23-49.808\n",
      "  C- /iplant/home/sr320/analyses/TopHat2-PE_analysis1-2014-02-10-18-23-31.430\n",
      "  C- /iplant/home/sr320/analyses/TopHat2-PE_analysis1-2015-12-12-11-34-22.7\n",
      "  C- /iplant/home/sr320/analyses/TopHat2-PE_analysis1-Geoduck-v2-2015-10-21-12-52-08.8\n",
      "  C- /iplant/home/sr320/analyses/TopHat2-PE_OlyO_MvF-2014-01-18-15-27-29.136\n",
      "  C- /iplant/home/sr320/analyses/TopHat2-PE_OlyO_mvf_pat-2014-01-20-13-03-45.343\n",
      "  C- /iplant/home/sr320/analyses/Tophat2PE_RNABS_Genome_a-2013-07-13-06-45-44.321\n",
      "  C- /iplant/home/sr320/analyses/TopHat2-SE_analysis1-2014-01-31-14-26-48.824\n",
      "  C- /iplant/home/sr320/analyses/TopHat2-SE_analysis1-2014-01-31-14-26-55.694\n",
      "  C- /iplant/home/sr320/analyses/TopHat2-SE_analysis1-2015-01-08-21-19-14.2\n",
      "  C- /iplant/home/sr320/analyses/TopHat2-SE_SBmeth-2014-07-03-10-53-00.197\n",
      "  C- /iplant/home/sr320/analyses/TopHat2-SE_SBmeth-2014-07-03-11-36-27.112\n",
      "  C- /iplant/home/sr320/analyses/Tophat_DH3_oysterv9_90-2013-02-18-08-27-58.941\n",
      "  C- /iplant/home/sr320/analyses/Tophat_Gill_oyster.90-2013-02-16-14-37-03.262\n",
      "  C- /iplant/home/sr320/analyses/Trinity\n",
      "  C- /iplant/home/sr320/analyses/Trinity_assembly_AbAss-2013-03-08-02-26-52.841\n",
      "  C- /iplant/home/sr320/analyses/Trinity_BlackAB_v3-2013-04-03-15-25-20.067\n",
      "  C- /iplant/home/sr320/analyses/Trinity fish546 mod PE-2013-01-24-12-59-33.978\n",
      "  C- /iplant/home/sr320/analyses/Trinity_fish546_mod_PE-2013-01-24-12-59-33.978\n",
      "  C- /iplant/home/sr320/analyses/Trinity_normalize_by_kmer_coverage_analysis1-2014-02-09-04-07-08.281\n",
      "  C- /iplant/home/sr320/analyses/Trinity_normalize_kmer_coverage_r11.10.13_11.10.13_analysis1-2015-11-18-19-14-02.6\n",
      "  C- /iplant/home/sr320/analyses/Trinity_r2012-10-05_fish545-of-2014-02-08-20-41-25.576\n",
      "  C- /iplant/home/sr320/analyses/Trinity_r2013-08-14_analysis1-2014-02-08-20-44-13.233\n",
      "  C- /iplant/home/sr320/analyses/trinity-stmpde_analysis1-2015-02-07-16-49-09.4\n",
      "  C- /iplant/home/sr320/analyses/Uncompress_files_OA1000-2015-05-27-13-24-07.4\n",
      "  C- /iplant/home/sr320/analyses/Uncompress_files_with_gunzip_analysis1-2014-02-09-15-06-32.299\n",
      "  C- /iplant/home/sr320/analyses/Uncompress_files_with_gunzip_analysis1-2014-02-25-06-21-26.151\n",
      "  C- /iplant/home/sr320/analyses/Uncompress_files_with_gunzip_analysis1-2014-03-06-16-23-53.420\n",
      "  C- /iplant/home/sr320/analyses/Uncompress_files_with_gunzip_analysis1-2014-11-09-21-32-12.4\n",
      "  C- /iplant/home/sr320/analyses/Uncompress_files_with_gunzip_analysis1-2015-05-26-21-58-32.5\n",
      "  C- /iplant/home/sr320/analyses/Uncompress_files_with_OA400-2015-05-27-13-24-34.5\n",
      "  C- /iplant/home/sr320/analyses/Uncompress_with_bunzip2_analysis1-2014-11-09-21-31-28.0\n",
      "  C- /iplant/home/sr320/analyses/ustacks_analysis1-2014-03-01-15-24-45.410\n",
      "  C- /iplant/home/sr320/analyses/ustacks_analysis1-2014-03-01-15-32-18.452\n",
      "  C- /iplant/home/sr320/analyses/VCF_to_GFF3_analysis1-2014-02-11-07-58-52.295\n"
     ]
    }
   ],
   "source": [
    "!ils /iplant/home/sr320/analyses"
   ]
  },
  {
   "cell_type": "code",
   "execution_count": 15,
   "metadata": {
    "collapsed": false
   },
   "outputs": [
    {
     "name": "stdout",
     "output_type": "stream",
     "text": [
      "ERROR: getCollUtil: getDataObjUtil failed for /iplant/home/sr320/analyses/NCBI_SRA_Toolkit_fastq-dump_2.1.9_analysis1-2015-12-16-22-38-19.7/logs/condor-0-input-0-stderr. status = -312000 status = -312000 OVERWRITE_WITHOUT_FORCE_FLAG\n",
      "ERROR: getCollUtil: getDataObjUtil failed for /iplant/home/sr320/analyses/NCBI_SRA_Toolkit_fastq-dump_2.1.9_analysis1-2015-12-16-22-38-19.7/logs/condor-0-input-0-stdout. status = -312000 status = -312000 OVERWRITE_WITHOUT_FORCE_FLAG\n",
      "ERROR: getCollUtil: getDataObjUtil failed for /iplant/home/sr320/analyses/NCBI_SRA_Toolkit_fastq-dump_2.1.9_analysis1-2015-12-16-22-38-19.7/logs/condor-stderr-0. status = -312000 status = -312000 OVERWRITE_WITHOUT_FORCE_FLAG\n",
      "ERROR: getCollUtil: getDataObjUtil failed for /iplant/home/sr320/analyses/NCBI_SRA_Toolkit_fastq-dump_2.1.9_analysis1-2015-12-16-22-38-19.7/logs/condor-stdout-0. status = -312000 status = -312000 OVERWRITE_WITHOUT_FORCE_FLAG\n",
      "ERROR: getCollUtil: getDataObjUtil failed for /iplant/home/sr320/analyses/NCBI_SRA_Toolkit_fastq-dump_2.1.9_analysis1-2015-12-16-22-38-19.7/logs/de-transfer-trigger.log. status = -312000 status = -312000 OVERWRITE_WITHOUT_FORCE_FLAG\n",
      "ERROR: getCollUtil: getDataObjUtil failed for /iplant/home/sr320/analyses/NCBI_SRA_Toolkit_fastq-dump_2.1.9_analysis1-2015-12-16-22-38-19.7/logs/iplant.cmd. status = -312000 status = -312000 OVERWRITE_WITHOUT_FORCE_FLAG\n",
      "ERROR: getCollUtil: getDataObjUtil failed for /iplant/home/sr320/analyses/NCBI_SRA_Toolkit_fastq-dump_2.1.9_analysis1-2015-12-16-22-38-19.7/logs/iplant.sh. status = -312000 status = -312000 OVERWRITE_WITHOUT_FORCE_FLAG\n",
      "ERROR: getCollUtil: getCollUtil failed for /iplant/home/sr320/analyses/NCBI_SRA_Toolkit_fastq-dump_2.1.9_analysis1-2015-12-16-22-38-19.7/logs. status = -312000 status = -312000 OVERWRITE_WITHOUT_FORCE_FLAG\n",
      "ERROR: getCollUtil: getDataObjUtil failed for /iplant/home/sr320/analyses/NCBI_SRA_Toolkit_fastq-dump_2.1.9_analysis1-2015-12-16-22-38-19.7/SRR1598945.sra. status = -312000 status = -312000 OVERWRITE_WITHOUT_FORCE_FLAG\n",
      "ERROR: getCollUtil: getDataObjUtil failed for /iplant/home/sr320/analyses/NCBI_SRA_Toolkit_fastq-dump_2.1.9_analysis1-2015-12-16-22-38-19.7/SRR1598945.sra_1.fastq. status = -312000 status = -312000 OVERWRITE_WITHOUT_FORCE_FLAG\n",
      "ERROR: getUtil: get error for ./NCBI_SRA_Toolkit_fastq-dump_2.1.9_analysis1-2015-12-16-22-38-19.7 status = -312000 OVERWRITE_WITHOUT_FORCE_FLAG\n"
     ]
    }
   ],
   "source": [
    "!iget -r /iplant/home/sr320/analyses/NCBI_SRA_Toolkit_fastq-dump_2.1.9_analysis1-2015-12-16-22-38-19.7"
   ]
  },
  {
   "cell_type": "code",
   "execution_count": 12,
   "metadata": {
    "collapsed": false
   },
   "outputs": [
    {
     "name": "stdout",
     "output_type": "stream",
     "text": [
      "Usage: iget [-fIKPQrUvVT] [-n replNumber] [-N numThreads] [-X restartFile]\r\n",
      "[-R resource] [--lfrestart lfRestartFile] [--retries count] [--purgec]\r\n",
      "[--rlock]  srcDataObj|srcCollection ... destLocalFile|destLocalDir\r\n",
      "Usage : iget [-fIKPQUvVT] [-n replNumber] [-N numThreads] [-X restartFile]\r\n",
      "[-R resource] [--lfrestart lfRestartFile] [--retries count] [--purgec]\r\n",
      "[--rlock]  srcDataObj|srcCollection\r\n",
      "Usage : iget [-fIKPQUvVT] [-n replNumber] [-N numThreads] [-X restartFile]\r\n",
      "[-R resource] [--lfrestart lfRestartFile]  [--retries count]  [--purgec]\r\n",
      "[--rlock]  srcDataObj ... -\r\n",
      "Get data-objects or collections from irods space, either to the specified\r\n",
      "local area or to the current working directory.\r\n",
      " \r\n",
      "If the destLocalFile is '-', the files read from the server will be \r\n",
      "written to the standard output (stdout). Similar to the UNIX 'cat'\r\n",
      "command, multiple source files can be specified.\r\n",
      " \r\n",
      "The -X option specifies that the restart option is on and the operation\r\n",
      "is restartable. The restartFile input specifies a local file that contains\r\n",
      "the restart info. If the restartFile does not exist, it will be created\r\n",
      "and used for recording subsequent restart info. If it exists and is not\r\n",
      "empty, the restart info contained in this file will be used to restart\r\n",
      "the operation. Note that the operation is not restarted automatically\r\n",
      "when it failed. Another iget -X run must be made to continue from where\r\n",
      "it left off using the restart info. But the -X option can be used in\r\n",
      "conjunction with the --retries option to automatically restart the operation\r\n",
      "in case of failure. Also note that the restart operation only works for\r\n",
      "uploading directories and the path input must be identical to the one\r\n",
      "that generated the restart file\r\n",
      " \r\n",
      "The --lfrestart option specifies that the large file restart option is on\r\n",
      "and the lfRestartFile input specifies a local file that contains the restart\r\n",
      "info. Currently, only files larger than 32 Mbytes will be restarted.\r\n",
      "The --lfrestart option can be used together with the -X option to do large\r\n",
      "file transfer restart as part of the overall collection download restart.\r\n",
      " \r\n",
      "The -Q option specifies the use of the RBUDP transfer mechanism which uses\r\n",
      "the UDP protocol for data transfer. The UDP protocol is very efficient\r\n",
      "if the network is very robust with few packet losses. Two environment\r\n",
      "variables - rbudpSendRate and rbudpPackSize are used to tune the RBUDP\r\n",
      "data transfer. rbudpSendRate is used to throttle the send rate in \r\n",
      "kbits/sec. The default rbudpSendRate is 600,000. rbudpPackSize is used\r\n",
      "to set the packet size. The dafault rbudpPackSize is 8192. The -V option\r\n",
      "can be used to show the loss rate of the transfer. If the lost rate is\r\n",
      "more than a few %, the sendrate should be reduced.\r\n",
      " \r\n",
      "The -T option will renew the socket connection between the client and \r\n",
      "server after 10 minutes of connection. This gets around the problem of\r\n",
      "sockets getting timed out by the firewall as reported by some users.\r\n",
      " \r\n",
      "Options are:\r\n",
      " -f  force - write local files even it they exist already (overwrite them)\r\n",
      " -I  redirect connection - redirect the connection to connect directly\r\n",
      "       to the best (determiined by the first 10 data objects in the input\r\n",
      "       collection) resource server.\r\n",
      " -K  verify the checksum\r\n",
      " -n  replNumber - retrieve the copy with the specified replica number \r\n",
      " -N  numThreads - the number of thread to use for the transfer. A value of\r\n",
      "       0 means no threading. By default (-N option not used) the server \r\n",
      "       decides the number of threads to use.\r\n",
      " --purgec  Purge the staged cache copy after downloading a COMPOUND object\r\n",
      " -P  output the progress of the download.\r\n",
      " -r  recursive - retrieve subcollections\r\n",
      " -R  resource - the preferred resource\r\n",
      " -T  renew socket connection after 10 minutes\r\n",
      " -Q  use RBUDP (datagram) protocol for the data transfer\r\n",
      " -v  verbose\r\n",
      " -V  Very verbose\r\n",
      "     restartFile input specifies a local file that contains the restart info.\r\n",
      " -X  restartFile - specifies that the restart option is on and the\r\n",
      "     restartFile input specifies a local file that contains the restart info.\r\n",
      "--retries count - Retry the iget in case of error. The 'count' input\r\n",
      "     specifies the number of times to retry. It must be used with the\r\n",
      "     -X option\r\n",
      " --lfrestart lfRestartFile - specifies that the large file restart option is\r\n",
      "      on and the lfRestartFile input specifies a local file that contains\r\n",
      "      the restart info.\r\n",
      " -t  ticket - ticket (string) to use for ticket-based access.\r\n",
      " --rlock - use advisory read lock for the download\r\n",
      " -h  this help\r\n",
      "\r\n",
      "iRODS Version 3.3                  July 2013                      iget\r\n"
     ]
    }
   ],
   "source": [
    "!iget -h"
   ]
  },
  {
   "cell_type": "code",
   "execution_count": 16,
   "metadata": {
    "collapsed": true
   },
   "outputs": [],
   "source": [
    "!iget -r /iplant/home/sr320/analyses/NCBI_SRA_Toolkit_fastq-dump_2.1.9_analysis1-2015-12-16-22-38-59.0"
   ]
  },
  {
   "cell_type": "code",
   "execution_count": 17,
   "metadata": {
    "collapsed": false
   },
   "outputs": [
    {
     "name": "stdout",
     "output_type": "stream",
     "text": [
      "ERROR: readMsgHeader:header read- read 0 bytes, expect 4, status = -4060\r\n",
      "ERROR: readAndProcApiReply: readMsgHeader error. status = -4060 status = -4060 SYS_HEADER_READ_LEN_ERR, Operation timed out\r\n",
      "ERROR: getCollUtil: getDataObjUtil failed for /iplant/home/sr320/Mytilus_SXT/NCBI_SRA_Toolkit_fastq-dump_2.3.4_analysis1-2015-12-16-22-31-36.5/SRR1598943.sra_1.fastq. status = -4060 status = -4060 SYS_HEADER_READ_LEN_ERR, Operation timed out\r\n",
      "Client Caught broken pipe signal. Connection to server may be down\r\n",
      "ERROR: writeMsgHeader: wrote 0 bytes for myLen , expect 4, status = -5032\r\n",
      "ERROR: sendApiRequest: sendRodsMsg error, status = -5032 status = -5032 SYS_HEADER_WRITE_LEN_ERR, Broken pipe\r\n",
      "ERROR: getCollUtil: getDataObjUtil failed for /iplant/home/sr320/Mytilus_SXT/NCBI_SRA_Toolkit_fastq-dump_2.3.4_analysis1-2015-12-16-22-31-36.5/SRR1598943.sra_2.fastq. status = -5032 status = -5032 SYS_HEADER_WRITE_LEN_ERR, Broken pipe\r\n",
      "ERROR: getUtil: get error for ./NCBI_SRA_Toolkit_fastq-dump_2.3.4_analysis1-2015-12-16-22-31-36.5 status = -5032 SYS_HEADER_WRITE_LEN_ERR, Broken pipe\r\n",
      "Client Caught broken pipe signal. Connection to server may be down\r\n",
      "ERROR: writeMsgHeader: wrote 0 bytes for myLen , expect 4, status = -5032\r\n"
     ]
    }
   ],
   "source": [
    "!iget -r /iplant/home/sr320/Mytilus_SXT/NCBI_SRA_Toolkit_fastq-dump_2.3.4_analysis1-2015-12-16-22-31-36.5"
   ]
  },
  {
   "cell_type": "code",
   "execution_count": 18,
   "metadata": {
    "collapsed": false
   },
   "outputs": [
    {
     "name": "stdout",
     "output_type": "stream",
     "text": [
      "ERROR: getCollUtil: getDataObjUtil failed for /iplant/home/sr320/Mytilus_SXT/NCBI_SRA_Toolkit_fastq-dump_2.3.4_analysis1-2015-12-16-22-31-36.5/logs/condor-0-input-0-stderr. status = -312000 status = -312000 OVERWRITE_WITHOUT_FORCE_FLAG\n",
      "ERROR: getCollUtil: getDataObjUtil failed for /iplant/home/sr320/Mytilus_SXT/NCBI_SRA_Toolkit_fastq-dump_2.3.4_analysis1-2015-12-16-22-31-36.5/logs/condor-0-input-0-stdout. status = -312000 status = -312000 OVERWRITE_WITHOUT_FORCE_FLAG\n",
      "ERROR: getCollUtil: getDataObjUtil failed for /iplant/home/sr320/Mytilus_SXT/NCBI_SRA_Toolkit_fastq-dump_2.3.4_analysis1-2015-12-16-22-31-36.5/logs/condor-stderr-0. status = -312000 status = -312000 OVERWRITE_WITHOUT_FORCE_FLAG\n",
      "ERROR: getCollUtil: getDataObjUtil failed for /iplant/home/sr320/Mytilus_SXT/NCBI_SRA_Toolkit_fastq-dump_2.3.4_analysis1-2015-12-16-22-31-36.5/logs/condor-stdout-0. status = -312000 status = -312000 OVERWRITE_WITHOUT_FORCE_FLAG\n",
      "ERROR: getCollUtil: getDataObjUtil failed for /iplant/home/sr320/Mytilus_SXT/NCBI_SRA_Toolkit_fastq-dump_2.3.4_analysis1-2015-12-16-22-31-36.5/logs/de-transfer-trigger.log. status = -312000 status = -312000 OVERWRITE_WITHOUT_FORCE_FLAG\n",
      "ERROR: getCollUtil: getDataObjUtil failed for /iplant/home/sr320/Mytilus_SXT/NCBI_SRA_Toolkit_fastq-dump_2.3.4_analysis1-2015-12-16-22-31-36.5/logs/iplant.cmd. status = -312000 status = -312000 OVERWRITE_WITHOUT_FORCE_FLAG\n",
      "ERROR: getCollUtil: getDataObjUtil failed for /iplant/home/sr320/Mytilus_SXT/NCBI_SRA_Toolkit_fastq-dump_2.3.4_analysis1-2015-12-16-22-31-36.5/logs/iplant.sh. status = -312000 status = -312000 OVERWRITE_WITHOUT_FORCE_FLAG\n",
      "ERROR: getCollUtil: getCollUtil failed for /iplant/home/sr320/Mytilus_SXT/NCBI_SRA_Toolkit_fastq-dump_2.3.4_analysis1-2015-12-16-22-31-36.5/logs. status = -312000 status = -312000 OVERWRITE_WITHOUT_FORCE_FLAG\n",
      "ERROR: getCollUtil: getDataObjUtil failed for /iplant/home/sr320/Mytilus_SXT/NCBI_SRA_Toolkit_fastq-dump_2.3.4_analysis1-2015-12-16-22-31-36.5/SRR1598943.sra_1.fastq. status = -312000 status = -312000 OVERWRITE_WITHOUT_FORCE_FLAG\n",
      "ERROR: getUtil: get error for ./NCBI_SRA_Toolkit_fastq-dump_2.3.4_analysis1-2015-12-16-22-31-36.5 status = -312000 OVERWRITE_WITHOUT_FORCE_FLAG\n"
     ]
    }
   ],
   "source": [
    "!iget -r /iplant/home/sr320/Mytilus_SXT/NCBI_SRA_Toolkit_fastq-dump_2.3.4_analysis1-2015-12-16-22-31-36.5\n"
   ]
  },
  {
   "cell_type": "code",
   "execution_count": null,
   "metadata": {
    "collapsed": true
   },
   "outputs": [],
   "source": []
  }
 ],
 "metadata": {
  "kernelspec": {
   "display_name": "Python 2",
   "language": "python",
   "name": "python2"
  },
  "language_info": {
   "codemirror_mode": {
    "name": "ipython",
    "version": 2
   },
   "file_extension": ".py",
   "mimetype": "text/x-python",
   "name": "python",
   "nbconvert_exporter": "python",
   "pygments_lexer": "ipython2",
   "version": "2.7.10"
  }
 },
 "nbformat": 4,
 "nbformat_minor": 0
}
