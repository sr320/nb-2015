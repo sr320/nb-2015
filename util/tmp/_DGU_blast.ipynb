{
 "metadata": {
  "name": "",
  "signature": "sha256:a8124c2ccbc617f0e45731bb7141afcf90fb492946485b1325ec259ebc6c98ba"
 },
 "nbformat": 3,
 "nbformat_minor": 0,
 "worksheets": [
  {
   "cells": [
    {
     "cell_type": "heading",
     "level": 1,
     "metadata": {},
     "source": [
      "Blast"
     ]
    },
    {
     "cell_type": "markdown",
     "metadata": {},
     "source": [
      "*query file*"
     ]
    },
    {
     "cell_type": "code",
     "collapsed": false,
     "input": [
      "!head /Volumes/web/cnidarian/DG_44264ref.fa"
     ],
     "language": "python",
     "metadata": {},
     "outputs": [
      {
       "output_type": "stream",
       "stream": "stdout",
       "text": [
        ">ConsensusfromContig1 Average coverage: 2.16\r",
        "\r\n",
        "CTGCATATAAAGAAAAGTGTGTACCTGTCTTTCACTCATTTGTAATAAACAAGTGCAGCT\r",
        "\r\n",
        "CCCACCAGTCTAACTTCAACACAAATCATGTTTCCTGCACATCTGCCGCTGCTGGCAGGG\r",
        "\r\n",
        "GCCTCCTGTGAGTTTCTGGGAGCAATATATGAACAAACAACAGAGTAATAGTCAGTCAAA\r",
        "\r\n",
        "TTATTTTGAAAATATGTTTCACGAAAAGTTGTATACTGTTTTTTTGTTTGTTTTACAGGT\r",
        "\r\n",
        "GTGTTCTGTCAGACTGAGCTCACACAGCCAGGCTCTATGACCCTGCAGCCTGGACATCCT\r",
        "\r\n",
        "CTGACCCTCTCCTGTAAGGTCTCTGGGTATTCAGTAACCAGCACCAGCTACTGTACAGGT\r",
        "\r\n",
        "TGGGTACGACAGCCTGCAGGAAAAGCACTGGAGTGGGTTGGAGAAAT\r",
        "\r\n",
        ">ConsensusfromContig2 Average coverage: 3.00\r",
        "\r\n",
        "AGCTGTGTATTATTGTGCTCGACGACCATGGTGATACAAACCAACACCGAACCTGTGCAA\r",
        "\r\n"
       ]
      }
     ],
     "prompt_number": 1
    },
    {
     "cell_type": "code",
     "collapsed": false,
     "input": [
      "# no of seqs\n",
      "!fgrep -c \">\" /Volumes/web/cnidarian/DG_44264ref.fa"
     ],
     "language": "python",
     "metadata": {},
     "outputs": [
      {
       "output_type": "stream",
       "stream": "stdout",
       "text": [
        "44264\r\n"
       ]
      }
     ],
     "prompt_number": 3
    },
    {
     "cell_type": "code",
     "collapsed": false,
     "input": [
      "blastx \\\n",
      "-query /Volumes/web/cnidarian/DG_44264ref.fa \\\n",
      "-db /Volumes/web/whale/blast/db/uniprot_sprot \\\n",
      "-out /Volumes/web/cnidarian/DG_44264ref_sprot_2.tab \\\n",
      "-evalue 1E-5 \\\n",
      "-max_target_seqs 1 \\\n",
      "-outfmt 6 \\\n",
      "-num_threads 8"
     ],
     "language": "python",
     "metadata": {},
     "outputs": []
    },
    {
     "cell_type": "code",
     "collapsed": false,
     "input": [
      "!tail /Volumes/web/cnidarian/DG_44264ref_sprot_2.tab"
     ],
     "language": "python",
     "metadata": {},
     "outputs": [
      {
       "output_type": "stream",
       "stream": "stdout",
       "text": [
        "ConsensusfromContig44247\tsp|P59325|IF5_MOUSE\t51.72\t29\t14\t0\t396\t482\t304\t332\t1e-36\t41.6\r\n",
        "ConsensusfromContig44247\tsp|P59325|IF5_MOUSE\t88.24\t17\t2\t0\t353\t403\t290\t306\t1e-36\t36.2\r\n",
        "ConsensusfromContig44248\tsp|P18688|KPB1_RABIT\t46.24\t93\t41\t4\t287\t12\t683\t767\t2e-12\t68.2\r\n",
        "ConsensusfromContig44249\tsp|Q6PUR6|GPN2_DANRE\t89.47\t38\t4\t0\t127\t14\t136\t173\t7e-15\t73.2\r\n",
        "ConsensusfromContig44250\tsp|P46063|RECQ1_HUMAN\t74.17\t151\t39\t0\t5\t457\t301\t451\t2e-75\t  244\r\n",
        "ConsensusfromContig44259\tsp|A2AV36|ANM7_DANRE\t72.20\t205\t54\t2\t718\t107\t317\t519\t3e-102\t  303\r\n",
        "ConsensusfromContig44259\tsp|A2AV36|ANM7_DANRE\t88.57\t35\t4\t0\t108\t4\t519\t553\t3e-102\t71.6\r\n",
        "ConsensusfromContig44259\tsp|A2AV36|ANM7_DANRE\t47.62\t42\t22\t0\t861\t736\t270\t311\t3e-102\t40.4\r\n",
        "ConsensusfromContig44262\tsp|Q9Y4D1|DAAM1_HUMAN\t75.00\t28\t7\t0\t339\t422\t135\t162\t4e-09\t48.1\r\n",
        "ConsensusfromContig44262\tsp|Q9Y4D1|DAAM1_HUMAN\t67.86\t28\t8\t1\t428\t511\t164\t190\t4e-09\t32.7\r\n"
       ]
      }
     ],
     "prompt_number": 2
    },
    {
     "cell_type": "code",
     "collapsed": false,
     "input": [
      "!wc -l /Volumes/web/cnidarian/DG_44264ref_sprot_2.tab"
     ],
     "language": "python",
     "metadata": {},
     "outputs": [
      {
       "output_type": "stream",
       "stream": "stdout",
       "text": [
        "   39769 /Volumes/web/cnidarian/DG_44264ref_sprot_2.tab\r\n"
       ]
      }
     ],
     "prompt_number": 11
    },
    {
     "cell_type": "heading",
     "level": 2,
     "metadata": {},
     "source": [
      "Direct Link to Result"
     ]
    },
    {
     "cell_type": "markdown",
     "metadata": {},
     "source": [
      "http://eagle.fish.washington.edu/cnidarian/DG_44264ref_sprot_2.tab"
     ]
    },
    {
     "cell_type": "heading",
     "level": 4,
     "metadata": {},
     "source": [
      "NR"
     ]
    },
    {
     "cell_type": "code",
     "collapsed": false,
     "input": [
      "blastx \\\n",
      "-query /Volumes/web/cnidarian/DG_44264ref.fa \\\n",
      "-db /Volumes/web/whale/blast/db/nr \\\n",
      "-out /Volumes/web/cnidarian/DG_44264ref_nr.tab \\\n",
      "-evalue 1E-5 \\\n",
      "-max_target_seqs 1 \\\n",
      "-max_hsps 1 \\\n",
      "-outfmt 6 \\\n",
      "-num_threads 8"
     ],
     "language": "python",
     "metadata": {},
     "outputs": []
    },
    {
     "cell_type": "code",
     "collapsed": false,
     "input": [
      "!wc -l /Volumes/web/cnidarian/DG_44264ref_nr.tab"
     ],
     "language": "python",
     "metadata": {},
     "outputs": [
      {
       "output_type": "stream",
       "stream": "stdout",
       "text": [
        "    7580 /Volumes/web/cnidarian/DG_44264ref_nr.tab\r\n"
       ]
      }
     ],
     "prompt_number": 12
    },
    {
     "cell_type": "code",
     "collapsed": false,
     "input": [
      "!tail /Volumes/web/cnidarian/DG_44264ref_nr.tab"
     ],
     "language": "python",
     "metadata": {},
     "outputs": [
      {
       "output_type": "stream",
       "stream": "stdout",
       "text": [
        "ConsensusfromContig13772\tgi|410922056|ref|XP_003974499.1|\t97.69\t130\t3\t0\t391\t2\t292\t421\t2e-86\t  270\r\n",
        "ConsensusfromContig13774\tgi|41054497|ref|NP_955933.1|\t98.63\t146\t2\t0\t9\t446\t1\t146\t2e-100\t  306\r\n",
        "ConsensusfromContig13776\tgi|410909968|ref|XP_003968462.1|\t73.68\t57\t13\t1\t173\t3\t347\t401\t5e-18\t88.6\r\n",
        "ConsensusfromContig13778\tgi|432847440|ref|XP_004066024.1|\t84.16\t101\t16\t0\t2\t304\t80\t180\t3e-52\t  181\r\n",
        "ConsensusfromContig13781\tgi|348528500|ref|XP_003451755.1|\t56.92\t195\t67\t7\t115\t684\t60\t242\t1e-54\t  196\r\n",
        "ConsensusfromContig13783\tgi|224496028|ref|NP_001139076.1|\t94.39\t107\t6\t0\t1\t321\t322\t428\t3e-63\t  221\r\n",
        "ConsensusfromContig13786\tgi|41055552|ref|NP_957226.1|\t80.00\t135\t27\t0\t513\t109\t51\t185\t2e-68\t  229\r\n",
        "ConsensusfromContig13788\tgi|499019881|ref|XP_004560724.1|\t57.43\t148\t56\t4\t60\t488\t25\t170\t2e-32\t  129\r\n",
        "ConsensusfromContig13790\tgi|432894981|ref|XP_004076027.1|\t91.84\t49\t4\t0\t614\t468\t845\t893\t5e-21\t  100\r\n",
        "ConsensusfromContig13794\tgi|326670785|ref|XP_002663459.2|\t75.86\t87\t21\t0\t460\t200\t209\t295\t8e-35\t  137\r\n"
       ]
      }
     ],
     "prompt_number": 14
    },
    {
     "cell_type": "heading",
     "level": 3,
     "metadata": {},
     "source": [
      "Split up for UNIPROT"
     ]
    },
    {
     "cell_type": "code",
     "collapsed": false,
     "input": [
      "!perl /Volumes/Bay3/Software/fasta-splitter.pl --part-size 10000 --measure count /Volumes/web/cnidarian/DG_44264ref.fa "
     ],
     "language": "python",
     "metadata": {},
     "outputs": [
      {
       "output_type": "stream",
       "stream": "stdout",
       "text": [
        "/Volumes/web/cnidarian/DG_44264ref.fa"
       ]
      },
      {
       "output_type": "stream",
       "stream": "stdout",
       "text": [
        ": 44264 sequences, 25062011 bp => dividing into 5 parts of <= 10000 sequences\r\n"
       ]
      },
      {
       "output_type": "stream",
       "stream": "stdout",
       "text": [
        "All done, 4 seconds elapsed\r\n"
       ]
      }
     ],
     "prompt_number": 1
    },
    {
     "cell_type": "code",
     "collapsed": false,
     "input": [
      "cd /Volumes/web/cnidarian"
     ],
     "language": "python",
     "metadata": {},
     "outputs": [
      {
       "output_type": "stream",
       "stream": "stdout",
       "text": [
        "/Volumes/web/cnidarian\n"
       ]
      }
     ],
     "prompt_number": 2
    },
    {
     "cell_type": "code",
     "collapsed": false,
     "input": [
      "cd /Volumes/caviar/Dropbox/Steven/ipython_nb/"
     ],
     "language": "python",
     "metadata": {},
     "outputs": [
      {
       "output_type": "stream",
       "stream": "stdout",
       "text": [
        "/Volumes/caviar/Dropbox/Steven/ipython_nb\n"
       ]
      }
     ],
     "prompt_number": 6
    },
    {
     "cell_type": "code",
     "collapsed": false,
     "input": [
      "ls DG*"
     ],
     "language": "python",
     "metadata": {},
     "outputs": [
      {
       "output_type": "stream",
       "stream": "stdout",
       "text": [
        "DG44264ref_nr_blastout.tab  DG_44264ref.part-2.fa       DG_44264ref.part-4.fa\r\n",
        "DG_44264ref.part-1.fa       DG_44264ref.part-3.fa       DG_44264ref.part-5.fa\r\n"
       ]
      }
     ],
     "prompt_number": 33
    },
    {
     "cell_type": "code",
     "collapsed": false,
     "input": [
      "!fgrep -c \">\" DG_44264ref.part-5.fa"
     ],
     "language": "python",
     "metadata": {},
     "outputs": [
      {
       "output_type": "stream",
       "stream": "stdout",
       "text": [
        "4264\r\n"
       ]
      }
     ],
     "prompt_number": 39
    },
    {
     "cell_type": "code",
     "collapsed": false,
     "input": [
      "!tail DG_44264ref.part-5.fa"
     ],
     "language": "python",
     "metadata": {},
     "outputs": [
      {
       "output_type": "stream",
       "stream": "stdout",
       "text": [
        "GCTCATCGGCTGCATCAAGGCCCTAATGAACATTCCC\r\n",
        ">ConsensusfromContig44263 Average coverage: 2.00\r\n",
        "AGGAGAAGTGTATCTATATTTTCATGTCTAACAATTGTGTTTTTATCAACATTTATGATG\r\n",
        "AGTATTTCTGTAAAAGGATGTGGCTCTCTGCAATATCACCAGATGTTTTTGGAAGTAGTG\r\n",
        "AACGTAACGCGTCAATGTATACTGAGATTTTTTATATTAATATGCACTTTATAGAACAAA\r\n",
        "ACATATATGTATTGTGTAACATGAAGTCCTATGAGTGTCATCTGAT\r\n",
        ">ConsensusfromContig44264 Average coverage: 2.00\r\n",
        "CCCAGTGTCTGGTGAAAAGCACACTGAACCAGATGTTCCTCTGGGATTTTGCCTGTGCTT\r\n",
        "AGGTCCATTCAGTCCTTAGATTTCTAACATACCCATAACATGATGCAGCCACCACTATGC\r\n",
        "TTGAAAATATGTA\r\n"
       ]
      }
     ],
     "prompt_number": 26
    },
    {
     "cell_type": "code",
     "collapsed": false,
     "input": [
      "%%time\n",
      "for i in (\"DG_44264ref.part-2.fa\",\"DG_44264ref.part-3.fa\",\"DG_44264ref.part-4.fa\",\"DG_44264ref.part-5.fa\",\"DG_44264ref.part-6.fa\"):\n",
      "    !/Volumes/Bay3/Software/ncbi-blast-2.2.29+/bin/blastx \\\n",
      "-query {i} \\\n",
      "-db /Volumes/Bay3/Software/ncbi-blast-2.2.28+/db/uniprot_sprot \\\n",
      "-evalue 1e-5 \\\n",
      "-max_target_seqs 1 \\\n",
      "-max_hsps 1 \\\n",
      "-outfmt 6 \\\n",
      "-num_threads 4 \\\n",
      "-out /Volumes/web/cnidarian/{i}.uniprot.tab"
     ],
     "language": "python",
     "metadata": {},
     "outputs": [
      {
       "output_type": "stream",
       "stream": "stdout",
       "text": [
        "Selenocysteine (U) at position 637 replaced by X\r\n",
        "Selenocysteine (U) at position 690 replaced by X\r\n"
       ]
      },
      {
       "output_type": "stream",
       "stream": "stdout",
       "text": [
        "Selenocysteine (U) at position 106 replaced by X\r\n"
       ]
      },
      {
       "output_type": "stream",
       "stream": "stdout",
       "text": [
        "Selenocysteine (U) at position 43 replaced by X\r\n",
        "Selenocysteine (U) at position 73 replaced by X\r\n",
        "Selenocysteine (U) at position 73 replaced by X\r\n",
        "Selenocysteine (U) at position 129 replaced by X\r\n",
        "Selenocysteine (U) at position 129 replaced by X\r\n",
        "Selenocysteine (U) at position 73 replaced by X\r\n",
        "Selenocysteine (U) at position 73 replaced by X\r\n",
        "Selenocysteine (U) at position 73 replaced by X\r\n",
        "Selenocysteine (U) at position 73 replaced by X\r\n",
        "Selenocysteine (U) at position 73 replaced by X\r\n",
        "Selenocysteine (U) at position 73 replaced by X\r\n",
        "Selenocysteine (U) at position 73 replaced by X\r\n",
        "Selenocysteine (U) at position 73 replaced by X\r\n"
       ]
      },
      {
       "output_type": "stream",
       "stream": "stdout",
       "text": [
        "Selenocysteine (U) at position 59 replaced by X\r\n",
        "Selenocysteine (U) at position 267 replaced by X\r\n",
        "Selenocysteine (U) at position 273 replaced by X\r\n",
        "Selenocysteine (U) at position 279 replaced by X\r\n",
        "Selenocysteine (U) at position 290 replaced by X\r\n",
        "Selenocysteine (U) at position 292 replaced by X\r\n",
        "Selenocysteine (U) at position 294 replaced by X\r\n",
        "Selenocysteine (U) at position 310 replaced by X\r\n",
        "Selenocysteine (U) at position 320 replaced by X\r\n",
        "Selenocysteine (U) at position 322 replaced by X\r\n",
        "Selenocysteine (U) at position 336 replaced by X\r\n",
        "Selenocysteine (U) at position 338 replaced by X\r\n",
        "Selenocysteine (U) at position 346 replaced by X\r\n",
        "Selenocysteine (U) at position 353 replaced by X\r\n",
        "Selenocysteine (U) at position 355 replaced by X\r\n",
        "Selenocysteine (U) at position 362 replaced by X\r\n",
        "Selenocysteine (U) at position 364 replaced by X\r\n",
        "Selenocysteine (U) at position 64 replaced by X\r\n",
        "Selenocysteine (U) at position 59 replaced by X\r\n",
        "Selenocysteine (U) at position 297 replaced by X\r\n",
        "Selenocysteine (U) at position 307 replaced by X\r\n",
        "Selenocysteine (U) at position 338 replaced by X\r\n",
        "Selenocysteine (U) at position 350 replaced by X\r\n",
        "Selenocysteine (U) at position 363 replaced by X\r\n",
        "Selenocysteine (U) at position 365 replaced by X\r\n",
        "Selenocysteine (U) at position 372 replaced by X\r\n",
        "Selenocysteine (U) at position 388 replaced by X\r\n",
        "Selenocysteine (U) at position 390 replaced by X\r\n",
        "Selenocysteine (U) at position 397 replaced by X\r\n",
        "Selenocysteine (U) at position 399 replaced by X\r\n",
        "Selenocysteine (U) at position 59 replaced by X\r\n",
        "Selenocysteine (U) at position 300 replaced by X\r\n",
        "Selenocysteine (U) at position 318 replaced by X\r\n",
        "Selenocysteine (U) at position 330 replaced by X\r\n",
        "Selenocysteine (U) at position 345 replaced by X\r\n",
        "Selenocysteine (U) at position 352 replaced by X\r\n",
        "Selenocysteine (U) at position 367 replaced by X\r\n",
        "Selenocysteine (U) at position 369 replaced by X\r\n",
        "Selenocysteine (U) at position 376 replaced by X\r\n",
        "Selenocysteine (U) at position 378 replaced by X\r\n",
        "Selenocysteine (U) at position 59 replaced by X\r\n",
        "Selenocysteine (U) at position 259 replaced by X\r\n",
        "Selenocysteine (U) at position 277 replaced by X\r\n",
        "Selenocysteine (U) at position 318 replaced by X\r\n",
        "Selenocysteine (U) at position 330 replaced by X\r\n",
        "Selenocysteine (U) at position 352 replaced by X\r\n",
        "Selenocysteine (U) at position 366 replaced by X\r\n",
        "Selenocysteine (U) at position 368 replaced by X\r\n",
        "Selenocysteine (U) at position 375 replaced by X\r\n",
        "Selenocysteine (U) at position 377 replaced by X\r\n",
        "Selenocysteine (U) at position 59 replaced by X\r\n",
        "Selenocysteine (U) at position 318 replaced by X\r\n",
        "Selenocysteine (U) at position 330 replaced by X\r\n",
        "Selenocysteine (U) at position 345 replaced by X\r\n",
        "Selenocysteine (U) at position 352 replaced by X\r\n",
        "Selenocysteine (U) at position 367 replaced by X\r\n",
        "Selenocysteine (U) at position 369 replaced by X\r\n",
        "Selenocysteine (U) at position 376 replaced by X\r\n",
        "Selenocysteine (U) at position 378 replaced by X\r\n",
        "Selenocysteine (U) at position 59 replaced by X\r\n",
        "Selenocysteine (U) at position 264 replaced by X\r\n",
        "Selenocysteine (U) at position 282 replaced by X\r\n",
        "Selenocysteine (U) at position 323 replaced by X\r\n",
        "Selenocysteine (U) at position 335 replaced by X\r\n",
        "Selenocysteine (U) at position 357 replaced by X\r\n",
        "Selenocysteine (U) at position 371 replaced by X\r\n",
        "Selenocysteine (U) at position 373 replaced by X\r\n",
        "Selenocysteine (U) at position 380 replaced by X\r\n",
        "Selenocysteine (U) at position 382 replaced by X\r\n"
       ]
      },
      {
       "output_type": "stream",
       "stream": "stdout",
       "text": [
        "Selenocysteine (U) at position 637 replaced by X\r\n",
        "Selenocysteine (U) at position 690 replaced by X\r\n"
       ]
      },
      {
       "output_type": "stream",
       "stream": "stdout",
       "text": [
        "Selenocysteine (U) at position 13 replaced by X\r\n",
        "Selenocysteine (U) at position 13 replaced by X\r\n",
        "Selenocysteine (U) at position 13 replaced by X\r\n",
        "Selenocysteine (U) at position 13 replaced by X\r\n",
        "Selenocysteine (U) at position 13 replaced by X\r\n",
        "Selenocysteine (U) at position 13 replaced by X\r\n",
        "Selenocysteine (U) at position 13 replaced by X\r\n",
        "Selenocysteine (U) at position 13 replaced by X\r\n",
        "Selenocysteine (U) at position 13 replaced by X\r\n"
       ]
      },
      {
       "output_type": "stream",
       "stream": "stdout",
       "text": [
        "Selenocysteine (U) at position 387 replaced by X\r\n",
        "Selenocysteine (U) at position 387 replaced by X\r\n",
        "Selenocysteine (U) at position 388 replaced by X\r\n",
        "Selenocysteine (U) at position 387 replaced by X\r\n"
       ]
      },
      {
       "output_type": "stream",
       "stream": "stdout",
       "text": [
        "Selenocysteine (U) at position 85 replaced by X\r\n",
        "Selenocysteine (U) at position 74 replaced by X\r\n"
       ]
      },
      {
       "output_type": "stream",
       "stream": "stdout",
       "text": [
        "Selenocysteine (U) at position 637 replaced by X\r\n",
        "Selenocysteine (U) at position 690 replaced by X\r\n"
       ]
      },
      {
       "output_type": "stream",
       "stream": "stdout",
       "text": [
        "Selenocysteine (U) at position 637 replaced by X\r\n"
       ]
      },
      {
       "output_type": "stream",
       "stream": "stdout",
       "text": [
        "Selenocysteine (U) at position 637 replaced by X\r\n",
        "Selenocysteine (U) at position 690 replaced by X\r\n"
       ]
      },
      {
       "output_type": "stream",
       "stream": "stdout",
       "text": [
        "Selenocysteine (U) at position 637 replaced by X\r\n"
       ]
      },
      {
       "output_type": "stream",
       "stream": "stdout",
       "text": [
        "Selenocysteine (U) at position 690 replaced by X\r\n"
       ]
      },
      {
       "output_type": "stream",
       "stream": "stdout",
       "text": [
        "Selenocysteine (U) at position 637 replaced by X\r\n",
        "Selenocysteine (U) at position 690 replaced by X\r\n"
       ]
      },
      {
       "output_type": "stream",
       "stream": "stdout",
       "text": [
        "Selenocysteine (U) at position 637 replaced by X\r\n",
        "Selenocysteine (U) at position 690 replaced by X\r\n"
       ]
      },
      {
       "output_type": "stream",
       "stream": "stdout",
       "text": [
        "Selenocysteine (U) at position 690 replaced by X\r\n"
       ]
      },
      {
       "output_type": "stream",
       "stream": "stdout",
       "text": [
        "Selenocysteine (U) at position 498 replaced by X\r\n",
        "Selenocysteine (U) at position 666 replaced by X\r\n",
        "Selenocysteine (U) at position 494 replaced by X\r\n",
        "Selenocysteine (U) at position 648 replaced by X\r\n",
        "Selenocysteine (U) at position 612 replaced by X\r\n",
        "Selenocysteine (U) at position 498 replaced by X\r\n",
        "Selenocysteine (U) at position 498 replaced by X\r\n",
        "Selenocysteine (U) at position 498 replaced by X\r\n",
        "Selenocysteine (U) at position 510 replaced by X\r\n",
        "Selenocysteine (U) at position 523 replaced by X\r\n",
        "Selenocysteine (U) at position 523 replaced by X\r\n",
        "Selenocysteine (U) at position 525 replaced by X\r\n",
        "Selenocysteine (U) at position 642 replaced by X\r\n",
        "Selenocysteine (U) at position 651 replaced by X\r\n"
       ]
      },
      {
       "output_type": "stream",
       "stream": "stdout",
       "text": [
        "Selenocysteine (U) at position 637 replaced by X\r\n",
        "Selenocysteine (U) at position 690 replaced by X\r\n"
       ]
      },
      {
       "output_type": "stream",
       "stream": "stdout",
       "text": [
        "Selenocysteine (U) at position 52 replaced by X\r\n",
        "Selenocysteine (U) at position 47 replaced by X\r\n",
        "Selenocysteine (U) at position 47 replaced by X\r\n",
        "Selenocysteine (U) at position 49 replaced by X\r\n",
        "Selenocysteine (U) at position 47 replaced by X\r\n",
        "Selenocysteine (U) at position 47 replaced by X\r\n",
        "Selenocysteine (U) at position 47 replaced by X\r\n",
        "Selenocysteine (U) at position 47 replaced by X\r\n",
        "Selenocysteine (U) at position 52 replaced by X\r\n",
        "Selenocysteine (U) at position 47 replaced by X\r\n",
        "Selenocysteine (U) at position 46 replaced by X\r\n",
        "Selenocysteine (U) at position 47 replaced by X\r\n",
        "Selenocysteine (U) at position 40 replaced by X\r\n",
        "Selenocysteine (U) at position 40 replaced by X\r\n",
        "Selenocysteine (U) at position 40 replaced by X\r\n",
        "Selenocysteine (U) at position 40 replaced by X\r\n",
        "Selenocysteine (U) at position 40 replaced by X\r\n",
        "Selenocysteine (U) at position 40 replaced by X\r\n",
        "Selenocysteine (U) at position 40 replaced by X\r\n",
        "Selenocysteine (U) at position 40 replaced by X\r\n",
        "Selenocysteine (U) at position 73 replaced by X\r\n",
        "Selenocysteine (U) at position 73 replaced by X\r\n",
        "Selenocysteine (U) at position 73 replaced by X\r\n",
        "Selenocysteine (U) at position 73 replaced by X\r\n",
        "Selenocysteine (U) at position 73 replaced by X\r\n",
        "Selenocysteine (U) at position 73 replaced by X\r\n",
        "Selenocysteine (U) at position 73 replaced by X\r\n",
        "Selenocysteine (U) at position 73 replaced by X\r\n",
        "Selenocysteine (U) at position 73 replaced by X\r\n",
        "Selenocysteine (U) at position 64 replaced by X\r\n"
       ]
      },
      {
       "output_type": "stream",
       "stream": "stdout",
       "text": [
        "Selenocysteine (U) at position 387 replaced by X\r\n",
        "Selenocysteine (U) at position 387 replaced by X\r\n",
        "Selenocysteine (U) at position 388 replaced by X\r\n",
        "Selenocysteine (U) at position 387 replaced by X\r\n"
       ]
      },
      {
       "output_type": "stream",
       "stream": "stdout",
       "text": [
        "Selenocysteine (U) at position 648 replaced by X\r\n",
        "Selenocysteine (U) at position 642 replaced by X\r\n",
        "Selenocysteine (U) at position 651 replaced by X\r\n"
       ]
      },
      {
       "output_type": "stream",
       "stream": "stdout",
       "text": [
        "Selenocysteine (U) at position 690 replaced by X\r\n"
       ]
      },
      {
       "output_type": "stream",
       "stream": "stdout",
       "text": [
        "Selenocysteine (U) at position 637 replaced by X\r\n",
        "Selenocysteine (U) at position 690 replaced by X\r\n"
       ]
      },
      {
       "output_type": "stream",
       "stream": "stdout",
       "text": [
        "Selenocysteine (U) at position 690 replaced by X\r\n"
       ]
      },
      {
       "output_type": "stream",
       "stream": "stdout",
       "text": [
        "Selenocysteine (U) at position 637 replaced by X\r\n",
        "Selenocysteine (U) at position 690 replaced by X\r\n"
       ]
      },
      {
       "output_type": "stream",
       "stream": "stdout",
       "text": [
        "Selenocysteine (U) at position 47 replaced by X\r\n"
       ]
      },
      {
       "output_type": "stream",
       "stream": "stdout",
       "text": [
        "Selenocysteine (U) at position 60 replaced by X\r\n",
        "Selenocysteine (U) at position 63 replaced by X\r\n",
        "Selenocysteine (U) at position 63 replaced by X\r\n"
       ]
      },
      {
       "output_type": "stream",
       "stream": "stdout",
       "text": [
        "Selenocysteine (U) at position 637 replaced by X\r\n",
        "Selenocysteine (U) at position 690 replaced by X\r\n"
       ]
      },
      {
       "output_type": "stream",
       "stream": "stdout",
       "text": [
        "Selenocysteine (U) at position 192 replaced by X\r\n",
        "Selenocysteine (U) at position 187 replaced by X\r\n",
        "Selenocysteine (U) at position 189 replaced by X\r\n",
        "Selenocysteine (U) at position 189 replaced by X\r\n",
        "Selenocysteine (U) at position 188 replaced by X\r\n",
        "Selenocysteine (U) at position 189 replaced by X\r\n",
        "Selenocysteine (U) at position 189 replaced by X\r\n",
        "Selenocysteine (U) at position 189 replaced by X\r\n"
       ]
      },
      {
       "output_type": "stream",
       "stream": "stdout",
       "text": [
        "Selenocysteine (U) at position 93 replaced by X\r\n",
        "Selenocysteine (U) at position 92 replaced by X\r\n",
        "Selenocysteine (U) at position 92 replaced by X\r\n",
        "Selenocysteine (U) at position 92 replaced by X\r\n",
        "Selenocysteine (U) at position 92 replaced by X\r\n",
        "Selenocysteine (U) at position 92 replaced by X\r\n",
        "Selenocysteine (U) at position 92 replaced by X\r\n",
        "Selenocysteine (U) at position 92 replaced by X\r\n",
        "Selenocysteine (U) at position 93 replaced by X\r\n",
        "Selenocysteine (U) at position 93 replaced by X\r\n"
       ]
      },
      {
       "output_type": "stream",
       "stream": "stdout",
       "text": [
        "Selenocysteine (U) at position 93 replaced by X\r\n",
        "Selenocysteine (U) at position 84 replaced by X\r\n",
        "Selenocysteine (U) at position 93 replaced by X\r\n",
        "Selenocysteine (U) at position 93 replaced by X\r\n",
        "Selenocysteine (U) at position 84 replaced by X\r\n",
        "Selenocysteine (U) at position 93 replaced by X\r\n",
        "Selenocysteine (U) at position 93 replaced by X\r\n"
       ]
      },
      {
       "output_type": "stream",
       "stream": "stdout",
       "text": [
        "Selenocysteine (U) at position 637 replaced by X\r\n"
       ]
      },
      {
       "output_type": "stream",
       "stream": "stdout",
       "text": [
        "Selenocysteine (U) at position 93 replaced by X\r\n",
        "Selenocysteine (U) at position 84 replaced by X\r\n",
        "Selenocysteine (U) at position 93 replaced by X\r\n",
        "Selenocysteine (U) at position 93 replaced by X\r\n",
        "Selenocysteine (U) at position 84 replaced by X\r\n",
        "Selenocysteine (U) at position 93 replaced by X\r\n",
        "Selenocysteine (U) at position 93 replaced by X\r\n"
       ]
      },
      {
       "output_type": "stream",
       "stream": "stdout",
       "text": [
        "Selenocysteine (U) at position 17 replaced by X\r\n",
        "Selenocysteine (U) at position 15 replaced by X\r\n",
        "Selenocysteine (U) at position 25 replaced by X\r\n",
        "Selenocysteine (U) at position 16 replaced by X\r\n",
        "Selenocysteine (U) at position 17 replaced by X\r\n",
        "Selenocysteine (U) at position 17 replaced by X\r\n",
        "Selenocysteine (U) at position 16 replaced by X\r\n",
        "Selenocysteine (U) at position 19 replaced by X\r\n",
        "Selenocysteine (U) at position 16 replaced by X\r\n",
        "Selenocysteine (U) at position 7 replaced by X\r\n",
        "Selenocysteine (U) at position 24 replaced by X\r\n",
        "Selenocysteine (U) at position 60 replaced by X\r\n",
        "Selenocysteine (U) at position 63 replaced by X\r\n",
        "Selenocysteine (U) at position 63 replaced by X\r\n"
       ]
      },
      {
       "output_type": "stream",
       "stream": "stdout",
       "text": [
        "Selenocysteine (U) at position 637 replaced by X\r\n"
       ]
      },
      {
       "output_type": "stream",
       "stream": "stdout",
       "text": [
        "Selenocysteine (U) at position 637 replaced by X\r\n",
        "Selenocysteine (U) at position 690 replaced by X\r\n"
       ]
      },
      {
       "output_type": "stream",
       "stream": "stdout",
       "text": [
        "Selenocysteine (U) at position 637 replaced by X\r\n",
        "Selenocysteine (U) at position 690 replaced by X\r\n"
       ]
      },
      {
       "output_type": "stream",
       "stream": "stdout",
       "text": [
        "Command line argument error: Argument \"query\". File is not accessible:  `DG_44264ref.part-6.fa'\r\n"
       ]
      },
      {
       "output_type": "stream",
       "stream": "stdout",
       "text": [
        "CPU times: user 2min 32s, sys: 30.5 s, total: 3min 3s\n",
        "Wall time: 8h 56min 51s\n"
       ]
      }
     ],
     "prompt_number": 9
    },
    {
     "cell_type": "heading",
     "level": 3,
     "metadata": {},
     "source": [
      "SPLIT NR"
     ]
    },
    {
     "cell_type": "code",
     "collapsed": false,
     "input": [
      "%%time\n",
      "for i in (\"DG_44264ref.part-2.fa\",\"DG_44264ref.part-3.fa\",\"DG_44264ref.part-4.fa\",\"DG_44264ref.part-5.fa\"):\n",
      "    !/Volumes/Bay3/Software/ncbi-blast-2.2.29+/bin/blastx \\\n",
      "-query {i} \\\n",
      "-db /Volumes/web/whale/blast/db/nr \\\n",
      "-evalue 1e-5 \\\n",
      "-max_target_seqs 1 \\\n",
      "-max_hsps 1 \\\n",
      "-outfmt 6 \\\n",
      "-num_threads 3 \\\n",
      "-out /Volumes/web/cnidarian/{i}.nr.tab"
     ],
     "language": "python",
     "metadata": {},
     "outputs": []
    },
    {
     "cell_type": "markdown",
     "metadata": {},
     "source": [
      "Run on genefish"
     ]
    },
    {
     "cell_type": "markdown",
     "metadata": {},
     "source": [
      "```\n",
      "for i in (\"DG_44264ref.part-5.fa\",\"DG_44264ref.part-4.fa\",\"DG_44264ref.part-3.fa\",\"DG_44264ref.part-2.fa\"): \\\n",
      "    !blastx \\\n",
      "-query {i} \\\n",
      "-db /Volumes/web/whale/blast/db/nr \\\n",
      "-evalue 1e-5 \\\n",
      "-max_target_seqs 1 \\\n",
      "-max_hsps 1 \\\n",
      "-outfmt 6 \\\n",
      "-num_threads 8 \\\n",
      "-out /Volumes/web/cnidarian/{i}.nrGF.tab\n",
      "```"
     ]
    },
    {
     "cell_type": "code",
     "collapsed": false,
     "input": [
      "ls /Volumes/web/cnidarian/*nrGF.tab"
     ],
     "language": "python",
     "metadata": {},
     "outputs": [
      {
       "output_type": "stream",
       "stream": "stdout",
       "text": [
        "/Volumes/web/cnidarian/DG_44264ref.part-2.fa.nrGF.tab  /Volumes/web/cnidarian/DG_44264ref.part-4.fa.nrGF.tab\r\n",
        "/Volumes/web/cnidarian/DG_44264ref.part-3.fa.nrGF.tab  /Volumes/web/cnidarian/DG_44264ref.part-5.fa.nrGF.tab\r\n"
       ]
      }
     ],
     "prompt_number": 1
    },
    {
     "cell_type": "code",
     "collapsed": false,
     "input": [
      "!wc -l /Volumes/web/cnidarian/DG_44264ref.part-2.fa.nrGF.tab"
     ],
     "language": "python",
     "metadata": {},
     "outputs": [
      {
       "output_type": "stream",
       "stream": "stdout",
       "text": [
        "     410 /Volumes/web/cnidarian/DG_44264ref.part-2.fa.nrGF.tab\r\n"
       ]
      }
     ],
     "prompt_number": 40
    },
    {
     "cell_type": "code",
     "collapsed": false,
     "input": [
      "!wc -l /Volumes/web/cnidarian/DG_44264ref.part-3.fa.nrGF.tab"
     ],
     "language": "python",
     "metadata": {},
     "outputs": [
      {
       "output_type": "stream",
       "stream": "stdout",
       "text": [
        "     483 /Volumes/web/cnidarian/DG_44264ref.part-3.fa.nrGF.tab\r\n"
       ]
      }
     ],
     "prompt_number": 41
    },
    {
     "cell_type": "code",
     "collapsed": false,
     "input": [
      "!wc -l /Volumes/web/cnidarian/DG_44264ref.part-4.fa.nrGF.tab"
     ],
     "language": "python",
     "metadata": {},
     "outputs": [
      {
       "output_type": "stream",
       "stream": "stdout",
       "text": [
        "     434 /Volumes/web/cnidarian/DG_44264ref.part-4.fa.nrGF.tab\r\n"
       ]
      }
     ],
     "prompt_number": 42
    },
    {
     "cell_type": "code",
     "collapsed": false,
     "input": [
      "!wc -l /Volumes/web/cnidarian/DG_44264ref.part-5.fa.nrGF.tab"
     ],
     "language": "python",
     "metadata": {},
     "outputs": [
      {
       "output_type": "stream",
       "stream": "stdout",
       "text": [
        "     577 /Volumes/web/cnidarian/DG_44264ref.part-5.fa.nrGF.tab\r\n"
       ]
      }
     ],
     "prompt_number": 43
    },
    {
     "cell_type": "code",
     "collapsed": false,
     "input": [
      "!wc -l /Volumes/web/cnidarian/DG_44264ref_nr.tab"
     ],
     "language": "python",
     "metadata": {},
     "outputs": [
      {
       "output_type": "stream",
       "stream": "stdout",
       "text": [
        "    7580 /Volumes/web/cnidarian/DG_44264ref_nr.tab\r\n"
       ]
      }
     ],
     "prompt_number": 44
    },
    {
     "cell_type": "code",
     "collapsed": false,
     "input": [
      "!tail /Volumes/web/cnidarian/DG_44264ref_nr.tab"
     ],
     "language": "python",
     "metadata": {},
     "outputs": [
      {
       "output_type": "stream",
       "stream": "stdout",
       "text": [
        "ConsensusfromContig13772\tgi|410922056|ref|XP_003974499.1|\t97.69\t130\t3\t0\t391\t2\t292\t421\t2e-86\t  270\r\n",
        "ConsensusfromContig13774\tgi|41054497|ref|NP_955933.1|\t98.63\t146\t2\t0\t9\t446\t1\t146\t2e-100\t  306\r\n",
        "ConsensusfromContig13776\tgi|410909968|ref|XP_003968462.1|\t73.68\t57\t13\t1\t173\t3\t347\t401\t5e-18\t88.6\r\n",
        "ConsensusfromContig13778\tgi|432847440|ref|XP_004066024.1|\t84.16\t101\t16\t0\t2\t304\t80\t180\t3e-52\t  181\r\n",
        "ConsensusfromContig13781\tgi|348528500|ref|XP_003451755.1|\t56.92\t195\t67\t7\t115\t684\t60\t242\t1e-54\t  196\r\n",
        "ConsensusfromContig13783\tgi|224496028|ref|NP_001139076.1|\t94.39\t107\t6\t0\t1\t321\t322\t428\t3e-63\t  221\r\n",
        "ConsensusfromContig13786\tgi|41055552|ref|NP_957226.1|\t80.00\t135\t27\t0\t513\t109\t51\t185\t2e-68\t  229\r\n",
        "ConsensusfromContig13788\tgi|499019881|ref|XP_004560724.1|\t57.43\t148\t56\t4\t60\t488\t25\t170\t2e-32\t  129\r\n",
        "ConsensusfromContig13790\tgi|432894981|ref|XP_004076027.1|\t91.84\t49\t4\t0\t614\t468\t845\t893\t5e-21\t  100\r\n",
        "ConsensusfromContig13794\tgi|326670785|ref|XP_002663459.2|\t75.86\t87\t21\t0\t460\t200\t209\t295\t8e-35\t  137\r\n"
       ]
      }
     ],
     "prompt_number": 45
    },
    {
     "cell_type": "heading",
     "level": 5,
     "metadata": {},
     "source": [
      "Concatenate all with earlier blast"
     ]
    },
    {
     "cell_type": "code",
     "collapsed": false,
     "input": [
      "!tail -3 /Volumes/web/cnidarian/DG_44264ref_nr.tab"
     ],
     "language": "python",
     "metadata": {},
     "outputs": [
      {
       "output_type": "stream",
       "stream": "stdout",
       "text": [
        "ConsensusfromContig13788\tgi|499019881|ref|XP_004560724.1|\t57.43\t148\t56\t4\t60\t488\t25\t170\t2e-32\t  129\r\n",
        "ConsensusfromContig13790\tgi|432894981|ref|XP_004076027.1|\t91.84\t49\t4\t0\t614\t468\t845\t893\t5e-21\t  100\r\n",
        "ConsensusfromContig13794\tgi|326670785|ref|XP_002663459.2|\t75.86\t87\t21\t0\t460\t200\t209\t295\t8e-35\t  137\r\n"
       ]
      }
     ],
     "prompt_number": 1
    },
    {
     "cell_type": "code",
     "collapsed": false,
     "input": [
      "!cat \\\n",
      "/Volumes/web/cnidarian/DG_44264ref_nr.tab \\\n",
      "/Volumes/web/cnidarian/DG_44264ref.part-2.fa.nrGF.tab \\\n",
      "/Volumes/web/cnidarian/DG_44264ref.part-3.fa.nrGF.tab \\\n",
      "/Volumes/web/cnidarian/DG_44264ref.part-4.fa.nrGF.tab \\\n",
      "/Volumes/web/cnidarian/DG_44264ref.part-5.fa.nrGF.tab \\\n",
      "| sort | uniq > /Volumes/web/cnidarian/DG44264ref_nr_blastout.tab"
     ],
     "language": "python",
     "metadata": {},
     "outputs": [],
     "prompt_number": 17
    },
    {
     "cell_type": "code",
     "collapsed": false,
     "input": [
      "!wc /Volumes/web/cnidarian/DG44264ref_nr_blastout.tab"
     ],
     "language": "python",
     "metadata": {},
     "outputs": [
      {
       "output_type": "stream",
       "stream": "stdout",
       "text": [
        "    9074  108888  876956 /Volumes/web/cnidarian/DG44264ref_nr_blastout.tab\r\n"
       ]
      }
     ],
     "prompt_number": 18
    },
    {
     "cell_type": "code",
     "collapsed": false,
     "input": [
      "!grep \"ConsensusfromContig44223\" /Volumes/web/cnidarian/DG44264ref_nr_blastout.tab"
     ],
     "language": "python",
     "metadata": {},
     "outputs": [],
     "prompt_number": 25
    },
    {
     "cell_type": "code",
     "collapsed": false,
     "input": [
      "!tail /Volumes/web/cnidarian/DG_44264ref.part-5.fa.nrGF.tab"
     ],
     "language": "python",
     "metadata": {},
     "outputs": [
      {
       "output_type": "stream",
       "stream": "stdout",
       "text": [
        "ConsensusfromContig40954\tgi|542195321|ref|XP_005472485.1|\t49.02\t204\t98\t3\t998\t405\t1\t204\t4e-54\t  194\r\n",
        "ConsensusfromContig40957\tgi|47208402|emb|CAG12826.1|\t75.52\t143\t35\t0\t1\t429\t286\t428\t2e-49\t  185\r\n",
        "ConsensusfromContig40958\tgi|209154498|gb|ACI33481.1|\t97.75\t89\t2\t0\t2\t268\t339\t427\t4e-52\t  183\r\n",
        "ConsensusfromContig40960\tgi|41055993|ref|NP_956425.1|\t96.53\t202\t7\t0\t3\t608\t69\t270\t3e-126\t  375\r\n",
        "ConsensusfromContig40961\tgi|146424283|gb|AAI41799.1|\t93.66\t142\t9\t0\t78\t503\t56\t197\t2e-85\t  275\r\n",
        "ConsensusfromContig40963\tgi|3641657|dbj|BAA33380.1|\t98.88\t269\t3\t0\t1544\t2350\t541\t809\t0.0\t  603\r\n",
        "ConsensusfromContig40965\tgi|542211960|ref|XP_005478754.1|\t93.90\t82\t5\t0\t493\t248\t539\t620\t4e-31\t  129\r\n",
        "ConsensusfromContig40971\tgi|347466437|gb|AEO97327.1|\t97.38\t191\t5\t0\t2\t574\t79\t269\t4e-115\t  359\r\n",
        "ConsensusfromContig40972\tgi|213513664|ref|NP_001134069.1|\t96.05\t304\t12\t0\t67\t978\t1\t304\t0.0\t  615\r\n",
        "ConsensusfromContig40973\tgi|348536646|ref|XP_003455807.1|\t81.82\t187\t34\t0\t561\t1\t1\t187\t2e-101\t  310\r\n"
       ]
      }
     ],
     "prompt_number": 20
    },
    {
     "cell_type": "code",
     "collapsed": false,
     "input": [],
     "language": "python",
     "metadata": {},
     "outputs": []
    }
   ],
   "metadata": {}
  }
 ]
}